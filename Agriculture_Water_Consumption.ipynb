{
  "nbformat": 4,
  "nbformat_minor": 0,
  "metadata": {
    "colab": {
      "provenance": [],
      "collapsed_sections": [],
      "authorship_tag": "ABX9TyNzUdf0cd1QqUBNLshIG/Zw",
      "include_colab_link": true
    },
    "kernelspec": {
      "name": "python3",
      "display_name": "Python 3"
    },
    "language_info": {
      "name": "python"
    }
  },
  "cells": [
    {
      "cell_type": "markdown",
      "metadata": {
        "id": "view-in-github",
        "colab_type": "text"
      },
      "source": [
        "<a href=\"https://colab.research.google.com/github/doaa450/Agriculture-Water-Consumption-forecasting/blob/main/Agriculture_Water_Consumption.ipynb\" target=\"_parent\"><img src=\"https://colab.research.google.com/assets/colab-badge.svg\" alt=\"Open In Colab\"/></a>"
      ]
    },
    {
      "cell_type": "code",
      "execution_count": 1,
      "metadata": {
        "id": "yosg0KVj3hcg"
      },
      "outputs": [],
      "source": [
        "# Import Libraries\n",
        "import numpy as np\n",
        "import pandas as pd\n",
        "import matplotlib.pyplot as plt\n",
        "import seaborn as sns\n",
        "from sklearn.model_selection import train_test_split\n",
        "from sklearn.preprocessing import StandardScaler\n",
        "from sklearn.metrics import r2_score\n",
        "import statsmodels.api as sm\n",
        "from tensorflow.keras.layers import Dropout\n",
        "from tensorflow.keras.models import Sequential\n",
        "from tensorflow.keras.layers import Dense\n",
        "from tensorflow.keras.optimizers import Adam\n",
        "from tensorflow.keras.callbacks import EarlyStopping, ReduceLROnPlateau, ModelCheckpoint\n",
        "%matplotlib inline\n",
        "sns.set(rc={'figure.figsize': [9, 9]}, font_scale=1.2)"
      ]
    },
    {
      "cell_type": "code",
      "source": [
        "# Import data\n",
        "df = pd.read_excel('/content/New_2 - Copy.xlsx',index_col=0)\n",
        "df.head()"
      ],
      "metadata": {
        "colab": {
          "base_uri": "https://localhost:8080/",
          "height": 238
        },
        "id": "uNDu1aIb4DOY",
        "outputId": "3a71200a-439f-410e-a8d1-91eb63b60b81"
      },
      "execution_count": 2,
      "outputs": [
        {
          "output_type": "execute_result",
          "data": {
            "text/plain": [
              "        W_U   W_C   R_L       C_C   A_T   C_D_L      L_B   Popu   P_F  \\\n",
              "Year                                                                    \n",
              "1980  38.60  52.9  37.8  11179.68  24.1  196200  1962000  42.13  19.0   \n",
              "1981  38.60  52.9  39.3  11173.43  23.8  211700  2117000  43.32  21.8   \n",
              "1982  39.20  52.8  43.1  11157.93  23.5  227610  2276100  44.51  23.3   \n",
              "1983  39.19  52.6  45.6  11112.57  23.2  248800  2488000  45.72  28.0   \n",
              "1984  39.14  52.3  50.6  11044.91  24.0  267500  2675000  46.99  31.2   \n",
              "\n",
              "      Agri_pro  Prou_acre  \n",
              "Year                       \n",
              "1980     114.4       97.9  \n",
              "1981     113.3       98.9  \n",
              "1982     115.6      106.3  \n",
              "1983     119.5      107.4  \n",
              "1984     120.0      105.1  "
            ],
            "text/html": [
              "\n",
              "  <div id=\"df-41ca4514-7393-4160-987a-3f84c91998bf\">\n",
              "    <div class=\"colab-df-container\">\n",
              "      <div>\n",
              "<style scoped>\n",
              "    .dataframe tbody tr th:only-of-type {\n",
              "        vertical-align: middle;\n",
              "    }\n",
              "\n",
              "    .dataframe tbody tr th {\n",
              "        vertical-align: top;\n",
              "    }\n",
              "\n",
              "    .dataframe thead th {\n",
              "        text-align: right;\n",
              "    }\n",
              "</style>\n",
              "<table border=\"1\" class=\"dataframe\">\n",
              "  <thead>\n",
              "    <tr style=\"text-align: right;\">\n",
              "      <th></th>\n",
              "      <th>W_U</th>\n",
              "      <th>W_C</th>\n",
              "      <th>R_L</th>\n",
              "      <th>C_C</th>\n",
              "      <th>A_T</th>\n",
              "      <th>C_D_L</th>\n",
              "      <th>L_B</th>\n",
              "      <th>Popu</th>\n",
              "      <th>P_F</th>\n",
              "      <th>Agri_pro</th>\n",
              "      <th>Prou_acre</th>\n",
              "    </tr>\n",
              "    <tr>\n",
              "      <th>Year</th>\n",
              "      <th></th>\n",
              "      <th></th>\n",
              "      <th></th>\n",
              "      <th></th>\n",
              "      <th></th>\n",
              "      <th></th>\n",
              "      <th></th>\n",
              "      <th></th>\n",
              "      <th></th>\n",
              "      <th></th>\n",
              "      <th></th>\n",
              "    </tr>\n",
              "  </thead>\n",
              "  <tbody>\n",
              "    <tr>\n",
              "      <th>1980</th>\n",
              "      <td>38.60</td>\n",
              "      <td>52.9</td>\n",
              "      <td>37.8</td>\n",
              "      <td>11179.68</td>\n",
              "      <td>24.1</td>\n",
              "      <td>196200</td>\n",
              "      <td>1962000</td>\n",
              "      <td>42.13</td>\n",
              "      <td>19.0</td>\n",
              "      <td>114.4</td>\n",
              "      <td>97.9</td>\n",
              "    </tr>\n",
              "    <tr>\n",
              "      <th>1981</th>\n",
              "      <td>38.60</td>\n",
              "      <td>52.9</td>\n",
              "      <td>39.3</td>\n",
              "      <td>11173.43</td>\n",
              "      <td>23.8</td>\n",
              "      <td>211700</td>\n",
              "      <td>2117000</td>\n",
              "      <td>43.32</td>\n",
              "      <td>21.8</td>\n",
              "      <td>113.3</td>\n",
              "      <td>98.9</td>\n",
              "    </tr>\n",
              "    <tr>\n",
              "      <th>1982</th>\n",
              "      <td>39.20</td>\n",
              "      <td>52.8</td>\n",
              "      <td>43.1</td>\n",
              "      <td>11157.93</td>\n",
              "      <td>23.5</td>\n",
              "      <td>227610</td>\n",
              "      <td>2276100</td>\n",
              "      <td>44.51</td>\n",
              "      <td>23.3</td>\n",
              "      <td>115.6</td>\n",
              "      <td>106.3</td>\n",
              "    </tr>\n",
              "    <tr>\n",
              "      <th>1983</th>\n",
              "      <td>39.19</td>\n",
              "      <td>52.6</td>\n",
              "      <td>45.6</td>\n",
              "      <td>11112.57</td>\n",
              "      <td>23.2</td>\n",
              "      <td>248800</td>\n",
              "      <td>2488000</td>\n",
              "      <td>45.72</td>\n",
              "      <td>28.0</td>\n",
              "      <td>119.5</td>\n",
              "      <td>107.4</td>\n",
              "    </tr>\n",
              "    <tr>\n",
              "      <th>1984</th>\n",
              "      <td>39.14</td>\n",
              "      <td>52.3</td>\n",
              "      <td>50.6</td>\n",
              "      <td>11044.91</td>\n",
              "      <td>24.0</td>\n",
              "      <td>267500</td>\n",
              "      <td>2675000</td>\n",
              "      <td>46.99</td>\n",
              "      <td>31.2</td>\n",
              "      <td>120.0</td>\n",
              "      <td>105.1</td>\n",
              "    </tr>\n",
              "  </tbody>\n",
              "</table>\n",
              "</div>\n",
              "      <button class=\"colab-df-convert\" onclick=\"convertToInteractive('df-41ca4514-7393-4160-987a-3f84c91998bf')\"\n",
              "              title=\"Convert this dataframe to an interactive table.\"\n",
              "              style=\"display:none;\">\n",
              "        \n",
              "  <svg xmlns=\"http://www.w3.org/2000/svg\" height=\"24px\"viewBox=\"0 0 24 24\"\n",
              "       width=\"24px\">\n",
              "    <path d=\"M0 0h24v24H0V0z\" fill=\"none\"/>\n",
              "    <path d=\"M18.56 5.44l.94 2.06.94-2.06 2.06-.94-2.06-.94-.94-2.06-.94 2.06-2.06.94zm-11 1L8.5 8.5l.94-2.06 2.06-.94-2.06-.94L8.5 2.5l-.94 2.06-2.06.94zm10 10l.94 2.06.94-2.06 2.06-.94-2.06-.94-.94-2.06-.94 2.06-2.06.94z\"/><path d=\"M17.41 7.96l-1.37-1.37c-.4-.4-.92-.59-1.43-.59-.52 0-1.04.2-1.43.59L10.3 9.45l-7.72 7.72c-.78.78-.78 2.05 0 2.83L4 21.41c.39.39.9.59 1.41.59.51 0 1.02-.2 1.41-.59l7.78-7.78 2.81-2.81c.8-.78.8-2.07 0-2.86zM5.41 20L4 18.59l7.72-7.72 1.47 1.35L5.41 20z\"/>\n",
              "  </svg>\n",
              "      </button>\n",
              "      \n",
              "  <style>\n",
              "    .colab-df-container {\n",
              "      display:flex;\n",
              "      flex-wrap:wrap;\n",
              "      gap: 12px;\n",
              "    }\n",
              "\n",
              "    .colab-df-convert {\n",
              "      background-color: #E8F0FE;\n",
              "      border: none;\n",
              "      border-radius: 50%;\n",
              "      cursor: pointer;\n",
              "      display: none;\n",
              "      fill: #1967D2;\n",
              "      height: 32px;\n",
              "      padding: 0 0 0 0;\n",
              "      width: 32px;\n",
              "    }\n",
              "\n",
              "    .colab-df-convert:hover {\n",
              "      background-color: #E2EBFA;\n",
              "      box-shadow: 0px 1px 2px rgba(60, 64, 67, 0.3), 0px 1px 3px 1px rgba(60, 64, 67, 0.15);\n",
              "      fill: #174EA6;\n",
              "    }\n",
              "\n",
              "    [theme=dark] .colab-df-convert {\n",
              "      background-color: #3B4455;\n",
              "      fill: #D2E3FC;\n",
              "    }\n",
              "\n",
              "    [theme=dark] .colab-df-convert:hover {\n",
              "      background-color: #434B5C;\n",
              "      box-shadow: 0px 1px 3px 1px rgba(0, 0, 0, 0.15);\n",
              "      filter: drop-shadow(0px 1px 2px rgba(0, 0, 0, 0.3));\n",
              "      fill: #FFFFFF;\n",
              "    }\n",
              "  </style>\n",
              "\n",
              "      <script>\n",
              "        const buttonEl =\n",
              "          document.querySelector('#df-41ca4514-7393-4160-987a-3f84c91998bf button.colab-df-convert');\n",
              "        buttonEl.style.display =\n",
              "          google.colab.kernel.accessAllowed ? 'block' : 'none';\n",
              "\n",
              "        async function convertToInteractive(key) {\n",
              "          const element = document.querySelector('#df-41ca4514-7393-4160-987a-3f84c91998bf');\n",
              "          const dataTable =\n",
              "            await google.colab.kernel.invokeFunction('convertToInteractive',\n",
              "                                                     [key], {});\n",
              "          if (!dataTable) return;\n",
              "\n",
              "          const docLinkHtml = 'Like what you see? Visit the ' +\n",
              "            '<a target=\"_blank\" href=https://colab.research.google.com/notebooks/data_table.ipynb>data table notebook</a>'\n",
              "            + ' to learn more about interactive tables.';\n",
              "          element.innerHTML = '';\n",
              "          dataTable['output_type'] = 'display_data';\n",
              "          await google.colab.output.renderOutput(dataTable, element);\n",
              "          const docLink = document.createElement('div');\n",
              "          docLink.innerHTML = docLinkHtml;\n",
              "          element.appendChild(docLink);\n",
              "        }\n",
              "      </script>\n",
              "    </div>\n",
              "  </div>\n",
              "  "
            ]
          },
          "metadata": {},
          "execution_count": 2
        }
      ]
    },
    {
      "cell_type": "code",
      "source": [
        "df.shape"
      ],
      "metadata": {
        "colab": {
          "base_uri": "https://localhost:8080/"
        },
        "id": "CVCL8mh6vI8R",
        "outputId": "98edec95-398e-4406-860c-9dbaf583da04"
      },
      "execution_count": 3,
      "outputs": [
        {
          "output_type": "execute_result",
          "data": {
            "text/plain": [
              "(40, 11)"
            ]
          },
          "metadata": {},
          "execution_count": 3
        }
      ]
    },
    {
      "cell_type": "markdown",
      "source": [
        "### OLS for all (40 rows)"
      ],
      "metadata": {
        "id": "Wl1n81k5vTSm"
      }
    },
    {
      "cell_type": "code",
      "source": [
        "df.columns"
      ],
      "metadata": {
        "colab": {
          "base_uri": "https://localhost:8080/"
        },
        "id": "wcN7kOlpvQPc",
        "outputId": "1aeb96ba-9c7d-4911-ec92-dad129e50f20"
      },
      "execution_count": 4,
      "outputs": [
        {
          "output_type": "execute_result",
          "data": {
            "text/plain": [
              "Index(['W_U', 'W_C', 'R_L', 'C_C', 'A_T', 'C_D_L', 'L_B', 'Popu', 'P_F',\n",
              "       'Agri_pro', 'Prou_acre'],\n",
              "      dtype='object')"
            ]
          },
          "metadata": {},
          "execution_count": 4
        }
      ]
    },
    {
      "cell_type": "code",
      "execution_count": 5,
      "metadata": {
        "id": "bE2Y_bGV5ml2"
      },
      "outputs": [],
      "source": [
        "## getting column names\n",
        "x_columns = [ \n",
        "        \n",
        "         \n",
        "       'R_L', 'C_C', 'A_T', 'C_D_L', 'L_B', 'Popu', 'P_F',\n",
        "       'Agri_pro', 'Prou_acre'\n",
        "       \n",
        "       ]\n",
        "      \n",
        "\n",
        "       \n",
        "y = df['W_U' ]"
      ]
    },
    {
      "cell_type": "code",
      "execution_count": 6,
      "metadata": {
        "colab": {
          "base_uri": "https://localhost:8080/"
        },
        "id": "_0ON16nmbaH7",
        "outputId": "0efc7d6b-c590-4069-9625-7f45c19322f9"
      },
      "outputs": [
        {
          "output_type": "stream",
          "name": "stdout",
          "text": [
            "                                 OLS Regression Results                                \n",
            "=======================================================================================\n",
            "Dep. Variable:                    W_U   R-squared (uncentered):                   0.990\n",
            "Model:                            OLS   Adj. R-squared (uncentered):              0.987\n",
            "Method:                 Least Squares   F-statistic:                              342.1\n",
            "Date:                Wed, 28 Sep 2022   Prob (F-statistic):                    1.85e-28\n",
            "Time:                        07:29:34   Log-Likelihood:                         -111.22\n",
            "No. Observations:                  40   AIC:                                      240.4\n",
            "Df Residuals:                      31   BIC:                                      255.6\n",
            "Df Model:                           9                                                  \n",
            "Covariance Type:            nonrobust                                                  \n",
            "==============================================================================\n",
            "                 coef    std err          t      P>|t|      [0.025      0.975]\n",
            "------------------------------------------------------------------------------\n",
            "R_L           -0.0354      0.042     -0.849      0.403      -0.121       0.050\n",
            "C_C            0.0003      0.002      0.120      0.906      -0.004       0.005\n",
            "A_T            0.5553      1.004      0.553      0.584      -1.492       2.603\n",
            "C_D_L      -3.845e-05      8e-05     -0.480      0.634      -0.000       0.000\n",
            "L_B         3.166e-07   6.58e-06      0.048      0.962   -1.31e-05    1.37e-05\n",
            "Popu           0.0687      0.517      0.133      0.895      -0.987       1.124\n",
            "P_F            0.0029      0.004      0.832      0.412      -0.004       0.010\n",
            "Agri_pro       0.0610      0.056      1.080      0.288      -0.054       0.176\n",
            "Prou_acre      0.2358      0.138      1.715      0.096      -0.045       0.516\n",
            "==============================================================================\n",
            "Omnibus:                        6.386   Durbin-Watson:                   1.642\n",
            "Prob(Omnibus):                  0.041   Jarque-Bera (JB):                5.021\n",
            "Skew:                           0.775   Prob(JB):                       0.0812\n",
            "Kurtosis:                       3.783   Cond. No.                     7.15e+06\n",
            "==============================================================================\n",
            "\n",
            "Notes:\n",
            "[1] R² is computed without centering (uncentered) since the model does not contain a constant.\n",
            "[2] Standard Errors assume that the covariance matrix of the errors is correctly specified.\n",
            "[3] The condition number is large, 7.15e+06. This might indicate that there are\n",
            "strong multicollinearity or other numerical problems.\n"
          ]
        }
      ],
      "source": [
        "## creating function to get model statistics\n",
        "def get_stats():\n",
        "    x = df[x_columns]\n",
        "    results = sm.OLS(y, x).fit()\n",
        "    print(results.summary())\n",
        "get_stats()"
      ]
    },
    {
      "cell_type": "code",
      "source": [
        "x = df[x_columns]\n",
        "results = sm.OLS(y, x).fit()"
      ],
      "metadata": {
        "id": "wMpbCtUaeZ7U"
      },
      "execution_count": 7,
      "outputs": []
    },
    {
      "cell_type": "code",
      "source": [
        "from statsmodels.stats.outliers_influence import variance_inflation_factor\n",
        "vif_info = pd.DataFrame()\n",
        "vif_info['VIF'] = [variance_inflation_factor(x.values, i) for i in range(x.shape[1])]\n",
        "vif_info['Column'] = x.columns\n",
        "vif_info.sort_values('VIF', ascending=False)"
      ],
      "metadata": {
        "colab": {
          "base_uri": "https://localhost:8080/",
          "height": 332
        },
        "id": "h3BPgxoOwWLQ",
        "outputId": "c8829ed1-e843-4db4-8f30-4cc3e60a95ad"
      },
      "execution_count": 8,
      "outputs": [
        {
          "output_type": "execute_result",
          "data": {
            "text/plain": [
              "           VIF     Column\n",
              "3  2814.193137      C_D_L\n",
              "5  2437.514860       Popu\n",
              "4  1998.293479        L_B\n",
              "1  1752.872986        C_C\n",
              "2  1223.392555        A_T\n",
              "8   432.910818  Prou_acre\n",
              "7    98.799907   Agri_pro\n",
              "6    29.228022        P_F\n",
              "0     6.786672        R_L"
            ],
            "text/html": [
              "\n",
              "  <div id=\"df-40b77003-bea7-4b29-a125-c7aac099f109\">\n",
              "    <div class=\"colab-df-container\">\n",
              "      <div>\n",
              "<style scoped>\n",
              "    .dataframe tbody tr th:only-of-type {\n",
              "        vertical-align: middle;\n",
              "    }\n",
              "\n",
              "    .dataframe tbody tr th {\n",
              "        vertical-align: top;\n",
              "    }\n",
              "\n",
              "    .dataframe thead th {\n",
              "        text-align: right;\n",
              "    }\n",
              "</style>\n",
              "<table border=\"1\" class=\"dataframe\">\n",
              "  <thead>\n",
              "    <tr style=\"text-align: right;\">\n",
              "      <th></th>\n",
              "      <th>VIF</th>\n",
              "      <th>Column</th>\n",
              "    </tr>\n",
              "  </thead>\n",
              "  <tbody>\n",
              "    <tr>\n",
              "      <th>3</th>\n",
              "      <td>2814.193137</td>\n",
              "      <td>C_D_L</td>\n",
              "    </tr>\n",
              "    <tr>\n",
              "      <th>5</th>\n",
              "      <td>2437.514860</td>\n",
              "      <td>Popu</td>\n",
              "    </tr>\n",
              "    <tr>\n",
              "      <th>4</th>\n",
              "      <td>1998.293479</td>\n",
              "      <td>L_B</td>\n",
              "    </tr>\n",
              "    <tr>\n",
              "      <th>1</th>\n",
              "      <td>1752.872986</td>\n",
              "      <td>C_C</td>\n",
              "    </tr>\n",
              "    <tr>\n",
              "      <th>2</th>\n",
              "      <td>1223.392555</td>\n",
              "      <td>A_T</td>\n",
              "    </tr>\n",
              "    <tr>\n",
              "      <th>8</th>\n",
              "      <td>432.910818</td>\n",
              "      <td>Prou_acre</td>\n",
              "    </tr>\n",
              "    <tr>\n",
              "      <th>7</th>\n",
              "      <td>98.799907</td>\n",
              "      <td>Agri_pro</td>\n",
              "    </tr>\n",
              "    <tr>\n",
              "      <th>6</th>\n",
              "      <td>29.228022</td>\n",
              "      <td>P_F</td>\n",
              "    </tr>\n",
              "    <tr>\n",
              "      <th>0</th>\n",
              "      <td>6.786672</td>\n",
              "      <td>R_L</td>\n",
              "    </tr>\n",
              "  </tbody>\n",
              "</table>\n",
              "</div>\n",
              "      <button class=\"colab-df-convert\" onclick=\"convertToInteractive('df-40b77003-bea7-4b29-a125-c7aac099f109')\"\n",
              "              title=\"Convert this dataframe to an interactive table.\"\n",
              "              style=\"display:none;\">\n",
              "        \n",
              "  <svg xmlns=\"http://www.w3.org/2000/svg\" height=\"24px\"viewBox=\"0 0 24 24\"\n",
              "       width=\"24px\">\n",
              "    <path d=\"M0 0h24v24H0V0z\" fill=\"none\"/>\n",
              "    <path d=\"M18.56 5.44l.94 2.06.94-2.06 2.06-.94-2.06-.94-.94-2.06-.94 2.06-2.06.94zm-11 1L8.5 8.5l.94-2.06 2.06-.94-2.06-.94L8.5 2.5l-.94 2.06-2.06.94zm10 10l.94 2.06.94-2.06 2.06-.94-2.06-.94-.94-2.06-.94 2.06-2.06.94z\"/><path d=\"M17.41 7.96l-1.37-1.37c-.4-.4-.92-.59-1.43-.59-.52 0-1.04.2-1.43.59L10.3 9.45l-7.72 7.72c-.78.78-.78 2.05 0 2.83L4 21.41c.39.39.9.59 1.41.59.51 0 1.02-.2 1.41-.59l7.78-7.78 2.81-2.81c.8-.78.8-2.07 0-2.86zM5.41 20L4 18.59l7.72-7.72 1.47 1.35L5.41 20z\"/>\n",
              "  </svg>\n",
              "      </button>\n",
              "      \n",
              "  <style>\n",
              "    .colab-df-container {\n",
              "      display:flex;\n",
              "      flex-wrap:wrap;\n",
              "      gap: 12px;\n",
              "    }\n",
              "\n",
              "    .colab-df-convert {\n",
              "      background-color: #E8F0FE;\n",
              "      border: none;\n",
              "      border-radius: 50%;\n",
              "      cursor: pointer;\n",
              "      display: none;\n",
              "      fill: #1967D2;\n",
              "      height: 32px;\n",
              "      padding: 0 0 0 0;\n",
              "      width: 32px;\n",
              "    }\n",
              "\n",
              "    .colab-df-convert:hover {\n",
              "      background-color: #E2EBFA;\n",
              "      box-shadow: 0px 1px 2px rgba(60, 64, 67, 0.3), 0px 1px 3px 1px rgba(60, 64, 67, 0.15);\n",
              "      fill: #174EA6;\n",
              "    }\n",
              "\n",
              "    [theme=dark] .colab-df-convert {\n",
              "      background-color: #3B4455;\n",
              "      fill: #D2E3FC;\n",
              "    }\n",
              "\n",
              "    [theme=dark] .colab-df-convert:hover {\n",
              "      background-color: #434B5C;\n",
              "      box-shadow: 0px 1px 3px 1px rgba(0, 0, 0, 0.15);\n",
              "      filter: drop-shadow(0px 1px 2px rgba(0, 0, 0, 0.3));\n",
              "      fill: #FFFFFF;\n",
              "    }\n",
              "  </style>\n",
              "\n",
              "      <script>\n",
              "        const buttonEl =\n",
              "          document.querySelector('#df-40b77003-bea7-4b29-a125-c7aac099f109 button.colab-df-convert');\n",
              "        buttonEl.style.display =\n",
              "          google.colab.kernel.accessAllowed ? 'block' : 'none';\n",
              "\n",
              "        async function convertToInteractive(key) {\n",
              "          const element = document.querySelector('#df-40b77003-bea7-4b29-a125-c7aac099f109');\n",
              "          const dataTable =\n",
              "            await google.colab.kernel.invokeFunction('convertToInteractive',\n",
              "                                                     [key], {});\n",
              "          if (!dataTable) return;\n",
              "\n",
              "          const docLinkHtml = 'Like what you see? Visit the ' +\n",
              "            '<a target=\"_blank\" href=https://colab.research.google.com/notebooks/data_table.ipynb>data table notebook</a>'\n",
              "            + ' to learn more about interactive tables.';\n",
              "          element.innerHTML = '';\n",
              "          dataTable['output_type'] = 'display_data';\n",
              "          await google.colab.output.renderOutput(dataTable, element);\n",
              "          const docLink = document.createElement('div');\n",
              "          docLink.innerHTML = docLinkHtml;\n",
              "          element.appendChild(docLink);\n",
              "        }\n",
              "      </script>\n",
              "    </div>\n",
              "  </div>\n",
              "  "
            ]
          },
          "metadata": {},
          "execution_count": 8
        }
      ]
    },
    {
      "cell_type": "markdown",
      "source": [
        "### StepWise Regression"
      ],
      "metadata": {
        "id": "bYMsUnzGyveD"
      }
    },
    {
      "cell_type": "code",
      "source": [
        "## getting column names\n",
        "x_columns = [ \n",
        "        \n",
        "         \n",
        "       'R_L', 'P_F',\n",
        "       'Agri_pro'\n",
        "       \n",
        "       ]\n",
        "      \n",
        "\n",
        "       \n",
        "y = df['W_U' ]"
      ],
      "metadata": {
        "id": "sklcOb7yyuoX"
      },
      "execution_count": 9,
      "outputs": []
    },
    {
      "cell_type": "code",
      "source": [
        "## creating function to get model statistics\n",
        "import numpy as np\n",
        "import statsmodels.api as sm\n",
        "def get_stats():\n",
        "    x = df[x_columns]\n",
        "    results = sm.OLS(y, x).fit()\n",
        "    print(results.summary())\n",
        "get_stats()"
      ],
      "metadata": {
        "colab": {
          "base_uri": "https://localhost:8080/"
        },
        "id": "xVBiZRIzzFgR",
        "outputId": "db6ea39a-b45c-4094-cf3c-a395bb045e5e"
      },
      "execution_count": 10,
      "outputs": [
        {
          "output_type": "stream",
          "name": "stdout",
          "text": [
            "                                 OLS Regression Results                                \n",
            "=======================================================================================\n",
            "Dep. Variable:                    W_U   R-squared (uncentered):                   0.978\n",
            "Model:                            OLS   Adj. R-squared (uncentered):              0.976\n",
            "Method:                 Least Squares   F-statistic:                              551.2\n",
            "Date:                Wed, 28 Sep 2022   Prob (F-statistic):                    9.63e-31\n",
            "Time:                        07:29:34   Log-Likelihood:                         -126.95\n",
            "No. Observations:                  40   AIC:                                      259.9\n",
            "Df Residuals:                      37   BIC:                                      265.0\n",
            "Df Model:                           3                                                  \n",
            "Covariance Type:            nonrobust                                                  \n",
            "==============================================================================\n",
            "                 coef    std err          t      P>|t|      [0.025      0.975]\n",
            "------------------------------------------------------------------------------\n",
            "R_L            0.0278      0.043      0.645      0.523      -0.060       0.115\n",
            "P_F            0.0032      0.001      2.803      0.008       0.001       0.006\n",
            "Agri_pro       0.2891      0.014     21.054      0.000       0.261       0.317\n",
            "==============================================================================\n",
            "Omnibus:                        4.057   Durbin-Watson:                   1.225\n",
            "Prob(Omnibus):                  0.132   Jarque-Bera (JB):                3.056\n",
            "Skew:                          -0.664   Prob(JB):                        0.217\n",
            "Kurtosis:                       3.263   Cond. No.                         50.2\n",
            "==============================================================================\n",
            "\n",
            "Notes:\n",
            "[1] R² is computed without centering (uncentered) since the model does not contain a constant.\n",
            "[2] Standard Errors assume that the covariance matrix of the errors is correctly specified.\n"
          ]
        }
      ]
    },
    {
      "cell_type": "code",
      "source": [
        "x = df[x_columns]\n",
        "results = sm.OLS(y, x).fit()"
      ],
      "metadata": {
        "id": "57hhFbsDz6hc"
      },
      "execution_count": 11,
      "outputs": []
    },
    {
      "cell_type": "code",
      "source": [
        "from statsmodels.stats.outliers_influence import variance_inflation_factor\n",
        "vif_info = pd.DataFrame()\n",
        "vif_info['VIF'] = [variance_inflation_factor(x.values, i) for i in range(x.shape[1])]\n",
        "vif_info['Column'] = x.columns\n",
        "vif_info.sort_values('VIF', ascending=False)"
      ],
      "metadata": {
        "colab": {
          "base_uri": "https://localhost:8080/",
          "height": 143
        },
        "outputId": "a9251ef8-d510-4179-81e8-1daee96e9f82",
        "id": "ouuv7Z8mz6he"
      },
      "execution_count": 12,
      "outputs": [
        {
          "output_type": "execute_result",
          "data": {
            "text/plain": [
              "        VIF    Column\n",
              "0  3.930013       R_L\n",
              "2  3.177120  Agri_pro\n",
              "1  1.710035       P_F"
            ],
            "text/html": [
              "\n",
              "  <div id=\"df-4e303956-fbc3-4f2b-ae6f-147363e3db67\">\n",
              "    <div class=\"colab-df-container\">\n",
              "      <div>\n",
              "<style scoped>\n",
              "    .dataframe tbody tr th:only-of-type {\n",
              "        vertical-align: middle;\n",
              "    }\n",
              "\n",
              "    .dataframe tbody tr th {\n",
              "        vertical-align: top;\n",
              "    }\n",
              "\n",
              "    .dataframe thead th {\n",
              "        text-align: right;\n",
              "    }\n",
              "</style>\n",
              "<table border=\"1\" class=\"dataframe\">\n",
              "  <thead>\n",
              "    <tr style=\"text-align: right;\">\n",
              "      <th></th>\n",
              "      <th>VIF</th>\n",
              "      <th>Column</th>\n",
              "    </tr>\n",
              "  </thead>\n",
              "  <tbody>\n",
              "    <tr>\n",
              "      <th>0</th>\n",
              "      <td>3.930013</td>\n",
              "      <td>R_L</td>\n",
              "    </tr>\n",
              "    <tr>\n",
              "      <th>2</th>\n",
              "      <td>3.177120</td>\n",
              "      <td>Agri_pro</td>\n",
              "    </tr>\n",
              "    <tr>\n",
              "      <th>1</th>\n",
              "      <td>1.710035</td>\n",
              "      <td>P_F</td>\n",
              "    </tr>\n",
              "  </tbody>\n",
              "</table>\n",
              "</div>\n",
              "      <button class=\"colab-df-convert\" onclick=\"convertToInteractive('df-4e303956-fbc3-4f2b-ae6f-147363e3db67')\"\n",
              "              title=\"Convert this dataframe to an interactive table.\"\n",
              "              style=\"display:none;\">\n",
              "        \n",
              "  <svg xmlns=\"http://www.w3.org/2000/svg\" height=\"24px\"viewBox=\"0 0 24 24\"\n",
              "       width=\"24px\">\n",
              "    <path d=\"M0 0h24v24H0V0z\" fill=\"none\"/>\n",
              "    <path d=\"M18.56 5.44l.94 2.06.94-2.06 2.06-.94-2.06-.94-.94-2.06-.94 2.06-2.06.94zm-11 1L8.5 8.5l.94-2.06 2.06-.94-2.06-.94L8.5 2.5l-.94 2.06-2.06.94zm10 10l.94 2.06.94-2.06 2.06-.94-2.06-.94-.94-2.06-.94 2.06-2.06.94z\"/><path d=\"M17.41 7.96l-1.37-1.37c-.4-.4-.92-.59-1.43-.59-.52 0-1.04.2-1.43.59L10.3 9.45l-7.72 7.72c-.78.78-.78 2.05 0 2.83L4 21.41c.39.39.9.59 1.41.59.51 0 1.02-.2 1.41-.59l7.78-7.78 2.81-2.81c.8-.78.8-2.07 0-2.86zM5.41 20L4 18.59l7.72-7.72 1.47 1.35L5.41 20z\"/>\n",
              "  </svg>\n",
              "      </button>\n",
              "      \n",
              "  <style>\n",
              "    .colab-df-container {\n",
              "      display:flex;\n",
              "      flex-wrap:wrap;\n",
              "      gap: 12px;\n",
              "    }\n",
              "\n",
              "    .colab-df-convert {\n",
              "      background-color: #E8F0FE;\n",
              "      border: none;\n",
              "      border-radius: 50%;\n",
              "      cursor: pointer;\n",
              "      display: none;\n",
              "      fill: #1967D2;\n",
              "      height: 32px;\n",
              "      padding: 0 0 0 0;\n",
              "      width: 32px;\n",
              "    }\n",
              "\n",
              "    .colab-df-convert:hover {\n",
              "      background-color: #E2EBFA;\n",
              "      box-shadow: 0px 1px 2px rgba(60, 64, 67, 0.3), 0px 1px 3px 1px rgba(60, 64, 67, 0.15);\n",
              "      fill: #174EA6;\n",
              "    }\n",
              "\n",
              "    [theme=dark] .colab-df-convert {\n",
              "      background-color: #3B4455;\n",
              "      fill: #D2E3FC;\n",
              "    }\n",
              "\n",
              "    [theme=dark] .colab-df-convert:hover {\n",
              "      background-color: #434B5C;\n",
              "      box-shadow: 0px 1px 3px 1px rgba(0, 0, 0, 0.15);\n",
              "      filter: drop-shadow(0px 1px 2px rgba(0, 0, 0, 0.3));\n",
              "      fill: #FFFFFF;\n",
              "    }\n",
              "  </style>\n",
              "\n",
              "      <script>\n",
              "        const buttonEl =\n",
              "          document.querySelector('#df-4e303956-fbc3-4f2b-ae6f-147363e3db67 button.colab-df-convert');\n",
              "        buttonEl.style.display =\n",
              "          google.colab.kernel.accessAllowed ? 'block' : 'none';\n",
              "\n",
              "        async function convertToInteractive(key) {\n",
              "          const element = document.querySelector('#df-4e303956-fbc3-4f2b-ae6f-147363e3db67');\n",
              "          const dataTable =\n",
              "            await google.colab.kernel.invokeFunction('convertToInteractive',\n",
              "                                                     [key], {});\n",
              "          if (!dataTable) return;\n",
              "\n",
              "          const docLinkHtml = 'Like what you see? Visit the ' +\n",
              "            '<a target=\"_blank\" href=https://colab.research.google.com/notebooks/data_table.ipynb>data table notebook</a>'\n",
              "            + ' to learn more about interactive tables.';\n",
              "          element.innerHTML = '';\n",
              "          dataTable['output_type'] = 'display_data';\n",
              "          await google.colab.output.renderOutput(dataTable, element);\n",
              "          const docLink = document.createElement('div');\n",
              "          docLink.innerHTML = docLinkHtml;\n",
              "          element.appendChild(docLink);\n",
              "        }\n",
              "      </script>\n",
              "    </div>\n",
              "  </div>\n",
              "  "
            ]
          },
          "metadata": {},
          "execution_count": 12
        }
      ]
    },
    {
      "cell_type": "markdown",
      "source": [
        "### Remvove R_L  because it is not significant "
      ],
      "metadata": {
        "id": "8GxQPC-60eZg"
      }
    },
    {
      "cell_type": "code",
      "source": [
        "## getting column names\n",
        "x_columns = [ \n",
        "        \n",
        "        'P_F',\n",
        "       'Agri_pro'\n",
        "       \n",
        "       ]\n",
        "      \n",
        "y = df['W_U' ]"
      ],
      "metadata": {
        "id": "9uvz-blg0yYR"
      },
      "execution_count": 13,
      "outputs": []
    },
    {
      "cell_type": "code",
      "source": [
        "## creating function to get model statistics\n",
        "import numpy as np\n",
        "import statsmodels.api as sm\n",
        "def get_stats():\n",
        "    x = df[x_columns]\n",
        "    results = sm.OLS(y, x).fit()\n",
        "    print(results.summary())\n",
        "get_stats()"
      ],
      "metadata": {
        "colab": {
          "base_uri": "https://localhost:8080/"
        },
        "outputId": "f33a65fa-5289-487e-89cf-3121834de529",
        "id": "lcMEKcJP0yYU"
      },
      "execution_count": 14,
      "outputs": [
        {
          "output_type": "stream",
          "name": "stdout",
          "text": [
            "                                 OLS Regression Results                                \n",
            "=======================================================================================\n",
            "Dep. Variable:                    W_U   R-squared (uncentered):                   0.978\n",
            "Model:                            OLS   Adj. R-squared (uncentered):              0.977\n",
            "Method:                 Least Squares   F-statistic:                              839.5\n",
            "Date:                Wed, 28 Sep 2022   Prob (F-statistic):                    3.59e-32\n",
            "Time:                        07:29:34   Log-Likelihood:                         -127.17\n",
            "No. Observations:                  40   AIC:                                      258.3\n",
            "Df Residuals:                      38   BIC:                                      261.7\n",
            "Df Model:                           2                                                  \n",
            "Covariance Type:            nonrobust                                                  \n",
            "==============================================================================\n",
            "                 coef    std err          t      P>|t|      [0.025      0.975]\n",
            "------------------------------------------------------------------------------\n",
            "P_F            0.0036      0.001      3.459      0.001       0.001       0.006\n",
            "Agri_pro       0.2957      0.009     32.912      0.000       0.278       0.314\n",
            "==============================================================================\n",
            "Omnibus:                        3.161   Durbin-Watson:                   1.106\n",
            "Prob(Omnibus):                  0.206   Jarque-Bera (JB):                2.249\n",
            "Skew:                          -0.570   Prob(JB):                        0.325\n",
            "Kurtosis:                       3.227   Cond. No.                         10.3\n",
            "==============================================================================\n",
            "\n",
            "Notes:\n",
            "[1] R² is computed without centering (uncentered) since the model does not contain a constant.\n",
            "[2] Standard Errors assume that the covariance matrix of the errors is correctly specified.\n"
          ]
        }
      ]
    },
    {
      "cell_type": "code",
      "source": [
        "x = df[x_columns]\n",
        "results = sm.OLS(y, x).fit()"
      ],
      "metadata": {
        "id": "tJ2o7x1v0yYW"
      },
      "execution_count": 15,
      "outputs": []
    },
    {
      "cell_type": "code",
      "source": [
        "x = df[x_columns]\n",
        "results = sm.OLS(y, x).fit()"
      ],
      "metadata": {
        "id": "cngmWDQI0yYY"
      },
      "execution_count": 16,
      "outputs": []
    },
    {
      "cell_type": "code",
      "source": [
        "from statsmodels.stats.outliers_influence import variance_inflation_factor\n",
        "vif_info = pd.DataFrame()\n",
        "vif_info['VIF'] = [variance_inflation_factor(x.values, i) for i in range(x.shape[1])]\n",
        "vif_info['Column'] = x.columns\n",
        "vif_info.sort_values('VIF', ascending=False)"
      ],
      "metadata": {
        "colab": {
          "base_uri": "https://localhost:8080/",
          "height": 112
        },
        "outputId": "be927905-3530-4931-c5ef-9b0a2ed1d43c",
        "id": "RFBzfKoR0yYa"
      },
      "execution_count": 17,
      "outputs": [
        {
          "output_type": "execute_result",
          "data": {
            "text/plain": [
              "        VIF    Column\n",
              "0  1.382012       P_F\n",
              "1  1.382012  Agri_pro"
            ],
            "text/html": [
              "\n",
              "  <div id=\"df-678935a4-47d0-43b1-ae05-b9d5724bed10\">\n",
              "    <div class=\"colab-df-container\">\n",
              "      <div>\n",
              "<style scoped>\n",
              "    .dataframe tbody tr th:only-of-type {\n",
              "        vertical-align: middle;\n",
              "    }\n",
              "\n",
              "    .dataframe tbody tr th {\n",
              "        vertical-align: top;\n",
              "    }\n",
              "\n",
              "    .dataframe thead th {\n",
              "        text-align: right;\n",
              "    }\n",
              "</style>\n",
              "<table border=\"1\" class=\"dataframe\">\n",
              "  <thead>\n",
              "    <tr style=\"text-align: right;\">\n",
              "      <th></th>\n",
              "      <th>VIF</th>\n",
              "      <th>Column</th>\n",
              "    </tr>\n",
              "  </thead>\n",
              "  <tbody>\n",
              "    <tr>\n",
              "      <th>0</th>\n",
              "      <td>1.382012</td>\n",
              "      <td>P_F</td>\n",
              "    </tr>\n",
              "    <tr>\n",
              "      <th>1</th>\n",
              "      <td>1.382012</td>\n",
              "      <td>Agri_pro</td>\n",
              "    </tr>\n",
              "  </tbody>\n",
              "</table>\n",
              "</div>\n",
              "      <button class=\"colab-df-convert\" onclick=\"convertToInteractive('df-678935a4-47d0-43b1-ae05-b9d5724bed10')\"\n",
              "              title=\"Convert this dataframe to an interactive table.\"\n",
              "              style=\"display:none;\">\n",
              "        \n",
              "  <svg xmlns=\"http://www.w3.org/2000/svg\" height=\"24px\"viewBox=\"0 0 24 24\"\n",
              "       width=\"24px\">\n",
              "    <path d=\"M0 0h24v24H0V0z\" fill=\"none\"/>\n",
              "    <path d=\"M18.56 5.44l.94 2.06.94-2.06 2.06-.94-2.06-.94-.94-2.06-.94 2.06-2.06.94zm-11 1L8.5 8.5l.94-2.06 2.06-.94-2.06-.94L8.5 2.5l-.94 2.06-2.06.94zm10 10l.94 2.06.94-2.06 2.06-.94-2.06-.94-.94-2.06-.94 2.06-2.06.94z\"/><path d=\"M17.41 7.96l-1.37-1.37c-.4-.4-.92-.59-1.43-.59-.52 0-1.04.2-1.43.59L10.3 9.45l-7.72 7.72c-.78.78-.78 2.05 0 2.83L4 21.41c.39.39.9.59 1.41.59.51 0 1.02-.2 1.41-.59l7.78-7.78 2.81-2.81c.8-.78.8-2.07 0-2.86zM5.41 20L4 18.59l7.72-7.72 1.47 1.35L5.41 20z\"/>\n",
              "  </svg>\n",
              "      </button>\n",
              "      \n",
              "  <style>\n",
              "    .colab-df-container {\n",
              "      display:flex;\n",
              "      flex-wrap:wrap;\n",
              "      gap: 12px;\n",
              "    }\n",
              "\n",
              "    .colab-df-convert {\n",
              "      background-color: #E8F0FE;\n",
              "      border: none;\n",
              "      border-radius: 50%;\n",
              "      cursor: pointer;\n",
              "      display: none;\n",
              "      fill: #1967D2;\n",
              "      height: 32px;\n",
              "      padding: 0 0 0 0;\n",
              "      width: 32px;\n",
              "    }\n",
              "\n",
              "    .colab-df-convert:hover {\n",
              "      background-color: #E2EBFA;\n",
              "      box-shadow: 0px 1px 2px rgba(60, 64, 67, 0.3), 0px 1px 3px 1px rgba(60, 64, 67, 0.15);\n",
              "      fill: #174EA6;\n",
              "    }\n",
              "\n",
              "    [theme=dark] .colab-df-convert {\n",
              "      background-color: #3B4455;\n",
              "      fill: #D2E3FC;\n",
              "    }\n",
              "\n",
              "    [theme=dark] .colab-df-convert:hover {\n",
              "      background-color: #434B5C;\n",
              "      box-shadow: 0px 1px 3px 1px rgba(0, 0, 0, 0.15);\n",
              "      filter: drop-shadow(0px 1px 2px rgba(0, 0, 0, 0.3));\n",
              "      fill: #FFFFFF;\n",
              "    }\n",
              "  </style>\n",
              "\n",
              "      <script>\n",
              "        const buttonEl =\n",
              "          document.querySelector('#df-678935a4-47d0-43b1-ae05-b9d5724bed10 button.colab-df-convert');\n",
              "        buttonEl.style.display =\n",
              "          google.colab.kernel.accessAllowed ? 'block' : 'none';\n",
              "\n",
              "        async function convertToInteractive(key) {\n",
              "          const element = document.querySelector('#df-678935a4-47d0-43b1-ae05-b9d5724bed10');\n",
              "          const dataTable =\n",
              "            await google.colab.kernel.invokeFunction('convertToInteractive',\n",
              "                                                     [key], {});\n",
              "          if (!dataTable) return;\n",
              "\n",
              "          const docLinkHtml = 'Like what you see? Visit the ' +\n",
              "            '<a target=\"_blank\" href=https://colab.research.google.com/notebooks/data_table.ipynb>data table notebook</a>'\n",
              "            + ' to learn more about interactive tables.';\n",
              "          element.innerHTML = '';\n",
              "          dataTable['output_type'] = 'display_data';\n",
              "          await google.colab.output.renderOutput(dataTable, element);\n",
              "          const docLink = document.createElement('div');\n",
              "          docLink.innerHTML = docLinkHtml;\n",
              "          element.appendChild(docLink);\n",
              "        }\n",
              "      </script>\n",
              "    </div>\n",
              "  </div>\n",
              "  "
            ]
          },
          "metadata": {},
          "execution_count": 17
        }
      ]
    },
    {
      "cell_type": "markdown",
      "source": [
        "### ------------------------------------------------------------:"
      ],
      "metadata": {
        "id": "O7hzrKim4n1w"
      }
    },
    {
      "cell_type": "markdown",
      "source": [
        "### Models "
      ],
      "metadata": {
        "id": "nMwdXKrC5Kul"
      }
    },
    {
      "cell_type": "code",
      "source": [
        "df.columns"
      ],
      "metadata": {
        "colab": {
          "base_uri": "https://localhost:8080/"
        },
        "id": "7HDvygcm5r6I",
        "outputId": "7295ff0f-9845-4697-bd6d-75b48ac7ca95"
      },
      "execution_count": 18,
      "outputs": [
        {
          "output_type": "execute_result",
          "data": {
            "text/plain": [
              "Index(['W_U', 'W_C', 'R_L', 'C_C', 'A_T', 'C_D_L', 'L_B', 'Popu', 'P_F',\n",
              "       'Agri_pro', 'Prou_acre'],\n",
              "      dtype='object')"
            ]
          },
          "metadata": {},
          "execution_count": 18
        }
      ]
    },
    {
      "cell_type": "code",
      "source": [
        "x_columns = [ \n",
        "         'R_L', 'C_C', 'A_T', 'C_D_L', 'L_B', 'Popu', 'P_F',\n",
        "       'Agri_pro', 'Prou_acre'\n",
        "        ]\n",
        "x = df[x_columns]\n",
        "     \n",
        "y = df['W_U' ]"
      ],
      "metadata": {
        "id": "5p6Jux3n5Ij1"
      },
      "execution_count": 19,
      "outputs": []
    },
    {
      "cell_type": "code",
      "source": [
        "x_train, x_test, y_train, y_test = train_test_split(x, y, test_size=0.2, random_state=7)"
      ],
      "metadata": {
        "id": "dc_byHXr5npf"
      },
      "execution_count": 20,
      "outputs": []
    },
    {
      "cell_type": "code",
      "source": [
        "\n",
        "\n",
        "sc =  StandardScaler()\n",
        "\n",
        "sc.fit(x_train)\n",
        "\n",
        "x_train = sc.transform(x_train)\n",
        "x_test = sc.transform(x_test)\n",
        "\n",
        "x.shape"
      ],
      "metadata": {
        "colab": {
          "base_uri": "https://localhost:8080/"
        },
        "id": "7v6nb_3Z5toX",
        "outputId": "86ab1b54-e851-4591-fbce-e107316810c4"
      },
      "execution_count": 21,
      "outputs": [
        {
          "output_type": "execute_result",
          "data": {
            "text/plain": [
              "(40, 9)"
            ]
          },
          "metadata": {},
          "execution_count": 21
        }
      ]
    },
    {
      "cell_type": "code",
      "source": [
        "x_train.shape"
      ],
      "metadata": {
        "colab": {
          "base_uri": "https://localhost:8080/"
        },
        "id": "jxDAJjNVdWh5",
        "outputId": "6896903c-c212-4480-f1cc-4b1a96bfbeba"
      },
      "execution_count": 22,
      "outputs": [
        {
          "output_type": "execute_result",
          "data": {
            "text/plain": [
              "(32, 9)"
            ]
          },
          "metadata": {},
          "execution_count": 22
        }
      ]
    },
    {
      "cell_type": "code",
      "source": [
        "y_train.shape"
      ],
      "metadata": {
        "colab": {
          "base_uri": "https://localhost:8080/"
        },
        "id": "oX59imTl6LPJ",
        "outputId": "5b725db3-e8ac-4af1-fa88-76f42dcdcd7d"
      },
      "execution_count": 23,
      "outputs": [
        {
          "output_type": "execute_result",
          "data": {
            "text/plain": [
              "(32,)"
            ]
          },
          "metadata": {},
          "execution_count": 23
        }
      ]
    },
    {
      "cell_type": "markdown",
      "source": [
        "### Support Vector Machine"
      ],
      "metadata": {
        "id": "lfNn6Nxc6Vi8"
      }
    },
    {
      "cell_type": "code",
      "source": [
        "from sklearn.svm import SVR"
      ],
      "metadata": {
        "id": "-fuxqLIy9ep2"
      },
      "execution_count": 24,
      "outputs": []
    },
    {
      "cell_type": "code",
      "source": [
        "from sklearn.metrics import mean_squared_error"
      ],
      "metadata": {
        "id": "m7X-fIdw64cE"
      },
      "execution_count": 25,
      "outputs": []
    },
    {
      "cell_type": "code",
      "source": [
        "svr_rbf = SVR(kernel=\"rbf\", C=400, gamma=0.1, epsilon=0.1)"
      ],
      "metadata": {
        "id": "wx6eLPGl9j7X"
      },
      "execution_count": 26,
      "outputs": []
    },
    {
      "cell_type": "code",
      "source": [
        "svr_rbf.fit(x_train, y_train)"
      ],
      "metadata": {
        "colab": {
          "base_uri": "https://localhost:8080/"
        },
        "id": "xebR9qay9x2j",
        "outputId": "57e2368b-aa17-48ca-fc37-cb631b81e8b9"
      },
      "execution_count": 27,
      "outputs": [
        {
          "output_type": "execute_result",
          "data": {
            "text/plain": [
              "SVR(C=400, gamma=0.1)"
            ]
          },
          "metadata": {},
          "execution_count": 27
        }
      ]
    },
    {
      "cell_type": "markdown",
      "source": [
        "## RMSE"
      ],
      "metadata": {
        "id": "5tJljHdiDW7U"
      }
    },
    {
      "cell_type": "code",
      "source": [
        "y_sv=svr_rbf.predict(x_test)"
      ],
      "metadata": {
        "id": "xKfFIXZB-e_q"
      },
      "execution_count": 28,
      "outputs": []
    },
    {
      "cell_type": "code",
      "source": [
        "mean_squared_error(y_test, y_sv)"
      ],
      "metadata": {
        "colab": {
          "base_uri": "https://localhost:8080/"
        },
        "id": "GQqi2jQn_B5-",
        "outputId": "6ea6053a-acab-4218-84d3-09ce136a9e53"
      },
      "execution_count": 29,
      "outputs": [
        {
          "output_type": "execute_result",
          "data": {
            "text/plain": [
              "8.358673649367459"
            ]
          },
          "metadata": {},
          "execution_count": 29
        }
      ]
    },
    {
      "cell_type": "code",
      "source": [
        "RMSE = np.sqrt(mean_squared_error(y_test, y_sv))"
      ],
      "metadata": {
        "id": "K0BXljLv_Ktn"
      },
      "execution_count": 30,
      "outputs": []
    },
    {
      "cell_type": "code",
      "source": [
        "RMSE"
      ],
      "metadata": {
        "colab": {
          "base_uri": "https://localhost:8080/"
        },
        "id": "4NHA4d-z_8Db",
        "outputId": "df1c17c7-ac5f-4b7b-cdfe-22caae7178af"
      },
      "execution_count": 31,
      "outputs": [
        {
          "output_type": "execute_result",
          "data": {
            "text/plain": [
              "2.8911370858828986"
            ]
          },
          "metadata": {},
          "execution_count": 31
        }
      ]
    },
    {
      "cell_type": "code",
      "source": [
        "y_sv_train=svr_rbf.predict(x_train)"
      ],
      "metadata": {
        "id": "yAco53iY-4N1"
      },
      "execution_count": 32,
      "outputs": []
    },
    {
      "cell_type": "code",
      "source": [
        "np.sqrt(mean_squared_error(y_train, y_sv_train))"
      ],
      "metadata": {
        "colab": {
          "base_uri": "https://localhost:8080/"
        },
        "id": "2620Lm0B_C8i",
        "outputId": "b9cb97b7-d4ed-454d-81b4-0805657777ca"
      },
      "execution_count": 33,
      "outputs": [
        {
          "output_type": "execute_result",
          "data": {
            "text/plain": [
              "1.7452497737610944"
            ]
          },
          "metadata": {},
          "execution_count": 33
        }
      ]
    },
    {
      "cell_type": "code",
      "source": [
        "y_test"
      ],
      "metadata": {
        "colab": {
          "base_uri": "https://localhost:8080/"
        },
        "id": "WzsAYF5QCKor",
        "outputId": "bd6d6d83-55c5-4fbd-9707-2ea23cdc87a6"
      },
      "execution_count": 34,
      "outputs": [
        {
          "output_type": "execute_result",
          "data": {
            "text/plain": [
              "Year\n",
              "1997    34.85\n",
              "2017    41.92\n",
              "2014    38.25\n",
              "1998    34.91\n",
              "2012    32.10\n",
              "1981    38.60\n",
              "2002    35.37\n",
              "1982    39.20\n",
              "Name: W_U, dtype: float64"
            ]
          },
          "metadata": {},
          "execution_count": 34
        }
      ]
    },
    {
      "cell_type": "code",
      "source": [
        "y_sv"
      ],
      "metadata": {
        "colab": {
          "base_uri": "https://localhost:8080/"
        },
        "id": "07RLDJ8JCPii",
        "outputId": "36ca98c1-9c13-405e-a626-9d6536cb4917"
      },
      "execution_count": 35,
      "outputs": [
        {
          "output_type": "execute_result",
          "data": {
            "text/plain": [
              "array([36.75515124, 41.72010264, 40.14072495, 42.34450186, 32.87122193,\n",
              "       38.52064232, 36.79393385, 37.88679716])"
            ]
          },
          "metadata": {},
          "execution_count": 35
        }
      ]
    },
    {
      "cell_type": "markdown",
      "source": [
        "## MAE"
      ],
      "metadata": {
        "id": "wBPdqh2DDfrO"
      }
    },
    {
      "cell_type": "code",
      "metadata": {
        "id": "vFiFOTM_CpaL"
      },
      "source": [
        "MAE_test=np.mean(np.abs(y_sv-y_test))"
      ],
      "execution_count": 36,
      "outputs": []
    },
    {
      "cell_type": "code",
      "metadata": {
        "colab": {
          "base_uri": "https://localhost:8080/"
        },
        "id": "8FmLDCxDm6dC",
        "outputId": "510fc6c0-3a74-415b-9bf2-d0c90d2e39dd"
      },
      "source": [
        "MAE_test"
      ],
      "execution_count": 37,
      "outputs": [
        {
          "output_type": "execute_result",
          "data": {
            "text/plain": [
              "1.8772489639196754"
            ]
          },
          "metadata": {},
          "execution_count": 37
        }
      ]
    },
    {
      "cell_type": "code",
      "metadata": {
        "id": "a2Q9v8xnnC68"
      },
      "source": [
        "MAE_train=np.mean(np.abs(y_sv_train-y_train))"
      ],
      "execution_count": 38,
      "outputs": []
    },
    {
      "cell_type": "code",
      "metadata": {
        "id": "stQxUobiCyDG",
        "colab": {
          "base_uri": "https://localhost:8080/"
        },
        "outputId": "11191906-c357-48de-a0c9-85ec0c579494"
      },
      "source": [
        "MAE_train"
      ],
      "execution_count": 39,
      "outputs": [
        {
          "output_type": "execute_result",
          "data": {
            "text/plain": [
              "0.48016839428571456"
            ]
          },
          "metadata": {},
          "execution_count": 39
        }
      ]
    },
    {
      "cell_type": "markdown",
      "source": [
        "## MAPE"
      ],
      "metadata": {
        "id": "hjc5GkSJEI3j"
      }
    },
    {
      "cell_type": "code",
      "metadata": {
        "id": "TbLSO5uXDudH"
      },
      "source": [
        "import numpy as np\n",
        "\n",
        "def mape(actual, pred): \n",
        "    actual, pred = np.array(actual), np.array(pred)\n",
        "    return np.mean(np.abs((actual - pred) / actual)) * 100"
      ],
      "execution_count": 40,
      "outputs": []
    },
    {
      "cell_type": "code",
      "metadata": {
        "id": "EqeJ-fkgDxD9",
        "colab": {
          "base_uri": "https://localhost:8080/"
        },
        "outputId": "17e22507-abe0-4456-e1f2-ba76fb0d0c7c"
      },
      "source": [
        "mape(y_test,y_sv)"
      ],
      "execution_count": 41,
      "outputs": [
        {
          "output_type": "execute_result",
          "data": {
            "text/plain": [
              "5.270852634908904"
            ]
          },
          "metadata": {},
          "execution_count": 41
        }
      ]
    },
    {
      "cell_type": "code",
      "metadata": {
        "colab": {
          "base_uri": "https://localhost:8080/"
        },
        "id": "iO-YhValnan9",
        "outputId": "d9ace1a6-252f-4081-846d-83594e2d8283"
      },
      "source": [
        "mape(y_train,y_sv_train)"
      ],
      "execution_count": 42,
      "outputs": [
        {
          "output_type": "execute_result",
          "data": {
            "text/plain": [
              "1.272714922171284"
            ]
          },
          "metadata": {},
          "execution_count": 42
        }
      ]
    },
    {
      "cell_type": "markdown",
      "source": [
        "### Neural Network"
      ],
      "metadata": {
        "id": "EoovjdNELfkD"
      }
    },
    {
      "cell_type": "code",
      "source": [
        "model = Sequential()\n",
        "model.add(Dense(units=100, activation='relu', input_shape=[x_train.shape[1]]))\n",
        "model.add(Dropout(0.2))\n",
        "model.add(Dense(units=100, activation='relu'))\n",
        "model.add(Dropout(0.2))\n",
        "model.add(Dense(units=100, activation='relu'))\n",
        "model.add(Dropout(0.2))\n",
        "model.add(Dense(units=100, activation='relu'))\n",
        "model.add(Dense(units=1))\n",
        "\n"
      ],
      "metadata": {
        "id": "CR5YQSRH6OCT"
      },
      "execution_count": 44,
      "outputs": []
    },
    {
      "cell_type": "code",
      "source": [
        "model.compile(loss='mean_squared_error', optimizer=Adam())"
      ],
      "metadata": {
        "id": "-SwQOko36ScR"
      },
      "execution_count": 45,
      "outputs": []
    },
    {
      "cell_type": "code",
      "source": [
        "lrd = ReduceLROnPlateau(monitor = 'val_loss',\n",
        "                         patience = 200,\n",
        "                         verbose = 1,\n",
        "                         factor = 0.75,\n",
        "                         min_lr = 1e-4)\n",
        "\n",
        "mcp = ModelCheckpoint('model.h5')\n",
        "\n",
        "es = EarlyStopping(verbose=1, patience=600)"
      ],
      "metadata": {
        "id": "HeTSyvyy6Vm9"
      },
      "execution_count": 46,
      "outputs": []
    },
    {
      "cell_type": "code",
      "source": [
        "history = model.fit(x_train, y_train, validation_split=0.2, batch_size=1, epochs=2000, callbacks=[lrd, mcp, es])"
      ],
      "metadata": {
        "colab": {
          "base_uri": "https://localhost:8080/"
        },
        "id": "j6MFxwlT6bRb",
        "outputId": "0dfb6dae-ad6c-44c4-be51-f700ac6502d7"
      },
      "execution_count": 47,
      "outputs": [
        {
          "output_type": "stream",
          "name": "stdout",
          "text": [
            "Epoch 1/2000\n",
            "25/25 [==============================] - 1s 20ms/step - loss: 1590.2786 - val_loss: 1268.5079 - lr: 0.0010\n",
            "Epoch 2/2000\n",
            "25/25 [==============================] - 0s 11ms/step - loss: 1265.5614 - val_loss: 711.8486 - lr: 0.0010\n",
            "Epoch 3/2000\n",
            "25/25 [==============================] - 0s 12ms/step - loss: 270.3505 - val_loss: 621.3773 - lr: 0.0010\n",
            "Epoch 4/2000\n",
            "25/25 [==============================] - 0s 8ms/step - loss: 285.5109 - val_loss: 119.7407 - lr: 0.0010\n",
            "Epoch 5/2000\n",
            "25/25 [==============================] - 0s 9ms/step - loss: 162.5019 - val_loss: 109.7055 - lr: 0.0010\n",
            "Epoch 6/2000\n",
            "25/25 [==============================] - 0s 8ms/step - loss: 131.0748 - val_loss: 105.9960 - lr: 0.0010\n",
            "Epoch 7/2000\n",
            "25/25 [==============================] - 0s 15ms/step - loss: 88.7840 - val_loss: 119.3598 - lr: 0.0010\n",
            "Epoch 8/2000\n",
            "25/25 [==============================] - 0s 10ms/step - loss: 108.0810 - val_loss: 102.2745 - lr: 0.0010\n",
            "Epoch 9/2000\n",
            "25/25 [==============================] - 0s 8ms/step - loss: 116.0545 - val_loss: 86.3995 - lr: 0.0010\n",
            "Epoch 10/2000\n",
            "25/25 [==============================] - 0s 10ms/step - loss: 110.8419 - val_loss: 121.8775 - lr: 0.0010\n",
            "Epoch 11/2000\n",
            "25/25 [==============================] - 0s 10ms/step - loss: 63.2816 - val_loss: 116.7370 - lr: 0.0010\n",
            "Epoch 12/2000\n",
            "25/25 [==============================] - 0s 11ms/step - loss: 84.9224 - val_loss: 90.9906 - lr: 0.0010\n",
            "Epoch 13/2000\n",
            "25/25 [==============================] - 0s 13ms/step - loss: 94.9001 - val_loss: 127.8346 - lr: 0.0010\n",
            "Epoch 14/2000\n",
            "25/25 [==============================] - 0s 10ms/step - loss: 65.5570 - val_loss: 59.6372 - lr: 0.0010\n",
            "Epoch 15/2000\n",
            "25/25 [==============================] - 0s 9ms/step - loss: 24.8671 - val_loss: 127.0354 - lr: 0.0010\n",
            "Epoch 16/2000\n",
            "25/25 [==============================] - 0s 11ms/step - loss: 95.2779 - val_loss: 96.6861 - lr: 0.0010\n",
            "Epoch 17/2000\n",
            "25/25 [==============================] - 0s 8ms/step - loss: 53.0687 - val_loss: 77.0043 - lr: 0.0010\n",
            "Epoch 18/2000\n",
            "25/25 [==============================] - 0s 8ms/step - loss: 61.8447 - val_loss: 92.5690 - lr: 0.0010\n",
            "Epoch 19/2000\n",
            "25/25 [==============================] - 0s 12ms/step - loss: 72.3484 - val_loss: 96.0996 - lr: 0.0010\n",
            "Epoch 20/2000\n",
            "25/25 [==============================] - 0s 11ms/step - loss: 87.8829 - val_loss: 68.7792 - lr: 0.0010\n",
            "Epoch 21/2000\n",
            "25/25 [==============================] - 0s 8ms/step - loss: 39.0085 - val_loss: 103.6006 - lr: 0.0010\n",
            "Epoch 22/2000\n",
            "25/25 [==============================] - 0s 10ms/step - loss: 47.0101 - val_loss: 83.6944 - lr: 0.0010\n",
            "Epoch 23/2000\n",
            "25/25 [==============================] - 0s 10ms/step - loss: 38.8740 - val_loss: 107.6905 - lr: 0.0010\n",
            "Epoch 24/2000\n",
            "25/25 [==============================] - 0s 13ms/step - loss: 37.3064 - val_loss: 56.4454 - lr: 0.0010\n",
            "Epoch 25/2000\n",
            "25/25 [==============================] - 0s 9ms/step - loss: 64.5471 - val_loss: 105.1564 - lr: 0.0010\n",
            "Epoch 26/2000\n",
            "25/25 [==============================] - 0s 8ms/step - loss: 43.7718 - val_loss: 87.1249 - lr: 0.0010\n",
            "Epoch 27/2000\n",
            "25/25 [==============================] - 0s 11ms/step - loss: 35.4527 - val_loss: 90.6893 - lr: 0.0010\n",
            "Epoch 28/2000\n",
            "25/25 [==============================] - 0s 9ms/step - loss: 39.3522 - val_loss: 49.5180 - lr: 0.0010\n",
            "Epoch 29/2000\n",
            "25/25 [==============================] - 0s 11ms/step - loss: 37.3116 - val_loss: 126.1569 - lr: 0.0010\n",
            "Epoch 30/2000\n",
            "25/25 [==============================] - 0s 7ms/step - loss: 31.5518 - val_loss: 110.2578 - lr: 0.0010\n",
            "Epoch 31/2000\n",
            "25/25 [==============================] - 0s 11ms/step - loss: 41.9179 - val_loss: 83.5741 - lr: 0.0010\n",
            "Epoch 32/2000\n",
            "25/25 [==============================] - 0s 10ms/step - loss: 60.0694 - val_loss: 25.9124 - lr: 0.0010\n",
            "Epoch 33/2000\n",
            "25/25 [==============================] - 0s 7ms/step - loss: 39.5502 - val_loss: 65.1680 - lr: 0.0010\n",
            "Epoch 34/2000\n",
            "25/25 [==============================] - 0s 10ms/step - loss: 41.0006 - val_loss: 88.1259 - lr: 0.0010\n",
            "Epoch 35/2000\n",
            "25/25 [==============================] - 0s 13ms/step - loss: 53.3921 - val_loss: 86.8978 - lr: 0.0010\n",
            "Epoch 36/2000\n",
            "25/25 [==============================] - 0s 9ms/step - loss: 49.9268 - val_loss: 72.3952 - lr: 0.0010\n",
            "Epoch 37/2000\n",
            "25/25 [==============================] - 0s 9ms/step - loss: 24.5405 - val_loss: 55.2823 - lr: 0.0010\n",
            "Epoch 38/2000\n",
            "25/25 [==============================] - 0s 7ms/step - loss: 34.8096 - val_loss: 102.2281 - lr: 0.0010\n",
            "Epoch 39/2000\n",
            "25/25 [==============================] - 0s 16ms/step - loss: 30.9870 - val_loss: 79.7750 - lr: 0.0010\n",
            "Epoch 40/2000\n",
            "25/25 [==============================] - 0s 7ms/step - loss: 36.6530 - val_loss: 92.1952 - lr: 0.0010\n",
            "Epoch 41/2000\n",
            "25/25 [==============================] - 0s 10ms/step - loss: 37.4660 - val_loss: 89.6923 - lr: 0.0010\n",
            "Epoch 42/2000\n",
            "25/25 [==============================] - 0s 7ms/step - loss: 38.4324 - val_loss: 30.4622 - lr: 0.0010\n",
            "Epoch 43/2000\n",
            "25/25 [==============================] - 0s 12ms/step - loss: 37.6418 - val_loss: 115.5965 - lr: 0.0010\n",
            "Epoch 44/2000\n",
            "25/25 [==============================] - 0s 13ms/step - loss: 35.8007 - val_loss: 34.9330 - lr: 0.0010\n",
            "Epoch 45/2000\n",
            "25/25 [==============================] - 0s 6ms/step - loss: 50.2023 - val_loss: 81.0738 - lr: 0.0010\n",
            "Epoch 46/2000\n",
            "25/25 [==============================] - 0s 12ms/step - loss: 55.0378 - val_loss: 43.8875 - lr: 0.0010\n",
            "Epoch 47/2000\n",
            "25/25 [==============================] - 0s 9ms/step - loss: 38.8405 - val_loss: 59.4819 - lr: 0.0010\n",
            "Epoch 48/2000\n",
            "25/25 [==============================] - 0s 7ms/step - loss: 39.8405 - val_loss: 50.0234 - lr: 0.0010\n",
            "Epoch 49/2000\n",
            "25/25 [==============================] - 0s 9ms/step - loss: 50.6730 - val_loss: 34.2145 - lr: 0.0010\n",
            "Epoch 50/2000\n",
            "25/25 [==============================] - 0s 9ms/step - loss: 40.6019 - val_loss: 158.3997 - lr: 0.0010\n",
            "Epoch 51/2000\n",
            "25/25 [==============================] - 0s 12ms/step - loss: 44.8337 - val_loss: 33.4186 - lr: 0.0010\n",
            "Epoch 52/2000\n",
            "25/25 [==============================] - 0s 7ms/step - loss: 45.6045 - val_loss: 147.4704 - lr: 0.0010\n",
            "Epoch 53/2000\n",
            "25/25 [==============================] - 0s 8ms/step - loss: 47.3344 - val_loss: 72.6126 - lr: 0.0010\n",
            "Epoch 54/2000\n",
            "25/25 [==============================] - 0s 9ms/step - loss: 38.2416 - val_loss: 39.6082 - lr: 0.0010\n",
            "Epoch 55/2000\n",
            "25/25 [==============================] - 0s 8ms/step - loss: 48.8201 - val_loss: 50.3820 - lr: 0.0010\n",
            "Epoch 56/2000\n",
            "25/25 [==============================] - 0s 11ms/step - loss: 38.7488 - val_loss: 227.6512 - lr: 0.0010\n",
            "Epoch 57/2000\n",
            "25/25 [==============================] - 0s 10ms/step - loss: 44.3111 - val_loss: 21.4705 - lr: 0.0010\n",
            "Epoch 58/2000\n",
            "25/25 [==============================] - 0s 10ms/step - loss: 40.3369 - val_loss: 38.8824 - lr: 0.0010\n",
            "Epoch 59/2000\n",
            "25/25 [==============================] - 0s 11ms/step - loss: 32.0284 - val_loss: 127.9861 - lr: 0.0010\n",
            "Epoch 60/2000\n",
            "25/25 [==============================] - 0s 10ms/step - loss: 51.2004 - val_loss: 81.6709 - lr: 0.0010\n",
            "Epoch 61/2000\n",
            "25/25 [==============================] - 0s 7ms/step - loss: 24.5539 - val_loss: 35.5578 - lr: 0.0010\n",
            "Epoch 62/2000\n",
            "25/25 [==============================] - 0s 12ms/step - loss: 45.5160 - val_loss: 95.4829 - lr: 0.0010\n",
            "Epoch 63/2000\n",
            "25/25 [==============================] - 0s 7ms/step - loss: 45.8853 - val_loss: 50.1590 - lr: 0.0010\n",
            "Epoch 64/2000\n",
            "25/25 [==============================] - 0s 9ms/step - loss: 49.7532 - val_loss: 34.8723 - lr: 0.0010\n",
            "Epoch 65/2000\n",
            "25/25 [==============================] - 0s 8ms/step - loss: 22.5415 - val_loss: 59.7043 - lr: 0.0010\n",
            "Epoch 66/2000\n",
            "25/25 [==============================] - 0s 10ms/step - loss: 33.4292 - val_loss: 48.6542 - lr: 0.0010\n",
            "Epoch 67/2000\n",
            "25/25 [==============================] - 0s 9ms/step - loss: 28.7108 - val_loss: 21.2469 - lr: 0.0010\n",
            "Epoch 68/2000\n",
            "25/25 [==============================] - 0s 7ms/step - loss: 25.8819 - val_loss: 68.0399 - lr: 0.0010\n",
            "Epoch 69/2000\n",
            "25/25 [==============================] - 0s 15ms/step - loss: 45.8922 - val_loss: 107.0727 - lr: 0.0010\n",
            "Epoch 70/2000\n",
            "25/25 [==============================] - 0s 8ms/step - loss: 54.6040 - val_loss: 36.4769 - lr: 0.0010\n",
            "Epoch 71/2000\n",
            "25/25 [==============================] - 0s 5ms/step - loss: 38.5600 - val_loss: 59.8569 - lr: 0.0010\n",
            "Epoch 72/2000\n",
            "25/25 [==============================] - 0s 4ms/step - loss: 35.4141 - val_loss: 57.8288 - lr: 0.0010\n",
            "Epoch 73/2000\n",
            "25/25 [==============================] - 0s 5ms/step - loss: 22.5551 - val_loss: 51.3205 - lr: 0.0010\n",
            "Epoch 74/2000\n",
            "25/25 [==============================] - 0s 4ms/step - loss: 37.8858 - val_loss: 93.6301 - lr: 0.0010\n",
            "Epoch 75/2000\n",
            "25/25 [==============================] - 0s 5ms/step - loss: 40.2439 - val_loss: 69.1968 - lr: 0.0010\n",
            "Epoch 76/2000\n",
            "25/25 [==============================] - 0s 4ms/step - loss: 26.1053 - val_loss: 63.4614 - lr: 0.0010\n",
            "Epoch 77/2000\n",
            "25/25 [==============================] - 0s 4ms/step - loss: 18.1277 - val_loss: 111.4361 - lr: 0.0010\n",
            "Epoch 78/2000\n",
            "25/25 [==============================] - 0s 5ms/step - loss: 26.8826 - val_loss: 40.2273 - lr: 0.0010\n",
            "Epoch 79/2000\n",
            "25/25 [==============================] - 0s 5ms/step - loss: 36.4087 - val_loss: 96.9239 - lr: 0.0010\n",
            "Epoch 80/2000\n",
            "25/25 [==============================] - 0s 5ms/step - loss: 40.4421 - val_loss: 20.1386 - lr: 0.0010\n",
            "Epoch 81/2000\n",
            "25/25 [==============================] - 0s 5ms/step - loss: 45.2172 - val_loss: 122.9978 - lr: 0.0010\n",
            "Epoch 82/2000\n",
            "25/25 [==============================] - 0s 5ms/step - loss: 22.0795 - val_loss: 53.4898 - lr: 0.0010\n",
            "Epoch 83/2000\n",
            "25/25 [==============================] - 0s 4ms/step - loss: 25.8596 - val_loss: 37.9487 - lr: 0.0010\n",
            "Epoch 84/2000\n",
            "25/25 [==============================] - 0s 5ms/step - loss: 21.7584 - val_loss: 37.2099 - lr: 0.0010\n",
            "Epoch 85/2000\n",
            "25/25 [==============================] - 0s 4ms/step - loss: 31.9885 - val_loss: 44.4216 - lr: 0.0010\n",
            "Epoch 86/2000\n",
            "25/25 [==============================] - 0s 4ms/step - loss: 32.2330 - val_loss: 45.3252 - lr: 0.0010\n",
            "Epoch 87/2000\n",
            "25/25 [==============================] - 0s 5ms/step - loss: 45.9298 - val_loss: 30.8355 - lr: 0.0010\n",
            "Epoch 88/2000\n",
            "25/25 [==============================] - 0s 4ms/step - loss: 42.8571 - val_loss: 79.8737 - lr: 0.0010\n",
            "Epoch 89/2000\n",
            "25/25 [==============================] - 0s 5ms/step - loss: 39.1562 - val_loss: 63.3214 - lr: 0.0010\n",
            "Epoch 90/2000\n",
            "25/25 [==============================] - 0s 5ms/step - loss: 29.2917 - val_loss: 63.5882 - lr: 0.0010\n",
            "Epoch 91/2000\n",
            "25/25 [==============================] - 0s 4ms/step - loss: 40.0312 - val_loss: 43.0514 - lr: 0.0010\n",
            "Epoch 92/2000\n",
            "25/25 [==============================] - 0s 5ms/step - loss: 26.8099 - val_loss: 36.8393 - lr: 0.0010\n",
            "Epoch 93/2000\n",
            "25/25 [==============================] - 0s 4ms/step - loss: 35.1936 - val_loss: 53.1674 - lr: 0.0010\n",
            "Epoch 94/2000\n",
            "25/25 [==============================] - 0s 4ms/step - loss: 12.0700 - val_loss: 46.1572 - lr: 0.0010\n",
            "Epoch 95/2000\n",
            "25/25 [==============================] - 0s 5ms/step - loss: 30.0884 - val_loss: 48.7374 - lr: 0.0010\n",
            "Epoch 96/2000\n",
            "25/25 [==============================] - 0s 5ms/step - loss: 28.2476 - val_loss: 29.0778 - lr: 0.0010\n",
            "Epoch 97/2000\n",
            "25/25 [==============================] - 0s 5ms/step - loss: 35.4661 - val_loss: 28.0918 - lr: 0.0010\n",
            "Epoch 98/2000\n",
            "25/25 [==============================] - 0s 5ms/step - loss: 46.2175 - val_loss: 121.4767 - lr: 0.0010\n",
            "Epoch 99/2000\n",
            "25/25 [==============================] - 0s 5ms/step - loss: 26.2526 - val_loss: 54.0776 - lr: 0.0010\n",
            "Epoch 100/2000\n",
            "25/25 [==============================] - 0s 5ms/step - loss: 18.0997 - val_loss: 40.2831 - lr: 0.0010\n",
            "Epoch 101/2000\n",
            "25/25 [==============================] - 0s 4ms/step - loss: 16.6149 - val_loss: 46.0425 - lr: 0.0010\n",
            "Epoch 102/2000\n",
            "25/25 [==============================] - 0s 4ms/step - loss: 22.5967 - val_loss: 94.6201 - lr: 0.0010\n",
            "Epoch 103/2000\n",
            "25/25 [==============================] - 0s 5ms/step - loss: 20.6934 - val_loss: 41.9829 - lr: 0.0010\n",
            "Epoch 104/2000\n",
            "25/25 [==============================] - 0s 5ms/step - loss: 27.5720 - val_loss: 37.4668 - lr: 0.0010\n",
            "Epoch 105/2000\n",
            "25/25 [==============================] - 0s 4ms/step - loss: 24.8969 - val_loss: 50.6609 - lr: 0.0010\n",
            "Epoch 106/2000\n",
            "25/25 [==============================] - 0s 5ms/step - loss: 27.6442 - val_loss: 47.7199 - lr: 0.0010\n",
            "Epoch 107/2000\n",
            "25/25 [==============================] - 0s 5ms/step - loss: 12.2906 - val_loss: 100.9303 - lr: 0.0010\n",
            "Epoch 108/2000\n",
            "25/25 [==============================] - 0s 5ms/step - loss: 14.8114 - val_loss: 64.8600 - lr: 0.0010\n",
            "Epoch 109/2000\n",
            "25/25 [==============================] - 0s 4ms/step - loss: 23.2696 - val_loss: 72.1739 - lr: 0.0010\n",
            "Epoch 110/2000\n",
            "25/25 [==============================] - 0s 5ms/step - loss: 19.7588 - val_loss: 149.5330 - lr: 0.0010\n",
            "Epoch 111/2000\n",
            "25/25 [==============================] - 0s 4ms/step - loss: 47.3742 - val_loss: 26.9131 - lr: 0.0010\n",
            "Epoch 112/2000\n",
            "25/25 [==============================] - 0s 5ms/step - loss: 32.7798 - val_loss: 34.4451 - lr: 0.0010\n",
            "Epoch 113/2000\n",
            "25/25 [==============================] - 0s 4ms/step - loss: 19.5927 - val_loss: 41.2679 - lr: 0.0010\n",
            "Epoch 114/2000\n",
            "25/25 [==============================] - 0s 5ms/step - loss: 38.8035 - val_loss: 37.4832 - lr: 0.0010\n",
            "Epoch 115/2000\n",
            "25/25 [==============================] - 0s 5ms/step - loss: 23.4266 - val_loss: 90.5584 - lr: 0.0010\n",
            "Epoch 116/2000\n",
            "25/25 [==============================] - 0s 5ms/step - loss: 28.4366 - val_loss: 34.0542 - lr: 0.0010\n",
            "Epoch 117/2000\n",
            "25/25 [==============================] - 0s 5ms/step - loss: 26.6079 - val_loss: 47.0290 - lr: 0.0010\n",
            "Epoch 118/2000\n",
            "25/25 [==============================] - 0s 4ms/step - loss: 15.5871 - val_loss: 22.3326 - lr: 0.0010\n",
            "Epoch 119/2000\n",
            "25/25 [==============================] - 0s 5ms/step - loss: 20.6461 - val_loss: 57.4875 - lr: 0.0010\n",
            "Epoch 120/2000\n",
            "25/25 [==============================] - 0s 5ms/step - loss: 37.3066 - val_loss: 36.1485 - lr: 0.0010\n",
            "Epoch 121/2000\n",
            "25/25 [==============================] - 0s 4ms/step - loss: 19.4296 - val_loss: 35.8049 - lr: 0.0010\n",
            "Epoch 122/2000\n",
            "25/25 [==============================] - 0s 5ms/step - loss: 15.4032 - val_loss: 86.4668 - lr: 0.0010\n",
            "Epoch 123/2000\n",
            "25/25 [==============================] - 0s 5ms/step - loss: 23.1111 - val_loss: 65.2535 - lr: 0.0010\n",
            "Epoch 124/2000\n",
            "25/25 [==============================] - 0s 5ms/step - loss: 24.5135 - val_loss: 45.3956 - lr: 0.0010\n",
            "Epoch 125/2000\n",
            "25/25 [==============================] - 0s 5ms/step - loss: 25.6128 - val_loss: 94.7429 - lr: 0.0010\n",
            "Epoch 126/2000\n",
            "25/25 [==============================] - 0s 5ms/step - loss: 26.2513 - val_loss: 65.0006 - lr: 0.0010\n",
            "Epoch 127/2000\n",
            "25/25 [==============================] - 0s 5ms/step - loss: 19.2889 - val_loss: 22.7025 - lr: 0.0010\n",
            "Epoch 128/2000\n",
            "25/25 [==============================] - 0s 5ms/step - loss: 20.7857 - val_loss: 54.7268 - lr: 0.0010\n",
            "Epoch 129/2000\n",
            "25/25 [==============================] - 0s 4ms/step - loss: 27.1517 - val_loss: 79.9634 - lr: 0.0010\n",
            "Epoch 130/2000\n",
            "25/25 [==============================] - 0s 5ms/step - loss: 24.6621 - val_loss: 50.4497 - lr: 0.0010\n",
            "Epoch 131/2000\n",
            "25/25 [==============================] - 0s 5ms/step - loss: 21.6304 - val_loss: 90.2466 - lr: 0.0010\n",
            "Epoch 132/2000\n",
            "25/25 [==============================] - 0s 5ms/step - loss: 25.7351 - val_loss: 58.4072 - lr: 0.0010\n",
            "Epoch 133/2000\n",
            "25/25 [==============================] - 0s 5ms/step - loss: 11.2670 - val_loss: 41.0170 - lr: 0.0010\n",
            "Epoch 134/2000\n",
            "25/25 [==============================] - 0s 4ms/step - loss: 29.4298 - val_loss: 39.0771 - lr: 0.0010\n",
            "Epoch 135/2000\n",
            "25/25 [==============================] - 0s 5ms/step - loss: 30.3628 - val_loss: 55.0281 - lr: 0.0010\n",
            "Epoch 136/2000\n",
            "25/25 [==============================] - 0s 5ms/step - loss: 19.4322 - val_loss: 77.7399 - lr: 0.0010\n",
            "Epoch 137/2000\n",
            "25/25 [==============================] - 0s 4ms/step - loss: 26.8251 - val_loss: 146.2760 - lr: 0.0010\n",
            "Epoch 138/2000\n",
            "25/25 [==============================] - 0s 5ms/step - loss: 27.6662 - val_loss: 78.3188 - lr: 0.0010\n",
            "Epoch 139/2000\n",
            "25/25 [==============================] - 0s 5ms/step - loss: 23.9662 - val_loss: 32.7725 - lr: 0.0010\n",
            "Epoch 140/2000\n",
            "25/25 [==============================] - 0s 4ms/step - loss: 29.3786 - val_loss: 38.5321 - lr: 0.0010\n",
            "Epoch 141/2000\n",
            "25/25 [==============================] - 0s 5ms/step - loss: 30.1212 - val_loss: 127.3121 - lr: 0.0010\n",
            "Epoch 142/2000\n",
            "25/25 [==============================] - 0s 4ms/step - loss: 14.1838 - val_loss: 37.0929 - lr: 0.0010\n",
            "Epoch 143/2000\n",
            "25/25 [==============================] - 0s 4ms/step - loss: 17.2894 - val_loss: 54.0528 - lr: 0.0010\n",
            "Epoch 144/2000\n",
            "25/25 [==============================] - 0s 5ms/step - loss: 15.1730 - val_loss: 28.8606 - lr: 0.0010\n",
            "Epoch 145/2000\n",
            "25/25 [==============================] - 0s 4ms/step - loss: 23.0675 - val_loss: 60.4519 - lr: 0.0010\n",
            "Epoch 146/2000\n",
            "25/25 [==============================] - 0s 5ms/step - loss: 31.2703 - val_loss: 107.7938 - lr: 0.0010\n",
            "Epoch 147/2000\n",
            "25/25 [==============================] - 0s 5ms/step - loss: 15.4716 - val_loss: 80.8523 - lr: 0.0010\n",
            "Epoch 148/2000\n",
            "25/25 [==============================] - 0s 4ms/step - loss: 27.7147 - val_loss: 83.6118 - lr: 0.0010\n",
            "Epoch 149/2000\n",
            "25/25 [==============================] - 0s 5ms/step - loss: 14.7105 - val_loss: 74.0416 - lr: 0.0010\n",
            "Epoch 150/2000\n",
            "25/25 [==============================] - 0s 5ms/step - loss: 41.3695 - val_loss: 23.3337 - lr: 0.0010\n",
            "Epoch 151/2000\n",
            "25/25 [==============================] - 0s 4ms/step - loss: 42.1270 - val_loss: 39.6437 - lr: 0.0010\n",
            "Epoch 152/2000\n",
            "25/25 [==============================] - 0s 4ms/step - loss: 26.5264 - val_loss: 86.1219 - lr: 0.0010\n",
            "Epoch 153/2000\n",
            "25/25 [==============================] - 0s 4ms/step - loss: 16.3875 - val_loss: 59.5716 - lr: 0.0010\n",
            "Epoch 154/2000\n",
            "25/25 [==============================] - 0s 5ms/step - loss: 21.7314 - val_loss: 77.2592 - lr: 0.0010\n",
            "Epoch 155/2000\n",
            "25/25 [==============================] - 0s 4ms/step - loss: 16.2435 - val_loss: 36.9219 - lr: 0.0010\n",
            "Epoch 156/2000\n",
            "25/25 [==============================] - 0s 4ms/step - loss: 32.4069 - val_loss: 39.3452 - lr: 0.0010\n",
            "Epoch 157/2000\n",
            "25/25 [==============================] - 0s 4ms/step - loss: 25.5276 - val_loss: 37.7816 - lr: 0.0010\n",
            "Epoch 158/2000\n",
            "25/25 [==============================] - 0s 4ms/step - loss: 30.3115 - val_loss: 34.6687 - lr: 0.0010\n",
            "Epoch 159/2000\n",
            "25/25 [==============================] - 0s 5ms/step - loss: 24.3394 - val_loss: 59.8594 - lr: 0.0010\n",
            "Epoch 160/2000\n",
            "25/25 [==============================] - 0s 5ms/step - loss: 27.9234 - val_loss: 68.9179 - lr: 0.0010\n",
            "Epoch 161/2000\n",
            "25/25 [==============================] - 0s 4ms/step - loss: 24.6656 - val_loss: 44.1186 - lr: 0.0010\n",
            "Epoch 162/2000\n",
            "25/25 [==============================] - 0s 5ms/step - loss: 29.9535 - val_loss: 45.4554 - lr: 0.0010\n",
            "Epoch 163/2000\n",
            "25/25 [==============================] - 0s 4ms/step - loss: 18.2527 - val_loss: 59.1654 - lr: 0.0010\n",
            "Epoch 164/2000\n",
            "25/25 [==============================] - 0s 5ms/step - loss: 30.5347 - val_loss: 64.3247 - lr: 0.0010\n",
            "Epoch 165/2000\n",
            "25/25 [==============================] - 0s 4ms/step - loss: 14.6504 - val_loss: 76.8629 - lr: 0.0010\n",
            "Epoch 166/2000\n",
            "25/25 [==============================] - 0s 5ms/step - loss: 16.5900 - val_loss: 68.8364 - lr: 0.0010\n",
            "Epoch 167/2000\n",
            "25/25 [==============================] - 0s 5ms/step - loss: 28.3515 - val_loss: 67.5463 - lr: 0.0010\n",
            "Epoch 168/2000\n",
            "25/25 [==============================] - 0s 4ms/step - loss: 29.3246 - val_loss: 45.6981 - lr: 0.0010\n",
            "Epoch 169/2000\n",
            "25/25 [==============================] - 0s 4ms/step - loss: 22.1468 - val_loss: 64.5805 - lr: 0.0010\n",
            "Epoch 170/2000\n",
            "25/25 [==============================] - 0s 4ms/step - loss: 22.7753 - val_loss: 52.1919 - lr: 0.0010\n",
            "Epoch 171/2000\n",
            "25/25 [==============================] - 0s 4ms/step - loss: 14.0534 - val_loss: 63.5750 - lr: 0.0010\n",
            "Epoch 172/2000\n",
            "25/25 [==============================] - 0s 5ms/step - loss: 23.5994 - val_loss: 130.9987 - lr: 0.0010\n",
            "Epoch 173/2000\n",
            "25/25 [==============================] - 0s 4ms/step - loss: 29.2893 - val_loss: 47.9388 - lr: 0.0010\n",
            "Epoch 174/2000\n",
            "25/25 [==============================] - 0s 4ms/step - loss: 17.7169 - val_loss: 32.8053 - lr: 0.0010\n",
            "Epoch 175/2000\n",
            "25/25 [==============================] - 0s 5ms/step - loss: 31.1951 - val_loss: 62.0202 - lr: 0.0010\n",
            "Epoch 176/2000\n",
            "25/25 [==============================] - 0s 5ms/step - loss: 27.8468 - val_loss: 94.3680 - lr: 0.0010\n",
            "Epoch 177/2000\n",
            "25/25 [==============================] - 0s 4ms/step - loss: 20.3582 - val_loss: 35.7263 - lr: 0.0010\n",
            "Epoch 178/2000\n",
            "25/25 [==============================] - 0s 5ms/step - loss: 25.8613 - val_loss: 155.8064 - lr: 0.0010\n",
            "Epoch 179/2000\n",
            "25/25 [==============================] - 0s 5ms/step - loss: 12.3591 - val_loss: 48.5648 - lr: 0.0010\n",
            "Epoch 180/2000\n",
            "25/25 [==============================] - 0s 5ms/step - loss: 19.4158 - val_loss: 40.5094 - lr: 0.0010\n",
            "Epoch 181/2000\n",
            "25/25 [==============================] - 0s 5ms/step - loss: 11.7584 - val_loss: 52.7428 - lr: 0.0010\n",
            "Epoch 182/2000\n",
            "25/25 [==============================] - 0s 6ms/step - loss: 18.3028 - val_loss: 86.1148 - lr: 0.0010\n",
            "Epoch 183/2000\n",
            "25/25 [==============================] - 0s 5ms/step - loss: 10.7351 - val_loss: 60.2087 - lr: 0.0010\n",
            "Epoch 184/2000\n",
            "25/25 [==============================] - 0s 4ms/step - loss: 18.0911 - val_loss: 34.3646 - lr: 0.0010\n",
            "Epoch 185/2000\n",
            "25/25 [==============================] - 0s 5ms/step - loss: 17.6197 - val_loss: 84.1230 - lr: 0.0010\n",
            "Epoch 186/2000\n",
            "25/25 [==============================] - 0s 4ms/step - loss: 15.4903 - val_loss: 44.4827 - lr: 0.0010\n",
            "Epoch 187/2000\n",
            "25/25 [==============================] - 0s 5ms/step - loss: 18.8740 - val_loss: 64.6566 - lr: 0.0010\n",
            "Epoch 188/2000\n",
            "25/25 [==============================] - 0s 5ms/step - loss: 14.4541 - val_loss: 120.2801 - lr: 0.0010\n",
            "Epoch 189/2000\n",
            "25/25 [==============================] - 0s 5ms/step - loss: 16.2749 - val_loss: 72.5115 - lr: 0.0010\n",
            "Epoch 190/2000\n",
            "25/25 [==============================] - 0s 4ms/step - loss: 36.5924 - val_loss: 108.3194 - lr: 0.0010\n",
            "Epoch 191/2000\n",
            "25/25 [==============================] - 0s 5ms/step - loss: 11.6376 - val_loss: 45.2674 - lr: 0.0010\n",
            "Epoch 192/2000\n",
            "25/25 [==============================] - 0s 5ms/step - loss: 20.5343 - val_loss: 79.8725 - lr: 0.0010\n",
            "Epoch 193/2000\n",
            "25/25 [==============================] - 0s 5ms/step - loss: 22.9132 - val_loss: 85.6486 - lr: 0.0010\n",
            "Epoch 194/2000\n",
            "25/25 [==============================] - 0s 5ms/step - loss: 23.5720 - val_loss: 76.0020 - lr: 0.0010\n",
            "Epoch 195/2000\n",
            "25/25 [==============================] - 0s 5ms/step - loss: 17.2000 - val_loss: 34.2855 - lr: 0.0010\n",
            "Epoch 196/2000\n",
            "25/25 [==============================] - 0s 5ms/step - loss: 20.2862 - val_loss: 37.7447 - lr: 0.0010\n",
            "Epoch 197/2000\n",
            "25/25 [==============================] - 0s 4ms/step - loss: 15.9275 - val_loss: 40.2507 - lr: 0.0010\n",
            "Epoch 198/2000\n",
            "25/25 [==============================] - 0s 5ms/step - loss: 17.7693 - val_loss: 64.0689 - lr: 0.0010\n",
            "Epoch 199/2000\n",
            "25/25 [==============================] - 0s 4ms/step - loss: 14.1304 - val_loss: 41.0455 - lr: 0.0010\n",
            "Epoch 200/2000\n",
            "25/25 [==============================] - 0s 5ms/step - loss: 28.7134 - val_loss: 37.8218 - lr: 0.0010\n",
            "Epoch 201/2000\n",
            "25/25 [==============================] - 0s 5ms/step - loss: 13.2005 - val_loss: 43.5767 - lr: 0.0010\n",
            "Epoch 202/2000\n",
            "25/25 [==============================] - 0s 4ms/step - loss: 14.3285 - val_loss: 60.5300 - lr: 0.0010\n",
            "Epoch 203/2000\n",
            "25/25 [==============================] - 0s 5ms/step - loss: 22.0121 - val_loss: 39.6406 - lr: 0.0010\n",
            "Epoch 204/2000\n",
            "25/25 [==============================] - 0s 5ms/step - loss: 10.2000 - val_loss: 64.1412 - lr: 0.0010\n",
            "Epoch 205/2000\n",
            "25/25 [==============================] - 0s 6ms/step - loss: 20.0844 - val_loss: 52.1137 - lr: 0.0010\n",
            "Epoch 206/2000\n",
            "25/25 [==============================] - 0s 4ms/step - loss: 10.7208 - val_loss: 101.0341 - lr: 0.0010\n",
            "Epoch 207/2000\n",
            "25/25 [==============================] - 0s 5ms/step - loss: 11.9067 - val_loss: 63.6354 - lr: 0.0010\n",
            "Epoch 208/2000\n",
            "25/25 [==============================] - 0s 4ms/step - loss: 24.8978 - val_loss: 62.4657 - lr: 0.0010\n",
            "Epoch 209/2000\n",
            "25/25 [==============================] - 0s 5ms/step - loss: 20.1663 - val_loss: 140.5752 - lr: 0.0010\n",
            "Epoch 210/2000\n",
            "25/25 [==============================] - 0s 5ms/step - loss: 26.1505 - val_loss: 44.5749 - lr: 0.0010\n",
            "Epoch 211/2000\n",
            "25/25 [==============================] - 0s 4ms/step - loss: 14.7003 - val_loss: 59.9695 - lr: 0.0010\n",
            "Epoch 212/2000\n",
            "25/25 [==============================] - 0s 4ms/step - loss: 13.9493 - val_loss: 81.1784 - lr: 0.0010\n",
            "Epoch 213/2000\n",
            "25/25 [==============================] - 0s 5ms/step - loss: 24.4289 - val_loss: 82.0504 - lr: 0.0010\n",
            "Epoch 214/2000\n",
            "25/25 [==============================] - 0s 4ms/step - loss: 23.9335 - val_loss: 54.5767 - lr: 0.0010\n",
            "Epoch 215/2000\n",
            "25/25 [==============================] - 0s 5ms/step - loss: 13.8854 - val_loss: 36.9068 - lr: 0.0010\n",
            "Epoch 216/2000\n",
            "25/25 [==============================] - 0s 5ms/step - loss: 24.6082 - val_loss: 56.1646 - lr: 0.0010\n",
            "Epoch 217/2000\n",
            "25/25 [==============================] - 0s 4ms/step - loss: 14.1375 - val_loss: 61.3571 - lr: 0.0010\n",
            "Epoch 218/2000\n",
            "25/25 [==============================] - 0s 5ms/step - loss: 13.6743 - val_loss: 34.1991 - lr: 0.0010\n",
            "Epoch 219/2000\n",
            "25/25 [==============================] - 0s 5ms/step - loss: 18.3603 - val_loss: 28.0858 - lr: 0.0010\n",
            "Epoch 220/2000\n",
            "25/25 [==============================] - 0s 5ms/step - loss: 12.6726 - val_loss: 69.7896 - lr: 0.0010\n",
            "Epoch 221/2000\n",
            "25/25 [==============================] - 0s 5ms/step - loss: 10.1285 - val_loss: 62.0155 - lr: 0.0010\n",
            "Epoch 222/2000\n",
            "25/25 [==============================] - 0s 5ms/step - loss: 14.7675 - val_loss: 56.2273 - lr: 0.0010\n",
            "Epoch 223/2000\n",
            "25/25 [==============================] - 0s 4ms/step - loss: 14.2447 - val_loss: 43.8600 - lr: 0.0010\n",
            "Epoch 224/2000\n",
            "25/25 [==============================] - 0s 6ms/step - loss: 10.6852 - val_loss: 50.3734 - lr: 0.0010\n",
            "Epoch 225/2000\n",
            "25/25 [==============================] - 0s 4ms/step - loss: 16.8417 - val_loss: 39.8322 - lr: 0.0010\n",
            "Epoch 226/2000\n",
            "25/25 [==============================] - 0s 5ms/step - loss: 8.4142 - val_loss: 50.9938 - lr: 0.0010\n",
            "Epoch 227/2000\n",
            "25/25 [==============================] - 0s 5ms/step - loss: 14.0981 - val_loss: 44.6136 - lr: 0.0010\n",
            "Epoch 228/2000\n",
            "25/25 [==============================] - 0s 5ms/step - loss: 23.3393 - val_loss: 52.0583 - lr: 0.0010\n",
            "Epoch 229/2000\n",
            "25/25 [==============================] - 0s 5ms/step - loss: 7.5905 - val_loss: 77.7352 - lr: 0.0010\n",
            "Epoch 230/2000\n",
            "25/25 [==============================] - 0s 5ms/step - loss: 20.3889 - val_loss: 48.7070 - lr: 0.0010\n",
            "Epoch 231/2000\n",
            "25/25 [==============================] - 0s 5ms/step - loss: 18.6360 - val_loss: 37.4110 - lr: 0.0010\n",
            "Epoch 232/2000\n",
            "25/25 [==============================] - 0s 5ms/step - loss: 20.2235 - val_loss: 62.7546 - lr: 0.0010\n",
            "Epoch 233/2000\n",
            "25/25 [==============================] - 0s 5ms/step - loss: 11.6523 - val_loss: 46.6987 - lr: 0.0010\n",
            "Epoch 234/2000\n",
            "25/25 [==============================] - 0s 4ms/step - loss: 24.3897 - val_loss: 34.2825 - lr: 0.0010\n",
            "Epoch 235/2000\n",
            "25/25 [==============================] - 0s 5ms/step - loss: 31.1358 - val_loss: 48.3610 - lr: 0.0010\n",
            "Epoch 236/2000\n",
            "25/25 [==============================] - 0s 6ms/step - loss: 11.9022 - val_loss: 34.6355 - lr: 0.0010\n",
            "Epoch 237/2000\n",
            "25/25 [==============================] - 0s 7ms/step - loss: 17.3118 - val_loss: 75.2004 - lr: 0.0010\n",
            "Epoch 238/2000\n",
            "25/25 [==============================] - 0s 7ms/step - loss: 12.6449 - val_loss: 75.1140 - lr: 0.0010\n",
            "Epoch 239/2000\n",
            "25/25 [==============================] - 0s 7ms/step - loss: 8.5439 - val_loss: 48.2924 - lr: 0.0010\n",
            "Epoch 240/2000\n",
            "25/25 [==============================] - 0s 6ms/step - loss: 17.8314 - val_loss: 45.6563 - lr: 0.0010\n",
            "Epoch 241/2000\n",
            "25/25 [==============================] - 0s 6ms/step - loss: 10.8285 - val_loss: 72.9819 - lr: 0.0010\n",
            "Epoch 242/2000\n",
            "25/25 [==============================] - 0s 6ms/step - loss: 20.9507 - val_loss: 67.8786 - lr: 0.0010\n",
            "Epoch 243/2000\n",
            "25/25 [==============================] - 0s 7ms/step - loss: 13.1660 - val_loss: 31.9783 - lr: 0.0010\n",
            "Epoch 244/2000\n",
            "25/25 [==============================] - 0s 7ms/step - loss: 14.4497 - val_loss: 33.4188 - lr: 0.0010\n",
            "Epoch 245/2000\n",
            "25/25 [==============================] - 0s 7ms/step - loss: 15.6489 - val_loss: 40.8667 - lr: 0.0010\n",
            "Epoch 246/2000\n",
            "25/25 [==============================] - 0s 6ms/step - loss: 17.9759 - val_loss: 44.1793 - lr: 0.0010\n",
            "Epoch 247/2000\n",
            "25/25 [==============================] - 0s 5ms/step - loss: 14.7595 - val_loss: 57.0849 - lr: 0.0010\n",
            "Epoch 248/2000\n",
            "25/25 [==============================] - 0s 4ms/step - loss: 13.9315 - val_loss: 52.5015 - lr: 0.0010\n",
            "Epoch 249/2000\n",
            "25/25 [==============================] - 0s 4ms/step - loss: 19.3342 - val_loss: 31.3725 - lr: 0.0010\n",
            "Epoch 250/2000\n",
            "25/25 [==============================] - 0s 5ms/step - loss: 13.4375 - val_loss: 24.6321 - lr: 0.0010\n",
            "Epoch 251/2000\n",
            "25/25 [==============================] - 0s 4ms/step - loss: 18.2490 - val_loss: 22.9818 - lr: 0.0010\n",
            "Epoch 252/2000\n",
            "25/25 [==============================] - 0s 5ms/step - loss: 19.7561 - val_loss: 31.3107 - lr: 0.0010\n",
            "Epoch 253/2000\n",
            "25/25 [==============================] - 0s 4ms/step - loss: 17.7385 - val_loss: 38.0448 - lr: 0.0010\n",
            "Epoch 254/2000\n",
            "25/25 [==============================] - 0s 5ms/step - loss: 16.9798 - val_loss: 56.0002 - lr: 0.0010\n",
            "Epoch 255/2000\n",
            "25/25 [==============================] - 0s 5ms/step - loss: 6.7875 - val_loss: 44.8615 - lr: 0.0010\n",
            "Epoch 256/2000\n",
            "25/25 [==============================] - 0s 5ms/step - loss: 10.8580 - val_loss: 33.1539 - lr: 0.0010\n",
            "Epoch 257/2000\n",
            "25/25 [==============================] - 0s 5ms/step - loss: 15.1538 - val_loss: 40.9156 - lr: 0.0010\n",
            "Epoch 258/2000\n",
            "25/25 [==============================] - 0s 4ms/step - loss: 15.5692 - val_loss: 36.3180 - lr: 0.0010\n",
            "Epoch 259/2000\n",
            "25/25 [==============================] - 0s 5ms/step - loss: 18.7099 - val_loss: 51.6845 - lr: 0.0010\n",
            "Epoch 260/2000\n",
            "25/25 [==============================] - 0s 4ms/step - loss: 7.8300 - val_loss: 54.3852 - lr: 0.0010\n",
            "Epoch 261/2000\n",
            "25/25 [==============================] - 0s 4ms/step - loss: 12.9601 - val_loss: 41.4318 - lr: 0.0010\n",
            "Epoch 262/2000\n",
            "25/25 [==============================] - 0s 4ms/step - loss: 11.2674 - val_loss: 76.3296 - lr: 0.0010\n",
            "Epoch 263/2000\n",
            "25/25 [==============================] - 0s 5ms/step - loss: 8.9709 - val_loss: 50.7284 - lr: 0.0010\n",
            "Epoch 264/2000\n",
            "25/25 [==============================] - 0s 5ms/step - loss: 7.0099 - val_loss: 51.2960 - lr: 0.0010\n",
            "Epoch 265/2000\n",
            "25/25 [==============================] - 0s 5ms/step - loss: 10.1576 - val_loss: 57.3663 - lr: 0.0010\n",
            "Epoch 266/2000\n",
            "25/25 [==============================] - 0s 4ms/step - loss: 9.9079 - val_loss: 76.0644 - lr: 0.0010\n",
            "Epoch 267/2000\n",
            "25/25 [==============================] - 0s 4ms/step - loss: 15.5499 - val_loss: 29.6734 - lr: 0.0010\n",
            "Epoch 268/2000\n",
            "25/25 [==============================] - 0s 5ms/step - loss: 11.1476 - val_loss: 48.4499 - lr: 0.0010\n",
            "Epoch 269/2000\n",
            "25/25 [==============================] - 0s 4ms/step - loss: 10.2229 - val_loss: 60.0739 - lr: 0.0010\n",
            "Epoch 270/2000\n",
            "25/25 [==============================] - 0s 5ms/step - loss: 6.2814 - val_loss: 56.7049 - lr: 0.0010\n",
            "Epoch 271/2000\n",
            "25/25 [==============================] - 0s 5ms/step - loss: 13.0069 - val_loss: 29.6143 - lr: 0.0010\n",
            "Epoch 272/2000\n",
            "25/25 [==============================] - 0s 5ms/step - loss: 13.3757 - val_loss: 50.9661 - lr: 0.0010\n",
            "Epoch 273/2000\n",
            "25/25 [==============================] - 0s 5ms/step - loss: 6.9286 - val_loss: 35.2339 - lr: 0.0010\n",
            "Epoch 274/2000\n",
            "25/25 [==============================] - 0s 4ms/step - loss: 10.6523 - val_loss: 35.5297 - lr: 0.0010\n",
            "Epoch 275/2000\n",
            "25/25 [==============================] - 0s 4ms/step - loss: 8.2200 - val_loss: 40.5640 - lr: 0.0010\n",
            "Epoch 276/2000\n",
            "25/25 [==============================] - 0s 4ms/step - loss: 6.4867 - val_loss: 43.7439 - lr: 0.0010\n",
            "Epoch 277/2000\n",
            "25/25 [==============================] - 0s 5ms/step - loss: 7.1769 - val_loss: 69.4402 - lr: 0.0010\n",
            "Epoch 278/2000\n",
            "25/25 [==============================] - 0s 5ms/step - loss: 17.2534 - val_loss: 73.8947 - lr: 0.0010\n",
            "Epoch 279/2000\n",
            "25/25 [==============================] - 0s 5ms/step - loss: 12.3622 - val_loss: 38.0107 - lr: 0.0010\n",
            "Epoch 280/2000\n",
            "25/25 [==============================] - ETA: 0s - loss: 5.5759 \n",
            "Epoch 280: ReduceLROnPlateau reducing learning rate to 0.0007500000356230885.\n",
            "25/25 [==============================] - 0s 5ms/step - loss: 5.5759 - val_loss: 36.9269 - lr: 0.0010\n",
            "Epoch 281/2000\n",
            "25/25 [==============================] - 0s 5ms/step - loss: 8.6014 - val_loss: 64.1000 - lr: 7.5000e-04\n",
            "Epoch 282/2000\n",
            "25/25 [==============================] - 0s 5ms/step - loss: 7.3700 - val_loss: 60.2772 - lr: 7.5000e-04\n",
            "Epoch 283/2000\n",
            "25/25 [==============================] - 0s 5ms/step - loss: 8.8457 - val_loss: 43.4049 - lr: 7.5000e-04\n",
            "Epoch 284/2000\n",
            "25/25 [==============================] - 0s 4ms/step - loss: 12.5931 - val_loss: 34.9595 - lr: 7.5000e-04\n",
            "Epoch 285/2000\n",
            "25/25 [==============================] - 0s 5ms/step - loss: 10.6433 - val_loss: 53.4487 - lr: 7.5000e-04\n",
            "Epoch 286/2000\n",
            "25/25 [==============================] - 0s 4ms/step - loss: 14.7696 - val_loss: 69.1344 - lr: 7.5000e-04\n",
            "Epoch 287/2000\n",
            "25/25 [==============================] - 0s 5ms/step - loss: 7.8428 - val_loss: 46.5807 - lr: 7.5000e-04\n",
            "Epoch 288/2000\n",
            "25/25 [==============================] - 0s 5ms/step - loss: 15.3881 - val_loss: 30.4992 - lr: 7.5000e-04\n",
            "Epoch 289/2000\n",
            "25/25 [==============================] - 0s 5ms/step - loss: 11.4359 - val_loss: 76.6710 - lr: 7.5000e-04\n",
            "Epoch 290/2000\n",
            "25/25 [==============================] - 0s 5ms/step - loss: 15.9776 - val_loss: 24.9445 - lr: 7.5000e-04\n",
            "Epoch 291/2000\n",
            "25/25 [==============================] - 0s 4ms/step - loss: 8.8396 - val_loss: 29.0795 - lr: 7.5000e-04\n",
            "Epoch 292/2000\n",
            "25/25 [==============================] - 0s 5ms/step - loss: 7.0670 - val_loss: 90.8042 - lr: 7.5000e-04\n",
            "Epoch 293/2000\n",
            "25/25 [==============================] - 0s 5ms/step - loss: 7.3178 - val_loss: 36.7226 - lr: 7.5000e-04\n",
            "Epoch 294/2000\n",
            "25/25 [==============================] - 0s 5ms/step - loss: 10.9530 - val_loss: 26.0382 - lr: 7.5000e-04\n",
            "Epoch 295/2000\n",
            "25/25 [==============================] - 0s 5ms/step - loss: 6.2276 - val_loss: 69.8727 - lr: 7.5000e-04\n",
            "Epoch 296/2000\n",
            "25/25 [==============================] - 0s 4ms/step - loss: 6.3086 - val_loss: 34.8697 - lr: 7.5000e-04\n",
            "Epoch 297/2000\n",
            "25/25 [==============================] - 0s 6ms/step - loss: 10.4808 - val_loss: 57.4233 - lr: 7.5000e-04\n",
            "Epoch 298/2000\n",
            "25/25 [==============================] - 0s 5ms/step - loss: 9.9560 - val_loss: 59.0781 - lr: 7.5000e-04\n",
            "Epoch 299/2000\n",
            "25/25 [==============================] - 0s 5ms/step - loss: 5.1382 - val_loss: 50.5281 - lr: 7.5000e-04\n",
            "Epoch 300/2000\n",
            "25/25 [==============================] - 0s 5ms/step - loss: 7.8970 - val_loss: 53.7049 - lr: 7.5000e-04\n",
            "Epoch 301/2000\n",
            "25/25 [==============================] - 0s 5ms/step - loss: 11.7511 - val_loss: 53.5422 - lr: 7.5000e-04\n",
            "Epoch 302/2000\n",
            "25/25 [==============================] - 0s 5ms/step - loss: 5.4232 - val_loss: 52.2967 - lr: 7.5000e-04\n",
            "Epoch 303/2000\n",
            "25/25 [==============================] - 0s 5ms/step - loss: 9.0955 - val_loss: 84.4801 - lr: 7.5000e-04\n",
            "Epoch 304/2000\n",
            "25/25 [==============================] - 0s 5ms/step - loss: 14.3433 - val_loss: 25.9634 - lr: 7.5000e-04\n",
            "Epoch 305/2000\n",
            "25/25 [==============================] - 0s 4ms/step - loss: 13.3314 - val_loss: 62.8705 - lr: 7.5000e-04\n",
            "Epoch 306/2000\n",
            "25/25 [==============================] - 0s 4ms/step - loss: 9.8348 - val_loss: 52.2286 - lr: 7.5000e-04\n",
            "Epoch 307/2000\n",
            "25/25 [==============================] - 0s 5ms/step - loss: 11.4779 - val_loss: 40.9697 - lr: 7.5000e-04\n",
            "Epoch 308/2000\n",
            "25/25 [==============================] - 0s 5ms/step - loss: 5.6793 - val_loss: 45.2601 - lr: 7.5000e-04\n",
            "Epoch 309/2000\n",
            "25/25 [==============================] - 0s 5ms/step - loss: 10.9492 - val_loss: 61.0320 - lr: 7.5000e-04\n",
            "Epoch 310/2000\n",
            "25/25 [==============================] - 0s 5ms/step - loss: 13.2114 - val_loss: 28.0271 - lr: 7.5000e-04\n",
            "Epoch 311/2000\n",
            "25/25 [==============================] - 0s 5ms/step - loss: 7.2223 - val_loss: 53.9278 - lr: 7.5000e-04\n",
            "Epoch 312/2000\n",
            "25/25 [==============================] - 0s 4ms/step - loss: 9.5132 - val_loss: 40.4272 - lr: 7.5000e-04\n",
            "Epoch 313/2000\n",
            "25/25 [==============================] - 0s 4ms/step - loss: 11.0107 - val_loss: 46.4721 - lr: 7.5000e-04\n",
            "Epoch 314/2000\n",
            "25/25 [==============================] - 0s 5ms/step - loss: 6.8642 - val_loss: 25.3425 - lr: 7.5000e-04\n",
            "Epoch 315/2000\n",
            "25/25 [==============================] - 0s 5ms/step - loss: 5.6523 - val_loss: 57.6214 - lr: 7.5000e-04\n",
            "Epoch 316/2000\n",
            "25/25 [==============================] - 0s 5ms/step - loss: 5.8916 - val_loss: 39.8606 - lr: 7.5000e-04\n",
            "Epoch 317/2000\n",
            "25/25 [==============================] - 0s 5ms/step - loss: 7.8115 - val_loss: 57.7818 - lr: 7.5000e-04\n",
            "Epoch 318/2000\n",
            "25/25 [==============================] - 0s 5ms/step - loss: 5.6176 - val_loss: 40.8525 - lr: 7.5000e-04\n",
            "Epoch 319/2000\n",
            "25/25 [==============================] - 0s 5ms/step - loss: 7.5806 - val_loss: 48.3353 - lr: 7.5000e-04\n",
            "Epoch 320/2000\n",
            "25/25 [==============================] - 0s 4ms/step - loss: 12.8637 - val_loss: 33.7866 - lr: 7.5000e-04\n",
            "Epoch 321/2000\n",
            "25/25 [==============================] - 0s 5ms/step - loss: 15.7959 - val_loss: 53.4074 - lr: 7.5000e-04\n",
            "Epoch 322/2000\n",
            "25/25 [==============================] - 0s 5ms/step - loss: 11.3603 - val_loss: 90.5159 - lr: 7.5000e-04\n",
            "Epoch 323/2000\n",
            "25/25 [==============================] - 0s 5ms/step - loss: 10.8675 - val_loss: 35.7964 - lr: 7.5000e-04\n",
            "Epoch 324/2000\n",
            "25/25 [==============================] - 0s 5ms/step - loss: 7.4046 - val_loss: 59.1477 - lr: 7.5000e-04\n",
            "Epoch 325/2000\n",
            "25/25 [==============================] - 0s 5ms/step - loss: 10.7361 - val_loss: 25.8301 - lr: 7.5000e-04\n",
            "Epoch 326/2000\n",
            "25/25 [==============================] - 0s 5ms/step - loss: 6.2849 - val_loss: 39.6861 - lr: 7.5000e-04\n",
            "Epoch 327/2000\n",
            "25/25 [==============================] - 0s 5ms/step - loss: 8.2864 - val_loss: 49.1763 - lr: 7.5000e-04\n",
            "Epoch 328/2000\n",
            "25/25 [==============================] - 0s 5ms/step - loss: 8.8253 - val_loss: 67.0682 - lr: 7.5000e-04\n",
            "Epoch 329/2000\n",
            "25/25 [==============================] - 0s 5ms/step - loss: 15.8097 - val_loss: 24.4888 - lr: 7.5000e-04\n",
            "Epoch 330/2000\n",
            "25/25 [==============================] - 0s 5ms/step - loss: 11.0703 - val_loss: 72.6000 - lr: 7.5000e-04\n",
            "Epoch 331/2000\n",
            "25/25 [==============================] - 0s 4ms/step - loss: 10.6691 - val_loss: 49.1793 - lr: 7.5000e-04\n",
            "Epoch 332/2000\n",
            "25/25 [==============================] - 0s 4ms/step - loss: 7.5485 - val_loss: 28.9832 - lr: 7.5000e-04\n",
            "Epoch 333/2000\n",
            "25/25 [==============================] - 0s 5ms/step - loss: 10.5025 - val_loss: 55.5298 - lr: 7.5000e-04\n",
            "Epoch 334/2000\n",
            "25/25 [==============================] - 0s 5ms/step - loss: 10.1795 - val_loss: 71.1228 - lr: 7.5000e-04\n",
            "Epoch 335/2000\n",
            "25/25 [==============================] - 0s 5ms/step - loss: 9.5799 - val_loss: 46.7205 - lr: 7.5000e-04\n",
            "Epoch 336/2000\n",
            "25/25 [==============================] - 0s 5ms/step - loss: 3.5369 - val_loss: 60.5187 - lr: 7.5000e-04\n",
            "Epoch 337/2000\n",
            "25/25 [==============================] - 0s 5ms/step - loss: 5.9927 - val_loss: 64.8670 - lr: 7.5000e-04\n",
            "Epoch 338/2000\n",
            "25/25 [==============================] - 0s 5ms/step - loss: 10.2766 - val_loss: 41.9416 - lr: 7.5000e-04\n",
            "Epoch 339/2000\n",
            "25/25 [==============================] - 0s 5ms/step - loss: 9.0490 - val_loss: 21.7805 - lr: 7.5000e-04\n",
            "Epoch 340/2000\n",
            "25/25 [==============================] - 0s 5ms/step - loss: 14.7115 - val_loss: 36.7622 - lr: 7.5000e-04\n",
            "Epoch 341/2000\n",
            "25/25 [==============================] - 0s 5ms/step - loss: 8.4378 - val_loss: 65.4876 - lr: 7.5000e-04\n",
            "Epoch 342/2000\n",
            "25/25 [==============================] - 0s 5ms/step - loss: 12.4491 - val_loss: 44.7445 - lr: 7.5000e-04\n",
            "Epoch 343/2000\n",
            "25/25 [==============================] - 0s 5ms/step - loss: 7.3296 - val_loss: 48.1795 - lr: 7.5000e-04\n",
            "Epoch 344/2000\n",
            "25/25 [==============================] - 0s 5ms/step - loss: 10.3445 - val_loss: 32.4185 - lr: 7.5000e-04\n",
            "Epoch 345/2000\n",
            "25/25 [==============================] - 0s 4ms/step - loss: 7.0428 - val_loss: 41.6745 - lr: 7.5000e-04\n",
            "Epoch 346/2000\n",
            "25/25 [==============================] - 0s 5ms/step - loss: 5.1724 - val_loss: 43.7865 - lr: 7.5000e-04\n",
            "Epoch 347/2000\n",
            "25/25 [==============================] - 0s 5ms/step - loss: 5.7544 - val_loss: 45.3593 - lr: 7.5000e-04\n",
            "Epoch 348/2000\n",
            "25/25 [==============================] - 0s 5ms/step - loss: 5.7707 - val_loss: 41.3930 - lr: 7.5000e-04\n",
            "Epoch 349/2000\n",
            "25/25 [==============================] - 0s 5ms/step - loss: 8.4271 - val_loss: 32.5521 - lr: 7.5000e-04\n",
            "Epoch 350/2000\n",
            "25/25 [==============================] - 0s 5ms/step - loss: 7.0206 - val_loss: 35.9375 - lr: 7.5000e-04\n",
            "Epoch 351/2000\n",
            "25/25 [==============================] - 0s 5ms/step - loss: 6.2873 - val_loss: 55.0004 - lr: 7.5000e-04\n",
            "Epoch 352/2000\n",
            "25/25 [==============================] - 0s 4ms/step - loss: 6.8451 - val_loss: 42.0113 - lr: 7.5000e-04\n",
            "Epoch 353/2000\n",
            "25/25 [==============================] - 0s 4ms/step - loss: 12.0202 - val_loss: 50.9813 - lr: 7.5000e-04\n",
            "Epoch 354/2000\n",
            "25/25 [==============================] - 0s 5ms/step - loss: 12.3091 - val_loss: 55.8838 - lr: 7.5000e-04\n",
            "Epoch 355/2000\n",
            "25/25 [==============================] - 0s 5ms/step - loss: 16.7097 - val_loss: 26.3283 - lr: 7.5000e-04\n",
            "Epoch 356/2000\n",
            "25/25 [==============================] - 0s 6ms/step - loss: 6.1200 - val_loss: 57.3693 - lr: 7.5000e-04\n",
            "Epoch 357/2000\n",
            "25/25 [==============================] - 0s 5ms/step - loss: 11.1108 - val_loss: 40.2273 - lr: 7.5000e-04\n",
            "Epoch 358/2000\n",
            "25/25 [==============================] - 0s 5ms/step - loss: 10.8530 - val_loss: 36.5081 - lr: 7.5000e-04\n",
            "Epoch 359/2000\n",
            "25/25 [==============================] - 0s 5ms/step - loss: 9.0830 - val_loss: 52.0590 - lr: 7.5000e-04\n",
            "Epoch 360/2000\n",
            "25/25 [==============================] - 0s 4ms/step - loss: 5.6111 - val_loss: 53.3689 - lr: 7.5000e-04\n",
            "Epoch 361/2000\n",
            "25/25 [==============================] - 0s 6ms/step - loss: 5.7978 - val_loss: 62.9034 - lr: 7.5000e-04\n",
            "Epoch 362/2000\n",
            "25/25 [==============================] - 0s 5ms/step - loss: 5.7864 - val_loss: 62.2633 - lr: 7.5000e-04\n",
            "Epoch 363/2000\n",
            "25/25 [==============================] - 0s 5ms/step - loss: 10.7370 - val_loss: 66.1335 - lr: 7.5000e-04\n",
            "Epoch 364/2000\n",
            "25/25 [==============================] - 0s 5ms/step - loss: 9.3523 - val_loss: 58.5091 - lr: 7.5000e-04\n",
            "Epoch 365/2000\n",
            "25/25 [==============================] - 0s 6ms/step - loss: 5.0282 - val_loss: 47.9856 - lr: 7.5000e-04\n",
            "Epoch 366/2000\n",
            "25/25 [==============================] - 0s 5ms/step - loss: 5.8129 - val_loss: 39.5734 - lr: 7.5000e-04\n",
            "Epoch 367/2000\n",
            "25/25 [==============================] - 0s 5ms/step - loss: 7.5497 - val_loss: 86.8230 - lr: 7.5000e-04\n",
            "Epoch 368/2000\n",
            "25/25 [==============================] - 0s 5ms/step - loss: 7.3593 - val_loss: 47.3176 - lr: 7.5000e-04\n",
            "Epoch 369/2000\n",
            "25/25 [==============================] - 0s 6ms/step - loss: 6.8013 - val_loss: 52.5506 - lr: 7.5000e-04\n",
            "Epoch 370/2000\n",
            "25/25 [==============================] - 0s 4ms/step - loss: 5.5869 - val_loss: 71.4617 - lr: 7.5000e-04\n",
            "Epoch 371/2000\n",
            "25/25 [==============================] - 0s 5ms/step - loss: 6.8798 - val_loss: 46.2364 - lr: 7.5000e-04\n",
            "Epoch 372/2000\n",
            "25/25 [==============================] - 0s 5ms/step - loss: 10.0047 - val_loss: 33.4098 - lr: 7.5000e-04\n",
            "Epoch 373/2000\n",
            "25/25 [==============================] - 0s 6ms/step - loss: 7.1043 - val_loss: 53.2455 - lr: 7.5000e-04\n",
            "Epoch 374/2000\n",
            "25/25 [==============================] - 0s 5ms/step - loss: 4.3899 - val_loss: 41.7466 - lr: 7.5000e-04\n",
            "Epoch 375/2000\n",
            "25/25 [==============================] - 0s 5ms/step - loss: 8.2505 - val_loss: 52.8110 - lr: 7.5000e-04\n",
            "Epoch 376/2000\n",
            "25/25 [==============================] - 0s 5ms/step - loss: 7.1342 - val_loss: 44.1544 - lr: 7.5000e-04\n",
            "Epoch 377/2000\n",
            "25/25 [==============================] - 0s 5ms/step - loss: 8.4937 - val_loss: 70.7912 - lr: 7.5000e-04\n",
            "Epoch 378/2000\n",
            "25/25 [==============================] - 0s 5ms/step - loss: 9.7673 - val_loss: 59.5549 - lr: 7.5000e-04\n",
            "Epoch 379/2000\n",
            "25/25 [==============================] - 0s 5ms/step - loss: 5.8952 - val_loss: 49.6719 - lr: 7.5000e-04\n",
            "Epoch 380/2000\n",
            "25/25 [==============================] - 0s 5ms/step - loss: 6.4456 - val_loss: 64.5425 - lr: 7.5000e-04\n",
            "Epoch 381/2000\n",
            "25/25 [==============================] - 0s 5ms/step - loss: 6.1656 - val_loss: 43.3552 - lr: 7.5000e-04\n",
            "Epoch 382/2000\n",
            "25/25 [==============================] - 0s 5ms/step - loss: 11.8545 - val_loss: 28.9625 - lr: 7.5000e-04\n",
            "Epoch 383/2000\n",
            "25/25 [==============================] - 0s 5ms/step - loss: 9.5718 - val_loss: 38.8115 - lr: 7.5000e-04\n",
            "Epoch 384/2000\n",
            "25/25 [==============================] - 0s 5ms/step - loss: 7.6074 - val_loss: 43.1658 - lr: 7.5000e-04\n",
            "Epoch 385/2000\n",
            "25/25 [==============================] - 0s 5ms/step - loss: 6.3835 - val_loss: 42.3824 - lr: 7.5000e-04\n",
            "Epoch 386/2000\n",
            "25/25 [==============================] - 0s 4ms/step - loss: 5.5698 - val_loss: 47.8551 - lr: 7.5000e-04\n",
            "Epoch 387/2000\n",
            "25/25 [==============================] - 0s 5ms/step - loss: 5.9471 - val_loss: 76.5743 - lr: 7.5000e-04\n",
            "Epoch 388/2000\n",
            "25/25 [==============================] - 0s 5ms/step - loss: 7.7349 - val_loss: 57.2125 - lr: 7.5000e-04\n",
            "Epoch 389/2000\n",
            "25/25 [==============================] - 0s 5ms/step - loss: 6.0775 - val_loss: 43.5611 - lr: 7.5000e-04\n",
            "Epoch 390/2000\n",
            "25/25 [==============================] - 0s 5ms/step - loss: 8.1881 - val_loss: 73.7068 - lr: 7.5000e-04\n",
            "Epoch 391/2000\n",
            "25/25 [==============================] - 0s 5ms/step - loss: 8.3278 - val_loss: 52.0372 - lr: 7.5000e-04\n",
            "Epoch 392/2000\n",
            "25/25 [==============================] - 0s 5ms/step - loss: 3.9432 - val_loss: 55.0259 - lr: 7.5000e-04\n",
            "Epoch 393/2000\n",
            "25/25 [==============================] - 0s 5ms/step - loss: 6.1719 - val_loss: 50.9663 - lr: 7.5000e-04\n",
            "Epoch 394/2000\n",
            "25/25 [==============================] - 0s 4ms/step - loss: 6.2914 - val_loss: 41.4724 - lr: 7.5000e-04\n",
            "Epoch 395/2000\n",
            "25/25 [==============================] - 0s 5ms/step - loss: 9.1039 - val_loss: 49.6854 - lr: 7.5000e-04\n",
            "Epoch 396/2000\n",
            "25/25 [==============================] - 0s 5ms/step - loss: 4.4836 - val_loss: 38.2777 - lr: 7.5000e-04\n",
            "Epoch 397/2000\n",
            "25/25 [==============================] - 0s 5ms/step - loss: 7.6721 - val_loss: 73.4342 - lr: 7.5000e-04\n",
            "Epoch 398/2000\n",
            "25/25 [==============================] - 0s 5ms/step - loss: 3.9297 - val_loss: 45.1336 - lr: 7.5000e-04\n",
            "Epoch 399/2000\n",
            "25/25 [==============================] - 0s 5ms/step - loss: 9.2160 - val_loss: 47.1696 - lr: 7.5000e-04\n",
            "Epoch 400/2000\n",
            "25/25 [==============================] - 0s 5ms/step - loss: 4.7006 - val_loss: 42.2409 - lr: 7.5000e-04\n",
            "Epoch 401/2000\n",
            "25/25 [==============================] - 0s 5ms/step - loss: 7.7058 - val_loss: 59.8035 - lr: 7.5000e-04\n",
            "Epoch 402/2000\n",
            "25/25 [==============================] - 0s 5ms/step - loss: 6.7569 - val_loss: 52.8624 - lr: 7.5000e-04\n",
            "Epoch 403/2000\n",
            "25/25 [==============================] - 0s 4ms/step - loss: 6.6797 - val_loss: 69.5066 - lr: 7.5000e-04\n",
            "Epoch 404/2000\n",
            "25/25 [==============================] - 0s 5ms/step - loss: 3.7479 - val_loss: 46.8751 - lr: 7.5000e-04\n",
            "Epoch 405/2000\n",
            "25/25 [==============================] - 0s 5ms/step - loss: 2.9311 - val_loss: 51.1934 - lr: 7.5000e-04\n",
            "Epoch 406/2000\n",
            "25/25 [==============================] - 0s 5ms/step - loss: 9.9628 - val_loss: 96.8417 - lr: 7.5000e-04\n",
            "Epoch 407/2000\n",
            "25/25 [==============================] - 0s 5ms/step - loss: 3.0453 - val_loss: 65.2467 - lr: 7.5000e-04\n",
            "Epoch 408/2000\n",
            "25/25 [==============================] - 0s 5ms/step - loss: 8.0995 - val_loss: 75.0715 - lr: 7.5000e-04\n",
            "Epoch 409/2000\n",
            "25/25 [==============================] - 0s 4ms/step - loss: 9.8946 - val_loss: 40.7875 - lr: 7.5000e-04\n",
            "Epoch 410/2000\n",
            "25/25 [==============================] - 0s 5ms/step - loss: 7.3150 - val_loss: 63.2735 - lr: 7.5000e-04\n",
            "Epoch 411/2000\n",
            "25/25 [==============================] - 0s 5ms/step - loss: 8.2764 - val_loss: 71.8413 - lr: 7.5000e-04\n",
            "Epoch 412/2000\n",
            "25/25 [==============================] - 0s 5ms/step - loss: 5.2943 - val_loss: 44.1392 - lr: 7.5000e-04\n",
            "Epoch 413/2000\n",
            "25/25 [==============================] - 0s 5ms/step - loss: 7.8032 - val_loss: 54.7238 - lr: 7.5000e-04\n",
            "Epoch 414/2000\n",
            "25/25 [==============================] - 0s 4ms/step - loss: 4.2160 - val_loss: 50.7136 - lr: 7.5000e-04\n",
            "Epoch 415/2000\n",
            "25/25 [==============================] - 0s 5ms/step - loss: 7.5164 - val_loss: 37.3033 - lr: 7.5000e-04\n",
            "Epoch 416/2000\n",
            "25/25 [==============================] - 0s 5ms/step - loss: 8.0594 - val_loss: 65.3358 - lr: 7.5000e-04\n",
            "Epoch 417/2000\n",
            "25/25 [==============================] - 0s 5ms/step - loss: 4.7463 - val_loss: 56.4747 - lr: 7.5000e-04\n",
            "Epoch 418/2000\n",
            "25/25 [==============================] - 0s 5ms/step - loss: 9.4650 - val_loss: 54.9529 - lr: 7.5000e-04\n",
            "Epoch 419/2000\n",
            "25/25 [==============================] - 0s 5ms/step - loss: 7.6338 - val_loss: 50.4814 - lr: 7.5000e-04\n",
            "Epoch 420/2000\n",
            "25/25 [==============================] - 0s 5ms/step - loss: 6.1581 - val_loss: 49.6415 - lr: 7.5000e-04\n",
            "Epoch 421/2000\n",
            "25/25 [==============================] - 0s 5ms/step - loss: 4.9889 - val_loss: 56.5614 - lr: 7.5000e-04\n",
            "Epoch 422/2000\n",
            "25/25 [==============================] - 0s 5ms/step - loss: 7.8969 - val_loss: 42.9764 - lr: 7.5000e-04\n",
            "Epoch 423/2000\n",
            "25/25 [==============================] - 0s 5ms/step - loss: 7.1060 - val_loss: 46.7423 - lr: 7.5000e-04\n",
            "Epoch 424/2000\n",
            "25/25 [==============================] - 0s 4ms/step - loss: 5.8724 - val_loss: 58.7781 - lr: 7.5000e-04\n",
            "Epoch 425/2000\n",
            "25/25 [==============================] - 0s 5ms/step - loss: 5.4150 - val_loss: 43.0180 - lr: 7.5000e-04\n",
            "Epoch 426/2000\n",
            "25/25 [==============================] - 0s 5ms/step - loss: 3.6920 - val_loss: 42.6461 - lr: 7.5000e-04\n",
            "Epoch 427/2000\n",
            "25/25 [==============================] - 0s 5ms/step - loss: 4.1498 - val_loss: 67.9438 - lr: 7.5000e-04\n",
            "Epoch 428/2000\n",
            "25/25 [==============================] - 0s 5ms/step - loss: 6.5258 - val_loss: 45.3217 - lr: 7.5000e-04\n",
            "Epoch 429/2000\n",
            "25/25 [==============================] - 0s 5ms/step - loss: 4.3750 - val_loss: 43.0725 - lr: 7.5000e-04\n",
            "Epoch 430/2000\n",
            "25/25 [==============================] - 0s 5ms/step - loss: 5.0994 - val_loss: 52.1998 - lr: 7.5000e-04\n",
            "Epoch 431/2000\n",
            "25/25 [==============================] - 0s 5ms/step - loss: 4.7891 - val_loss: 44.9051 - lr: 7.5000e-04\n",
            "Epoch 432/2000\n",
            "25/25 [==============================] - 0s 5ms/step - loss: 7.3326 - val_loss: 65.5512 - lr: 7.5000e-04\n",
            "Epoch 433/2000\n",
            "25/25 [==============================] - 0s 5ms/step - loss: 7.0933 - val_loss: 31.2439 - lr: 7.5000e-04\n",
            "Epoch 434/2000\n",
            "25/25 [==============================] - 0s 5ms/step - loss: 4.9562 - val_loss: 46.5528 - lr: 7.5000e-04\n",
            "Epoch 435/2000\n",
            "25/25 [==============================] - 0s 5ms/step - loss: 4.2146 - val_loss: 55.7676 - lr: 7.5000e-04\n",
            "Epoch 436/2000\n",
            "25/25 [==============================] - 0s 5ms/step - loss: 3.7711 - val_loss: 51.8075 - lr: 7.5000e-04\n",
            "Epoch 437/2000\n",
            "25/25 [==============================] - 0s 6ms/step - loss: 5.7538 - val_loss: 43.5233 - lr: 7.5000e-04\n",
            "Epoch 438/2000\n",
            "25/25 [==============================] - 0s 5ms/step - loss: 8.7899 - val_loss: 40.1825 - lr: 7.5000e-04\n",
            "Epoch 439/2000\n",
            "25/25 [==============================] - 0s 4ms/step - loss: 3.8681 - val_loss: 43.4197 - lr: 7.5000e-04\n",
            "Epoch 440/2000\n",
            "25/25 [==============================] - 0s 5ms/step - loss: 5.1343 - val_loss: 53.9914 - lr: 7.5000e-04\n",
            "Epoch 441/2000\n",
            "25/25 [==============================] - 0s 5ms/step - loss: 5.3352 - val_loss: 43.0401 - lr: 7.5000e-04\n",
            "Epoch 442/2000\n",
            "25/25 [==============================] - 0s 5ms/step - loss: 6.8580 - val_loss: 56.6684 - lr: 7.5000e-04\n",
            "Epoch 443/2000\n",
            "25/25 [==============================] - 0s 5ms/step - loss: 6.5404 - val_loss: 42.1509 - lr: 7.5000e-04\n",
            "Epoch 444/2000\n",
            "25/25 [==============================] - 0s 5ms/step - loss: 5.2068 - val_loss: 54.2162 - lr: 7.5000e-04\n",
            "Epoch 445/2000\n",
            "25/25 [==============================] - 0s 5ms/step - loss: 6.7015 - val_loss: 46.6052 - lr: 7.5000e-04\n",
            "Epoch 446/2000\n",
            "25/25 [==============================] - 0s 6ms/step - loss: 4.2227 - val_loss: 35.0486 - lr: 7.5000e-04\n",
            "Epoch 447/2000\n",
            "25/25 [==============================] - 0s 5ms/step - loss: 6.4676 - val_loss: 38.2133 - lr: 7.5000e-04\n",
            "Epoch 448/2000\n",
            "25/25 [==============================] - 0s 5ms/step - loss: 4.1492 - val_loss: 49.0436 - lr: 7.5000e-04\n",
            "Epoch 449/2000\n",
            "25/25 [==============================] - 0s 5ms/step - loss: 6.3327 - val_loss: 38.7060 - lr: 7.5000e-04\n",
            "Epoch 450/2000\n",
            "25/25 [==============================] - 0s 5ms/step - loss: 9.1995 - val_loss: 44.0985 - lr: 7.5000e-04\n",
            "Epoch 451/2000\n",
            "25/25 [==============================] - 0s 5ms/step - loss: 5.9104 - val_loss: 66.2847 - lr: 7.5000e-04\n",
            "Epoch 452/2000\n",
            "25/25 [==============================] - 0s 6ms/step - loss: 6.6820 - val_loss: 39.4920 - lr: 7.5000e-04\n",
            "Epoch 453/2000\n",
            "25/25 [==============================] - 0s 5ms/step - loss: 6.6372 - val_loss: 53.6896 - lr: 7.5000e-04\n",
            "Epoch 454/2000\n",
            "25/25 [==============================] - 0s 5ms/step - loss: 4.5915 - val_loss: 61.3020 - lr: 7.5000e-04\n",
            "Epoch 455/2000\n",
            "25/25 [==============================] - 0s 5ms/step - loss: 5.0254 - val_loss: 41.6898 - lr: 7.5000e-04\n",
            "Epoch 456/2000\n",
            "25/25 [==============================] - 0s 5ms/step - loss: 5.9599 - val_loss: 55.1075 - lr: 7.5000e-04\n",
            "Epoch 457/2000\n",
            "25/25 [==============================] - 0s 5ms/step - loss: 6.8692 - val_loss: 60.0849 - lr: 7.5000e-04\n",
            "Epoch 458/2000\n",
            "25/25 [==============================] - 0s 5ms/step - loss: 6.3051 - val_loss: 42.3115 - lr: 7.5000e-04\n",
            "Epoch 459/2000\n",
            "25/25 [==============================] - 0s 5ms/step - loss: 3.4793 - val_loss: 39.0977 - lr: 7.5000e-04\n",
            "Epoch 460/2000\n",
            "25/25 [==============================] - 0s 5ms/step - loss: 5.2107 - val_loss: 54.7510 - lr: 7.5000e-04\n",
            "Epoch 461/2000\n",
            "25/25 [==============================] - 0s 5ms/step - loss: 6.1445 - val_loss: 45.8677 - lr: 7.5000e-04\n",
            "Epoch 462/2000\n",
            "25/25 [==============================] - 0s 5ms/step - loss: 8.2793 - val_loss: 42.3077 - lr: 7.5000e-04\n",
            "Epoch 463/2000\n",
            "25/25 [==============================] - 0s 5ms/step - loss: 2.3916 - val_loss: 55.4993 - lr: 7.5000e-04\n",
            "Epoch 464/2000\n",
            "25/25 [==============================] - 0s 6ms/step - loss: 4.0596 - val_loss: 55.6701 - lr: 7.5000e-04\n",
            "Epoch 465/2000\n",
            "25/25 [==============================] - 0s 5ms/step - loss: 6.4323 - val_loss: 47.4913 - lr: 7.5000e-04\n",
            "Epoch 466/2000\n",
            "25/25 [==============================] - 0s 5ms/step - loss: 7.6194 - val_loss: 44.5403 - lr: 7.5000e-04\n",
            "Epoch 467/2000\n",
            "25/25 [==============================] - 0s 6ms/step - loss: 7.4031 - val_loss: 44.5483 - lr: 7.5000e-04\n",
            "Epoch 468/2000\n",
            "25/25 [==============================] - 0s 5ms/step - loss: 5.0309 - val_loss: 46.6976 - lr: 7.5000e-04\n",
            "Epoch 469/2000\n",
            "25/25 [==============================] - 0s 5ms/step - loss: 7.6394 - val_loss: 40.6349 - lr: 7.5000e-04\n",
            "Epoch 470/2000\n",
            "25/25 [==============================] - 0s 6ms/step - loss: 7.3307 - val_loss: 44.5619 - lr: 7.5000e-04\n",
            "Epoch 471/2000\n",
            "25/25 [==============================] - 0s 5ms/step - loss: 6.1829 - val_loss: 55.8184 - lr: 7.5000e-04\n",
            "Epoch 472/2000\n",
            "25/25 [==============================] - 0s 5ms/step - loss: 4.1910 - val_loss: 47.9770 - lr: 7.5000e-04\n",
            "Epoch 473/2000\n",
            "25/25 [==============================] - 0s 6ms/step - loss: 3.6776 - val_loss: 50.1673 - lr: 7.5000e-04\n",
            "Epoch 474/2000\n",
            "25/25 [==============================] - 0s 5ms/step - loss: 3.9196 - val_loss: 39.5365 - lr: 7.5000e-04\n",
            "Epoch 475/2000\n",
            "25/25 [==============================] - 0s 5ms/step - loss: 5.6954 - val_loss: 59.8279 - lr: 7.5000e-04\n",
            "Epoch 476/2000\n",
            "25/25 [==============================] - 0s 5ms/step - loss: 7.8757 - val_loss: 36.5782 - lr: 7.5000e-04\n",
            "Epoch 477/2000\n",
            "25/25 [==============================] - 0s 5ms/step - loss: 4.4945 - val_loss: 49.2395 - lr: 7.5000e-04\n",
            "Epoch 478/2000\n",
            "25/25 [==============================] - 0s 5ms/step - loss: 5.1212 - val_loss: 44.5389 - lr: 7.5000e-04\n",
            "Epoch 479/2000\n",
            "25/25 [==============================] - 0s 5ms/step - loss: 5.0961 - val_loss: 39.4499 - lr: 7.5000e-04\n",
            "Epoch 480/2000\n",
            "23/25 [==========================>...] - ETA: 0s - loss: 7.8095 \n",
            "Epoch 480: ReduceLROnPlateau reducing learning rate to 0.0005625000048894435.\n",
            "25/25 [==============================] - 0s 5ms/step - loss: 7.4822 - val_loss: 56.4490 - lr: 7.5000e-04\n",
            "Epoch 481/2000\n",
            "25/25 [==============================] - 0s 6ms/step - loss: 5.6560 - val_loss: 56.7766 - lr: 5.6250e-04\n",
            "Epoch 482/2000\n",
            "25/25 [==============================] - 0s 5ms/step - loss: 5.5108 - val_loss: 48.3392 - lr: 5.6250e-04\n",
            "Epoch 483/2000\n",
            "25/25 [==============================] - 0s 5ms/step - loss: 3.7598 - val_loss: 36.6805 - lr: 5.6250e-04\n",
            "Epoch 484/2000\n",
            "25/25 [==============================] - 0s 5ms/step - loss: 5.6235 - val_loss: 66.4469 - lr: 5.6250e-04\n",
            "Epoch 485/2000\n",
            "25/25 [==============================] - 0s 5ms/step - loss: 4.7649 - val_loss: 49.4229 - lr: 5.6250e-04\n",
            "Epoch 486/2000\n",
            "25/25 [==============================] - 0s 6ms/step - loss: 4.5836 - val_loss: 44.4083 - lr: 5.6250e-04\n",
            "Epoch 487/2000\n",
            "25/25 [==============================] - 0s 5ms/step - loss: 5.2137 - val_loss: 47.2060 - lr: 5.6250e-04\n",
            "Epoch 488/2000\n",
            "25/25 [==============================] - 0s 5ms/step - loss: 3.1428 - val_loss: 47.7859 - lr: 5.6250e-04\n",
            "Epoch 489/2000\n",
            "25/25 [==============================] - 0s 5ms/step - loss: 6.3036 - val_loss: 34.2337 - lr: 5.6250e-04\n",
            "Epoch 490/2000\n",
            "25/25 [==============================] - 0s 5ms/step - loss: 5.7403 - val_loss: 43.6511 - lr: 5.6250e-04\n",
            "Epoch 491/2000\n",
            "25/25 [==============================] - 0s 5ms/step - loss: 6.6518 - val_loss: 46.2806 - lr: 5.6250e-04\n",
            "Epoch 492/2000\n",
            "25/25 [==============================] - 0s 5ms/step - loss: 8.6060 - val_loss: 52.0939 - lr: 5.6250e-04\n",
            "Epoch 493/2000\n",
            "25/25 [==============================] - 0s 5ms/step - loss: 5.1685 - val_loss: 36.1212 - lr: 5.6250e-04\n",
            "Epoch 494/2000\n",
            "25/25 [==============================] - 0s 6ms/step - loss: 4.0879 - val_loss: 46.8790 - lr: 5.6250e-04\n",
            "Epoch 495/2000\n",
            "25/25 [==============================] - 0s 5ms/step - loss: 8.2339 - val_loss: 47.0822 - lr: 5.6250e-04\n",
            "Epoch 496/2000\n",
            "25/25 [==============================] - 0s 6ms/step - loss: 4.7301 - val_loss: 41.4638 - lr: 5.6250e-04\n",
            "Epoch 497/2000\n",
            "25/25 [==============================] - 0s 5ms/step - loss: 4.9628 - val_loss: 43.6613 - lr: 5.6250e-04\n",
            "Epoch 498/2000\n",
            "25/25 [==============================] - 0s 5ms/step - loss: 6.7403 - val_loss: 52.4818 - lr: 5.6250e-04\n",
            "Epoch 499/2000\n",
            "25/25 [==============================] - 0s 5ms/step - loss: 3.1884 - val_loss: 46.5352 - lr: 5.6250e-04\n",
            "Epoch 500/2000\n",
            "25/25 [==============================] - 0s 5ms/step - loss: 7.3849 - val_loss: 51.2076 - lr: 5.6250e-04\n",
            "Epoch 501/2000\n",
            "25/25 [==============================] - 0s 5ms/step - loss: 4.8069 - val_loss: 70.4207 - lr: 5.6250e-04\n",
            "Epoch 502/2000\n",
            "25/25 [==============================] - 0s 5ms/step - loss: 5.8645 - val_loss: 61.8172 - lr: 5.6250e-04\n",
            "Epoch 503/2000\n",
            "25/25 [==============================] - 0s 5ms/step - loss: 5.1489 - val_loss: 72.0406 - lr: 5.6250e-04\n",
            "Epoch 504/2000\n",
            "25/25 [==============================] - 0s 5ms/step - loss: 5.7327 - val_loss: 38.5884 - lr: 5.6250e-04\n",
            "Epoch 505/2000\n",
            "25/25 [==============================] - 0s 5ms/step - loss: 4.1105 - val_loss: 57.8850 - lr: 5.6250e-04\n",
            "Epoch 506/2000\n",
            "25/25 [==============================] - 0s 5ms/step - loss: 4.5293 - val_loss: 40.9864 - lr: 5.6250e-04\n",
            "Epoch 507/2000\n",
            "25/25 [==============================] - 0s 5ms/step - loss: 5.4284 - val_loss: 54.1073 - lr: 5.6250e-04\n",
            "Epoch 508/2000\n",
            "25/25 [==============================] - 0s 5ms/step - loss: 2.7518 - val_loss: 46.1294 - lr: 5.6250e-04\n",
            "Epoch 509/2000\n",
            "25/25 [==============================] - 0s 6ms/step - loss: 4.8571 - val_loss: 42.9830 - lr: 5.6250e-04\n",
            "Epoch 510/2000\n",
            "25/25 [==============================] - 0s 5ms/step - loss: 3.7787 - val_loss: 52.7236 - lr: 5.6250e-04\n",
            "Epoch 511/2000\n",
            "25/25 [==============================] - 0s 5ms/step - loss: 6.1931 - val_loss: 36.4462 - lr: 5.6250e-04\n",
            "Epoch 512/2000\n",
            "25/25 [==============================] - 0s 5ms/step - loss: 3.4386 - val_loss: 47.9927 - lr: 5.6250e-04\n",
            "Epoch 513/2000\n",
            "25/25 [==============================] - 0s 5ms/step - loss: 7.4863 - val_loss: 32.6644 - lr: 5.6250e-04\n",
            "Epoch 514/2000\n",
            "25/25 [==============================] - 0s 5ms/step - loss: 5.1360 - val_loss: 51.1297 - lr: 5.6250e-04\n",
            "Epoch 515/2000\n",
            "25/25 [==============================] - 0s 5ms/step - loss: 2.7975 - val_loss: 34.1073 - lr: 5.6250e-04\n",
            "Epoch 516/2000\n",
            "25/25 [==============================] - 0s 5ms/step - loss: 4.6629 - val_loss: 58.7595 - lr: 5.6250e-04\n",
            "Epoch 517/2000\n",
            "25/25 [==============================] - 0s 6ms/step - loss: 10.3469 - val_loss: 40.9370 - lr: 5.6250e-04\n",
            "Epoch 518/2000\n",
            "25/25 [==============================] - 0s 5ms/step - loss: 5.1396 - val_loss: 45.8047 - lr: 5.6250e-04\n",
            "Epoch 519/2000\n",
            "25/25 [==============================] - 0s 5ms/step - loss: 4.0504 - val_loss: 51.0135 - lr: 5.6250e-04\n",
            "Epoch 520/2000\n",
            "25/25 [==============================] - 0s 5ms/step - loss: 2.4846 - val_loss: 40.1953 - lr: 5.6250e-04\n",
            "Epoch 521/2000\n",
            "25/25 [==============================] - 0s 5ms/step - loss: 4.8770 - val_loss: 45.9622 - lr: 5.6250e-04\n",
            "Epoch 522/2000\n",
            "25/25 [==============================] - 0s 5ms/step - loss: 3.0977 - val_loss: 43.2199 - lr: 5.6250e-04\n",
            "Epoch 523/2000\n",
            "25/25 [==============================] - 0s 6ms/step - loss: 3.2031 - val_loss: 40.7527 - lr: 5.6250e-04\n",
            "Epoch 524/2000\n",
            "25/25 [==============================] - 0s 6ms/step - loss: 6.6070 - val_loss: 60.4340 - lr: 5.6250e-04\n",
            "Epoch 525/2000\n",
            "25/25 [==============================] - 0s 5ms/step - loss: 4.8983 - val_loss: 44.2565 - lr: 5.6250e-04\n",
            "Epoch 526/2000\n",
            "25/25 [==============================] - 0s 5ms/step - loss: 6.6624 - val_loss: 37.7790 - lr: 5.6250e-04\n",
            "Epoch 527/2000\n",
            "25/25 [==============================] - 0s 6ms/step - loss: 4.7933 - val_loss: 54.2690 - lr: 5.6250e-04\n",
            "Epoch 528/2000\n",
            "25/25 [==============================] - 0s 5ms/step - loss: 4.2726 - val_loss: 45.5841 - lr: 5.6250e-04\n",
            "Epoch 529/2000\n",
            "25/25 [==============================] - 0s 5ms/step - loss: 4.7639 - val_loss: 29.3955 - lr: 5.6250e-04\n",
            "Epoch 530/2000\n",
            "25/25 [==============================] - 0s 5ms/step - loss: 6.4124 - val_loss: 56.8912 - lr: 5.6250e-04\n",
            "Epoch 531/2000\n",
            "25/25 [==============================] - 0s 5ms/step - loss: 5.2362 - val_loss: 50.1883 - lr: 5.6250e-04\n",
            "Epoch 532/2000\n",
            "25/25 [==============================] - 0s 6ms/step - loss: 5.8753 - val_loss: 40.4008 - lr: 5.6250e-04\n",
            "Epoch 533/2000\n",
            "25/25 [==============================] - 0s 6ms/step - loss: 4.6188 - val_loss: 49.4480 - lr: 5.6250e-04\n",
            "Epoch 534/2000\n",
            "25/25 [==============================] - 0s 5ms/step - loss: 2.3915 - val_loss: 48.1890 - lr: 5.6250e-04\n",
            "Epoch 535/2000\n",
            "25/25 [==============================] - 0s 5ms/step - loss: 7.7597 - val_loss: 42.3913 - lr: 5.6250e-04\n",
            "Epoch 536/2000\n",
            "25/25 [==============================] - 0s 5ms/step - loss: 5.1179 - val_loss: 63.1367 - lr: 5.6250e-04\n",
            "Epoch 537/2000\n",
            "25/25 [==============================] - 0s 5ms/step - loss: 3.1675 - val_loss: 40.3377 - lr: 5.6250e-04\n",
            "Epoch 538/2000\n",
            "25/25 [==============================] - 0s 5ms/step - loss: 4.4169 - val_loss: 37.8550 - lr: 5.6250e-04\n",
            "Epoch 539/2000\n",
            "25/25 [==============================] - 0s 5ms/step - loss: 4.3059 - val_loss: 43.7868 - lr: 5.6250e-04\n",
            "Epoch 540/2000\n",
            "25/25 [==============================] - 0s 5ms/step - loss: 4.1237 - val_loss: 50.0176 - lr: 5.6250e-04\n",
            "Epoch 541/2000\n",
            "25/25 [==============================] - 0s 5ms/step - loss: 3.6315 - val_loss: 41.8388 - lr: 5.6250e-04\n",
            "Epoch 542/2000\n",
            "25/25 [==============================] - 0s 5ms/step - loss: 3.8337 - val_loss: 39.6323 - lr: 5.6250e-04\n",
            "Epoch 543/2000\n",
            "25/25 [==============================] - 0s 5ms/step - loss: 3.8834 - val_loss: 40.6451 - lr: 5.6250e-04\n",
            "Epoch 544/2000\n",
            "25/25 [==============================] - 0s 6ms/step - loss: 2.3954 - val_loss: 44.7145 - lr: 5.6250e-04\n",
            "Epoch 545/2000\n",
            "25/25 [==============================] - 0s 5ms/step - loss: 3.8357 - val_loss: 42.7764 - lr: 5.6250e-04\n",
            "Epoch 546/2000\n",
            "25/25 [==============================] - 0s 5ms/step - loss: 3.6899 - val_loss: 43.7982 - lr: 5.6250e-04\n",
            "Epoch 547/2000\n",
            "25/25 [==============================] - 0s 6ms/step - loss: 4.2882 - val_loss: 58.1428 - lr: 5.6250e-04\n",
            "Epoch 548/2000\n",
            "25/25 [==============================] - 0s 5ms/step - loss: 2.6998 - val_loss: 33.9114 - lr: 5.6250e-04\n",
            "Epoch 549/2000\n",
            "25/25 [==============================] - 0s 5ms/step - loss: 4.4298 - val_loss: 35.8460 - lr: 5.6250e-04\n",
            "Epoch 550/2000\n",
            "25/25 [==============================] - 0s 5ms/step - loss: 3.8150 - val_loss: 41.8390 - lr: 5.6250e-04\n",
            "Epoch 551/2000\n",
            "25/25 [==============================] - 0s 5ms/step - loss: 6.3609 - val_loss: 62.9305 - lr: 5.6250e-04\n",
            "Epoch 552/2000\n",
            "25/25 [==============================] - 0s 5ms/step - loss: 4.0518 - val_loss: 37.9992 - lr: 5.6250e-04\n",
            "Epoch 553/2000\n",
            "25/25 [==============================] - 0s 5ms/step - loss: 1.4264 - val_loss: 38.7504 - lr: 5.6250e-04\n",
            "Epoch 554/2000\n",
            "25/25 [==============================] - 0s 5ms/step - loss: 5.6915 - val_loss: 33.4027 - lr: 5.6250e-04\n",
            "Epoch 555/2000\n",
            "25/25 [==============================] - 0s 5ms/step - loss: 2.9486 - val_loss: 55.5528 - lr: 5.6250e-04\n",
            "Epoch 556/2000\n",
            "25/25 [==============================] - 0s 5ms/step - loss: 5.2118 - val_loss: 51.2390 - lr: 5.6250e-04\n",
            "Epoch 557/2000\n",
            "25/25 [==============================] - 0s 5ms/step - loss: 4.3623 - val_loss: 70.8956 - lr: 5.6250e-04\n",
            "Epoch 558/2000\n",
            "25/25 [==============================] - 0s 5ms/step - loss: 3.8845 - val_loss: 46.6657 - lr: 5.6250e-04\n",
            "Epoch 559/2000\n",
            "25/25 [==============================] - 0s 6ms/step - loss: 4.3756 - val_loss: 52.7805 - lr: 5.6250e-04\n",
            "Epoch 560/2000\n",
            "25/25 [==============================] - 0s 5ms/step - loss: 4.2779 - val_loss: 50.2590 - lr: 5.6250e-04\n",
            "Epoch 561/2000\n",
            "25/25 [==============================] - 0s 5ms/step - loss: 7.0963 - val_loss: 36.5558 - lr: 5.6250e-04\n",
            "Epoch 562/2000\n",
            "25/25 [==============================] - 0s 5ms/step - loss: 6.2604 - val_loss: 44.8989 - lr: 5.6250e-04\n",
            "Epoch 563/2000\n",
            "25/25 [==============================] - 0s 5ms/step - loss: 4.7206 - val_loss: 46.5454 - lr: 5.6250e-04\n",
            "Epoch 564/2000\n",
            "25/25 [==============================] - 0s 5ms/step - loss: 4.9426 - val_loss: 55.5729 - lr: 5.6250e-04\n",
            "Epoch 565/2000\n",
            "25/25 [==============================] - 0s 5ms/step - loss: 2.8113 - val_loss: 45.5539 - lr: 5.6250e-04\n",
            "Epoch 566/2000\n",
            "25/25 [==============================] - 0s 6ms/step - loss: 4.8694 - val_loss: 49.9029 - lr: 5.6250e-04\n",
            "Epoch 567/2000\n",
            "25/25 [==============================] - 0s 6ms/step - loss: 2.7034 - val_loss: 39.7769 - lr: 5.6250e-04\n",
            "Epoch 568/2000\n",
            "25/25 [==============================] - 0s 5ms/step - loss: 5.7085 - val_loss: 57.6108 - lr: 5.6250e-04\n",
            "Epoch 569/2000\n",
            "25/25 [==============================] - 0s 5ms/step - loss: 8.1397 - val_loss: 36.3046 - lr: 5.6250e-04\n",
            "Epoch 570/2000\n",
            "25/25 [==============================] - 0s 5ms/step - loss: 3.4719 - val_loss: 45.8574 - lr: 5.6250e-04\n",
            "Epoch 571/2000\n",
            "25/25 [==============================] - 0s 5ms/step - loss: 4.8352 - val_loss: 43.7347 - lr: 5.6250e-04\n",
            "Epoch 572/2000\n",
            "25/25 [==============================] - 0s 5ms/step - loss: 1.5367 - val_loss: 52.5132 - lr: 5.6250e-04\n",
            "Epoch 573/2000\n",
            "25/25 [==============================] - 0s 5ms/step - loss: 5.3222 - val_loss: 31.4319 - lr: 5.6250e-04\n",
            "Epoch 574/2000\n",
            "25/25 [==============================] - 0s 5ms/step - loss: 6.2037 - val_loss: 55.8797 - lr: 5.6250e-04\n",
            "Epoch 575/2000\n",
            "25/25 [==============================] - 0s 6ms/step - loss: 4.1643 - val_loss: 50.4200 - lr: 5.6250e-04\n",
            "Epoch 576/2000\n",
            "25/25 [==============================] - 0s 5ms/step - loss: 5.9825 - val_loss: 59.7171 - lr: 5.6250e-04\n",
            "Epoch 577/2000\n",
            "25/25 [==============================] - 0s 5ms/step - loss: 3.6549 - val_loss: 45.5516 - lr: 5.6250e-04\n",
            "Epoch 578/2000\n",
            "25/25 [==============================] - 0s 5ms/step - loss: 5.5882 - val_loss: 41.4948 - lr: 5.6250e-04\n",
            "Epoch 579/2000\n",
            "25/25 [==============================] - 0s 5ms/step - loss: 2.9503 - val_loss: 46.8466 - lr: 5.6250e-04\n",
            "Epoch 580/2000\n",
            "25/25 [==============================] - 0s 5ms/step - loss: 6.0862 - val_loss: 37.5288 - lr: 5.6250e-04\n",
            "Epoch 581/2000\n",
            "25/25 [==============================] - 0s 5ms/step - loss: 4.7445 - val_loss: 45.5726 - lr: 5.6250e-04\n",
            "Epoch 582/2000\n",
            "25/25 [==============================] - 0s 6ms/step - loss: 2.9983 - val_loss: 48.3849 - lr: 5.6250e-04\n",
            "Epoch 583/2000\n",
            "25/25 [==============================] - 0s 5ms/step - loss: 5.1348 - val_loss: 47.7473 - lr: 5.6250e-04\n",
            "Epoch 584/2000\n",
            "25/25 [==============================] - 0s 5ms/step - loss: 4.7228 - val_loss: 58.7060 - lr: 5.6250e-04\n",
            "Epoch 585/2000\n",
            "25/25 [==============================] - 0s 5ms/step - loss: 4.6197 - val_loss: 40.5096 - lr: 5.6250e-04\n",
            "Epoch 586/2000\n",
            "25/25 [==============================] - 0s 5ms/step - loss: 2.9294 - val_loss: 39.4835 - lr: 5.6250e-04\n",
            "Epoch 587/2000\n",
            "25/25 [==============================] - 0s 6ms/step - loss: 4.0324 - val_loss: 52.1823 - lr: 5.6250e-04\n",
            "Epoch 588/2000\n",
            "25/25 [==============================] - 0s 5ms/step - loss: 4.2780 - val_loss: 36.5728 - lr: 5.6250e-04\n",
            "Epoch 589/2000\n",
            "25/25 [==============================] - 0s 5ms/step - loss: 4.2420 - val_loss: 42.3937 - lr: 5.6250e-04\n",
            "Epoch 590/2000\n",
            "25/25 [==============================] - 0s 6ms/step - loss: 4.8742 - val_loss: 37.0606 - lr: 5.6250e-04\n",
            "Epoch 591/2000\n",
            "25/25 [==============================] - 0s 5ms/step - loss: 5.6848 - val_loss: 46.2538 - lr: 5.6250e-04\n",
            "Epoch 592/2000\n",
            "25/25 [==============================] - 0s 5ms/step - loss: 3.5740 - val_loss: 48.2104 - lr: 5.6250e-04\n",
            "Epoch 593/2000\n",
            "25/25 [==============================] - 0s 5ms/step - loss: 4.4512 - val_loss: 39.8340 - lr: 5.6250e-04\n",
            "Epoch 594/2000\n",
            "25/25 [==============================] - 0s 5ms/step - loss: 4.5759 - val_loss: 43.6721 - lr: 5.6250e-04\n",
            "Epoch 595/2000\n",
            "25/25 [==============================] - 0s 5ms/step - loss: 3.9915 - val_loss: 48.6091 - lr: 5.6250e-04\n",
            "Epoch 596/2000\n",
            "25/25 [==============================] - 0s 5ms/step - loss: 2.9202 - val_loss: 51.6638 - lr: 5.6250e-04\n",
            "Epoch 597/2000\n",
            "25/25 [==============================] - 0s 6ms/step - loss: 5.0033 - val_loss: 43.2137 - lr: 5.6250e-04\n",
            "Epoch 598/2000\n",
            "25/25 [==============================] - 0s 5ms/step - loss: 2.9163 - val_loss: 37.9114 - lr: 5.6250e-04\n",
            "Epoch 599/2000\n",
            "25/25 [==============================] - 0s 6ms/step - loss: 3.5672 - val_loss: 42.2844 - lr: 5.6250e-04\n",
            "Epoch 600/2000\n",
            "25/25 [==============================] - 0s 5ms/step - loss: 9.0550 - val_loss: 48.3470 - lr: 5.6250e-04\n",
            "Epoch 601/2000\n",
            "25/25 [==============================] - 0s 5ms/step - loss: 3.5701 - val_loss: 45.1085 - lr: 5.6250e-04\n",
            "Epoch 602/2000\n",
            "25/25 [==============================] - 0s 5ms/step - loss: 3.3098 - val_loss: 36.9038 - lr: 5.6250e-04\n",
            "Epoch 603/2000\n",
            "25/25 [==============================] - 0s 6ms/step - loss: 1.1934 - val_loss: 42.8594 - lr: 5.6250e-04\n",
            "Epoch 604/2000\n",
            "25/25 [==============================] - 0s 5ms/step - loss: 3.7690 - val_loss: 57.5025 - lr: 5.6250e-04\n",
            "Epoch 605/2000\n",
            "25/25 [==============================] - 0s 5ms/step - loss: 2.4024 - val_loss: 48.6958 - lr: 5.6250e-04\n",
            "Epoch 606/2000\n",
            "25/25 [==============================] - 0s 5ms/step - loss: 3.2597 - val_loss: 46.9497 - lr: 5.6250e-04\n",
            "Epoch 607/2000\n",
            "25/25 [==============================] - 0s 6ms/step - loss: 3.7919 - val_loss: 38.9126 - lr: 5.6250e-04\n",
            "Epoch 608/2000\n",
            "25/25 [==============================] - 0s 5ms/step - loss: 3.6487 - val_loss: 32.3711 - lr: 5.6250e-04\n",
            "Epoch 609/2000\n",
            "25/25 [==============================] - 0s 6ms/step - loss: 3.5038 - val_loss: 36.2612 - lr: 5.6250e-04\n",
            "Epoch 610/2000\n",
            "25/25 [==============================] - 0s 5ms/step - loss: 3.0407 - val_loss: 29.7561 - lr: 5.6250e-04\n",
            "Epoch 611/2000\n",
            "25/25 [==============================] - 0s 5ms/step - loss: 3.5240 - val_loss: 39.8990 - lr: 5.6250e-04\n",
            "Epoch 612/2000\n",
            "25/25 [==============================] - 0s 5ms/step - loss: 4.2349 - val_loss: 47.0935 - lr: 5.6250e-04\n",
            "Epoch 613/2000\n",
            "25/25 [==============================] - 0s 6ms/step - loss: 4.6299 - val_loss: 34.6347 - lr: 5.6250e-04\n",
            "Epoch 614/2000\n",
            "25/25 [==============================] - 0s 5ms/step - loss: 3.5807 - val_loss: 48.7101 - lr: 5.6250e-04\n",
            "Epoch 615/2000\n",
            "25/25 [==============================] - 0s 5ms/step - loss: 2.7494 - val_loss: 32.9901 - lr: 5.6250e-04\n",
            "Epoch 616/2000\n",
            "25/25 [==============================] - 0s 6ms/step - loss: 3.9127 - val_loss: 41.1359 - lr: 5.6250e-04\n",
            "Epoch 617/2000\n",
            "25/25 [==============================] - 0s 6ms/step - loss: 6.9241 - val_loss: 37.4145 - lr: 5.6250e-04\n",
            "Epoch 618/2000\n",
            "25/25 [==============================] - 0s 5ms/step - loss: 4.3462 - val_loss: 62.4341 - lr: 5.6250e-04\n",
            "Epoch 619/2000\n",
            "25/25 [==============================] - 0s 5ms/step - loss: 7.4665 - val_loss: 55.3316 - lr: 5.6250e-04\n",
            "Epoch 620/2000\n",
            "25/25 [==============================] - 0s 5ms/step - loss: 4.3744 - val_loss: 38.2979 - lr: 5.6250e-04\n",
            "Epoch 621/2000\n",
            "25/25 [==============================] - 0s 5ms/step - loss: 2.9514 - val_loss: 41.0652 - lr: 5.6250e-04\n",
            "Epoch 622/2000\n",
            "25/25 [==============================] - 0s 6ms/step - loss: 6.4187 - val_loss: 38.6325 - lr: 5.6250e-04\n",
            "Epoch 623/2000\n",
            "25/25 [==============================] - 0s 5ms/step - loss: 1.8352 - val_loss: 41.4823 - lr: 5.6250e-04\n",
            "Epoch 624/2000\n",
            "25/25 [==============================] - 0s 5ms/step - loss: 3.0421 - val_loss: 32.9025 - lr: 5.6250e-04\n",
            "Epoch 625/2000\n",
            "25/25 [==============================] - 0s 5ms/step - loss: 4.3962 - val_loss: 32.7297 - lr: 5.6250e-04\n",
            "Epoch 626/2000\n",
            "25/25 [==============================] - 0s 5ms/step - loss: 4.7978 - val_loss: 50.2368 - lr: 5.6250e-04\n",
            "Epoch 627/2000\n",
            "25/25 [==============================] - 0s 5ms/step - loss: 2.1053 - val_loss: 36.1302 - lr: 5.6250e-04\n",
            "Epoch 628/2000\n",
            "25/25 [==============================] - 0s 5ms/step - loss: 2.9430 - val_loss: 38.7921 - lr: 5.6250e-04\n",
            "Epoch 629/2000\n",
            "25/25 [==============================] - 0s 6ms/step - loss: 4.2317 - val_loss: 54.0305 - lr: 5.6250e-04\n",
            "Epoch 630/2000\n",
            "25/25 [==============================] - 0s 5ms/step - loss: 3.4913 - val_loss: 39.4097 - lr: 5.6250e-04\n",
            "Epoch 631/2000\n",
            "25/25 [==============================] - 0s 6ms/step - loss: 5.1531 - val_loss: 57.0290 - lr: 5.6250e-04\n",
            "Epoch 632/2000\n",
            "25/25 [==============================] - 0s 6ms/step - loss: 5.9860 - val_loss: 38.5443 - lr: 5.6250e-04\n",
            "Epoch 633/2000\n",
            "25/25 [==============================] - 0s 5ms/step - loss: 2.3548 - val_loss: 48.0467 - lr: 5.6250e-04\n",
            "Epoch 634/2000\n",
            "25/25 [==============================] - 0s 6ms/step - loss: 2.3329 - val_loss: 35.7827 - lr: 5.6250e-04\n",
            "Epoch 635/2000\n",
            "25/25 [==============================] - 0s 5ms/step - loss: 3.3283 - val_loss: 47.0292 - lr: 5.6250e-04\n",
            "Epoch 636/2000\n",
            "25/25 [==============================] - 0s 6ms/step - loss: 2.7528 - val_loss: 39.6685 - lr: 5.6250e-04\n",
            "Epoch 637/2000\n",
            "25/25 [==============================] - 0s 6ms/step - loss: 4.1538 - val_loss: 44.6343 - lr: 5.6250e-04\n",
            "Epoch 638/2000\n",
            "25/25 [==============================] - 0s 5ms/step - loss: 3.2848 - val_loss: 42.0646 - lr: 5.6250e-04\n",
            "Epoch 639/2000\n",
            "25/25 [==============================] - 0s 5ms/step - loss: 4.8524 - val_loss: 40.1206 - lr: 5.6250e-04\n",
            "Epoch 640/2000\n",
            "25/25 [==============================] - 0s 5ms/step - loss: 6.2872 - val_loss: 40.6559 - lr: 5.6250e-04\n",
            "Epoch 641/2000\n",
            "25/25 [==============================] - 0s 5ms/step - loss: 2.9705 - val_loss: 51.0431 - lr: 5.6250e-04\n",
            "Epoch 642/2000\n",
            "25/25 [==============================] - 0s 5ms/step - loss: 2.9735 - val_loss: 44.7412 - lr: 5.6250e-04\n",
            "Epoch 643/2000\n",
            "25/25 [==============================] - 0s 6ms/step - loss: 3.7435 - val_loss: 39.8807 - lr: 5.6250e-04\n",
            "Epoch 644/2000\n",
            "25/25 [==============================] - 0s 5ms/step - loss: 3.5785 - val_loss: 30.6259 - lr: 5.6250e-04\n",
            "Epoch 645/2000\n",
            "25/25 [==============================] - 0s 5ms/step - loss: 3.4932 - val_loss: 35.4238 - lr: 5.6250e-04\n",
            "Epoch 646/2000\n",
            "25/25 [==============================] - 0s 5ms/step - loss: 2.9174 - val_loss: 42.2744 - lr: 5.6250e-04\n",
            "Epoch 647/2000\n",
            "25/25 [==============================] - 0s 5ms/step - loss: 4.0342 - val_loss: 51.9689 - lr: 5.6250e-04\n",
            "Epoch 648/2000\n",
            "25/25 [==============================] - 0s 5ms/step - loss: 2.5003 - val_loss: 43.6410 - lr: 5.6250e-04\n",
            "Epoch 649/2000\n",
            "25/25 [==============================] - 0s 5ms/step - loss: 4.5891 - val_loss: 38.2839 - lr: 5.6250e-04\n",
            "Epoch 650/2000\n",
            "25/25 [==============================] - 0s 5ms/step - loss: 3.5865 - val_loss: 49.8152 - lr: 5.6250e-04\n",
            "Epoch 651/2000\n",
            "25/25 [==============================] - 0s 5ms/step - loss: 4.8402 - val_loss: 36.2994 - lr: 5.6250e-04\n",
            "Epoch 652/2000\n",
            "25/25 [==============================] - 0s 5ms/step - loss: 4.1565 - val_loss: 51.2575 - lr: 5.6250e-04\n",
            "Epoch 653/2000\n",
            "25/25 [==============================] - 0s 5ms/step - loss: 5.5523 - val_loss: 40.9659 - lr: 5.6250e-04\n",
            "Epoch 654/2000\n",
            "25/25 [==============================] - 0s 5ms/step - loss: 3.2394 - val_loss: 36.6674 - lr: 5.6250e-04\n",
            "Epoch 655/2000\n",
            "25/25 [==============================] - 0s 5ms/step - loss: 7.1583 - val_loss: 55.3900 - lr: 5.6250e-04\n",
            "Epoch 656/2000\n",
            "25/25 [==============================] - 0s 6ms/step - loss: 4.5217 - val_loss: 48.3936 - lr: 5.6250e-04\n",
            "Epoch 657/2000\n",
            "25/25 [==============================] - 0s 6ms/step - loss: 2.5608 - val_loss: 45.1151 - lr: 5.6250e-04\n",
            "Epoch 658/2000\n",
            "25/25 [==============================] - 0s 6ms/step - loss: 3.4170 - val_loss: 41.5849 - lr: 5.6250e-04\n",
            "Epoch 659/2000\n",
            "25/25 [==============================] - 0s 5ms/step - loss: 4.8081 - val_loss: 41.5061 - lr: 5.6250e-04\n",
            "Epoch 660/2000\n",
            "25/25 [==============================] - 0s 5ms/step - loss: 2.2118 - val_loss: 52.0918 - lr: 5.6250e-04\n",
            "Epoch 661/2000\n",
            "25/25 [==============================] - 0s 5ms/step - loss: 4.1774 - val_loss: 40.5639 - lr: 5.6250e-04\n",
            "Epoch 662/2000\n",
            "25/25 [==============================] - 0s 5ms/step - loss: 3.5885 - val_loss: 54.7129 - lr: 5.6250e-04\n",
            "Epoch 663/2000\n",
            "25/25 [==============================] - 0s 6ms/step - loss: 6.3115 - val_loss: 45.2430 - lr: 5.6250e-04\n",
            "Epoch 664/2000\n",
            "25/25 [==============================] - 0s 6ms/step - loss: 4.9262 - val_loss: 52.3412 - lr: 5.6250e-04\n",
            "Epoch 665/2000\n",
            "25/25 [==============================] - 0s 6ms/step - loss: 5.5666 - val_loss: 52.9113 - lr: 5.6250e-04\n",
            "Epoch 666/2000\n",
            "25/25 [==============================] - 0s 5ms/step - loss: 2.7099 - val_loss: 45.6982 - lr: 5.6250e-04\n",
            "Epoch 667/2000\n",
            "25/25 [==============================] - 0s 6ms/step - loss: 5.1983 - val_loss: 49.3072 - lr: 5.6250e-04\n",
            "Epoch 668/2000\n",
            "25/25 [==============================] - 0s 6ms/step - loss: 3.5075 - val_loss: 65.2913 - lr: 5.6250e-04\n",
            "Epoch 669/2000\n",
            "25/25 [==============================] - 0s 6ms/step - loss: 4.5345 - val_loss: 42.6413 - lr: 5.6250e-04\n",
            "Epoch 670/2000\n",
            "25/25 [==============================] - 0s 6ms/step - loss: 2.9566 - val_loss: 40.5617 - lr: 5.6250e-04\n",
            "Epoch 671/2000\n",
            "25/25 [==============================] - 0s 5ms/step - loss: 3.1257 - val_loss: 46.7880 - lr: 5.6250e-04\n",
            "Epoch 672/2000\n",
            "25/25 [==============================] - 0s 6ms/step - loss: 3.9429 - val_loss: 48.5306 - lr: 5.6250e-04\n",
            "Epoch 673/2000\n",
            "25/25 [==============================] - 0s 5ms/step - loss: 3.0065 - val_loss: 47.5921 - lr: 5.6250e-04\n",
            "Epoch 674/2000\n",
            "25/25 [==============================] - 0s 5ms/step - loss: 3.6466 - val_loss: 47.6799 - lr: 5.6250e-04\n",
            "Epoch 675/2000\n",
            "25/25 [==============================] - 0s 6ms/step - loss: 2.4626 - val_loss: 41.3420 - lr: 5.6250e-04\n",
            "Epoch 676/2000\n",
            "25/25 [==============================] - 0s 5ms/step - loss: 4.8664 - val_loss: 62.6717 - lr: 5.6250e-04\n",
            "Epoch 677/2000\n",
            "25/25 [==============================] - 0s 5ms/step - loss: 7.5697 - val_loss: 45.5129 - lr: 5.6250e-04\n",
            "Epoch 678/2000\n",
            "25/25 [==============================] - 0s 5ms/step - loss: 3.1687 - val_loss: 42.7814 - lr: 5.6250e-04\n",
            "Epoch 679/2000\n",
            "25/25 [==============================] - 0s 6ms/step - loss: 2.5439 - val_loss: 58.0315 - lr: 5.6250e-04\n",
            "Epoch 680/2000\n",
            "19/25 [=====================>........] - ETA: 0s - loss: 3.3952\n",
            "Epoch 680: ReduceLROnPlateau reducing learning rate to 0.0004218749818392098.\n",
            "25/25 [==============================] - 0s 6ms/step - loss: 3.0028 - val_loss: 38.3354 - lr: 5.6250e-04\n",
            "Epoch 680: early stopping\n"
          ]
        }
      ]
    },
    {
      "cell_type": "code",
      "source": [
        "model.evaluate(x_test, y_test)"
      ],
      "metadata": {
        "colab": {
          "base_uri": "https://localhost:8080/"
        },
        "id": "IFwA9YER7Pii",
        "outputId": "212a4bea-bdc6-48f6-a974-8c9135361554"
      },
      "execution_count": 48,
      "outputs": [
        {
          "output_type": "stream",
          "name": "stdout",
          "text": [
            "1/1 [==============================] - 0s 130ms/step - loss: 2.3317\n"
          ]
        },
        {
          "output_type": "execute_result",
          "data": {
            "text/plain": [
              "2.3316967487335205"
            ]
          },
          "metadata": {},
          "execution_count": 48
        }
      ]
    },
    {
      "cell_type": "code",
      "source": [
        "y_pred = model.predict(x_test)\n",
        "y_pred"
      ],
      "metadata": {
        "colab": {
          "base_uri": "https://localhost:8080/"
        },
        "id": "EFNl43G27Q4C",
        "outputId": "af8ad824-9c8d-4dcf-dc3a-b4830487621b"
      },
      "execution_count": 49,
      "outputs": [
        {
          "output_type": "execute_result",
          "data": {
            "text/plain": [
              "array([[35.690506],\n",
              "       [41.965504],\n",
              "       [37.327354],\n",
              "       [34.02982 ],\n",
              "       [35.701904],\n",
              "       [38.104267],\n",
              "       [37.10612 ],\n",
              "       [38.907635]], dtype=float32)"
            ]
          },
          "metadata": {},
          "execution_count": 49
        }
      ]
    },
    {
      "cell_type": "code",
      "source": [
        "y_test"
      ],
      "metadata": {
        "colab": {
          "base_uri": "https://localhost:8080/"
        },
        "id": "q1XjWk577elD",
        "outputId": "2055536e-8a65-4efa-b5b8-31f14fe191d6"
      },
      "execution_count": 50,
      "outputs": [
        {
          "output_type": "execute_result",
          "data": {
            "text/plain": [
              "Year\n",
              "1997    34.85\n",
              "2017    41.92\n",
              "2014    38.25\n",
              "1998    34.91\n",
              "2012    32.10\n",
              "1981    38.60\n",
              "2002    35.37\n",
              "1982    39.20\n",
              "Name: W_U, dtype: float64"
            ]
          },
          "metadata": {},
          "execution_count": 50
        }
      ]
    },
    {
      "cell_type": "code",
      "source": [
        "y_train_pred=model.predict(x_train)"
      ],
      "metadata": {
        "id": "qVyJRoUyJh1W"
      },
      "execution_count": 51,
      "outputs": []
    },
    {
      "cell_type": "markdown",
      "source": [
        "## RMSE"
      ],
      "metadata": {
        "id": "vFBjNOA9JiTO"
      }
    },
    {
      "cell_type": "code",
      "source": [
        "RMSE = np.sqrt(mean_squared_error(y_test, y_pred))"
      ],
      "metadata": {
        "id": "j5DvGH9vJiTQ"
      },
      "execution_count": 52,
      "outputs": []
    },
    {
      "cell_type": "code",
      "source": [
        "RMSE"
      ],
      "metadata": {
        "colab": {
          "base_uri": "https://localhost:8080/"
        },
        "outputId": "5b2e5701-17ea-4266-9b70-0931a2090ac1",
        "id": "UZ6F-claJiTR"
      },
      "execution_count": 53,
      "outputs": [
        {
          "output_type": "execute_result",
          "data": {
            "text/plain": [
              "1.5269893956531904"
            ]
          },
          "metadata": {},
          "execution_count": 53
        }
      ]
    },
    {
      "cell_type": "code",
      "source": [
        "np.sqrt(mean_squared_error(y_train, y_train_pred))"
      ],
      "metadata": {
        "colab": {
          "base_uri": "https://localhost:8080/"
        },
        "outputId": "a97f39d3-f217-4c1e-8986-1003734fd6ef",
        "id": "GEVG2rddJiTT"
      },
      "execution_count": 54,
      "outputs": [
        {
          "output_type": "execute_result",
          "data": {
            "text/plain": [
              "3.129228306076175"
            ]
          },
          "metadata": {},
          "execution_count": 54
        }
      ]
    },
    {
      "cell_type": "markdown",
      "source": [
        "## MAE"
      ],
      "metadata": {
        "id": "jQam8mY2JiTU"
      }
    },
    {
      "cell_type": "code",
      "source": [
        "y_test=np.array(y_test).reshape(-1,1)"
      ],
      "metadata": {
        "id": "UOXTChB6K6Ok"
      },
      "execution_count": 55,
      "outputs": []
    },
    {
      "cell_type": "code",
      "source": [
        "y_train=np.array(y_train).reshape(-1,1)"
      ],
      "metadata": {
        "id": "BqAT5VJ1LO4Q"
      },
      "execution_count": 56,
      "outputs": []
    },
    {
      "cell_type": "code",
      "metadata": {
        "id": "406NYDZlJiTV"
      },
      "source": [
        "MAE_test=np.mean(np.abs(y_pred-y_test))"
      ],
      "execution_count": 57,
      "outputs": []
    },
    {
      "cell_type": "code",
      "metadata": {
        "colab": {
          "base_uri": "https://localhost:8080/"
        },
        "outputId": "97aba816-a3ab-494b-ac6d-8dbbd9a19010",
        "id": "kjatpXAQJiTV"
      },
      "source": [
        "MAE_test"
      ],
      "execution_count": 58,
      "outputs": [
        {
          "output_type": "execute_result",
          "data": {
            "text/plain": [
              "1.1018699073791502"
            ]
          },
          "metadata": {},
          "execution_count": 58
        }
      ]
    },
    {
      "cell_type": "code",
      "metadata": {
        "id": "FFLvIz0uJiTW"
      },
      "source": [
        "MAE_train=np.mean(np.abs(y_train_pred-y_train))"
      ],
      "execution_count": 59,
      "outputs": []
    },
    {
      "cell_type": "code",
      "metadata": {
        "colab": {
          "base_uri": "https://localhost:8080/"
        },
        "outputId": "06f9fd4f-f305-4cda-e479-7b5ad41cf202",
        "id": "ucUi2HfvJiTW"
      },
      "source": [
        "MAE_train"
      ],
      "execution_count": 60,
      "outputs": [
        {
          "output_type": "execute_result",
          "data": {
            "text/plain": [
              "1.9077480864524845"
            ]
          },
          "metadata": {},
          "execution_count": 60
        }
      ]
    },
    {
      "cell_type": "markdown",
      "source": [
        "## MAPE"
      ],
      "metadata": {
        "id": "3YaCDNokJiTX"
      }
    },
    {
      "cell_type": "code",
      "metadata": {
        "id": "1P0mTYDXJiTX"
      },
      "source": [
        "import numpy as np\n",
        "\n",
        "def mape(actual, pred): \n",
        "    actual, pred = np.array(actual), np.array(pred)\n",
        "    return np.mean(np.abs((actual - pred) / actual)) * 100"
      ],
      "execution_count": 61,
      "outputs": []
    },
    {
      "cell_type": "code",
      "metadata": {
        "colab": {
          "base_uri": "https://localhost:8080/"
        },
        "outputId": "fd35ce62-86e1-4b20-e30b-7f7a0fe2a199",
        "id": "7fa4WNlvJiTZ"
      },
      "source": [
        "mape(y_test,y_pred)"
      ],
      "execution_count": 62,
      "outputs": [
        {
          "output_type": "execute_result",
          "data": {
            "text/plain": [
              "3.201651848019323"
            ]
          },
          "metadata": {},
          "execution_count": 62
        }
      ]
    },
    {
      "cell_type": "code",
      "metadata": {
        "colab": {
          "base_uri": "https://localhost:8080/"
        },
        "outputId": "5245ff9b-39fa-4455-a787-aa0e2eebb7d5",
        "id": "O9OjzJmqJiTZ"
      },
      "source": [
        "mape(y_train,y_train_pred)"
      ],
      "execution_count": 63,
      "outputs": [
        {
          "output_type": "execute_result",
          "data": {
            "text/plain": [
              "5.128646831300272"
            ]
          },
          "metadata": {},
          "execution_count": 63
        }
      ]
    },
    {
      "cell_type": "markdown",
      "source": [
        "### Multistep"
      ],
      "metadata": {
        "id": "3pRyqYkiJZ0L"
      }
    },
    {
      "cell_type": "code",
      "source": [
        "# Import data\n",
        "df = pd.read_excel('/content/New_2 - Copy.xlsx',index_col=0)\n",
        "df.head()"
      ],
      "metadata": {
        "colab": {
          "base_uri": "https://localhost:8080/",
          "height": 238
        },
        "id": "ERBeYJM_JdXz",
        "outputId": "d98830c2-9f7b-4be8-d9a6-cc8d1914831c"
      },
      "execution_count": 64,
      "outputs": [
        {
          "output_type": "execute_result",
          "data": {
            "text/plain": [
              "        W_U   W_C   R_L       C_C   A_T   C_D_L      L_B   Popu   P_F  \\\n",
              "Year                                                                    \n",
              "1980  38.60  52.9  37.8  11179.68  24.1  196200  1962000  42.13  19.0   \n",
              "1981  38.60  52.9  39.3  11173.43  23.8  211700  2117000  43.32  21.8   \n",
              "1982  39.20  52.8  43.1  11157.93  23.5  227610  2276100  44.51  23.3   \n",
              "1983  39.19  52.6  45.6  11112.57  23.2  248800  2488000  45.72  28.0   \n",
              "1984  39.14  52.3  50.6  11044.91  24.0  267500  2675000  46.99  31.2   \n",
              "\n",
              "      Agri_pro  Prou_acre  \n",
              "Year                       \n",
              "1980     114.4       97.9  \n",
              "1981     113.3       98.9  \n",
              "1982     115.6      106.3  \n",
              "1983     119.5      107.4  \n",
              "1984     120.0      105.1  "
            ],
            "text/html": [
              "\n",
              "  <div id=\"df-43647460-5e3a-42e8-975b-ba449927a450\">\n",
              "    <div class=\"colab-df-container\">\n",
              "      <div>\n",
              "<style scoped>\n",
              "    .dataframe tbody tr th:only-of-type {\n",
              "        vertical-align: middle;\n",
              "    }\n",
              "\n",
              "    .dataframe tbody tr th {\n",
              "        vertical-align: top;\n",
              "    }\n",
              "\n",
              "    .dataframe thead th {\n",
              "        text-align: right;\n",
              "    }\n",
              "</style>\n",
              "<table border=\"1\" class=\"dataframe\">\n",
              "  <thead>\n",
              "    <tr style=\"text-align: right;\">\n",
              "      <th></th>\n",
              "      <th>W_U</th>\n",
              "      <th>W_C</th>\n",
              "      <th>R_L</th>\n",
              "      <th>C_C</th>\n",
              "      <th>A_T</th>\n",
              "      <th>C_D_L</th>\n",
              "      <th>L_B</th>\n",
              "      <th>Popu</th>\n",
              "      <th>P_F</th>\n",
              "      <th>Agri_pro</th>\n",
              "      <th>Prou_acre</th>\n",
              "    </tr>\n",
              "    <tr>\n",
              "      <th>Year</th>\n",
              "      <th></th>\n",
              "      <th></th>\n",
              "      <th></th>\n",
              "      <th></th>\n",
              "      <th></th>\n",
              "      <th></th>\n",
              "      <th></th>\n",
              "      <th></th>\n",
              "      <th></th>\n",
              "      <th></th>\n",
              "      <th></th>\n",
              "    </tr>\n",
              "  </thead>\n",
              "  <tbody>\n",
              "    <tr>\n",
              "      <th>1980</th>\n",
              "      <td>38.60</td>\n",
              "      <td>52.9</td>\n",
              "      <td>37.8</td>\n",
              "      <td>11179.68</td>\n",
              "      <td>24.1</td>\n",
              "      <td>196200</td>\n",
              "      <td>1962000</td>\n",
              "      <td>42.13</td>\n",
              "      <td>19.0</td>\n",
              "      <td>114.4</td>\n",
              "      <td>97.9</td>\n",
              "    </tr>\n",
              "    <tr>\n",
              "      <th>1981</th>\n",
              "      <td>38.60</td>\n",
              "      <td>52.9</td>\n",
              "      <td>39.3</td>\n",
              "      <td>11173.43</td>\n",
              "      <td>23.8</td>\n",
              "      <td>211700</td>\n",
              "      <td>2117000</td>\n",
              "      <td>43.32</td>\n",
              "      <td>21.8</td>\n",
              "      <td>113.3</td>\n",
              "      <td>98.9</td>\n",
              "    </tr>\n",
              "    <tr>\n",
              "      <th>1982</th>\n",
              "      <td>39.20</td>\n",
              "      <td>52.8</td>\n",
              "      <td>43.1</td>\n",
              "      <td>11157.93</td>\n",
              "      <td>23.5</td>\n",
              "      <td>227610</td>\n",
              "      <td>2276100</td>\n",
              "      <td>44.51</td>\n",
              "      <td>23.3</td>\n",
              "      <td>115.6</td>\n",
              "      <td>106.3</td>\n",
              "    </tr>\n",
              "    <tr>\n",
              "      <th>1983</th>\n",
              "      <td>39.19</td>\n",
              "      <td>52.6</td>\n",
              "      <td>45.6</td>\n",
              "      <td>11112.57</td>\n",
              "      <td>23.2</td>\n",
              "      <td>248800</td>\n",
              "      <td>2488000</td>\n",
              "      <td>45.72</td>\n",
              "      <td>28.0</td>\n",
              "      <td>119.5</td>\n",
              "      <td>107.4</td>\n",
              "    </tr>\n",
              "    <tr>\n",
              "      <th>1984</th>\n",
              "      <td>39.14</td>\n",
              "      <td>52.3</td>\n",
              "      <td>50.6</td>\n",
              "      <td>11044.91</td>\n",
              "      <td>24.0</td>\n",
              "      <td>267500</td>\n",
              "      <td>2675000</td>\n",
              "      <td>46.99</td>\n",
              "      <td>31.2</td>\n",
              "      <td>120.0</td>\n",
              "      <td>105.1</td>\n",
              "    </tr>\n",
              "  </tbody>\n",
              "</table>\n",
              "</div>\n",
              "      <button class=\"colab-df-convert\" onclick=\"convertToInteractive('df-43647460-5e3a-42e8-975b-ba449927a450')\"\n",
              "              title=\"Convert this dataframe to an interactive table.\"\n",
              "              style=\"display:none;\">\n",
              "        \n",
              "  <svg xmlns=\"http://www.w3.org/2000/svg\" height=\"24px\"viewBox=\"0 0 24 24\"\n",
              "       width=\"24px\">\n",
              "    <path d=\"M0 0h24v24H0V0z\" fill=\"none\"/>\n",
              "    <path d=\"M18.56 5.44l.94 2.06.94-2.06 2.06-.94-2.06-.94-.94-2.06-.94 2.06-2.06.94zm-11 1L8.5 8.5l.94-2.06 2.06-.94-2.06-.94L8.5 2.5l-.94 2.06-2.06.94zm10 10l.94 2.06.94-2.06 2.06-.94-2.06-.94-.94-2.06-.94 2.06-2.06.94z\"/><path d=\"M17.41 7.96l-1.37-1.37c-.4-.4-.92-.59-1.43-.59-.52 0-1.04.2-1.43.59L10.3 9.45l-7.72 7.72c-.78.78-.78 2.05 0 2.83L4 21.41c.39.39.9.59 1.41.59.51 0 1.02-.2 1.41-.59l7.78-7.78 2.81-2.81c.8-.78.8-2.07 0-2.86zM5.41 20L4 18.59l7.72-7.72 1.47 1.35L5.41 20z\"/>\n",
              "  </svg>\n",
              "      </button>\n",
              "      \n",
              "  <style>\n",
              "    .colab-df-container {\n",
              "      display:flex;\n",
              "      flex-wrap:wrap;\n",
              "      gap: 12px;\n",
              "    }\n",
              "\n",
              "    .colab-df-convert {\n",
              "      background-color: #E8F0FE;\n",
              "      border: none;\n",
              "      border-radius: 50%;\n",
              "      cursor: pointer;\n",
              "      display: none;\n",
              "      fill: #1967D2;\n",
              "      height: 32px;\n",
              "      padding: 0 0 0 0;\n",
              "      width: 32px;\n",
              "    }\n",
              "\n",
              "    .colab-df-convert:hover {\n",
              "      background-color: #E2EBFA;\n",
              "      box-shadow: 0px 1px 2px rgba(60, 64, 67, 0.3), 0px 1px 3px 1px rgba(60, 64, 67, 0.15);\n",
              "      fill: #174EA6;\n",
              "    }\n",
              "\n",
              "    [theme=dark] .colab-df-convert {\n",
              "      background-color: #3B4455;\n",
              "      fill: #D2E3FC;\n",
              "    }\n",
              "\n",
              "    [theme=dark] .colab-df-convert:hover {\n",
              "      background-color: #434B5C;\n",
              "      box-shadow: 0px 1px 3px 1px rgba(0, 0, 0, 0.15);\n",
              "      filter: drop-shadow(0px 1px 2px rgba(0, 0, 0, 0.3));\n",
              "      fill: #FFFFFF;\n",
              "    }\n",
              "  </style>\n",
              "\n",
              "      <script>\n",
              "        const buttonEl =\n",
              "          document.querySelector('#df-43647460-5e3a-42e8-975b-ba449927a450 button.colab-df-convert');\n",
              "        buttonEl.style.display =\n",
              "          google.colab.kernel.accessAllowed ? 'block' : 'none';\n",
              "\n",
              "        async function convertToInteractive(key) {\n",
              "          const element = document.querySelector('#df-43647460-5e3a-42e8-975b-ba449927a450');\n",
              "          const dataTable =\n",
              "            await google.colab.kernel.invokeFunction('convertToInteractive',\n",
              "                                                     [key], {});\n",
              "          if (!dataTable) return;\n",
              "\n",
              "          const docLinkHtml = 'Like what you see? Visit the ' +\n",
              "            '<a target=\"_blank\" href=https://colab.research.google.com/notebooks/data_table.ipynb>data table notebook</a>'\n",
              "            + ' to learn more about interactive tables.';\n",
              "          element.innerHTML = '';\n",
              "          dataTable['output_type'] = 'display_data';\n",
              "          await google.colab.output.renderOutput(dataTable, element);\n",
              "          const docLink = document.createElement('div');\n",
              "          docLink.innerHTML = docLinkHtml;\n",
              "          element.appendChild(docLink);\n",
              "        }\n",
              "      </script>\n",
              "    </div>\n",
              "  </div>\n",
              "  "
            ]
          },
          "metadata": {},
          "execution_count": 64
        }
      ]
    },
    {
      "cell_type": "code",
      "source": [
        "df.shape"
      ],
      "metadata": {
        "colab": {
          "base_uri": "https://localhost:8080/"
        },
        "id": "i_QXnpxkq4Yw",
        "outputId": "cfb2fd3c-7d82-4fd0-dc31-796d6639e2df"
      },
      "execution_count": 65,
      "outputs": [
        {
          "output_type": "execute_result",
          "data": {
            "text/plain": [
              "(40, 11)"
            ]
          },
          "metadata": {},
          "execution_count": 65
        }
      ]
    },
    {
      "cell_type": "code",
      "metadata": {
        "id": "XUtQW3l3MTdy",
        "colab": {
          "base_uri": "https://localhost:8080/"
        },
        "outputId": "c5fbe06a-bdc3-4f69-cd54-3d147eb108de"
      },
      "source": [
        "print (df.index.min())\n",
        "print (df.index.max())"
      ],
      "execution_count": 66,
      "outputs": [
        {
          "output_type": "stream",
          "name": "stdout",
          "text": [
            "1980\n",
            "2019\n"
          ]
        }
      ]
    },
    {
      "cell_type": "code",
      "metadata": {
        "id": "mHVf8PJ7PNnl",
        "colab": {
          "base_uri": "https://localhost:8080/"
        },
        "outputId": "ec0385e7-2ba0-4aa6-934a-3a2522004d09"
      },
      "source": [
        "# Split data to train and test\n",
        "# day to split\n",
        "split_point=round(len(df)*.8)\n",
        "split_point"
      ],
      "execution_count": 67,
      "outputs": [
        {
          "output_type": "execute_result",
          "data": {
            "text/plain": [
              "32"
            ]
          },
          "metadata": {},
          "execution_count": 67
        }
      ]
    },
    {
      "cell_type": "code",
      "metadata": {
        "id": "TfflaJ5vPJJp",
        "colab": {
          "base_uri": "https://localhost:8080/"
        },
        "outputId": "70c64b73-573a-42d9-bb23-9f87db2c9a78"
      },
      "source": [
        "df.iloc[split_point]"
      ],
      "execution_count": 68,
      "outputs": [
        {
          "output_type": "execute_result",
          "data": {
            "text/plain": [
              "W_U               32.10\n",
              "W_C               78.20\n",
              "R_L               51.20\n",
              "C_C            15486.01\n",
              "A_T               23.90\n",
              "C_D_L         591610.00\n",
              "L_B          5916100.00\n",
              "Popu              82.55\n",
              "P_F             1017.74\n",
              "Agri_pro         103.20\n",
              "Prou_acre        104.60\n",
              "Name: 2012, dtype: float64"
            ]
          },
          "metadata": {},
          "execution_count": 68
        }
      ]
    },
    {
      "cell_type": "code",
      "source": [
        "df=df.astype(\"float32\")"
      ],
      "metadata": {
        "id": "6ZsBMbPBsgHc"
      },
      "execution_count": 69,
      "outputs": []
    },
    {
      "cell_type": "code",
      "metadata": {
        "id": "uYWxjHlDOrNg"
      },
      "source": [
        "data_training = df[df.index<2012].copy()\n",
        "data_test = df[df.index>=2012].copy()"
      ],
      "execution_count": 70,
      "outputs": []
    },
    {
      "cell_type": "code",
      "metadata": {
        "id": "hWd2aQLLPsBB",
        "colab": {
          "base_uri": "https://localhost:8080/",
          "height": 143
        },
        "outputId": "cd9853b6-80b9-41d1-fde9-8880995e04e0"
      },
      "source": [
        "data_training.head(2)"
      ],
      "execution_count": 71,
      "outputs": [
        {
          "output_type": "execute_result",
          "data": {
            "text/plain": [
              "            W_U        W_C        R_L           C_C        A_T     C_D_L  \\\n",
              "Year                                                                       \n",
              "1980  38.599998  52.900002  37.799999  11179.679688  24.100000  196200.0   \n",
              "1981  38.599998  52.900002  39.299999  11173.429688  23.799999  211700.0   \n",
              "\n",
              "            L_B       Popu        P_F    Agri_pro  Prou_acre  \n",
              "Year                                                          \n",
              "1980  1962000.0  42.130001  19.000000  114.400002  97.900002  \n",
              "1981  2117000.0  43.320000  21.799999  113.300003  98.900002  "
            ],
            "text/html": [
              "\n",
              "  <div id=\"df-0dc211dd-e209-405e-aaef-5995a66aa237\">\n",
              "    <div class=\"colab-df-container\">\n",
              "      <div>\n",
              "<style scoped>\n",
              "    .dataframe tbody tr th:only-of-type {\n",
              "        vertical-align: middle;\n",
              "    }\n",
              "\n",
              "    .dataframe tbody tr th {\n",
              "        vertical-align: top;\n",
              "    }\n",
              "\n",
              "    .dataframe thead th {\n",
              "        text-align: right;\n",
              "    }\n",
              "</style>\n",
              "<table border=\"1\" class=\"dataframe\">\n",
              "  <thead>\n",
              "    <tr style=\"text-align: right;\">\n",
              "      <th></th>\n",
              "      <th>W_U</th>\n",
              "      <th>W_C</th>\n",
              "      <th>R_L</th>\n",
              "      <th>C_C</th>\n",
              "      <th>A_T</th>\n",
              "      <th>C_D_L</th>\n",
              "      <th>L_B</th>\n",
              "      <th>Popu</th>\n",
              "      <th>P_F</th>\n",
              "      <th>Agri_pro</th>\n",
              "      <th>Prou_acre</th>\n",
              "    </tr>\n",
              "    <tr>\n",
              "      <th>Year</th>\n",
              "      <th></th>\n",
              "      <th></th>\n",
              "      <th></th>\n",
              "      <th></th>\n",
              "      <th></th>\n",
              "      <th></th>\n",
              "      <th></th>\n",
              "      <th></th>\n",
              "      <th></th>\n",
              "      <th></th>\n",
              "      <th></th>\n",
              "    </tr>\n",
              "  </thead>\n",
              "  <tbody>\n",
              "    <tr>\n",
              "      <th>1980</th>\n",
              "      <td>38.599998</td>\n",
              "      <td>52.900002</td>\n",
              "      <td>37.799999</td>\n",
              "      <td>11179.679688</td>\n",
              "      <td>24.100000</td>\n",
              "      <td>196200.0</td>\n",
              "      <td>1962000.0</td>\n",
              "      <td>42.130001</td>\n",
              "      <td>19.000000</td>\n",
              "      <td>114.400002</td>\n",
              "      <td>97.900002</td>\n",
              "    </tr>\n",
              "    <tr>\n",
              "      <th>1981</th>\n",
              "      <td>38.599998</td>\n",
              "      <td>52.900002</td>\n",
              "      <td>39.299999</td>\n",
              "      <td>11173.429688</td>\n",
              "      <td>23.799999</td>\n",
              "      <td>211700.0</td>\n",
              "      <td>2117000.0</td>\n",
              "      <td>43.320000</td>\n",
              "      <td>21.799999</td>\n",
              "      <td>113.300003</td>\n",
              "      <td>98.900002</td>\n",
              "    </tr>\n",
              "  </tbody>\n",
              "</table>\n",
              "</div>\n",
              "      <button class=\"colab-df-convert\" onclick=\"convertToInteractive('df-0dc211dd-e209-405e-aaef-5995a66aa237')\"\n",
              "              title=\"Convert this dataframe to an interactive table.\"\n",
              "              style=\"display:none;\">\n",
              "        \n",
              "  <svg xmlns=\"http://www.w3.org/2000/svg\" height=\"24px\"viewBox=\"0 0 24 24\"\n",
              "       width=\"24px\">\n",
              "    <path d=\"M0 0h24v24H0V0z\" fill=\"none\"/>\n",
              "    <path d=\"M18.56 5.44l.94 2.06.94-2.06 2.06-.94-2.06-.94-.94-2.06-.94 2.06-2.06.94zm-11 1L8.5 8.5l.94-2.06 2.06-.94-2.06-.94L8.5 2.5l-.94 2.06-2.06.94zm10 10l.94 2.06.94-2.06 2.06-.94-2.06-.94-.94-2.06-.94 2.06-2.06.94z\"/><path d=\"M17.41 7.96l-1.37-1.37c-.4-.4-.92-.59-1.43-.59-.52 0-1.04.2-1.43.59L10.3 9.45l-7.72 7.72c-.78.78-.78 2.05 0 2.83L4 21.41c.39.39.9.59 1.41.59.51 0 1.02-.2 1.41-.59l7.78-7.78 2.81-2.81c.8-.78.8-2.07 0-2.86zM5.41 20L4 18.59l7.72-7.72 1.47 1.35L5.41 20z\"/>\n",
              "  </svg>\n",
              "      </button>\n",
              "      \n",
              "  <style>\n",
              "    .colab-df-container {\n",
              "      display:flex;\n",
              "      flex-wrap:wrap;\n",
              "      gap: 12px;\n",
              "    }\n",
              "\n",
              "    .colab-df-convert {\n",
              "      background-color: #E8F0FE;\n",
              "      border: none;\n",
              "      border-radius: 50%;\n",
              "      cursor: pointer;\n",
              "      display: none;\n",
              "      fill: #1967D2;\n",
              "      height: 32px;\n",
              "      padding: 0 0 0 0;\n",
              "      width: 32px;\n",
              "    }\n",
              "\n",
              "    .colab-df-convert:hover {\n",
              "      background-color: #E2EBFA;\n",
              "      box-shadow: 0px 1px 2px rgba(60, 64, 67, 0.3), 0px 1px 3px 1px rgba(60, 64, 67, 0.15);\n",
              "      fill: #174EA6;\n",
              "    }\n",
              "\n",
              "    [theme=dark] .colab-df-convert {\n",
              "      background-color: #3B4455;\n",
              "      fill: #D2E3FC;\n",
              "    }\n",
              "\n",
              "    [theme=dark] .colab-df-convert:hover {\n",
              "      background-color: #434B5C;\n",
              "      box-shadow: 0px 1px 3px 1px rgba(0, 0, 0, 0.15);\n",
              "      filter: drop-shadow(0px 1px 2px rgba(0, 0, 0, 0.3));\n",
              "      fill: #FFFFFF;\n",
              "    }\n",
              "  </style>\n",
              "\n",
              "      <script>\n",
              "        const buttonEl =\n",
              "          document.querySelector('#df-0dc211dd-e209-405e-aaef-5995a66aa237 button.colab-df-convert');\n",
              "        buttonEl.style.display =\n",
              "          google.colab.kernel.accessAllowed ? 'block' : 'none';\n",
              "\n",
              "        async function convertToInteractive(key) {\n",
              "          const element = document.querySelector('#df-0dc211dd-e209-405e-aaef-5995a66aa237');\n",
              "          const dataTable =\n",
              "            await google.colab.kernel.invokeFunction('convertToInteractive',\n",
              "                                                     [key], {});\n",
              "          if (!dataTable) return;\n",
              "\n",
              "          const docLinkHtml = 'Like what you see? Visit the ' +\n",
              "            '<a target=\"_blank\" href=https://colab.research.google.com/notebooks/data_table.ipynb>data table notebook</a>'\n",
              "            + ' to learn more about interactive tables.';\n",
              "          element.innerHTML = '';\n",
              "          dataTable['output_type'] = 'display_data';\n",
              "          await google.colab.output.renderOutput(dataTable, element);\n",
              "          const docLink = document.createElement('div');\n",
              "          docLink.innerHTML = docLinkHtml;\n",
              "          element.appendChild(docLink);\n",
              "        }\n",
              "      </script>\n",
              "    </div>\n",
              "  </div>\n",
              "  "
            ]
          },
          "metadata": {},
          "execution_count": 71
        }
      ]
    },
    {
      "cell_type": "code",
      "metadata": {
        "id": "rzrqJLNdPvF9",
        "colab": {
          "base_uri": "https://localhost:8080/",
          "height": 143
        },
        "outputId": "3b86d7c3-1005-4908-8499-db12cfdfdf56"
      },
      "source": [
        "data_training.tail(2)"
      ],
      "execution_count": 72,
      "outputs": [
        {
          "output_type": "execute_result",
          "data": {
            "text/plain": [
              "            W_U        W_C   R_L           C_C   A_T     C_D_L        L_B  \\\n",
              "Year                                                                        \n",
              "2010  37.790001  73.800003  15.5  15069.700195  24.5  586754.0  5867540.0   \n",
              "2011  30.860001  75.500000  39.0  15259.929688  25.1  588815.0  5888150.0   \n",
              "\n",
              "           Popu         P_F    Agri_pro   Prou_acre  \n",
              "Year                                                 \n",
              "2010  78.730003  919.590027  104.900002   96.400002  \n",
              "2011  80.410004  986.820007  100.400002  109.400002  "
            ],
            "text/html": [
              "\n",
              "  <div id=\"df-799229d5-1c07-4568-bc25-323e4e2fedff\">\n",
              "    <div class=\"colab-df-container\">\n",
              "      <div>\n",
              "<style scoped>\n",
              "    .dataframe tbody tr th:only-of-type {\n",
              "        vertical-align: middle;\n",
              "    }\n",
              "\n",
              "    .dataframe tbody tr th {\n",
              "        vertical-align: top;\n",
              "    }\n",
              "\n",
              "    .dataframe thead th {\n",
              "        text-align: right;\n",
              "    }\n",
              "</style>\n",
              "<table border=\"1\" class=\"dataframe\">\n",
              "  <thead>\n",
              "    <tr style=\"text-align: right;\">\n",
              "      <th></th>\n",
              "      <th>W_U</th>\n",
              "      <th>W_C</th>\n",
              "      <th>R_L</th>\n",
              "      <th>C_C</th>\n",
              "      <th>A_T</th>\n",
              "      <th>C_D_L</th>\n",
              "      <th>L_B</th>\n",
              "      <th>Popu</th>\n",
              "      <th>P_F</th>\n",
              "      <th>Agri_pro</th>\n",
              "      <th>Prou_acre</th>\n",
              "    </tr>\n",
              "    <tr>\n",
              "      <th>Year</th>\n",
              "      <th></th>\n",
              "      <th></th>\n",
              "      <th></th>\n",
              "      <th></th>\n",
              "      <th></th>\n",
              "      <th></th>\n",
              "      <th></th>\n",
              "      <th></th>\n",
              "      <th></th>\n",
              "      <th></th>\n",
              "      <th></th>\n",
              "    </tr>\n",
              "  </thead>\n",
              "  <tbody>\n",
              "    <tr>\n",
              "      <th>2010</th>\n",
              "      <td>37.790001</td>\n",
              "      <td>73.800003</td>\n",
              "      <td>15.5</td>\n",
              "      <td>15069.700195</td>\n",
              "      <td>24.5</td>\n",
              "      <td>586754.0</td>\n",
              "      <td>5867540.0</td>\n",
              "      <td>78.730003</td>\n",
              "      <td>919.590027</td>\n",
              "      <td>104.900002</td>\n",
              "      <td>96.400002</td>\n",
              "    </tr>\n",
              "    <tr>\n",
              "      <th>2011</th>\n",
              "      <td>30.860001</td>\n",
              "      <td>75.500000</td>\n",
              "      <td>39.0</td>\n",
              "      <td>15259.929688</td>\n",
              "      <td>25.1</td>\n",
              "      <td>588815.0</td>\n",
              "      <td>5888150.0</td>\n",
              "      <td>80.410004</td>\n",
              "      <td>986.820007</td>\n",
              "      <td>100.400002</td>\n",
              "      <td>109.400002</td>\n",
              "    </tr>\n",
              "  </tbody>\n",
              "</table>\n",
              "</div>\n",
              "      <button class=\"colab-df-convert\" onclick=\"convertToInteractive('df-799229d5-1c07-4568-bc25-323e4e2fedff')\"\n",
              "              title=\"Convert this dataframe to an interactive table.\"\n",
              "              style=\"display:none;\">\n",
              "        \n",
              "  <svg xmlns=\"http://www.w3.org/2000/svg\" height=\"24px\"viewBox=\"0 0 24 24\"\n",
              "       width=\"24px\">\n",
              "    <path d=\"M0 0h24v24H0V0z\" fill=\"none\"/>\n",
              "    <path d=\"M18.56 5.44l.94 2.06.94-2.06 2.06-.94-2.06-.94-.94-2.06-.94 2.06-2.06.94zm-11 1L8.5 8.5l.94-2.06 2.06-.94-2.06-.94L8.5 2.5l-.94 2.06-2.06.94zm10 10l.94 2.06.94-2.06 2.06-.94-2.06-.94-.94-2.06-.94 2.06-2.06.94z\"/><path d=\"M17.41 7.96l-1.37-1.37c-.4-.4-.92-.59-1.43-.59-.52 0-1.04.2-1.43.59L10.3 9.45l-7.72 7.72c-.78.78-.78 2.05 0 2.83L4 21.41c.39.39.9.59 1.41.59.51 0 1.02-.2 1.41-.59l7.78-7.78 2.81-2.81c.8-.78.8-2.07 0-2.86zM5.41 20L4 18.59l7.72-7.72 1.47 1.35L5.41 20z\"/>\n",
              "  </svg>\n",
              "      </button>\n",
              "      \n",
              "  <style>\n",
              "    .colab-df-container {\n",
              "      display:flex;\n",
              "      flex-wrap:wrap;\n",
              "      gap: 12px;\n",
              "    }\n",
              "\n",
              "    .colab-df-convert {\n",
              "      background-color: #E8F0FE;\n",
              "      border: none;\n",
              "      border-radius: 50%;\n",
              "      cursor: pointer;\n",
              "      display: none;\n",
              "      fill: #1967D2;\n",
              "      height: 32px;\n",
              "      padding: 0 0 0 0;\n",
              "      width: 32px;\n",
              "    }\n",
              "\n",
              "    .colab-df-convert:hover {\n",
              "      background-color: #E2EBFA;\n",
              "      box-shadow: 0px 1px 2px rgba(60, 64, 67, 0.3), 0px 1px 3px 1px rgba(60, 64, 67, 0.15);\n",
              "      fill: #174EA6;\n",
              "    }\n",
              "\n",
              "    [theme=dark] .colab-df-convert {\n",
              "      background-color: #3B4455;\n",
              "      fill: #D2E3FC;\n",
              "    }\n",
              "\n",
              "    [theme=dark] .colab-df-convert:hover {\n",
              "      background-color: #434B5C;\n",
              "      box-shadow: 0px 1px 3px 1px rgba(0, 0, 0, 0.15);\n",
              "      filter: drop-shadow(0px 1px 2px rgba(0, 0, 0, 0.3));\n",
              "      fill: #FFFFFF;\n",
              "    }\n",
              "  </style>\n",
              "\n",
              "      <script>\n",
              "        const buttonEl =\n",
              "          document.querySelector('#df-799229d5-1c07-4568-bc25-323e4e2fedff button.colab-df-convert');\n",
              "        buttonEl.style.display =\n",
              "          google.colab.kernel.accessAllowed ? 'block' : 'none';\n",
              "\n",
              "        async function convertToInteractive(key) {\n",
              "          const element = document.querySelector('#df-799229d5-1c07-4568-bc25-323e4e2fedff');\n",
              "          const dataTable =\n",
              "            await google.colab.kernel.invokeFunction('convertToInteractive',\n",
              "                                                     [key], {});\n",
              "          if (!dataTable) return;\n",
              "\n",
              "          const docLinkHtml = 'Like what you see? Visit the ' +\n",
              "            '<a target=\"_blank\" href=https://colab.research.google.com/notebooks/data_table.ipynb>data table notebook</a>'\n",
              "            + ' to learn more about interactive tables.';\n",
              "          element.innerHTML = '';\n",
              "          dataTable['output_type'] = 'display_data';\n",
              "          await google.colab.output.renderOutput(dataTable, element);\n",
              "          const docLink = document.createElement('div');\n",
              "          docLink.innerHTML = docLinkHtml;\n",
              "          element.appendChild(docLink);\n",
              "        }\n",
              "      </script>\n",
              "    </div>\n",
              "  </div>\n",
              "  "
            ]
          },
          "metadata": {},
          "execution_count": 72
        }
      ]
    },
    {
      "cell_type": "code",
      "metadata": {
        "id": "PsK9PLkPPyih",
        "colab": {
          "base_uri": "https://localhost:8080/",
          "height": 143
        },
        "outputId": "5a2dc36f-ff87-4e0c-a680-acc748357bdd"
      },
      "source": [
        "data_test.head(2)"
      ],
      "execution_count": 73,
      "outputs": [
        {
          "output_type": "execute_result",
          "data": {
            "text/plain": [
              "            W_U        W_C        R_L           C_C        A_T     C_D_L  \\\n",
              "Year                                                                       \n",
              "2012  32.099998  78.199997  51.200001  15486.009766  23.900000  591610.0   \n",
              "2013  37.810001  79.099998  22.600000  15881.019531  24.200001  592843.0   \n",
              "\n",
              "            L_B       Popu          P_F    Agri_pro   Prou_acre  \n",
              "Year                                                             \n",
              "2012  5916100.0  82.550003  1017.739990  103.199997  104.599998  \n",
              "2013  5928430.0  83.150002  1502.849976  103.099998   93.300003  "
            ],
            "text/html": [
              "\n",
              "  <div id=\"df-ed7a3bef-855e-45da-8755-6a8644d3cf16\">\n",
              "    <div class=\"colab-df-container\">\n",
              "      <div>\n",
              "<style scoped>\n",
              "    .dataframe tbody tr th:only-of-type {\n",
              "        vertical-align: middle;\n",
              "    }\n",
              "\n",
              "    .dataframe tbody tr th {\n",
              "        vertical-align: top;\n",
              "    }\n",
              "\n",
              "    .dataframe thead th {\n",
              "        text-align: right;\n",
              "    }\n",
              "</style>\n",
              "<table border=\"1\" class=\"dataframe\">\n",
              "  <thead>\n",
              "    <tr style=\"text-align: right;\">\n",
              "      <th></th>\n",
              "      <th>W_U</th>\n",
              "      <th>W_C</th>\n",
              "      <th>R_L</th>\n",
              "      <th>C_C</th>\n",
              "      <th>A_T</th>\n",
              "      <th>C_D_L</th>\n",
              "      <th>L_B</th>\n",
              "      <th>Popu</th>\n",
              "      <th>P_F</th>\n",
              "      <th>Agri_pro</th>\n",
              "      <th>Prou_acre</th>\n",
              "    </tr>\n",
              "    <tr>\n",
              "      <th>Year</th>\n",
              "      <th></th>\n",
              "      <th></th>\n",
              "      <th></th>\n",
              "      <th></th>\n",
              "      <th></th>\n",
              "      <th></th>\n",
              "      <th></th>\n",
              "      <th></th>\n",
              "      <th></th>\n",
              "      <th></th>\n",
              "      <th></th>\n",
              "    </tr>\n",
              "  </thead>\n",
              "  <tbody>\n",
              "    <tr>\n",
              "      <th>2012</th>\n",
              "      <td>32.099998</td>\n",
              "      <td>78.199997</td>\n",
              "      <td>51.200001</td>\n",
              "      <td>15486.009766</td>\n",
              "      <td>23.900000</td>\n",
              "      <td>591610.0</td>\n",
              "      <td>5916100.0</td>\n",
              "      <td>82.550003</td>\n",
              "      <td>1017.739990</td>\n",
              "      <td>103.199997</td>\n",
              "      <td>104.599998</td>\n",
              "    </tr>\n",
              "    <tr>\n",
              "      <th>2013</th>\n",
              "      <td>37.810001</td>\n",
              "      <td>79.099998</td>\n",
              "      <td>22.600000</td>\n",
              "      <td>15881.019531</td>\n",
              "      <td>24.200001</td>\n",
              "      <td>592843.0</td>\n",
              "      <td>5928430.0</td>\n",
              "      <td>83.150002</td>\n",
              "      <td>1502.849976</td>\n",
              "      <td>103.099998</td>\n",
              "      <td>93.300003</td>\n",
              "    </tr>\n",
              "  </tbody>\n",
              "</table>\n",
              "</div>\n",
              "      <button class=\"colab-df-convert\" onclick=\"convertToInteractive('df-ed7a3bef-855e-45da-8755-6a8644d3cf16')\"\n",
              "              title=\"Convert this dataframe to an interactive table.\"\n",
              "              style=\"display:none;\">\n",
              "        \n",
              "  <svg xmlns=\"http://www.w3.org/2000/svg\" height=\"24px\"viewBox=\"0 0 24 24\"\n",
              "       width=\"24px\">\n",
              "    <path d=\"M0 0h24v24H0V0z\" fill=\"none\"/>\n",
              "    <path d=\"M18.56 5.44l.94 2.06.94-2.06 2.06-.94-2.06-.94-.94-2.06-.94 2.06-2.06.94zm-11 1L8.5 8.5l.94-2.06 2.06-.94-2.06-.94L8.5 2.5l-.94 2.06-2.06.94zm10 10l.94 2.06.94-2.06 2.06-.94-2.06-.94-.94-2.06-.94 2.06-2.06.94z\"/><path d=\"M17.41 7.96l-1.37-1.37c-.4-.4-.92-.59-1.43-.59-.52 0-1.04.2-1.43.59L10.3 9.45l-7.72 7.72c-.78.78-.78 2.05 0 2.83L4 21.41c.39.39.9.59 1.41.59.51 0 1.02-.2 1.41-.59l7.78-7.78 2.81-2.81c.8-.78.8-2.07 0-2.86zM5.41 20L4 18.59l7.72-7.72 1.47 1.35L5.41 20z\"/>\n",
              "  </svg>\n",
              "      </button>\n",
              "      \n",
              "  <style>\n",
              "    .colab-df-container {\n",
              "      display:flex;\n",
              "      flex-wrap:wrap;\n",
              "      gap: 12px;\n",
              "    }\n",
              "\n",
              "    .colab-df-convert {\n",
              "      background-color: #E8F0FE;\n",
              "      border: none;\n",
              "      border-radius: 50%;\n",
              "      cursor: pointer;\n",
              "      display: none;\n",
              "      fill: #1967D2;\n",
              "      height: 32px;\n",
              "      padding: 0 0 0 0;\n",
              "      width: 32px;\n",
              "    }\n",
              "\n",
              "    .colab-df-convert:hover {\n",
              "      background-color: #E2EBFA;\n",
              "      box-shadow: 0px 1px 2px rgba(60, 64, 67, 0.3), 0px 1px 3px 1px rgba(60, 64, 67, 0.15);\n",
              "      fill: #174EA6;\n",
              "    }\n",
              "\n",
              "    [theme=dark] .colab-df-convert {\n",
              "      background-color: #3B4455;\n",
              "      fill: #D2E3FC;\n",
              "    }\n",
              "\n",
              "    [theme=dark] .colab-df-convert:hover {\n",
              "      background-color: #434B5C;\n",
              "      box-shadow: 0px 1px 3px 1px rgba(0, 0, 0, 0.15);\n",
              "      filter: drop-shadow(0px 1px 2px rgba(0, 0, 0, 0.3));\n",
              "      fill: #FFFFFF;\n",
              "    }\n",
              "  </style>\n",
              "\n",
              "      <script>\n",
              "        const buttonEl =\n",
              "          document.querySelector('#df-ed7a3bef-855e-45da-8755-6a8644d3cf16 button.colab-df-convert');\n",
              "        buttonEl.style.display =\n",
              "          google.colab.kernel.accessAllowed ? 'block' : 'none';\n",
              "\n",
              "        async function convertToInteractive(key) {\n",
              "          const element = document.querySelector('#df-ed7a3bef-855e-45da-8755-6a8644d3cf16');\n",
              "          const dataTable =\n",
              "            await google.colab.kernel.invokeFunction('convertToInteractive',\n",
              "                                                     [key], {});\n",
              "          if (!dataTable) return;\n",
              "\n",
              "          const docLinkHtml = 'Like what you see? Visit the ' +\n",
              "            '<a target=\"_blank\" href=https://colab.research.google.com/notebooks/data_table.ipynb>data table notebook</a>'\n",
              "            + ' to learn more about interactive tables.';\n",
              "          element.innerHTML = '';\n",
              "          dataTable['output_type'] = 'display_data';\n",
              "          await google.colab.output.renderOutput(dataTable, element);\n",
              "          const docLink = document.createElement('div');\n",
              "          docLink.innerHTML = docLinkHtml;\n",
              "          element.appendChild(docLink);\n",
              "        }\n",
              "      </script>\n",
              "    </div>\n",
              "  </div>\n",
              "  "
            ]
          },
          "metadata": {},
          "execution_count": 73
        }
      ]
    },
    {
      "cell_type": "code",
      "metadata": {
        "id": "Rlq3oTsEP23e",
        "colab": {
          "base_uri": "https://localhost:8080/",
          "height": 143
        },
        "outputId": "d9538946-52ae-4440-a073-7845759469de"
      },
      "source": [
        "data_test.tail(2)"
      ],
      "execution_count": 74,
      "outputs": [
        {
          "output_type": "execute_result",
          "data": {
            "text/plain": [
              "            W_U        W_C         R_L           C_C   A_T     C_D_L  \\\n",
              "Year                                                                   \n",
              "2018  36.450001  88.500000  115.699997  16752.830078  24.1  599619.0   \n",
              "2019  40.160000  89.400002   81.000000  16525.339844  25.5  599858.0   \n",
              "\n",
              "            L_B       Popu          P_F   Agri_pro  Prou_acre  \n",
              "Year                                                           \n",
              "2018  5996190.0  90.339996  2890.570068  99.199997  99.400002  \n",
              "2019  5995850.0  91.559998  2979.600098  99.300003  99.400002  "
            ],
            "text/html": [
              "\n",
              "  <div id=\"df-1bbae546-1f7a-431f-8bae-bb23b51b3d49\">\n",
              "    <div class=\"colab-df-container\">\n",
              "      <div>\n",
              "<style scoped>\n",
              "    .dataframe tbody tr th:only-of-type {\n",
              "        vertical-align: middle;\n",
              "    }\n",
              "\n",
              "    .dataframe tbody tr th {\n",
              "        vertical-align: top;\n",
              "    }\n",
              "\n",
              "    .dataframe thead th {\n",
              "        text-align: right;\n",
              "    }\n",
              "</style>\n",
              "<table border=\"1\" class=\"dataframe\">\n",
              "  <thead>\n",
              "    <tr style=\"text-align: right;\">\n",
              "      <th></th>\n",
              "      <th>W_U</th>\n",
              "      <th>W_C</th>\n",
              "      <th>R_L</th>\n",
              "      <th>C_C</th>\n",
              "      <th>A_T</th>\n",
              "      <th>C_D_L</th>\n",
              "      <th>L_B</th>\n",
              "      <th>Popu</th>\n",
              "      <th>P_F</th>\n",
              "      <th>Agri_pro</th>\n",
              "      <th>Prou_acre</th>\n",
              "    </tr>\n",
              "    <tr>\n",
              "      <th>Year</th>\n",
              "      <th></th>\n",
              "      <th></th>\n",
              "      <th></th>\n",
              "      <th></th>\n",
              "      <th></th>\n",
              "      <th></th>\n",
              "      <th></th>\n",
              "      <th></th>\n",
              "      <th></th>\n",
              "      <th></th>\n",
              "      <th></th>\n",
              "    </tr>\n",
              "  </thead>\n",
              "  <tbody>\n",
              "    <tr>\n",
              "      <th>2018</th>\n",
              "      <td>36.450001</td>\n",
              "      <td>88.500000</td>\n",
              "      <td>115.699997</td>\n",
              "      <td>16752.830078</td>\n",
              "      <td>24.1</td>\n",
              "      <td>599619.0</td>\n",
              "      <td>5996190.0</td>\n",
              "      <td>90.339996</td>\n",
              "      <td>2890.570068</td>\n",
              "      <td>99.199997</td>\n",
              "      <td>99.400002</td>\n",
              "    </tr>\n",
              "    <tr>\n",
              "      <th>2019</th>\n",
              "      <td>40.160000</td>\n",
              "      <td>89.400002</td>\n",
              "      <td>81.000000</td>\n",
              "      <td>16525.339844</td>\n",
              "      <td>25.5</td>\n",
              "      <td>599858.0</td>\n",
              "      <td>5995850.0</td>\n",
              "      <td>91.559998</td>\n",
              "      <td>2979.600098</td>\n",
              "      <td>99.300003</td>\n",
              "      <td>99.400002</td>\n",
              "    </tr>\n",
              "  </tbody>\n",
              "</table>\n",
              "</div>\n",
              "      <button class=\"colab-df-convert\" onclick=\"convertToInteractive('df-1bbae546-1f7a-431f-8bae-bb23b51b3d49')\"\n",
              "              title=\"Convert this dataframe to an interactive table.\"\n",
              "              style=\"display:none;\">\n",
              "        \n",
              "  <svg xmlns=\"http://www.w3.org/2000/svg\" height=\"24px\"viewBox=\"0 0 24 24\"\n",
              "       width=\"24px\">\n",
              "    <path d=\"M0 0h24v24H0V0z\" fill=\"none\"/>\n",
              "    <path d=\"M18.56 5.44l.94 2.06.94-2.06 2.06-.94-2.06-.94-.94-2.06-.94 2.06-2.06.94zm-11 1L8.5 8.5l.94-2.06 2.06-.94-2.06-.94L8.5 2.5l-.94 2.06-2.06.94zm10 10l.94 2.06.94-2.06 2.06-.94-2.06-.94-.94-2.06-.94 2.06-2.06.94z\"/><path d=\"M17.41 7.96l-1.37-1.37c-.4-.4-.92-.59-1.43-.59-.52 0-1.04.2-1.43.59L10.3 9.45l-7.72 7.72c-.78.78-.78 2.05 0 2.83L4 21.41c.39.39.9.59 1.41.59.51 0 1.02-.2 1.41-.59l7.78-7.78 2.81-2.81c.8-.78.8-2.07 0-2.86zM5.41 20L4 18.59l7.72-7.72 1.47 1.35L5.41 20z\"/>\n",
              "  </svg>\n",
              "      </button>\n",
              "      \n",
              "  <style>\n",
              "    .colab-df-container {\n",
              "      display:flex;\n",
              "      flex-wrap:wrap;\n",
              "      gap: 12px;\n",
              "    }\n",
              "\n",
              "    .colab-df-convert {\n",
              "      background-color: #E8F0FE;\n",
              "      border: none;\n",
              "      border-radius: 50%;\n",
              "      cursor: pointer;\n",
              "      display: none;\n",
              "      fill: #1967D2;\n",
              "      height: 32px;\n",
              "      padding: 0 0 0 0;\n",
              "      width: 32px;\n",
              "    }\n",
              "\n",
              "    .colab-df-convert:hover {\n",
              "      background-color: #E2EBFA;\n",
              "      box-shadow: 0px 1px 2px rgba(60, 64, 67, 0.3), 0px 1px 3px 1px rgba(60, 64, 67, 0.15);\n",
              "      fill: #174EA6;\n",
              "    }\n",
              "\n",
              "    [theme=dark] .colab-df-convert {\n",
              "      background-color: #3B4455;\n",
              "      fill: #D2E3FC;\n",
              "    }\n",
              "\n",
              "    [theme=dark] .colab-df-convert:hover {\n",
              "      background-color: #434B5C;\n",
              "      box-shadow: 0px 1px 3px 1px rgba(0, 0, 0, 0.15);\n",
              "      filter: drop-shadow(0px 1px 2px rgba(0, 0, 0, 0.3));\n",
              "      fill: #FFFFFF;\n",
              "    }\n",
              "  </style>\n",
              "\n",
              "      <script>\n",
              "        const buttonEl =\n",
              "          document.querySelector('#df-1bbae546-1f7a-431f-8bae-bb23b51b3d49 button.colab-df-convert');\n",
              "        buttonEl.style.display =\n",
              "          google.colab.kernel.accessAllowed ? 'block' : 'none';\n",
              "\n",
              "        async function convertToInteractive(key) {\n",
              "          const element = document.querySelector('#df-1bbae546-1f7a-431f-8bae-bb23b51b3d49');\n",
              "          const dataTable =\n",
              "            await google.colab.kernel.invokeFunction('convertToInteractive',\n",
              "                                                     [key], {});\n",
              "          if (!dataTable) return;\n",
              "\n",
              "          const docLinkHtml = 'Like what you see? Visit the ' +\n",
              "            '<a target=\"_blank\" href=https://colab.research.google.com/notebooks/data_table.ipynb>data table notebook</a>'\n",
              "            + ' to learn more about interactive tables.';\n",
              "          element.innerHTML = '';\n",
              "          dataTable['output_type'] = 'display_data';\n",
              "          await google.colab.output.renderOutput(dataTable, element);\n",
              "          const docLink = document.createElement('div');\n",
              "          docLink.innerHTML = docLinkHtml;\n",
              "          element.appendChild(docLink);\n",
              "        }\n",
              "      </script>\n",
              "    </div>\n",
              "  </div>\n",
              "  "
            ]
          },
          "metadata": {},
          "execution_count": 74
        }
      ]
    },
    {
      "cell_type": "code",
      "metadata": {
        "id": "0AJaPyCGsNK3",
        "colab": {
          "base_uri": "https://localhost:8080/"
        },
        "outputId": "38145f5a-3501-4f12-8d2b-c73ea183baa7"
      },
      "source": [
        "data_training.shape"
      ],
      "execution_count": 75,
      "outputs": [
        {
          "output_type": "execute_result",
          "data": {
            "text/plain": [
              "(32, 11)"
            ]
          },
          "metadata": {},
          "execution_count": 75
        }
      ]
    },
    {
      "cell_type": "code",
      "metadata": {
        "id": "tx3lwROPsTAS",
        "colab": {
          "base_uri": "https://localhost:8080/"
        },
        "outputId": "8c4c730b-4b6d-433c-abfe-a1577044dfaa"
      },
      "source": [
        "data_test.shape"
      ],
      "execution_count": 76,
      "outputs": [
        {
          "output_type": "execute_result",
          "data": {
            "text/plain": [
              "(8, 11)"
            ]
          },
          "metadata": {},
          "execution_count": 76
        }
      ]
    },
    {
      "cell_type": "code",
      "metadata": {
        "id": "9PoMH-v3siuT"
      },
      "source": [
        "data_training = data_training.values\n",
        "data_training= data_training.astype(\"float32\")"
      ],
      "execution_count": 77,
      "outputs": []
    },
    {
      "cell_type": "code",
      "metadata": {
        "id": "zL2P6QjmslRk"
      },
      "source": [
        "data_test = data_test.values\n",
        "data_test= data_test.astype(\"float32\")"
      ],
      "execution_count": 78,
      "outputs": []
    },
    {
      "cell_type": "markdown",
      "metadata": {
        "id": "eMN3dvsD5Rwx"
      },
      "source": [
        "####Feature Scaling"
      ]
    },
    {
      "cell_type": "code",
      "metadata": {
        "id": "VHrKaQdu5bFr",
        "colab": {
          "base_uri": "https://localhost:8080/"
        },
        "outputId": "84cd0135-29f4-4cba-b819-55009b883c3e"
      },
      "source": [
        "from sklearn.preprocessing import MinMaxScaler\n",
        "scaler = MinMaxScaler()\n",
        "data_training = scaler.fit_transform(data_training)\n",
        "data_training"
      ],
      "execution_count": 79,
      "outputs": [
        {
          "output_type": "execute_result",
          "data": {
            "text/plain": [
              "array([[0.44550943, 0.02586222, 0.42712525, 0.03143883, 0.26470566,\n",
              "        0.        , 0.        , 0.        , 0.        , 0.21148038,\n",
              "        0.08241749],\n",
              "       [0.44550943, 0.02586222, 0.44438052, 0.0299809 , 0.17647028,\n",
              "        0.03947887, 0.03947887, 0.0310868 , 0.0028931 , 0.19486403,\n",
              "        0.13736248],\n",
              "       [0.47578204, 0.02155185, 0.48809382, 0.02636504, 0.0882349 ,\n",
              "        0.08000204, 0.08000204, 0.06217349, 0.00444297, 0.22960722,\n",
              "        0.5439563 ],\n",
              "       [0.47527742, 0.01293111, 0.5168526 , 0.01578355, 0.        ,\n",
              "        0.13397345, 0.13397351, 0.09378266, 0.00929925, 0.28851962,\n",
              "        0.6043954 ],\n",
              "       [0.47275472, 0.        , 0.57437015, 0.        , 0.23529387,\n",
              "        0.1816028 , 0.18160287, 0.12695932, 0.01260565, 0.29607248,\n",
              "        0.47802162],\n",
              "       [0.49899077, 0.02155185, 0.34660068, 0.02453399, 0.38235283,\n",
              "        0.22210053, 0.22210053, 0.16248691, 0.02014837, 0.41238666,\n",
              "        0.5714288 ],\n",
              "       [0.5383451 , 0.05603456, 0.21891177, 0.06346583, 0.20588207,\n",
              "        0.25877765, 0.2587777 , 0.20193315, 0.02583125, 0.49999988,\n",
              "        0.40659332],\n",
              "       [0.5272453 , 0.06034493, 1.        , 0.07089591, 0.17647028,\n",
              "        0.2959642 , 0.29596427, 0.24085677, 0.037197  , 0.8368579 ,\n",
              "        0.445055  ],\n",
              "       [0.49545908, 0.0646553 , 0.36615667, 0.0752418 , 0.26470566,\n",
              "        0.23412248, 0.31150112, 0.27951944, 0.037197  , 0.06797588,\n",
              "        0.24725246],\n",
              "       [0.55297685, 0.10775852, 0.42942595, 0.12155223, 0.14705896,\n",
              "        0.28241405, 0.362951  , 0.31504703, 0.049596  , 0.12386703,\n",
              "        0.32417583],\n",
              "       [0.55247235, 0.23275876, 0.7204647 , 0.26640248, 0.23529387,\n",
              "        0.34445956, 0.39988288, 0.2554859 , 0.04236325, 0.33987916,\n",
              "        0.6483512 ],\n",
              "       [0.8511603 , 0.2887931 , 0.5237547 , 0.32955575, 0.20588207,\n",
              "        0.38113675, 0.43961647, 0.28369915, 0.04236325, 0.36253774,\n",
              "        0.5879121 ],\n",
              "       [1.        , 0.30603456, 0.44668123, 0.34705162, 0.05882311,\n",
              "        0.41569987, 0.4762936 , 0.3121735 , 0.04236325, 0.43957698,\n",
              "        0.6318679 ],\n",
              "       [0.98234105, 0.34913802, 0.48119175, 0.40169024, 0.29411745,\n",
              "        0.44842914, 0.510169  , 0.34143162, 0.03616375, 0.50151074,\n",
              "        0.6318679 ],\n",
              "       [0.25832486, 0.40086198, 0.38801333, 0.45664382, 0.26470566,\n",
              "        0.47923538, 0.54301906, 0.37121212, 0.0351305 , 0.62688816,\n",
              "        0.6318679 ],\n",
              "       [0.9228053 , 0.5646553 , 0.6479926 , 0.64531064, 0.26470566,\n",
              "        0.51173294, 0.57717896, 0.40517235, 0.05445227, 0.78247726,\n",
              "        0.6318679 ],\n",
              "       [0.34561038, 0.54310346, 0.2741286 , 0.62160254, 0.38235283,\n",
              "        0.55397785, 0.62096465, 0.43652034, 0.07460064, 0.82930505,\n",
              "        0.6318679 ],\n",
              "       [0.25630665, 0.525862  , 0.31324053, 0.59954596, 0.23529387,\n",
              "        0.60252416, 0.6708863 , 0.46812952, 0.06891777, 1.0000001 ,\n",
              "        0.5879121 ],\n",
              "       [0.25933397, 0.5560343 , 0.46048543, 0.63403845, 0.5882354 ,\n",
              "        0.6413815 , 0.7115114 , 0.5007837 , 0.12439296, 0.7779454 ,\n",
              "        0.20329618],\n",
              "       [0.23814332, 0.5732758 , 0.24536982, 0.6540024 , 0.38235283,\n",
              "        0.676617  , 0.7481121 , 0.5339602 , 0.20137009, 0.08006036,\n",
              "        0.36263704],\n",
              "       [0.24722493, 0.70689654, 0.1383872 , 0.80893016, 0.26470566,\n",
              "        0.7075889 , 0.78042114, 0.5676594 , 0.33176625, 0.13746226,\n",
              "        0.5494504 ],\n",
              "       [0.40262353, 0.5775862 , 0.32244334, 0.6573944 , 0.41176462,\n",
              "        0.7377609 , 0.8118514 , 0.6021421 , 0.33462834, 0.216012  ,\n",
              "        0.5494504 ],\n",
              "       [0.28254282, 0.61637926, 0.1993558 , 0.77094793, 0.4411764 ,\n",
              "        0.7573323 , 0.832495  , 0.6374085 , 0.3689426 , 0.36253774,\n",
              "        0.72527456],\n",
              "       [0.3420787 , 0.63793087, 0.2626251 , 0.77497864, 0.4411764 ,\n",
              "        0.7814857 , 0.85576415, 0.6734588 , 0.4400302 , 0.3957703 ,\n",
              "        0.69780207],\n",
              "       [0.40766895, 0.6681037 , 0.15909351, 0.80287194, 0.4411764 ,\n",
              "        0.8043351 , 0.88301706, 0.7100313 , 0.46758696, 0.42296064,\n",
              "        0.69780207],\n",
              "       [0.        , 0.7025862 , 0.7342689 , 0.9305153 , 0.41176462,\n",
              "        0.82652986, 0.90665317, 0.74764884, 0.537879  , 0.5241693 ,\n",
              "        0.86263704],\n",
              "       [0.56357217, 0.72844815, 0.01760037, 0.93107986, 0.38235283,\n",
              "        0.93004346, 0.9300412 , 0.7857889 , 0.595183  , 0.5498489 ,\n",
              "        0.9120879 ],\n",
              "       [0.6205852 , 0.7715516 , 0.01621994, 0.9549    , 0.47058773,\n",
              "        0.95032036, 0.95032036, 0.82314515, 0.63701934, 0.6208459 ,\n",
              "        1.        ],\n",
              "       [0.6594348 , 0.7715516 , 0.        , 0.9556558 , 0.6176467 ,\n",
              "        0.971104  , 0.97110415, 0.86468136, 0.69725776, 0.65105736,\n",
              "        0.89560413],\n",
              "       [0.24167514, 0.875     , 0.16139421, 1.        , 1.        ,\n",
              "        0.98974824, 0.98974836, 0.9062172 , 0.7093158 , 0.04531729,\n",
              "        0.12637329],\n",
              "       [0.40464175, 0.9267242 , 0.17059702, 0.9388995 , 0.38235283,\n",
              "        0.9947506 , 0.9947506 , 0.956113  , 0.93053466, 0.06797588,\n",
              "        0.        ],\n",
              "       [0.05499494, 1.        , 0.44092947, 0.9832761 , 0.5588236 ,\n",
              "        1.        , 1.0000001 , 1.0000001 , 1.        , 0.        ,\n",
              "        0.71428585]], dtype=float32)"
            ]
          },
          "metadata": {},
          "execution_count": 79
        }
      ]
    },
    {
      "cell_type": "code",
      "metadata": {
        "id": "-uLby8QxtMXV",
        "colab": {
          "base_uri": "https://localhost:8080/"
        },
        "outputId": "767c80dd-fb51-4731-dd05-62b66a228248"
      },
      "source": [
        "inputs = scaler.transform(data_test)\n",
        "inputs"
      ],
      "execution_count": 80,
      "outputs": [
        {
          "output_type": "execute_result",
          "data": {
            "text/plain": [
              "array([[ 0.11755788,  1.1163793 ,  0.5812723 ,  1.0360157 ,  0.20588207,\n",
              "         1.0071189 ,  1.007119  ,  1.0559038 ,  1.0319481 ,  0.04229605,\n",
              "         0.45054913],\n",
              "       [ 0.40565085,  1.1551723 ,  0.25227192,  1.1281633 ,  0.29411745,\n",
              "         1.0102594 ,  1.0102595 ,  1.0715779 ,  1.533188  ,  0.04078543,\n",
              "        -0.17032957],\n",
              "       [ 0.4278506 ,  1.2025859 ,  0.15909351,  1.1646879 ,  0.5294118 ,\n",
              "         1.0170829 ,  1.0170829 ,  1.1342739 ,  1.8556653 ,  0.06948638,\n",
              "         0.34615326],\n",
              "       [ 0.35166502,  1.2931035 ,  0.4351777 ,  1.1821442 ,  0.11764669,\n",
              "         1.023858  ,  1.0238581 ,  1.1786834 ,  2.1993656 ,  0.05135953,\n",
              "         0.37912083],\n",
              "       [ 0.70030284,  1.3965516 ,  0.43977913,  1.1862919 ,  0.5882354 ,\n",
              "         1.0236874 ,  1.0236874 ,  1.2014107 ,  2.5328984 , -0.03474319,\n",
              "         1.1318679 ],\n",
              "       [ 0.6130171 ,  1.4568965 ,  0.6733003 ,  1.2598658 ,  0.8823528 ,\n",
              "         1.0263363 ,  1.0263363 ,  1.2392894 ,  2.6668181 ,  0.03323257,\n",
              "         1.2692308 ],\n",
              "       [ 0.33703327,  1.5603447 ,  1.3232485 ,  1.3315384 ,  0.26470566,\n",
              "         1.027518  ,  1.0275182 ,  1.2594043 ,  2.9670496 , -0.01812696,\n",
              "         0.16483498],\n",
              "       [ 0.52421784,  1.599138  ,  0.9240768 ,  1.2784698 ,  0.6764703 ,\n",
              "         1.0281268 ,  1.0274315 ,  1.2912747 ,  3.05904   , -0.01661623,\n",
              "         0.16483498]], dtype=float32)"
            ]
          },
          "metadata": {},
          "execution_count": 80
        }
      ]
    },
    {
      "cell_type": "code",
      "source": [
        "# split a multivariate sequence into samples\n",
        "def split_sequences(sequences, n_steps_in, n_steps_out):\n",
        "\tX_train, y_train = list(), list()\n",
        "\tfor i in range(len(sequences)):\n",
        "\t\t# find the end of this pattern\n",
        "\t\tend_ix = i + n_steps_in \n",
        "\t\tout_end_ix = end_ix + n_steps_out\n",
        "\t\t# check if we are beyond the dataset\n",
        "\t\tif out_end_ix > len(sequences):\n",
        "\t\t\tbreak\n",
        "\t\t# gather input and output parts of the pattern\n",
        "\t\tseq_x, seq_y = sequences[i:end_ix, 2:], sequences[end_ix:out_end_ix, 0]\n",
        "\t\tX_train.append(seq_x)\n",
        "\t\ty_train.append(seq_y)\n",
        "\treturn np.array(X_train), np.array(y_train)"
      ],
      "metadata": {
        "id": "GflHOF0zxOxf"
      },
      "execution_count": 81,
      "outputs": []
    },
    {
      "cell_type": "code",
      "metadata": {
        "id": "M-MLdXZx6rt_"
      },
      "source": [
        "trainX, trainY = split_sequences(data_training, 3,5)"
      ],
      "execution_count": 82,
      "outputs": []
    },
    {
      "cell_type": "code",
      "metadata": {
        "id": "1s79tKcm76jO",
        "colab": {
          "base_uri": "https://localhost:8080/"
        },
        "outputId": "8b902a06-8b74-4df9-dc83-3aef76d197f1"
      },
      "source": [
        "print(trainX.shape)\n",
        "print(trainY.shape)"
      ],
      "execution_count": 83,
      "outputs": [
        {
          "output_type": "stream",
          "name": "stdout",
          "text": [
            "(25, 3, 9)\n",
            "(25, 5)\n"
          ]
        }
      ]
    },
    {
      "cell_type": "code",
      "source": [
        "n_input = trainX.shape[1] * trainX.shape[2]"
      ],
      "metadata": {
        "id": "QNC1VSon5Cur"
      },
      "execution_count": 84,
      "outputs": []
    },
    {
      "cell_type": "code",
      "source": [
        "trainX = trainX.reshape((trainX.shape[0], n_input))\n"
      ],
      "metadata": {
        "id": "hMl_YtP-02r6"
      },
      "execution_count": 85,
      "outputs": []
    },
    {
      "cell_type": "code",
      "source": [
        "trainX.shape[0]"
      ],
      "metadata": {
        "colab": {
          "base_uri": "https://localhost:8080/"
        },
        "id": "LDtN3vRNy5Dl",
        "outputId": "f566d06f-d02c-42a3-cfcd-3a12d2fcd124"
      },
      "execution_count": 86,
      "outputs": [
        {
          "output_type": "execute_result",
          "data": {
            "text/plain": [
              "25"
            ]
          },
          "metadata": {},
          "execution_count": 86
        }
      ]
    },
    {
      "cell_type": "code",
      "source": [
        "trainX.shape[1]"
      ],
      "metadata": {
        "colab": {
          "base_uri": "https://localhost:8080/"
        },
        "id": "oQ1t7q6c19d2",
        "outputId": "bc1d75ec-4979-41aa-a448-c7251a7073d8"
      },
      "execution_count": 87,
      "outputs": [
        {
          "output_type": "execute_result",
          "data": {
            "text/plain": [
              "27"
            ]
          },
          "metadata": {},
          "execution_count": 87
        }
      ]
    },
    {
      "cell_type": "code",
      "metadata": {
        "id": "DVu2p3m9A66k"
      },
      "source": [
        "testX, testY = split_sequences(inputs, 3,5)"
      ],
      "execution_count": 88,
      "outputs": []
    },
    {
      "cell_type": "code",
      "metadata": {
        "id": "DyXdR3miA9NG",
        "colab": {
          "base_uri": "https://localhost:8080/"
        },
        "outputId": "1be29168-876c-4dc2-c6c0-6f9d12764a1b"
      },
      "source": [
        "testX.shape"
      ],
      "execution_count": 89,
      "outputs": [
        {
          "output_type": "execute_result",
          "data": {
            "text/plain": [
              "(1, 3, 9)"
            ]
          },
          "metadata": {},
          "execution_count": 89
        }
      ]
    },
    {
      "cell_type": "code",
      "source": [
        "m_input = testX.shape[1] * testX.shape[2]"
      ],
      "metadata": {
        "id": "RV_9nZwH5k1r"
      },
      "execution_count": 90,
      "outputs": []
    },
    {
      "cell_type": "code",
      "source": [
        "testX = testX.reshape((testX.shape[0], m_input))\n"
      ],
      "metadata": {
        "id": "PNGJagKU5k1v"
      },
      "execution_count": 91,
      "outputs": []
    },
    {
      "cell_type": "code",
      "metadata": {
        "id": "SdPHwAJABBf0",
        "colab": {
          "base_uri": "https://localhost:8080/"
        },
        "outputId": "c1016297-6b0f-402e-e934-de889d3239c5"
      },
      "source": [
        "testY.shape"
      ],
      "execution_count": 92,
      "outputs": [
        {
          "output_type": "execute_result",
          "data": {
            "text/plain": [
              "(1, 5)"
            ]
          },
          "metadata": {},
          "execution_count": 92
        }
      ]
    },
    {
      "cell_type": "code",
      "source": [
        "model = Sequential()\n",
        "model.add(Dense(units=100, activation='relu', input_dim=n_input))\n",
        "model.add(Dropout(0.2))\n",
        "model.add(Dense(units=100, activation='relu'))\n",
        "model.add(Dropout(0.2))\n",
        "model.add(Dense(units=100, activation='relu'))\n",
        "model.add(Dropout(0.2))\n",
        "model.add(Dense(units=100, activation='relu'))\n",
        "model.add(Dropout(0.2))\n",
        "model.add(Dense(units=100, activation='relu'))\n",
        "model.add(Dropout(0.2))\n",
        "model.add(Dense(units=100, activation='relu'))\n",
        "model.add(Dense(units=5))\n",
        "\n"
      ],
      "metadata": {
        "id": "-hHrvTJpDQBX"
      },
      "execution_count": 96,
      "outputs": []
    },
    {
      "cell_type": "code",
      "source": [
        "model.compile(loss='mean_squared_error', optimizer=Adam())"
      ],
      "metadata": {
        "id": "i7z-O-PvDQBc"
      },
      "execution_count": 97,
      "outputs": []
    },
    {
      "cell_type": "code",
      "source": [
        "lrd = ReduceLROnPlateau(monitor = 'val_loss',\n",
        "                         patience = 200,\n",
        "                         verbose = 1,\n",
        "                         factor = 0.75,\n",
        "                         min_lr = 1e-4)\n",
        "\n",
        "mcp = ModelCheckpoint('model.h5')\n",
        "\n",
        "es = EarlyStopping(verbose=1, patience=600)"
      ],
      "metadata": {
        "id": "-e8BfCRoDQBe"
      },
      "execution_count": 98,
      "outputs": []
    },
    {
      "cell_type": "code",
      "source": [
        "history = model.fit(trainX, trainY, batch_size=1, epochs=500, callbacks=[lrd, mcp, es])"
      ],
      "metadata": {
        "colab": {
          "base_uri": "https://localhost:8080/"
        },
        "outputId": "5d99bc45-3b56-45cd-df43-9ba1a11657b3",
        "id": "uRuKEvxbDQBf"
      },
      "execution_count": 99,
      "outputs": [
        {
          "output_type": "stream",
          "name": "stdout",
          "text": [
            "Epoch 1/500\n",
            "21/25 [========================>.....] - ETA: 0s - loss: 0.1858 "
          ]
        },
        {
          "output_type": "stream",
          "name": "stderr",
          "text": [
            "WARNING:tensorflow:Learning rate reduction is conditioned on metric `val_loss` which is not available. Available metrics are: loss,lr\n",
            "WARNING:tensorflow:Early stopping conditioned on metric `val_loss` which is not available. Available metrics are: loss,lr\n"
          ]
        },
        {
          "output_type": "stream",
          "name": "stdout",
          "text": [
            "\b\b\b\b\b\b\b\b\b\b\b\b\b\b\b\b\b\b\b\b\b\b\b\b\b\b\b\b\b\b\b\b\b\b\b\b\b\b\b\b\b\b\b\b\b\b\b\b\b\b\b\b\b\b\b\b\b\b\b\b\b\b\b\r25/25 [==============================] - 1s 5ms/step - loss: 0.1794 - lr: 0.0010\n",
            "Epoch 2/500\n",
            "17/25 [===================>..........] - ETA: 0s - loss: 0.1158"
          ]
        },
        {
          "output_type": "stream",
          "name": "stderr",
          "text": [
            "WARNING:tensorflow:Learning rate reduction is conditioned on metric `val_loss` which is not available. Available metrics are: loss,lr\n",
            "WARNING:tensorflow:Early stopping conditioned on metric `val_loss` which is not available. Available metrics are: loss,lr\n"
          ]
        },
        {
          "output_type": "stream",
          "name": "stdout",
          "text": [
            "\b\b\b\b\b\b\b\b\b\b\b\b\b\b\b\b\b\b\b\b\b\b\b\b\b\b\b\b\b\b\b\b\b\b\b\b\b\b\b\b\b\b\b\b\b\b\b\b\b\b\b\b\b\b\b\b\b\b\b\b\b\b\b\r25/25 [==============================] - 0s 5ms/step - loss: 0.1025 - lr: 0.0010\n",
            "Epoch 3/500\n",
            "23/25 [==========================>...] - ETA: 0s - loss: 0.0632"
          ]
        },
        {
          "output_type": "stream",
          "name": "stderr",
          "text": [
            "WARNING:tensorflow:Learning rate reduction is conditioned on metric `val_loss` which is not available. Available metrics are: loss,lr\n",
            "WARNING:tensorflow:Early stopping conditioned on metric `val_loss` which is not available. Available metrics are: loss,lr\n"
          ]
        },
        {
          "output_type": "stream",
          "name": "stdout",
          "text": [
            "\b\b\b\b\b\b\b\b\b\b\b\b\b\b\b\b\b\b\b\b\b\b\b\b\b\b\b\b\b\b\b\b\b\b\b\b\b\b\b\b\b\b\b\b\b\b\b\b\b\b\b\b\b\b\b\b\b\b\b\b\b\b\b\r25/25 [==============================] - 0s 5ms/step - loss: 0.0689 - lr: 0.0010\n",
            "Epoch 4/500\n",
            "17/25 [===================>..........] - ETA: 0s - loss: 0.0759"
          ]
        },
        {
          "output_type": "stream",
          "name": "stderr",
          "text": [
            "WARNING:tensorflow:Learning rate reduction is conditioned on metric `val_loss` which is not available. Available metrics are: loss,lr\n",
            "WARNING:tensorflow:Early stopping conditioned on metric `val_loss` which is not available. Available metrics are: loss,lr\n"
          ]
        },
        {
          "output_type": "stream",
          "name": "stdout",
          "text": [
            "\b\b\b\b\b\b\b\b\b\b\b\b\b\b\b\b\b\b\b\b\b\b\b\b\b\b\b\b\b\b\b\b\b\b\b\b\b\b\b\b\b\b\b\b\b\b\b\b\b\b\b\b\b\b\b\b\b\b\b\b\b\b\b\r25/25 [==============================] - 0s 6ms/step - loss: 0.0732 - lr: 0.0010\n",
            "Epoch 5/500\n",
            "21/25 [========================>.....] - ETA: 0s - loss: 0.0663"
          ]
        },
        {
          "output_type": "stream",
          "name": "stderr",
          "text": [
            "WARNING:tensorflow:Learning rate reduction is conditioned on metric `val_loss` which is not available. Available metrics are: loss,lr\n",
            "WARNING:tensorflow:Early stopping conditioned on metric `val_loss` which is not available. Available metrics are: loss,lr\n"
          ]
        },
        {
          "output_type": "stream",
          "name": "stdout",
          "text": [
            "\b\b\b\b\b\b\b\b\b\b\b\b\b\b\b\b\b\b\b\b\b\b\b\b\b\b\b\b\b\b\b\b\b\b\b\b\b\b\b\b\b\b\b\b\b\b\b\b\b\b\b\b\b\b\b\b\b\b\b\b\b\b\b\r25/25 [==============================] - 0s 5ms/step - loss: 0.0674 - lr: 0.0010\n",
            "Epoch 6/500\n",
            "19/25 [=====================>........] - ETA: 0s - loss: 0.0657"
          ]
        },
        {
          "output_type": "stream",
          "name": "stderr",
          "text": [
            "WARNING:tensorflow:Learning rate reduction is conditioned on metric `val_loss` which is not available. Available metrics are: loss,lr\n",
            "WARNING:tensorflow:Early stopping conditioned on metric `val_loss` which is not available. Available metrics are: loss,lr\n"
          ]
        },
        {
          "output_type": "stream",
          "name": "stdout",
          "text": [
            "\b\b\b\b\b\b\b\b\b\b\b\b\b\b\b\b\b\b\b\b\b\b\b\b\b\b\b\b\b\b\b\b\b\b\b\b\b\b\b\b\b\b\b\b\b\b\b\b\b\b\b\b\b\b\b\b\b\b\b\b\b\b\b\r25/25 [==============================] - 0s 5ms/step - loss: 0.0633 - lr: 0.0010\n",
            "Epoch 7/500\n",
            "19/25 [=====================>........] - ETA: 0s - loss: 0.0525"
          ]
        },
        {
          "output_type": "stream",
          "name": "stderr",
          "text": [
            "WARNING:tensorflow:Learning rate reduction is conditioned on metric `val_loss` which is not available. Available metrics are: loss,lr\n",
            "WARNING:tensorflow:Early stopping conditioned on metric `val_loss` which is not available. Available metrics are: loss,lr\n"
          ]
        },
        {
          "output_type": "stream",
          "name": "stdout",
          "text": [
            "\b\b\b\b\b\b\b\b\b\b\b\b\b\b\b\b\b\b\b\b\b\b\b\b\b\b\b\b\b\b\b\b\b\b\b\b\b\b\b\b\b\b\b\b\b\b\b\b\b\b\b\b\b\b\b\b\b\b\b\b\b\b\b\r25/25 [==============================] - 0s 5ms/step - loss: 0.0581 - lr: 0.0010\n",
            "Epoch 8/500\n",
            "19/25 [=====================>........] - ETA: 0s - loss: 0.0882"
          ]
        },
        {
          "output_type": "stream",
          "name": "stderr",
          "text": [
            "WARNING:tensorflow:Learning rate reduction is conditioned on metric `val_loss` which is not available. Available metrics are: loss,lr\n",
            "WARNING:tensorflow:Early stopping conditioned on metric `val_loss` which is not available. Available metrics are: loss,lr\n"
          ]
        },
        {
          "output_type": "stream",
          "name": "stdout",
          "text": [
            "\b\b\b\b\b\b\b\b\b\b\b\b\b\b\b\b\b\b\b\b\b\b\b\b\b\b\b\b\b\b\b\b\b\b\b\b\b\b\b\b\b\b\b\b\b\b\b\b\b\b\b\b\b\b\b\b\b\b\b\b\b\b\b\r25/25 [==============================] - 0s 5ms/step - loss: 0.0748 - lr: 0.0010\n",
            "Epoch 9/500\n",
            "18/25 [====================>.........] - ETA: 0s - loss: 0.0585"
          ]
        },
        {
          "output_type": "stream",
          "name": "stderr",
          "text": [
            "WARNING:tensorflow:Learning rate reduction is conditioned on metric `val_loss` which is not available. Available metrics are: loss,lr\n",
            "WARNING:tensorflow:Early stopping conditioned on metric `val_loss` which is not available. Available metrics are: loss,lr\n"
          ]
        },
        {
          "output_type": "stream",
          "name": "stdout",
          "text": [
            "\b\b\b\b\b\b\b\b\b\b\b\b\b\b\b\b\b\b\b\b\b\b\b\b\b\b\b\b\b\b\b\b\b\b\b\b\b\b\b\b\b\b\b\b\b\b\b\b\b\b\b\b\b\b\b\b\b\b\b\b\b\b\b\r25/25 [==============================] - 0s 5ms/step - loss: 0.0533 - lr: 0.0010\n",
            "Epoch 10/500\n",
            "23/25 [==========================>...] - ETA: 0s - loss: 0.0597"
          ]
        },
        {
          "output_type": "stream",
          "name": "stderr",
          "text": [
            "WARNING:tensorflow:Learning rate reduction is conditioned on metric `val_loss` which is not available. Available metrics are: loss,lr\n",
            "WARNING:tensorflow:Early stopping conditioned on metric `val_loss` which is not available. Available metrics are: loss,lr\n"
          ]
        },
        {
          "output_type": "stream",
          "name": "stdout",
          "text": [
            "\b\b\b\b\b\b\b\b\b\b\b\b\b\b\b\b\b\b\b\b\b\b\b\b\b\b\b\b\b\b\b\b\b\b\b\b\b\b\b\b\b\b\b\b\b\b\b\b\b\b\b\b\b\b\b\b\b\b\b\b\b\b\b\r25/25 [==============================] - 0s 4ms/step - loss: 0.0595 - lr: 0.0010\n",
            "Epoch 11/500\n",
            "19/25 [=====================>........] - ETA: 0s - loss: 0.0466"
          ]
        },
        {
          "output_type": "stream",
          "name": "stderr",
          "text": [
            "WARNING:tensorflow:Learning rate reduction is conditioned on metric `val_loss` which is not available. Available metrics are: loss,lr\n",
            "WARNING:tensorflow:Early stopping conditioned on metric `val_loss` which is not available. Available metrics are: loss,lr\n"
          ]
        },
        {
          "output_type": "stream",
          "name": "stdout",
          "text": [
            "\b\b\b\b\b\b\b\b\b\b\b\b\b\b\b\b\b\b\b\b\b\b\b\b\b\b\b\b\b\b\b\b\b\b\b\b\b\b\b\b\b\b\b\b\b\b\b\b\b\b\b\b\b\b\b\b\b\b\b\b\b\b\b\r25/25 [==============================] - 0s 5ms/step - loss: 0.0584 - lr: 0.0010\n",
            "Epoch 12/500\n",
            "20/25 [=======================>......] - ETA: 0s - loss: 0.0589"
          ]
        },
        {
          "output_type": "stream",
          "name": "stderr",
          "text": [
            "WARNING:tensorflow:Learning rate reduction is conditioned on metric `val_loss` which is not available. Available metrics are: loss,lr\n",
            "WARNING:tensorflow:Early stopping conditioned on metric `val_loss` which is not available. Available metrics are: loss,lr\n"
          ]
        },
        {
          "output_type": "stream",
          "name": "stdout",
          "text": [
            "\b\b\b\b\b\b\b\b\b\b\b\b\b\b\b\b\b\b\b\b\b\b\b\b\b\b\b\b\b\b\b\b\b\b\b\b\b\b\b\b\b\b\b\b\b\b\b\b\b\b\b\b\b\b\b\b\b\b\b\b\b\b\b\r25/25 [==============================] - 0s 5ms/step - loss: 0.0616 - lr: 0.0010\n",
            "Epoch 13/500\n",
            "19/25 [=====================>........] - ETA: 0s - loss: 0.0422"
          ]
        },
        {
          "output_type": "stream",
          "name": "stderr",
          "text": [
            "WARNING:tensorflow:Learning rate reduction is conditioned on metric `val_loss` which is not available. Available metrics are: loss,lr\n",
            "WARNING:tensorflow:Early stopping conditioned on metric `val_loss` which is not available. Available metrics are: loss,lr\n"
          ]
        },
        {
          "output_type": "stream",
          "name": "stdout",
          "text": [
            "\b\b\b\b\b\b\b\b\b\b\b\b\b\b\b\b\b\b\b\b\b\b\b\b\b\b\b\b\b\b\b\b\b\b\b\b\b\b\b\b\b\b\b\b\b\b\b\b\b\b\b\b\b\b\b\b\b\b\b\b\b\b\b\r25/25 [==============================] - 0s 5ms/step - loss: 0.0550 - lr: 0.0010\n",
            "Epoch 14/500\n",
            "18/25 [====================>.........] - ETA: 0s - loss: 0.0677"
          ]
        },
        {
          "output_type": "stream",
          "name": "stderr",
          "text": [
            "WARNING:tensorflow:Learning rate reduction is conditioned on metric `val_loss` which is not available. Available metrics are: loss,lr\n",
            "WARNING:tensorflow:Early stopping conditioned on metric `val_loss` which is not available. Available metrics are: loss,lr\n"
          ]
        },
        {
          "output_type": "stream",
          "name": "stdout",
          "text": [
            "\b\b\b\b\b\b\b\b\b\b\b\b\b\b\b\b\b\b\b\b\b\b\b\b\b\b\b\b\b\b\b\b\b\b\b\b\b\b\b\b\b\b\b\b\b\b\b\b\b\b\b\b\b\b\b\b\b\b\b\b\b\b\b\r25/25 [==============================] - 0s 5ms/step - loss: 0.0564 - lr: 0.0010\n",
            "Epoch 15/500\n",
            "21/25 [========================>.....] - ETA: 0s - loss: 0.0525"
          ]
        },
        {
          "output_type": "stream",
          "name": "stderr",
          "text": [
            "WARNING:tensorflow:Learning rate reduction is conditioned on metric `val_loss` which is not available. Available metrics are: loss,lr\n",
            "WARNING:tensorflow:Early stopping conditioned on metric `val_loss` which is not available. Available metrics are: loss,lr\n"
          ]
        },
        {
          "output_type": "stream",
          "name": "stdout",
          "text": [
            "\b\b\b\b\b\b\b\b\b\b\b\b\b\b\b\b\b\b\b\b\b\b\b\b\b\b\b\b\b\b\b\b\b\b\b\b\b\b\b\b\b\b\b\b\b\b\b\b\b\b\b\b\b\b\b\b\b\b\b\b\b\b\b\r25/25 [==============================] - 0s 5ms/step - loss: 0.0601 - lr: 0.0010\n",
            "Epoch 16/500\n",
            "20/25 [=======================>......] - ETA: 0s - loss: 0.0476"
          ]
        },
        {
          "output_type": "stream",
          "name": "stderr",
          "text": [
            "WARNING:tensorflow:Learning rate reduction is conditioned on metric `val_loss` which is not available. Available metrics are: loss,lr\n",
            "WARNING:tensorflow:Early stopping conditioned on metric `val_loss` which is not available. Available metrics are: loss,lr\n"
          ]
        },
        {
          "output_type": "stream",
          "name": "stdout",
          "text": [
            "\b\b\b\b\b\b\b\b\b\b\b\b\b\b\b\b\b\b\b\b\b\b\b\b\b\b\b\b\b\b\b\b\b\b\b\b\b\b\b\b\b\b\b\b\b\b\b\b\b\b\b\b\b\b\b\b\b\b\b\b\b\b\b\r25/25 [==============================] - 0s 5ms/step - loss: 0.0484 - lr: 0.0010\n",
            "Epoch 17/500\n",
            "18/25 [====================>.........] - ETA: 0s - loss: 0.0442"
          ]
        },
        {
          "output_type": "stream",
          "name": "stderr",
          "text": [
            "WARNING:tensorflow:Learning rate reduction is conditioned on metric `val_loss` which is not available. Available metrics are: loss,lr\n",
            "WARNING:tensorflow:Early stopping conditioned on metric `val_loss` which is not available. Available metrics are: loss,lr\n"
          ]
        },
        {
          "output_type": "stream",
          "name": "stdout",
          "text": [
            "\b\b\b\b\b\b\b\b\b\b\b\b\b\b\b\b\b\b\b\b\b\b\b\b\b\b\b\b\b\b\b\b\b\b\b\b\b\b\b\b\b\b\b\b\b\b\b\b\b\b\b\b\b\b\b\b\b\b\b\b\b\b\b\r25/25 [==============================] - 0s 5ms/step - loss: 0.0504 - lr: 0.0010\n",
            "Epoch 18/500\n",
            "16/25 [==================>...........] - ETA: 0s - loss: 0.0472"
          ]
        },
        {
          "output_type": "stream",
          "name": "stderr",
          "text": [
            "WARNING:tensorflow:Learning rate reduction is conditioned on metric `val_loss` which is not available. Available metrics are: loss,lr\n",
            "WARNING:tensorflow:Early stopping conditioned on metric `val_loss` which is not available. Available metrics are: loss,lr\n"
          ]
        },
        {
          "output_type": "stream",
          "name": "stdout",
          "text": [
            "\b\b\b\b\b\b\b\b\b\b\b\b\b\b\b\b\b\b\b\b\b\b\b\b\b\b\b\b\b\b\b\b\b\b\b\b\b\b\b\b\b\b\b\b\b\b\b\b\b\b\b\b\b\b\b\b\b\b\b\b\b\b\b\r25/25 [==============================] - 0s 5ms/step - loss: 0.0474 - lr: 0.0010\n",
            "Epoch 19/500\n",
            "20/25 [=======================>......] - ETA: 0s - loss: 0.0417"
          ]
        },
        {
          "output_type": "stream",
          "name": "stderr",
          "text": [
            "WARNING:tensorflow:Learning rate reduction is conditioned on metric `val_loss` which is not available. Available metrics are: loss,lr\n",
            "WARNING:tensorflow:Early stopping conditioned on metric `val_loss` which is not available. Available metrics are: loss,lr\n"
          ]
        },
        {
          "output_type": "stream",
          "name": "stdout",
          "text": [
            "\b\b\b\b\b\b\b\b\b\b\b\b\b\b\b\b\b\b\b\b\b\b\b\b\b\b\b\b\b\b\b\b\b\b\b\b\b\b\b\b\b\b\b\b\b\b\b\b\b\b\b\b\b\b\b\b\b\b\b\b\b\b\b\r25/25 [==============================] - 0s 5ms/step - loss: 0.0445 - lr: 0.0010\n",
            "Epoch 20/500\n",
            "19/25 [=====================>........] - ETA: 0s - loss: 0.0449"
          ]
        },
        {
          "output_type": "stream",
          "name": "stderr",
          "text": [
            "WARNING:tensorflow:Learning rate reduction is conditioned on metric `val_loss` which is not available. Available metrics are: loss,lr\n",
            "WARNING:tensorflow:Early stopping conditioned on metric `val_loss` which is not available. Available metrics are: loss,lr\n"
          ]
        },
        {
          "output_type": "stream",
          "name": "stdout",
          "text": [
            "\b\b\b\b\b\b\b\b\b\b\b\b\b\b\b\b\b\b\b\b\b\b\b\b\b\b\b\b\b\b\b\b\b\b\b\b\b\b\b\b\b\b\b\b\b\b\b\b\b\b\b\b\b\b\b\b\b\b\b\b\b\b\b\r25/25 [==============================] - 0s 5ms/step - loss: 0.0521 - lr: 0.0010\n",
            "Epoch 21/500\n",
            "19/25 [=====================>........] - ETA: 0s - loss: 0.0526"
          ]
        },
        {
          "output_type": "stream",
          "name": "stderr",
          "text": [
            "WARNING:tensorflow:Learning rate reduction is conditioned on metric `val_loss` which is not available. Available metrics are: loss,lr\n",
            "WARNING:tensorflow:Early stopping conditioned on metric `val_loss` which is not available. Available metrics are: loss,lr\n"
          ]
        },
        {
          "output_type": "stream",
          "name": "stdout",
          "text": [
            "\b\b\b\b\b\b\b\b\b\b\b\b\b\b\b\b\b\b\b\b\b\b\b\b\b\b\b\b\b\b\b\b\b\b\b\b\b\b\b\b\b\b\b\b\b\b\b\b\b\b\b\b\b\b\b\b\b\b\b\b\b\b\b\r25/25 [==============================] - 0s 5ms/step - loss: 0.0545 - lr: 0.0010\n",
            "Epoch 22/500\n",
            "22/25 [=========================>....] - ETA: 0s - loss: 0.0474"
          ]
        },
        {
          "output_type": "stream",
          "name": "stderr",
          "text": [
            "WARNING:tensorflow:Learning rate reduction is conditioned on metric `val_loss` which is not available. Available metrics are: loss,lr\n",
            "WARNING:tensorflow:Early stopping conditioned on metric `val_loss` which is not available. Available metrics are: loss,lr\n"
          ]
        },
        {
          "output_type": "stream",
          "name": "stdout",
          "text": [
            "\b\b\b\b\b\b\b\b\b\b\b\b\b\b\b\b\b\b\b\b\b\b\b\b\b\b\b\b\b\b\b\b\b\b\b\b\b\b\b\b\b\b\b\b\b\b\b\b\b\b\b\b\b\b\b\b\b\b\b\b\b\b\b\r25/25 [==============================] - 0s 4ms/step - loss: 0.0467 - lr: 0.0010\n",
            "Epoch 23/500\n",
            "18/25 [====================>.........] - ETA: 0s - loss: 0.0635"
          ]
        },
        {
          "output_type": "stream",
          "name": "stderr",
          "text": [
            "WARNING:tensorflow:Learning rate reduction is conditioned on metric `val_loss` which is not available. Available metrics are: loss,lr\n",
            "WARNING:tensorflow:Early stopping conditioned on metric `val_loss` which is not available. Available metrics are: loss,lr\n"
          ]
        },
        {
          "output_type": "stream",
          "name": "stdout",
          "text": [
            "\b\b\b\b\b\b\b\b\b\b\b\b\b\b\b\b\b\b\b\b\b\b\b\b\b\b\b\b\b\b\b\b\b\b\b\b\b\b\b\b\b\b\b\b\b\b\b\b\b\b\b\b\b\b\b\b\b\b\b\b\b\b\b\r25/25 [==============================] - 0s 5ms/step - loss: 0.0535 - lr: 0.0010\n",
            "Epoch 24/500\n",
            "20/25 [=======================>......] - ETA: 0s - loss: 0.0386"
          ]
        },
        {
          "output_type": "stream",
          "name": "stderr",
          "text": [
            "WARNING:tensorflow:Learning rate reduction is conditioned on metric `val_loss` which is not available. Available metrics are: loss,lr\n",
            "WARNING:tensorflow:Early stopping conditioned on metric `val_loss` which is not available. Available metrics are: loss,lr\n"
          ]
        },
        {
          "output_type": "stream",
          "name": "stdout",
          "text": [
            "\b\b\b\b\b\b\b\b\b\b\b\b\b\b\b\b\b\b\b\b\b\b\b\b\b\b\b\b\b\b\b\b\b\b\b\b\b\b\b\b\b\b\b\b\b\b\b\b\b\b\b\b\b\b\b\b\b\b\b\b\b\b\b\r25/25 [==============================] - 0s 5ms/step - loss: 0.0418 - lr: 0.0010\n",
            "Epoch 25/500\n",
            "15/25 [=================>............] - ETA: 0s - loss: 0.0548"
          ]
        },
        {
          "output_type": "stream",
          "name": "stderr",
          "text": [
            "WARNING:tensorflow:Learning rate reduction is conditioned on metric `val_loss` which is not available. Available metrics are: loss,lr\n",
            "WARNING:tensorflow:Early stopping conditioned on metric `val_loss` which is not available. Available metrics are: loss,lr\n"
          ]
        },
        {
          "output_type": "stream",
          "name": "stdout",
          "text": [
            "\b\b\b\b\b\b\b\b\b\b\b\b\b\b\b\b\b\b\b\b\b\b\b\b\b\b\b\b\b\b\b\b\b\b\b\b\b\b\b\b\b\b\b\b\b\b\b\b\b\b\b\b\b\b\b\b\b\b\b\b\b\b\b\r25/25 [==============================] - 0s 5ms/step - loss: 0.0479 - lr: 0.0010\n",
            "Epoch 26/500\n",
            "19/25 [=====================>........] - ETA: 0s - loss: 0.0441"
          ]
        },
        {
          "output_type": "stream",
          "name": "stderr",
          "text": [
            "WARNING:tensorflow:Learning rate reduction is conditioned on metric `val_loss` which is not available. Available metrics are: loss,lr\n",
            "WARNING:tensorflow:Early stopping conditioned on metric `val_loss` which is not available. Available metrics are: loss,lr\n"
          ]
        },
        {
          "output_type": "stream",
          "name": "stdout",
          "text": [
            "\b\b\b\b\b\b\b\b\b\b\b\b\b\b\b\b\b\b\b\b\b\b\b\b\b\b\b\b\b\b\b\b\b\b\b\b\b\b\b\b\b\b\b\b\b\b\b\b\b\b\b\b\b\b\b\b\b\b\b\b\b\b\b\r25/25 [==============================] - 0s 5ms/step - loss: 0.0449 - lr: 0.0010\n",
            "Epoch 27/500\n",
            "17/25 [===================>..........] - ETA: 0s - loss: 0.0343"
          ]
        },
        {
          "output_type": "stream",
          "name": "stderr",
          "text": [
            "WARNING:tensorflow:Learning rate reduction is conditioned on metric `val_loss` which is not available. Available metrics are: loss,lr\n",
            "WARNING:tensorflow:Early stopping conditioned on metric `val_loss` which is not available. Available metrics are: loss,lr\n"
          ]
        },
        {
          "output_type": "stream",
          "name": "stdout",
          "text": [
            "\b\b\b\b\b\b\b\b\b\b\b\b\b\b\b\b\b\b\b\b\b\b\b\b\b\b\b\b\b\b\b\b\b\b\b\b\b\b\b\b\b\b\b\b\b\b\b\b\b\b\b\b\b\b\b\b\b\b\b\b\b\b\b\r25/25 [==============================] - 0s 5ms/step - loss: 0.0396 - lr: 0.0010\n",
            "Epoch 28/500\n",
            "19/25 [=====================>........] - ETA: 0s - loss: 0.0411"
          ]
        },
        {
          "output_type": "stream",
          "name": "stderr",
          "text": [
            "WARNING:tensorflow:Learning rate reduction is conditioned on metric `val_loss` which is not available. Available metrics are: loss,lr\n",
            "WARNING:tensorflow:Early stopping conditioned on metric `val_loss` which is not available. Available metrics are: loss,lr\n"
          ]
        },
        {
          "output_type": "stream",
          "name": "stdout",
          "text": [
            "\b\b\b\b\b\b\b\b\b\b\b\b\b\b\b\b\b\b\b\b\b\b\b\b\b\b\b\b\b\b\b\b\b\b\b\b\b\b\b\b\b\b\b\b\b\b\b\b\b\b\b\b\b\b\b\b\b\b\b\b\b\b\b\r25/25 [==============================] - 0s 5ms/step - loss: 0.0479 - lr: 0.0010\n",
            "Epoch 29/500\n",
            "18/25 [====================>.........] - ETA: 0s - loss: 0.0503"
          ]
        },
        {
          "output_type": "stream",
          "name": "stderr",
          "text": [
            "WARNING:tensorflow:Learning rate reduction is conditioned on metric `val_loss` which is not available. Available metrics are: loss,lr\n",
            "WARNING:tensorflow:Early stopping conditioned on metric `val_loss` which is not available. Available metrics are: loss,lr\n"
          ]
        },
        {
          "output_type": "stream",
          "name": "stdout",
          "text": [
            "\b\b\b\b\b\b\b\b\b\b\b\b\b\b\b\b\b\b\b\b\b\b\b\b\b\b\b\b\b\b\b\b\b\b\b\b\b\b\b\b\b\b\b\b\b\b\b\b\b\b\b\b\b\b\b\b\b\b\b\b\b\b\b\r25/25 [==============================] - 0s 5ms/step - loss: 0.0435 - lr: 0.0010\n",
            "Epoch 30/500\n",
            "18/25 [====================>.........] - ETA: 0s - loss: 0.0415"
          ]
        },
        {
          "output_type": "stream",
          "name": "stderr",
          "text": [
            "WARNING:tensorflow:Learning rate reduction is conditioned on metric `val_loss` which is not available. Available metrics are: loss,lr\n",
            "WARNING:tensorflow:Early stopping conditioned on metric `val_loss` which is not available. Available metrics are: loss,lr\n"
          ]
        },
        {
          "output_type": "stream",
          "name": "stdout",
          "text": [
            "\b\b\b\b\b\b\b\b\b\b\b\b\b\b\b\b\b\b\b\b\b\b\b\b\b\b\b\b\b\b\b\b\b\b\b\b\b\b\b\b\b\b\b\b\b\b\b\b\b\b\b\b\b\b\b\b\b\b\b\b\b\b\b\r25/25 [==============================] - 0s 5ms/step - loss: 0.0451 - lr: 0.0010\n",
            "Epoch 31/500\n",
            "21/25 [========================>.....] - ETA: 0s - loss: 0.0341"
          ]
        },
        {
          "output_type": "stream",
          "name": "stderr",
          "text": [
            "WARNING:tensorflow:Learning rate reduction is conditioned on metric `val_loss` which is not available. Available metrics are: loss,lr\n",
            "WARNING:tensorflow:Early stopping conditioned on metric `val_loss` which is not available. Available metrics are: loss,lr\n"
          ]
        },
        {
          "output_type": "stream",
          "name": "stdout",
          "text": [
            "\b\b\b\b\b\b\b\b\b\b\b\b\b\b\b\b\b\b\b\b\b\b\b\b\b\b\b\b\b\b\b\b\b\b\b\b\b\b\b\b\b\b\b\b\b\b\b\b\b\b\b\b\b\b\b\b\b\b\b\b\b\b\b\r25/25 [==============================] - 0s 5ms/step - loss: 0.0408 - lr: 0.0010\n",
            "Epoch 32/500\n",
            "23/25 [==========================>...] - ETA: 0s - loss: 0.0404"
          ]
        },
        {
          "output_type": "stream",
          "name": "stderr",
          "text": [
            "WARNING:tensorflow:Learning rate reduction is conditioned on metric `val_loss` which is not available. Available metrics are: loss,lr\n",
            "WARNING:tensorflow:Early stopping conditioned on metric `val_loss` which is not available. Available metrics are: loss,lr\n"
          ]
        },
        {
          "output_type": "stream",
          "name": "stdout",
          "text": [
            "\b\b\b\b\b\b\b\b\b\b\b\b\b\b\b\b\b\b\b\b\b\b\b\b\b\b\b\b\b\b\b\b\b\b\b\b\b\b\b\b\b\b\b\b\b\b\b\b\b\b\b\b\b\b\b\b\b\b\b\b\b\b\b\r25/25 [==============================] - 0s 5ms/step - loss: 0.0431 - lr: 0.0010\n",
            "Epoch 33/500\n",
            "18/25 [====================>.........] - ETA: 0s - loss: 0.0369"
          ]
        },
        {
          "output_type": "stream",
          "name": "stderr",
          "text": [
            "WARNING:tensorflow:Learning rate reduction is conditioned on metric `val_loss` which is not available. Available metrics are: loss,lr\n",
            "WARNING:tensorflow:Early stopping conditioned on metric `val_loss` which is not available. Available metrics are: loss,lr\n"
          ]
        },
        {
          "output_type": "stream",
          "name": "stdout",
          "text": [
            "\b\b\b\b\b\b\b\b\b\b\b\b\b\b\b\b\b\b\b\b\b\b\b\b\b\b\b\b\b\b\b\b\b\b\b\b\b\b\b\b\b\b\b\b\b\b\b\b\b\b\b\b\b\b\b\b\b\b\b\b\b\b\b\r25/25 [==============================] - 0s 5ms/step - loss: 0.0457 - lr: 0.0010\n",
            "Epoch 34/500\n",
            "16/25 [==================>...........] - ETA: 0s - loss: 0.0378"
          ]
        },
        {
          "output_type": "stream",
          "name": "stderr",
          "text": [
            "WARNING:tensorflow:Learning rate reduction is conditioned on metric `val_loss` which is not available. Available metrics are: loss,lr\n",
            "WARNING:tensorflow:Early stopping conditioned on metric `val_loss` which is not available. Available metrics are: loss,lr\n"
          ]
        },
        {
          "output_type": "stream",
          "name": "stdout",
          "text": [
            "\b\b\b\b\b\b\b\b\b\b\b\b\b\b\b\b\b\b\b\b\b\b\b\b\b\b\b\b\b\b\b\b\b\b\b\b\b\b\b\b\b\b\b\b\b\b\b\b\b\b\b\b\b\b\b\b\b\b\b\b\b\b\b\r25/25 [==============================] - 0s 5ms/step - loss: 0.0389 - lr: 0.0010\n",
            "Epoch 35/500\n",
            "15/25 [=================>............] - ETA: 0s - loss: 0.0405"
          ]
        },
        {
          "output_type": "stream",
          "name": "stderr",
          "text": [
            "WARNING:tensorflow:Learning rate reduction is conditioned on metric `val_loss` which is not available. Available metrics are: loss,lr\n",
            "WARNING:tensorflow:Early stopping conditioned on metric `val_loss` which is not available. Available metrics are: loss,lr\n"
          ]
        },
        {
          "output_type": "stream",
          "name": "stdout",
          "text": [
            "\b\b\b\b\b\b\b\b\b\b\b\b\b\b\b\b\b\b\b\b\b\b\b\b\b\b\b\b\b\b\b\b\b\b\b\b\b\b\b\b\b\b\b\b\b\b\b\b\b\b\b\b\b\b\b\b\b\b\b\b\b\b\b\r25/25 [==============================] - 0s 5ms/step - loss: 0.0420 - lr: 0.0010\n",
            "Epoch 36/500\n",
            "19/25 [=====================>........] - ETA: 0s - loss: 0.0441"
          ]
        },
        {
          "output_type": "stream",
          "name": "stderr",
          "text": [
            "WARNING:tensorflow:Learning rate reduction is conditioned on metric `val_loss` which is not available. Available metrics are: loss,lr\n",
            "WARNING:tensorflow:Early stopping conditioned on metric `val_loss` which is not available. Available metrics are: loss,lr\n"
          ]
        },
        {
          "output_type": "stream",
          "name": "stdout",
          "text": [
            "\b\b\b\b\b\b\b\b\b\b\b\b\b\b\b\b\b\b\b\b\b\b\b\b\b\b\b\b\b\b\b\b\b\b\b\b\b\b\b\b\b\b\b\b\b\b\b\b\b\b\b\b\b\b\b\b\b\b\b\b\b\b\b\r25/25 [==============================] - 0s 5ms/step - loss: 0.0404 - lr: 0.0010\n",
            "Epoch 37/500\n",
            "22/25 [=========================>....] - ETA: 0s - loss: 0.0598    "
          ]
        },
        {
          "output_type": "stream",
          "name": "stderr",
          "text": [
            "WARNING:tensorflow:Learning rate reduction is conditioned on metric `val_loss` which is not available. Available metrics are: loss,lr\n",
            "WARNING:tensorflow:Early stopping conditioned on metric `val_loss` which is not available. Available metrics are: loss,lr\n"
          ]
        },
        {
          "output_type": "stream",
          "name": "stdout",
          "text": [
            "\b\b\b\b\b\b\b\b\b\b\b\b\b\b\b\b\b\b\b\b\b\b\b\b\b\b\b\b\b\b\b\b\b\b\b\b\b\b\b\b\b\b\b\b\b\b\b\b\b\b\b\b\b\b\b\b\b\b\b\b\b\b\b\r25/25 [==============================] - 0s 5ms/step - loss: 0.0558 - lr: 0.0010\n",
            "Epoch 38/500\n",
            "16/25 [==================>...........] - ETA: 0s - loss: 0.0499"
          ]
        },
        {
          "output_type": "stream",
          "name": "stderr",
          "text": [
            "WARNING:tensorflow:Learning rate reduction is conditioned on metric `val_loss` which is not available. Available metrics are: loss,lr\n",
            "WARNING:tensorflow:Early stopping conditioned on metric `val_loss` which is not available. Available metrics are: loss,lr\n"
          ]
        },
        {
          "output_type": "stream",
          "name": "stdout",
          "text": [
            "\b\b\b\b\b\b\b\b\b\b\b\b\b\b\b\b\b\b\b\b\b\b\b\b\b\b\b\b\b\b\b\b\b\b\b\b\b\b\b\b\b\b\b\b\b\b\b\b\b\b\b\b\b\b\b\b\b\b\b\b\b\b\b\r25/25 [==============================] - 0s 5ms/step - loss: 0.0441 - lr: 0.0010\n",
            "Epoch 39/500\n",
            "16/25 [==================>...........] - ETA: 0s - loss: 0.0419"
          ]
        },
        {
          "output_type": "stream",
          "name": "stderr",
          "text": [
            "WARNING:tensorflow:Learning rate reduction is conditioned on metric `val_loss` which is not available. Available metrics are: loss,lr\n",
            "WARNING:tensorflow:Early stopping conditioned on metric `val_loss` which is not available. Available metrics are: loss,lr\n"
          ]
        },
        {
          "output_type": "stream",
          "name": "stdout",
          "text": [
            "\b\b\b\b\b\b\b\b\b\b\b\b\b\b\b\b\b\b\b\b\b\b\b\b\b\b\b\b\b\b\b\b\b\b\b\b\b\b\b\b\b\b\b\b\b\b\b\b\b\b\b\b\b\b\b\b\b\b\b\b\b\b\b\r25/25 [==============================] - 0s 5ms/step - loss: 0.0414 - lr: 0.0010\n",
            "Epoch 40/500\n",
            "16/25 [==================>...........] - ETA: 0s - loss: 0.0410"
          ]
        },
        {
          "output_type": "stream",
          "name": "stderr",
          "text": [
            "WARNING:tensorflow:Learning rate reduction is conditioned on metric `val_loss` which is not available. Available metrics are: loss,lr\n",
            "WARNING:tensorflow:Early stopping conditioned on metric `val_loss` which is not available. Available metrics are: loss,lr\n"
          ]
        },
        {
          "output_type": "stream",
          "name": "stdout",
          "text": [
            "\b\b\b\b\b\b\b\b\b\b\b\b\b\b\b\b\b\b\b\b\b\b\b\b\b\b\b\b\b\b\b\b\b\b\b\b\b\b\b\b\b\b\b\b\b\b\b\b\b\b\b\b\b\b\b\b\b\b\b\b\b\b\b\r25/25 [==============================] - 0s 6ms/step - loss: 0.0413 - lr: 0.0010\n",
            "Epoch 41/500\n",
            "19/25 [=====================>........] - ETA: 0s - loss: 0.0366"
          ]
        },
        {
          "output_type": "stream",
          "name": "stderr",
          "text": [
            "WARNING:tensorflow:Learning rate reduction is conditioned on metric `val_loss` which is not available. Available metrics are: loss,lr\n",
            "WARNING:tensorflow:Early stopping conditioned on metric `val_loss` which is not available. Available metrics are: loss,lr\n"
          ]
        },
        {
          "output_type": "stream",
          "name": "stdout",
          "text": [
            "\b\b\b\b\b\b\b\b\b\b\b\b\b\b\b\b\b\b\b\b\b\b\b\b\b\b\b\b\b\b\b\b\b\b\b\b\b\b\b\b\b\b\b\b\b\b\b\b\b\b\b\b\b\b\b\b\b\b\b\b\b\b\b\r25/25 [==============================] - 0s 5ms/step - loss: 0.0364 - lr: 0.0010\n",
            "Epoch 42/500\n",
            "17/25 [===================>..........] - ETA: 0s - loss: 0.0449"
          ]
        },
        {
          "output_type": "stream",
          "name": "stderr",
          "text": [
            "WARNING:tensorflow:Learning rate reduction is conditioned on metric `val_loss` which is not available. Available metrics are: loss,lr\n",
            "WARNING:tensorflow:Early stopping conditioned on metric `val_loss` which is not available. Available metrics are: loss,lr\n"
          ]
        },
        {
          "output_type": "stream",
          "name": "stdout",
          "text": [
            "\b\b\b\b\b\b\b\b\b\b\b\b\b\b\b\b\b\b\b\b\b\b\b\b\b\b\b\b\b\b\b\b\b\b\b\b\b\b\b\b\b\b\b\b\b\b\b\b\b\b\b\b\b\b\b\b\b\b\b\b\b\b\b\r25/25 [==============================] - 0s 5ms/step - loss: 0.0367 - lr: 0.0010\n",
            "Epoch 43/500\n",
            "19/25 [=====================>........] - ETA: 0s - loss: 0.0377"
          ]
        },
        {
          "output_type": "stream",
          "name": "stderr",
          "text": [
            "WARNING:tensorflow:Learning rate reduction is conditioned on metric `val_loss` which is not available. Available metrics are: loss,lr\n",
            "WARNING:tensorflow:Early stopping conditioned on metric `val_loss` which is not available. Available metrics are: loss,lr\n"
          ]
        },
        {
          "output_type": "stream",
          "name": "stdout",
          "text": [
            "\b\b\b\b\b\b\b\b\b\b\b\b\b\b\b\b\b\b\b\b\b\b\b\b\b\b\b\b\b\b\b\b\b\b\b\b\b\b\b\b\b\b\b\b\b\b\b\b\b\b\b\b\b\b\b\b\b\b\b\b\b\b\b\r25/25 [==============================] - 0s 5ms/step - loss: 0.0390 - lr: 0.0010\n",
            "Epoch 44/500\n",
            "15/25 [=================>............] - ETA: 0s - loss: 0.0437"
          ]
        },
        {
          "output_type": "stream",
          "name": "stderr",
          "text": [
            "WARNING:tensorflow:Learning rate reduction is conditioned on metric `val_loss` which is not available. Available metrics are: loss,lr\n",
            "WARNING:tensorflow:Early stopping conditioned on metric `val_loss` which is not available. Available metrics are: loss,lr\n"
          ]
        },
        {
          "output_type": "stream",
          "name": "stdout",
          "text": [
            "\b\b\b\b\b\b\b\b\b\b\b\b\b\b\b\b\b\b\b\b\b\b\b\b\b\b\b\b\b\b\b\b\b\b\b\b\b\b\b\b\b\b\b\b\b\b\b\b\b\b\b\b\b\b\b\b\b\b\b\b\b\b\b\r25/25 [==============================] - 0s 5ms/step - loss: 0.0398 - lr: 0.0010\n",
            "Epoch 45/500\n",
            "19/25 [=====================>........] - ETA: 0s - loss: 0.0370"
          ]
        },
        {
          "output_type": "stream",
          "name": "stderr",
          "text": [
            "WARNING:tensorflow:Learning rate reduction is conditioned on metric `val_loss` which is not available. Available metrics are: loss,lr\n",
            "WARNING:tensorflow:Early stopping conditioned on metric `val_loss` which is not available. Available metrics are: loss,lr\n"
          ]
        },
        {
          "output_type": "stream",
          "name": "stdout",
          "text": [
            "\b\b\b\b\b\b\b\b\b\b\b\b\b\b\b\b\b\b\b\b\b\b\b\b\b\b\b\b\b\b\b\b\b\b\b\b\b\b\b\b\b\b\b\b\b\b\b\b\b\b\b\b\b\b\b\b\b\b\b\b\b\b\b\r25/25 [==============================] - 0s 5ms/step - loss: 0.0377 - lr: 0.0010\n",
            "Epoch 46/500\n",
            "17/25 [===================>..........] - ETA: 0s - loss: 0.0463"
          ]
        },
        {
          "output_type": "stream",
          "name": "stderr",
          "text": [
            "WARNING:tensorflow:Learning rate reduction is conditioned on metric `val_loss` which is not available. Available metrics are: loss,lr\n",
            "WARNING:tensorflow:Early stopping conditioned on metric `val_loss` which is not available. Available metrics are: loss,lr\n"
          ]
        },
        {
          "output_type": "stream",
          "name": "stdout",
          "text": [
            "\b\b\b\b\b\b\b\b\b\b\b\b\b\b\b\b\b\b\b\b\b\b\b\b\b\b\b\b\b\b\b\b\b\b\b\b\b\b\b\b\b\b\b\b\b\b\b\b\b\b\b\b\b\b\b\b\b\b\b\b\b\b\b\r25/25 [==============================] - 0s 5ms/step - loss: 0.0414 - lr: 0.0010\n",
            "Epoch 47/500\n",
            "18/25 [====================>.........] - ETA: 0s - loss: 0.0358"
          ]
        },
        {
          "output_type": "stream",
          "name": "stderr",
          "text": [
            "WARNING:tensorflow:Learning rate reduction is conditioned on metric `val_loss` which is not available. Available metrics are: loss,lr\n",
            "WARNING:tensorflow:Early stopping conditioned on metric `val_loss` which is not available. Available metrics are: loss,lr\n"
          ]
        },
        {
          "output_type": "stream",
          "name": "stdout",
          "text": [
            "\b\b\b\b\b\b\b\b\b\b\b\b\b\b\b\b\b\b\b\b\b\b\b\b\b\b\b\b\b\b\b\b\b\b\b\b\b\b\b\b\b\b\b\b\b\b\b\b\b\b\b\b\b\b\b\b\b\b\b\b\b\b\b\r25/25 [==============================] - 0s 5ms/step - loss: 0.0347 - lr: 0.0010\n",
            "Epoch 48/500\n",
            "19/25 [=====================>........] - ETA: 0s - loss: 0.0367"
          ]
        },
        {
          "output_type": "stream",
          "name": "stderr",
          "text": [
            "WARNING:tensorflow:Learning rate reduction is conditioned on metric `val_loss` which is not available. Available metrics are: loss,lr\n",
            "WARNING:tensorflow:Early stopping conditioned on metric `val_loss` which is not available. Available metrics are: loss,lr\n"
          ]
        },
        {
          "output_type": "stream",
          "name": "stdout",
          "text": [
            "\b\b\b\b\b\b\b\b\b\b\b\b\b\b\b\b\b\b\b\b\b\b\b\b\b\b\b\b\b\b\b\b\b\b\b\b\b\b\b\b\b\b\b\b\b\b\b\b\b\b\b\b\b\b\b\b\b\b\b\b\b\b\b\r25/25 [==============================] - 0s 5ms/step - loss: 0.0409 - lr: 0.0010\n",
            "Epoch 49/500\n",
            "16/25 [==================>...........] - ETA: 0s - loss: 0.0383"
          ]
        },
        {
          "output_type": "stream",
          "name": "stderr",
          "text": [
            "WARNING:tensorflow:Learning rate reduction is conditioned on metric `val_loss` which is not available. Available metrics are: loss,lr\n",
            "WARNING:tensorflow:Early stopping conditioned on metric `val_loss` which is not available. Available metrics are: loss,lr\n"
          ]
        },
        {
          "output_type": "stream",
          "name": "stdout",
          "text": [
            "\b\b\b\b\b\b\b\b\b\b\b\b\b\b\b\b\b\b\b\b\b\b\b\b\b\b\b\b\b\b\b\b\b\b\b\b\b\b\b\b\b\b\b\b\b\b\b\b\b\b\b\b\b\b\b\b\b\b\b\b\b\b\b\r25/25 [==============================] - 0s 5ms/step - loss: 0.0362 - lr: 0.0010\n",
            "Epoch 50/500\n",
            "19/25 [=====================>........] - ETA: 0s - loss: 0.0339"
          ]
        },
        {
          "output_type": "stream",
          "name": "stderr",
          "text": [
            "WARNING:tensorflow:Learning rate reduction is conditioned on metric `val_loss` which is not available. Available metrics are: loss,lr\n",
            "WARNING:tensorflow:Early stopping conditioned on metric `val_loss` which is not available. Available metrics are: loss,lr\n"
          ]
        },
        {
          "output_type": "stream",
          "name": "stdout",
          "text": [
            "\b\b\b\b\b\b\b\b\b\b\b\b\b\b\b\b\b\b\b\b\b\b\b\b\b\b\b\b\b\b\b\b\b\b\b\b\b\b\b\b\b\b\b\b\b\b\b\b\b\b\b\b\b\b\b\b\b\b\b\b\b\b\b\r25/25 [==============================] - 0s 5ms/step - loss: 0.0351 - lr: 0.0010\n",
            "Epoch 51/500\n",
            "22/25 [=========================>....] - ETA: 0s - loss: 0.0323"
          ]
        },
        {
          "output_type": "stream",
          "name": "stderr",
          "text": [
            "WARNING:tensorflow:Learning rate reduction is conditioned on metric `val_loss` which is not available. Available metrics are: loss,lr\n",
            "WARNING:tensorflow:Early stopping conditioned on metric `val_loss` which is not available. Available metrics are: loss,lr\n"
          ]
        },
        {
          "output_type": "stream",
          "name": "stdout",
          "text": [
            "\b\b\b\b\b\b\b\b\b\b\b\b\b\b\b\b\b\b\b\b\b\b\b\b\b\b\b\b\b\b\b\b\b\b\b\b\b\b\b\b\b\b\b\b\b\b\b\b\b\b\b\b\b\b\b\b\b\b\b\b\b\b\b\r25/25 [==============================] - 0s 5ms/step - loss: 0.0326 - lr: 0.0010\n",
            "Epoch 52/500\n",
            "19/25 [=====================>........] - ETA: 0s - loss: 0.0371"
          ]
        },
        {
          "output_type": "stream",
          "name": "stderr",
          "text": [
            "WARNING:tensorflow:Learning rate reduction is conditioned on metric `val_loss` which is not available. Available metrics are: loss,lr\n",
            "WARNING:tensorflow:Early stopping conditioned on metric `val_loss` which is not available. Available metrics are: loss,lr\n"
          ]
        },
        {
          "output_type": "stream",
          "name": "stdout",
          "text": [
            "\b\b\b\b\b\b\b\b\b\b\b\b\b\b\b\b\b\b\b\b\b\b\b\b\b\b\b\b\b\b\b\b\b\b\b\b\b\b\b\b\b\b\b\b\b\b\b\b\b\b\b\b\b\b\b\b\b\b\b\b\b\b\b\r25/25 [==============================] - 0s 5ms/step - loss: 0.0359 - lr: 0.0010\n",
            "Epoch 53/500\n",
            "19/25 [=====================>........] - ETA: 0s - loss: 0.0420"
          ]
        },
        {
          "output_type": "stream",
          "name": "stderr",
          "text": [
            "WARNING:tensorflow:Learning rate reduction is conditioned on metric `val_loss` which is not available. Available metrics are: loss,lr\n",
            "WARNING:tensorflow:Early stopping conditioned on metric `val_loss` which is not available. Available metrics are: loss,lr\n"
          ]
        },
        {
          "output_type": "stream",
          "name": "stdout",
          "text": [
            "\b\b\b\b\b\b\b\b\b\b\b\b\b\b\b\b\b\b\b\b\b\b\b\b\b\b\b\b\b\b\b\b\b\b\b\b\b\b\b\b\b\b\b\b\b\b\b\b\b\b\b\b\b\b\b\b\b\b\b\b\b\b\b\r25/25 [==============================] - 0s 5ms/step - loss: 0.0377 - lr: 0.0010\n",
            "Epoch 54/500\n",
            "21/25 [========================>.....] - ETA: 0s - loss: 0.0368"
          ]
        },
        {
          "output_type": "stream",
          "name": "stderr",
          "text": [
            "WARNING:tensorflow:Learning rate reduction is conditioned on metric `val_loss` which is not available. Available metrics are: loss,lr\n",
            "WARNING:tensorflow:Early stopping conditioned on metric `val_loss` which is not available. Available metrics are: loss,lr\n"
          ]
        },
        {
          "output_type": "stream",
          "name": "stdout",
          "text": [
            "\b\b\b\b\b\b\b\b\b\b\b\b\b\b\b\b\b\b\b\b\b\b\b\b\b\b\b\b\b\b\b\b\b\b\b\b\b\b\b\b\b\b\b\b\b\b\b\b\b\b\b\b\b\b\b\b\b\b\b\b\b\b\b\r25/25 [==============================] - 0s 5ms/step - loss: 0.0415 - lr: 0.0010\n",
            "Epoch 55/500\n",
            "16/25 [==================>...........] - ETA: 0s - loss: 0.0359"
          ]
        },
        {
          "output_type": "stream",
          "name": "stderr",
          "text": [
            "WARNING:tensorflow:Learning rate reduction is conditioned on metric `val_loss` which is not available. Available metrics are: loss,lr\n",
            "WARNING:tensorflow:Early stopping conditioned on metric `val_loss` which is not available. Available metrics are: loss,lr\n"
          ]
        },
        {
          "output_type": "stream",
          "name": "stdout",
          "text": [
            "\b\b\b\b\b\b\b\b\b\b\b\b\b\b\b\b\b\b\b\b\b\b\b\b\b\b\b\b\b\b\b\b\b\b\b\b\b\b\b\b\b\b\b\b\b\b\b\b\b\b\b\b\b\b\b\b\b\b\b\b\b\b\b\r25/25 [==============================] - 0s 5ms/step - loss: 0.0421 - lr: 0.0010\n",
            "Epoch 56/500\n",
            "21/25 [========================>.....] - ETA: 0s - loss: 0.0403"
          ]
        },
        {
          "output_type": "stream",
          "name": "stderr",
          "text": [
            "WARNING:tensorflow:Learning rate reduction is conditioned on metric `val_loss` which is not available. Available metrics are: loss,lr\n",
            "WARNING:tensorflow:Early stopping conditioned on metric `val_loss` which is not available. Available metrics are: loss,lr\n"
          ]
        },
        {
          "output_type": "stream",
          "name": "stdout",
          "text": [
            "\b\b\b\b\b\b\b\b\b\b\b\b\b\b\b\b\b\b\b\b\b\b\b\b\b\b\b\b\b\b\b\b\b\b\b\b\b\b\b\b\b\b\b\b\b\b\b\b\b\b\b\b\b\b\b\b\b\b\b\b\b\b\b\r25/25 [==============================] - 0s 5ms/step - loss: 0.0407 - lr: 0.0010\n",
            "Epoch 57/500\n",
            "22/25 [=========================>....] - ETA: 0s - loss: 0.0375"
          ]
        },
        {
          "output_type": "stream",
          "name": "stderr",
          "text": [
            "WARNING:tensorflow:Learning rate reduction is conditioned on metric `val_loss` which is not available. Available metrics are: loss,lr\n",
            "WARNING:tensorflow:Early stopping conditioned on metric `val_loss` which is not available. Available metrics are: loss,lr\n"
          ]
        },
        {
          "output_type": "stream",
          "name": "stdout",
          "text": [
            "\b\b\b\b\b\b\b\b\b\b\b\b\b\b\b\b\b\b\b\b\b\b\b\b\b\b\b\b\b\b\b\b\b\b\b\b\b\b\b\b\b\b\b\b\b\b\b\b\b\b\b\b\b\b\b\b\b\b\b\b\b\b\b\r25/25 [==============================] - 0s 5ms/step - loss: 0.0376 - lr: 0.0010\n",
            "Epoch 58/500\n",
            "24/25 [===========================>..] - ETA: 0s - loss: 0.0366"
          ]
        },
        {
          "output_type": "stream",
          "name": "stderr",
          "text": [
            "WARNING:tensorflow:Learning rate reduction is conditioned on metric `val_loss` which is not available. Available metrics are: loss,lr\n",
            "WARNING:tensorflow:Early stopping conditioned on metric `val_loss` which is not available. Available metrics are: loss,lr\n"
          ]
        },
        {
          "output_type": "stream",
          "name": "stdout",
          "text": [
            "\b\b\b\b\b\b\b\b\b\b\b\b\b\b\b\b\b\b\b\b\b\b\b\b\b\b\b\b\b\b\b\b\b\b\b\b\b\b\b\b\b\b\b\b\b\b\b\b\b\b\b\b\b\b\b\b\b\b\b\b\b\b\b\r25/25 [==============================] - 0s 5ms/step - loss: 0.0354 - lr: 0.0010\n",
            "Epoch 59/500\n",
            "22/25 [=========================>....] - ETA: 0s - loss: 0.0345"
          ]
        },
        {
          "output_type": "stream",
          "name": "stderr",
          "text": [
            "WARNING:tensorflow:Learning rate reduction is conditioned on metric `val_loss` which is not available. Available metrics are: loss,lr\n",
            "WARNING:tensorflow:Early stopping conditioned on metric `val_loss` which is not available. Available metrics are: loss,lr\n"
          ]
        },
        {
          "output_type": "stream",
          "name": "stdout",
          "text": [
            "\b\b\b\b\b\b\b\b\b\b\b\b\b\b\b\b\b\b\b\b\b\b\b\b\b\b\b\b\b\b\b\b\b\b\b\b\b\b\b\b\b\b\b\b\b\b\b\b\b\b\b\b\b\b\b\b\b\b\b\b\b\b\b\r25/25 [==============================] - 0s 5ms/step - loss: 0.0344 - lr: 0.0010\n",
            "Epoch 60/500\n",
            "21/25 [========================>.....] - ETA: 0s - loss: 0.0387"
          ]
        },
        {
          "output_type": "stream",
          "name": "stderr",
          "text": [
            "WARNING:tensorflow:Learning rate reduction is conditioned on metric `val_loss` which is not available. Available metrics are: loss,lr\n",
            "WARNING:tensorflow:Early stopping conditioned on metric `val_loss` which is not available. Available metrics are: loss,lr\n"
          ]
        },
        {
          "output_type": "stream",
          "name": "stdout",
          "text": [
            "\b\b\b\b\b\b\b\b\b\b\b\b\b\b\b\b\b\b\b\b\b\b\b\b\b\b\b\b\b\b\b\b\b\b\b\b\b\b\b\b\b\b\b\b\b\b\b\b\b\b\b\b\b\b\b\b\b\b\b\b\b\b\b\r25/25 [==============================] - 0s 5ms/step - loss: 0.0380 - lr: 0.0010\n",
            "Epoch 61/500\n",
            "18/25 [====================>.........] - ETA: 0s - loss: 0.0382"
          ]
        },
        {
          "output_type": "stream",
          "name": "stderr",
          "text": [
            "WARNING:tensorflow:Learning rate reduction is conditioned on metric `val_loss` which is not available. Available metrics are: loss,lr\n",
            "WARNING:tensorflow:Early stopping conditioned on metric `val_loss` which is not available. Available metrics are: loss,lr\n"
          ]
        },
        {
          "output_type": "stream",
          "name": "stdout",
          "text": [
            "\b\b\b\b\b\b\b\b\b\b\b\b\b\b\b\b\b\b\b\b\b\b\b\b\b\b\b\b\b\b\b\b\b\b\b\b\b\b\b\b\b\b\b\b\b\b\b\b\b\b\b\b\b\b\b\b\b\b\b\b\b\b\b\r25/25 [==============================] - 0s 5ms/step - loss: 0.0345 - lr: 0.0010\n",
            "Epoch 62/500\n",
            "18/25 [====================>.........] - ETA: 0s - loss: 0.0414"
          ]
        },
        {
          "output_type": "stream",
          "name": "stderr",
          "text": [
            "WARNING:tensorflow:Learning rate reduction is conditioned on metric `val_loss` which is not available. Available metrics are: loss,lr\n",
            "WARNING:tensorflow:Early stopping conditioned on metric `val_loss` which is not available. Available metrics are: loss,lr\n"
          ]
        },
        {
          "output_type": "stream",
          "name": "stdout",
          "text": [
            "\b\b\b\b\b\b\b\b\b\b\b\b\b\b\b\b\b\b\b\b\b\b\b\b\b\b\b\b\b\b\b\b\b\b\b\b\b\b\b\b\b\b\b\b\b\b\b\b\b\b\b\b\b\b\b\b\b\b\b\b\b\b\b\r25/25 [==============================] - 0s 5ms/step - loss: 0.0330 - lr: 0.0010\n",
            "Epoch 63/500\n",
            "15/25 [=================>............] - ETA: 0s - loss: 0.0436"
          ]
        },
        {
          "output_type": "stream",
          "name": "stderr",
          "text": [
            "WARNING:tensorflow:Learning rate reduction is conditioned on metric `val_loss` which is not available. Available metrics are: loss,lr\n",
            "WARNING:tensorflow:Early stopping conditioned on metric `val_loss` which is not available. Available metrics are: loss,lr\n"
          ]
        },
        {
          "output_type": "stream",
          "name": "stdout",
          "text": [
            "\b\b\b\b\b\b\b\b\b\b\b\b\b\b\b\b\b\b\b\b\b\b\b\b\b\b\b\b\b\b\b\b\b\b\b\b\b\b\b\b\b\b\b\b\b\b\b\b\b\b\b\b\b\b\b\b\b\b\b\b\b\b\b\r25/25 [==============================] - 0s 5ms/step - loss: 0.0384 - lr: 0.0010\n",
            "Epoch 64/500\n",
            "17/25 [===================>..........] - ETA: 0s - loss: 0.0324"
          ]
        },
        {
          "output_type": "stream",
          "name": "stderr",
          "text": [
            "WARNING:tensorflow:Learning rate reduction is conditioned on metric `val_loss` which is not available. Available metrics are: loss,lr\n",
            "WARNING:tensorflow:Early stopping conditioned on metric `val_loss` which is not available. Available metrics are: loss,lr\n"
          ]
        },
        {
          "output_type": "stream",
          "name": "stdout",
          "text": [
            "\b\b\b\b\b\b\b\b\b\b\b\b\b\b\b\b\b\b\b\b\b\b\b\b\b\b\b\b\b\b\b\b\b\b\b\b\b\b\b\b\b\b\b\b\b\b\b\b\b\b\b\b\b\b\b\b\b\b\b\b\b\b\b\r25/25 [==============================] - 0s 5ms/step - loss: 0.0363 - lr: 0.0010\n",
            "Epoch 65/500\n",
            "20/25 [=======================>......] - ETA: 0s - loss: 0.0393"
          ]
        },
        {
          "output_type": "stream",
          "name": "stderr",
          "text": [
            "WARNING:tensorflow:Learning rate reduction is conditioned on metric `val_loss` which is not available. Available metrics are: loss,lr\n",
            "WARNING:tensorflow:Early stopping conditioned on metric `val_loss` which is not available. Available metrics are: loss,lr\n"
          ]
        },
        {
          "output_type": "stream",
          "name": "stdout",
          "text": [
            "\b\b\b\b\b\b\b\b\b\b\b\b\b\b\b\b\b\b\b\b\b\b\b\b\b\b\b\b\b\b\b\b\b\b\b\b\b\b\b\b\b\b\b\b\b\b\b\b\b\b\b\b\b\b\b\b\b\b\b\b\b\b\b\r25/25 [==============================] - 0s 5ms/step - loss: 0.0369 - lr: 0.0010\n",
            "Epoch 66/500\n",
            "21/25 [========================>.....] - ETA: 0s - loss: 0.0496"
          ]
        },
        {
          "output_type": "stream",
          "name": "stderr",
          "text": [
            "WARNING:tensorflow:Learning rate reduction is conditioned on metric `val_loss` which is not available. Available metrics are: loss,lr\n",
            "WARNING:tensorflow:Early stopping conditioned on metric `val_loss` which is not available. Available metrics are: loss,lr\n"
          ]
        },
        {
          "output_type": "stream",
          "name": "stdout",
          "text": [
            "\b\b\b\b\b\b\b\b\b\b\b\b\b\b\b\b\b\b\b\b\b\b\b\b\b\b\b\b\b\b\b\b\b\b\b\b\b\b\b\b\b\b\b\b\b\b\b\b\b\b\b\b\b\b\b\b\b\b\b\b\b\b\b\r25/25 [==============================] - 0s 5ms/step - loss: 0.0480 - lr: 0.0010\n",
            "Epoch 67/500\n",
            "17/25 [===================>..........] - ETA: 0s - loss: 0.0359"
          ]
        },
        {
          "output_type": "stream",
          "name": "stderr",
          "text": [
            "WARNING:tensorflow:Learning rate reduction is conditioned on metric `val_loss` which is not available. Available metrics are: loss,lr\n",
            "WARNING:tensorflow:Early stopping conditioned on metric `val_loss` which is not available. Available metrics are: loss,lr\n"
          ]
        },
        {
          "output_type": "stream",
          "name": "stdout",
          "text": [
            "\b\b\b\b\b\b\b\b\b\b\b\b\b\b\b\b\b\b\b\b\b\b\b\b\b\b\b\b\b\b\b\b\b\b\b\b\b\b\b\b\b\b\b\b\b\b\b\b\b\b\b\b\b\b\b\b\b\b\b\b\b\b\b\r25/25 [==============================] - 0s 6ms/step - loss: 0.0440 - lr: 0.0010\n",
            "Epoch 68/500\n",
            "19/25 [=====================>........] - ETA: 0s - loss: 0.0420"
          ]
        },
        {
          "output_type": "stream",
          "name": "stderr",
          "text": [
            "WARNING:tensorflow:Learning rate reduction is conditioned on metric `val_loss` which is not available. Available metrics are: loss,lr\n",
            "WARNING:tensorflow:Early stopping conditioned on metric `val_loss` which is not available. Available metrics are: loss,lr\n"
          ]
        },
        {
          "output_type": "stream",
          "name": "stdout",
          "text": [
            "\b\b\b\b\b\b\b\b\b\b\b\b\b\b\b\b\b\b\b\b\b\b\b\b\b\b\b\b\b\b\b\b\b\b\b\b\b\b\b\b\b\b\b\b\b\b\b\b\b\b\b\b\b\b\b\b\b\b\b\b\b\b\b\r25/25 [==============================] - 0s 5ms/step - loss: 0.0396 - lr: 0.0010\n",
            "Epoch 69/500\n",
            "19/25 [=====================>........] - ETA: 0s - loss: 0.0443"
          ]
        },
        {
          "output_type": "stream",
          "name": "stderr",
          "text": [
            "WARNING:tensorflow:Learning rate reduction is conditioned on metric `val_loss` which is not available. Available metrics are: loss,lr\n",
            "WARNING:tensorflow:Early stopping conditioned on metric `val_loss` which is not available. Available metrics are: loss,lr\n"
          ]
        },
        {
          "output_type": "stream",
          "name": "stdout",
          "text": [
            "\b\b\b\b\b\b\b\b\b\b\b\b\b\b\b\b\b\b\b\b\b\b\b\b\b\b\b\b\b\b\b\b\b\b\b\b\b\b\b\b\b\b\b\b\b\b\b\b\b\b\b\b\b\b\b\b\b\b\b\b\b\b\b\r25/25 [==============================] - 0s 5ms/step - loss: 0.0397 - lr: 0.0010\n",
            "Epoch 70/500\n",
            "20/25 [=======================>......] - ETA: 0s - loss: 0.0393"
          ]
        },
        {
          "output_type": "stream",
          "name": "stderr",
          "text": [
            "WARNING:tensorflow:Learning rate reduction is conditioned on metric `val_loss` which is not available. Available metrics are: loss,lr\n",
            "WARNING:tensorflow:Early stopping conditioned on metric `val_loss` which is not available. Available metrics are: loss,lr\n"
          ]
        },
        {
          "output_type": "stream",
          "name": "stdout",
          "text": [
            "\b\b\b\b\b\b\b\b\b\b\b\b\b\b\b\b\b\b\b\b\b\b\b\b\b\b\b\b\b\b\b\b\b\b\b\b\b\b\b\b\b\b\b\b\b\b\b\b\b\b\b\b\b\b\b\b\b\b\b\b\b\b\b\r25/25 [==============================] - 0s 5ms/step - loss: 0.0422 - lr: 0.0010\n",
            "Epoch 71/500\n",
            "22/25 [=========================>....] - ETA: 0s - loss: 0.0382"
          ]
        },
        {
          "output_type": "stream",
          "name": "stderr",
          "text": [
            "WARNING:tensorflow:Learning rate reduction is conditioned on metric `val_loss` which is not available. Available metrics are: loss,lr\n",
            "WARNING:tensorflow:Early stopping conditioned on metric `val_loss` which is not available. Available metrics are: loss,lr\n"
          ]
        },
        {
          "output_type": "stream",
          "name": "stdout",
          "text": [
            "\b\b\b\b\b\b\b\b\b\b\b\b\b\b\b\b\b\b\b\b\b\b\b\b\b\b\b\b\b\b\b\b\b\b\b\b\b\b\b\b\b\b\b\b\b\b\b\b\b\b\b\b\b\b\b\b\b\b\b\b\b\b\b\r25/25 [==============================] - 0s 5ms/step - loss: 0.0372 - lr: 0.0010\n",
            "Epoch 72/500\n",
            "19/25 [=====================>........] - ETA: 0s - loss: 0.0417"
          ]
        },
        {
          "output_type": "stream",
          "name": "stderr",
          "text": [
            "WARNING:tensorflow:Learning rate reduction is conditioned on metric `val_loss` which is not available. Available metrics are: loss,lr\n",
            "WARNING:tensorflow:Early stopping conditioned on metric `val_loss` which is not available. Available metrics are: loss,lr\n"
          ]
        },
        {
          "output_type": "stream",
          "name": "stdout",
          "text": [
            "\b\b\b\b\b\b\b\b\b\b\b\b\b\b\b\b\b\b\b\b\b\b\b\b\b\b\b\b\b\b\b\b\b\b\b\b\b\b\b\b\b\b\b\b\b\b\b\b\b\b\b\b\b\b\b\b\b\b\b\b\b\b\b\r25/25 [==============================] - 0s 5ms/step - loss: 0.0391 - lr: 0.0010\n",
            "Epoch 73/500\n",
            "23/25 [==========================>...] - ETA: 0s - loss: 0.0367"
          ]
        },
        {
          "output_type": "stream",
          "name": "stderr",
          "text": [
            "WARNING:tensorflow:Learning rate reduction is conditioned on metric `val_loss` which is not available. Available metrics are: loss,lr\n",
            "WARNING:tensorflow:Early stopping conditioned on metric `val_loss` which is not available. Available metrics are: loss,lr\n"
          ]
        },
        {
          "output_type": "stream",
          "name": "stdout",
          "text": [
            "\b\b\b\b\b\b\b\b\b\b\b\b\b\b\b\b\b\b\b\b\b\b\b\b\b\b\b\b\b\b\b\b\b\b\b\b\b\b\b\b\b\b\b\b\b\b\b\b\b\b\b\b\b\b\b\b\b\b\b\b\b\b\b\r25/25 [==============================] - 0s 4ms/step - loss: 0.0349 - lr: 0.0010\n",
            "Epoch 74/500\n",
            "19/25 [=====================>........] - ETA: 0s - loss: 0.0376"
          ]
        },
        {
          "output_type": "stream",
          "name": "stderr",
          "text": [
            "WARNING:tensorflow:Learning rate reduction is conditioned on metric `val_loss` which is not available. Available metrics are: loss,lr\n",
            "WARNING:tensorflow:Early stopping conditioned on metric `val_loss` which is not available. Available metrics are: loss,lr\n"
          ]
        },
        {
          "output_type": "stream",
          "name": "stdout",
          "text": [
            "\b\b\b\b\b\b\b\b\b\b\b\b\b\b\b\b\b\b\b\b\b\b\b\b\b\b\b\b\b\b\b\b\b\b\b\b\b\b\b\b\b\b\b\b\b\b\b\b\b\b\b\b\b\b\b\b\b\b\b\b\b\b\b\r25/25 [==============================] - 0s 5ms/step - loss: 0.0371 - lr: 0.0010\n",
            "Epoch 75/500\n",
            "19/25 [=====================>........] - ETA: 0s - loss: 0.0416"
          ]
        },
        {
          "output_type": "stream",
          "name": "stderr",
          "text": [
            "WARNING:tensorflow:Learning rate reduction is conditioned on metric `val_loss` which is not available. Available metrics are: loss,lr\n",
            "WARNING:tensorflow:Early stopping conditioned on metric `val_loss` which is not available. Available metrics are: loss,lr\n"
          ]
        },
        {
          "output_type": "stream",
          "name": "stdout",
          "text": [
            "\b\b\b\b\b\b\b\b\b\b\b\b\b\b\b\b\b\b\b\b\b\b\b\b\b\b\b\b\b\b\b\b\b\b\b\b\b\b\b\b\b\b\b\b\b\b\b\b\b\b\b\b\b\b\b\b\b\b\b\b\b\b\b\r25/25 [==============================] - 0s 5ms/step - loss: 0.0373 - lr: 0.0010\n",
            "Epoch 76/500\n",
            "20/25 [=======================>......] - ETA: 0s - loss: 0.0323"
          ]
        },
        {
          "output_type": "stream",
          "name": "stderr",
          "text": [
            "WARNING:tensorflow:Learning rate reduction is conditioned on metric `val_loss` which is not available. Available metrics are: loss,lr\n",
            "WARNING:tensorflow:Early stopping conditioned on metric `val_loss` which is not available. Available metrics are: loss,lr\n"
          ]
        },
        {
          "output_type": "stream",
          "name": "stdout",
          "text": [
            "\b\b\b\b\b\b\b\b\b\b\b\b\b\b\b\b\b\b\b\b\b\b\b\b\b\b\b\b\b\b\b\b\b\b\b\b\b\b\b\b\b\b\b\b\b\b\b\b\b\b\b\b\b\b\b\b\b\b\b\b\b\b\b\r25/25 [==============================] - 0s 5ms/step - loss: 0.0371 - lr: 0.0010\n",
            "Epoch 77/500\n",
            "19/25 [=====================>........] - ETA: 0s - loss: 0.0430"
          ]
        },
        {
          "output_type": "stream",
          "name": "stderr",
          "text": [
            "WARNING:tensorflow:Learning rate reduction is conditioned on metric `val_loss` which is not available. Available metrics are: loss,lr\n",
            "WARNING:tensorflow:Early stopping conditioned on metric `val_loss` which is not available. Available metrics are: loss,lr\n"
          ]
        },
        {
          "output_type": "stream",
          "name": "stdout",
          "text": [
            "\b\b\b\b\b\b\b\b\b\b\b\b\b\b\b\b\b\b\b\b\b\b\b\b\b\b\b\b\b\b\b\b\b\b\b\b\b\b\b\b\b\b\b\b\b\b\b\b\b\b\b\b\b\b\b\b\b\b\b\b\b\b\b\r25/25 [==============================] - 0s 5ms/step - loss: 0.0356 - lr: 0.0010\n",
            "Epoch 78/500\n",
            "20/25 [=======================>......] - ETA: 0s - loss: 0.0259"
          ]
        },
        {
          "output_type": "stream",
          "name": "stderr",
          "text": [
            "WARNING:tensorflow:Learning rate reduction is conditioned on metric `val_loss` which is not available. Available metrics are: loss,lr\n",
            "WARNING:tensorflow:Early stopping conditioned on metric `val_loss` which is not available. Available metrics are: loss,lr\n"
          ]
        },
        {
          "output_type": "stream",
          "name": "stdout",
          "text": [
            "\b\b\b\b\b\b\b\b\b\b\b\b\b\b\b\b\b\b\b\b\b\b\b\b\b\b\b\b\b\b\b\b\b\b\b\b\b\b\b\b\b\b\b\b\b\b\b\b\b\b\b\b\b\b\b\b\b\b\b\b\b\b\b\r25/25 [==============================] - 0s 5ms/step - loss: 0.0314 - lr: 0.0010\n",
            "Epoch 79/500\n",
            "17/25 [===================>..........] - ETA: 0s - loss: 0.0343"
          ]
        },
        {
          "output_type": "stream",
          "name": "stderr",
          "text": [
            "WARNING:tensorflow:Learning rate reduction is conditioned on metric `val_loss` which is not available. Available metrics are: loss,lr\n",
            "WARNING:tensorflow:Early stopping conditioned on metric `val_loss` which is not available. Available metrics are: loss,lr\n"
          ]
        },
        {
          "output_type": "stream",
          "name": "stdout",
          "text": [
            "\b\b\b\b\b\b\b\b\b\b\b\b\b\b\b\b\b\b\b\b\b\b\b\b\b\b\b\b\b\b\b\b\b\b\b\b\b\b\b\b\b\b\b\b\b\b\b\b\b\b\b\b\b\b\b\b\b\b\b\b\b\b\b\r25/25 [==============================] - 0s 5ms/step - loss: 0.0332 - lr: 0.0010\n",
            "Epoch 80/500\n",
            "17/25 [===================>..........] - ETA: 0s - loss: 0.0364"
          ]
        },
        {
          "output_type": "stream",
          "name": "stderr",
          "text": [
            "WARNING:tensorflow:Learning rate reduction is conditioned on metric `val_loss` which is not available. Available metrics are: loss,lr\n",
            "WARNING:tensorflow:Early stopping conditioned on metric `val_loss` which is not available. Available metrics are: loss,lr\n"
          ]
        },
        {
          "output_type": "stream",
          "name": "stdout",
          "text": [
            "\b\b\b\b\b\b\b\b\b\b\b\b\b\b\b\b\b\b\b\b\b\b\b\b\b\b\b\b\b\b\b\b\b\b\b\b\b\b\b\b\b\b\b\b\b\b\b\b\b\b\b\b\b\b\b\b\b\b\b\b\b\b\b\r25/25 [==============================] - 0s 5ms/step - loss: 0.0355 - lr: 0.0010\n",
            "Epoch 81/500\n",
            "16/25 [==================>...........] - ETA: 0s - loss: 0.0220"
          ]
        },
        {
          "output_type": "stream",
          "name": "stderr",
          "text": [
            "WARNING:tensorflow:Learning rate reduction is conditioned on metric `val_loss` which is not available. Available metrics are: loss,lr\n",
            "WARNING:tensorflow:Early stopping conditioned on metric `val_loss` which is not available. Available metrics are: loss,lr\n"
          ]
        },
        {
          "output_type": "stream",
          "name": "stdout",
          "text": [
            "\b\b\b\b\b\b\b\b\b\b\b\b\b\b\b\b\b\b\b\b\b\b\b\b\b\b\b\b\b\b\b\b\b\b\b\b\b\b\b\b\b\b\b\b\b\b\b\b\b\b\b\b\b\b\b\b\b\b\b\b\b\b\b\r25/25 [==============================] - 0s 5ms/step - loss: 0.0322 - lr: 0.0010\n",
            "Epoch 82/500\n",
            "22/25 [=========================>....] - ETA: 0s - loss: 0.0328"
          ]
        },
        {
          "output_type": "stream",
          "name": "stderr",
          "text": [
            "WARNING:tensorflow:Learning rate reduction is conditioned on metric `val_loss` which is not available. Available metrics are: loss,lr\n",
            "WARNING:tensorflow:Early stopping conditioned on metric `val_loss` which is not available. Available metrics are: loss,lr\n"
          ]
        },
        {
          "output_type": "stream",
          "name": "stdout",
          "text": [
            "\b\b\b\b\b\b\b\b\b\b\b\b\b\b\b\b\b\b\b\b\b\b\b\b\b\b\b\b\b\b\b\b\b\b\b\b\b\b\b\b\b\b\b\b\b\b\b\b\b\b\b\b\b\b\b\b\b\b\b\b\b\b\b\r25/25 [==============================] - 0s 5ms/step - loss: 0.0323 - lr: 0.0010\n",
            "Epoch 83/500\n",
            "19/25 [=====================>........] - ETA: 0s - loss: 0.0321"
          ]
        },
        {
          "output_type": "stream",
          "name": "stderr",
          "text": [
            "WARNING:tensorflow:Learning rate reduction is conditioned on metric `val_loss` which is not available. Available metrics are: loss,lr\n",
            "WARNING:tensorflow:Early stopping conditioned on metric `val_loss` which is not available. Available metrics are: loss,lr\n"
          ]
        },
        {
          "output_type": "stream",
          "name": "stdout",
          "text": [
            "\b\b\b\b\b\b\b\b\b\b\b\b\b\b\b\b\b\b\b\b\b\b\b\b\b\b\b\b\b\b\b\b\b\b\b\b\b\b\b\b\b\b\b\b\b\b\b\b\b\b\b\b\b\b\b\b\b\b\b\b\b\b\b\r25/25 [==============================] - 0s 5ms/step - loss: 0.0349 - lr: 0.0010\n",
            "Epoch 84/500\n",
            "17/25 [===================>..........] - ETA: 0s - loss: 0.0339"
          ]
        },
        {
          "output_type": "stream",
          "name": "stderr",
          "text": [
            "WARNING:tensorflow:Learning rate reduction is conditioned on metric `val_loss` which is not available. Available metrics are: loss,lr\n",
            "WARNING:tensorflow:Early stopping conditioned on metric `val_loss` which is not available. Available metrics are: loss,lr\n"
          ]
        },
        {
          "output_type": "stream",
          "name": "stdout",
          "text": [
            "\b\b\b\b\b\b\b\b\b\b\b\b\b\b\b\b\b\b\b\b\b\b\b\b\b\b\b\b\b\b\b\b\b\b\b\b\b\b\b\b\b\b\b\b\b\b\b\b\b\b\b\b\b\b\b\b\b\b\b\b\b\b\b\r25/25 [==============================] - 0s 5ms/step - loss: 0.0326 - lr: 0.0010\n",
            "Epoch 85/500\n",
            "21/25 [========================>.....] - ETA: 0s - loss: 0.0372"
          ]
        },
        {
          "output_type": "stream",
          "name": "stderr",
          "text": [
            "WARNING:tensorflow:Learning rate reduction is conditioned on metric `val_loss` which is not available. Available metrics are: loss,lr\n",
            "WARNING:tensorflow:Early stopping conditioned on metric `val_loss` which is not available. Available metrics are: loss,lr\n"
          ]
        },
        {
          "output_type": "stream",
          "name": "stdout",
          "text": [
            "\b\b\b\b\b\b\b\b\b\b\b\b\b\b\b\b\b\b\b\b\b\b\b\b\b\b\b\b\b\b\b\b\b\b\b\b\b\b\b\b\b\b\b\b\b\b\b\b\b\b\b\b\b\b\b\b\b\b\b\b\b\b\b\r25/25 [==============================] - 0s 4ms/step - loss: 0.0354 - lr: 0.0010\n",
            "Epoch 86/500\n",
            "15/25 [=================>............] - ETA: 0s - loss: 0.0325"
          ]
        },
        {
          "output_type": "stream",
          "name": "stderr",
          "text": [
            "WARNING:tensorflow:Learning rate reduction is conditioned on metric `val_loss` which is not available. Available metrics are: loss,lr\n",
            "WARNING:tensorflow:Early stopping conditioned on metric `val_loss` which is not available. Available metrics are: loss,lr\n"
          ]
        },
        {
          "output_type": "stream",
          "name": "stdout",
          "text": [
            "\b\b\b\b\b\b\b\b\b\b\b\b\b\b\b\b\b\b\b\b\b\b\b\b\b\b\b\b\b\b\b\b\b\b\b\b\b\b\b\b\b\b\b\b\b\b\b\b\b\b\b\b\b\b\b\b\b\b\b\b\b\b\b\r25/25 [==============================] - 0s 5ms/step - loss: 0.0334 - lr: 0.0010\n",
            "Epoch 87/500\n",
            "22/25 [=========================>....] - ETA: 0s - loss: 0.0370"
          ]
        },
        {
          "output_type": "stream",
          "name": "stderr",
          "text": [
            "WARNING:tensorflow:Learning rate reduction is conditioned on metric `val_loss` which is not available. Available metrics are: loss,lr\n",
            "WARNING:tensorflow:Early stopping conditioned on metric `val_loss` which is not available. Available metrics are: loss,lr\n"
          ]
        },
        {
          "output_type": "stream",
          "name": "stdout",
          "text": [
            "\b\b\b\b\b\b\b\b\b\b\b\b\b\b\b\b\b\b\b\b\b\b\b\b\b\b\b\b\b\b\b\b\b\b\b\b\b\b\b\b\b\b\b\b\b\b\b\b\b\b\b\b\b\b\b\b\b\b\b\b\b\b\b\r25/25 [==============================] - 0s 4ms/step - loss: 0.0344 - lr: 0.0010\n",
            "Epoch 88/500\n",
            "16/25 [==================>...........] - ETA: 0s - loss: 0.0371"
          ]
        },
        {
          "output_type": "stream",
          "name": "stderr",
          "text": [
            "WARNING:tensorflow:Learning rate reduction is conditioned on metric `val_loss` which is not available. Available metrics are: loss,lr\n",
            "WARNING:tensorflow:Early stopping conditioned on metric `val_loss` which is not available. Available metrics are: loss,lr\n"
          ]
        },
        {
          "output_type": "stream",
          "name": "stdout",
          "text": [
            "\b\b\b\b\b\b\b\b\b\b\b\b\b\b\b\b\b\b\b\b\b\b\b\b\b\b\b\b\b\b\b\b\b\b\b\b\b\b\b\b\b\b\b\b\b\b\b\b\b\b\b\b\b\b\b\b\b\b\b\b\b\b\b\r25/25 [==============================] - 0s 5ms/step - loss: 0.0375 - lr: 0.0010\n",
            "Epoch 89/500\n",
            "20/25 [=======================>......] - ETA: 0s - loss: 0.0373"
          ]
        },
        {
          "output_type": "stream",
          "name": "stderr",
          "text": [
            "WARNING:tensorflow:Learning rate reduction is conditioned on metric `val_loss` which is not available. Available metrics are: loss,lr\n",
            "WARNING:tensorflow:Early stopping conditioned on metric `val_loss` which is not available. Available metrics are: loss,lr\n"
          ]
        },
        {
          "output_type": "stream",
          "name": "stdout",
          "text": [
            "\b\b\b\b\b\b\b\b\b\b\b\b\b\b\b\b\b\b\b\b\b\b\b\b\b\b\b\b\b\b\b\b\b\b\b\b\b\b\b\b\b\b\b\b\b\b\b\b\b\b\b\b\b\b\b\b\b\b\b\b\b\b\b\r25/25 [==============================] - 0s 5ms/step - loss: 0.0315 - lr: 0.0010\n",
            "Epoch 90/500\n",
            "20/25 [=======================>......] - ETA: 0s - loss: 0.0251"
          ]
        },
        {
          "output_type": "stream",
          "name": "stderr",
          "text": [
            "WARNING:tensorflow:Learning rate reduction is conditioned on metric `val_loss` which is not available. Available metrics are: loss,lr\n",
            "WARNING:tensorflow:Early stopping conditioned on metric `val_loss` which is not available. Available metrics are: loss,lr\n"
          ]
        },
        {
          "output_type": "stream",
          "name": "stdout",
          "text": [
            "\b\b\b\b\b\b\b\b\b\b\b\b\b\b\b\b\b\b\b\b\b\b\b\b\b\b\b\b\b\b\b\b\b\b\b\b\b\b\b\b\b\b\b\b\b\b\b\b\b\b\b\b\b\b\b\b\b\b\b\b\b\b\b\r25/25 [==============================] - 0s 5ms/step - loss: 0.0283 - lr: 0.0010\n",
            "Epoch 91/500\n",
            "19/25 [=====================>........] - ETA: 0s - loss: 0.0302"
          ]
        },
        {
          "output_type": "stream",
          "name": "stderr",
          "text": [
            "WARNING:tensorflow:Learning rate reduction is conditioned on metric `val_loss` which is not available. Available metrics are: loss,lr\n",
            "WARNING:tensorflow:Early stopping conditioned on metric `val_loss` which is not available. Available metrics are: loss,lr\n"
          ]
        },
        {
          "output_type": "stream",
          "name": "stdout",
          "text": [
            "\b\b\b\b\b\b\b\b\b\b\b\b\b\b\b\b\b\b\b\b\b\b\b\b\b\b\b\b\b\b\b\b\b\b\b\b\b\b\b\b\b\b\b\b\b\b\b\b\b\b\b\b\b\b\b\b\b\b\b\b\b\b\b\r25/25 [==============================] - 0s 5ms/step - loss: 0.0295 - lr: 0.0010\n",
            "Epoch 92/500\n",
            "16/25 [==================>...........] - ETA: 0s - loss: 0.0322"
          ]
        },
        {
          "output_type": "stream",
          "name": "stderr",
          "text": [
            "WARNING:tensorflow:Learning rate reduction is conditioned on metric `val_loss` which is not available. Available metrics are: loss,lr\n",
            "WARNING:tensorflow:Early stopping conditioned on metric `val_loss` which is not available. Available metrics are: loss,lr\n"
          ]
        },
        {
          "output_type": "stream",
          "name": "stdout",
          "text": [
            "\b\b\b\b\b\b\b\b\b\b\b\b\b\b\b\b\b\b\b\b\b\b\b\b\b\b\b\b\b\b\b\b\b\b\b\b\b\b\b\b\b\b\b\b\b\b\b\b\b\b\b\b\b\b\b\b\b\b\b\b\b\b\b\r25/25 [==============================] - 0s 5ms/step - loss: 0.0323 - lr: 0.0010\n",
            "Epoch 93/500\n",
            "21/25 [========================>.....] - ETA: 0s - loss: 0.0337"
          ]
        },
        {
          "output_type": "stream",
          "name": "stderr",
          "text": [
            "WARNING:tensorflow:Learning rate reduction is conditioned on metric `val_loss` which is not available. Available metrics are: loss,lr\n",
            "WARNING:tensorflow:Early stopping conditioned on metric `val_loss` which is not available. Available metrics are: loss,lr\n"
          ]
        },
        {
          "output_type": "stream",
          "name": "stdout",
          "text": [
            "\b\b\b\b\b\b\b\b\b\b\b\b\b\b\b\b\b\b\b\b\b\b\b\b\b\b\b\b\b\b\b\b\b\b\b\b\b\b\b\b\b\b\b\b\b\b\b\b\b\b\b\b\b\b\b\b\b\b\b\b\b\b\b\r25/25 [==============================] - 0s 5ms/step - loss: 0.0367 - lr: 0.0010\n",
            "Epoch 94/500\n",
            "22/25 [=========================>....] - ETA: 0s - loss: 0.0307"
          ]
        },
        {
          "output_type": "stream",
          "name": "stderr",
          "text": [
            "WARNING:tensorflow:Learning rate reduction is conditioned on metric `val_loss` which is not available. Available metrics are: loss,lr\n",
            "WARNING:tensorflow:Early stopping conditioned on metric `val_loss` which is not available. Available metrics are: loss,lr\n"
          ]
        },
        {
          "output_type": "stream",
          "name": "stdout",
          "text": [
            "\b\b\b\b\b\b\b\b\b\b\b\b\b\b\b\b\b\b\b\b\b\b\b\b\b\b\b\b\b\b\b\b\b\b\b\b\b\b\b\b\b\b\b\b\b\b\b\b\b\b\b\b\b\b\b\b\b\b\b\b\b\b\b\r25/25 [==============================] - 0s 4ms/step - loss: 0.0352 - lr: 0.0010\n",
            "Epoch 95/500\n",
            "17/25 [===================>..........] - ETA: 0s - loss: 0.0344"
          ]
        },
        {
          "output_type": "stream",
          "name": "stderr",
          "text": [
            "WARNING:tensorflow:Learning rate reduction is conditioned on metric `val_loss` which is not available. Available metrics are: loss,lr\n",
            "WARNING:tensorflow:Early stopping conditioned on metric `val_loss` which is not available. Available metrics are: loss,lr\n"
          ]
        },
        {
          "output_type": "stream",
          "name": "stdout",
          "text": [
            "\b\b\b\b\b\b\b\b\b\b\b\b\b\b\b\b\b\b\b\b\b\b\b\b\b\b\b\b\b\b\b\b\b\b\b\b\b\b\b\b\b\b\b\b\b\b\b\b\b\b\b\b\b\b\b\b\b\b\b\b\b\b\b\r25/25 [==============================] - 0s 5ms/step - loss: 0.0370 - lr: 0.0010\n",
            "Epoch 96/500\n",
            "18/25 [====================>.........] - ETA: 0s - loss: 0.0307"
          ]
        },
        {
          "output_type": "stream",
          "name": "stderr",
          "text": [
            "WARNING:tensorflow:Learning rate reduction is conditioned on metric `val_loss` which is not available. Available metrics are: loss,lr\n",
            "WARNING:tensorflow:Early stopping conditioned on metric `val_loss` which is not available. Available metrics are: loss,lr\n"
          ]
        },
        {
          "output_type": "stream",
          "name": "stdout",
          "text": [
            "\b\b\b\b\b\b\b\b\b\b\b\b\b\b\b\b\b\b\b\b\b\b\b\b\b\b\b\b\b\b\b\b\b\b\b\b\b\b\b\b\b\b\b\b\b\b\b\b\b\b\b\b\b\b\b\b\b\b\b\b\b\b\b\r25/25 [==============================] - 0s 5ms/step - loss: 0.0379 - lr: 0.0010\n",
            "Epoch 97/500\n",
            "23/25 [==========================>...] - ETA: 0s - loss: 0.0368"
          ]
        },
        {
          "output_type": "stream",
          "name": "stderr",
          "text": [
            "WARNING:tensorflow:Learning rate reduction is conditioned on metric `val_loss` which is not available. Available metrics are: loss,lr\n",
            "WARNING:tensorflow:Early stopping conditioned on metric `val_loss` which is not available. Available metrics are: loss,lr\n"
          ]
        },
        {
          "output_type": "stream",
          "name": "stdout",
          "text": [
            "\b\b\b\b\b\b\b\b\b\b\b\b\b\b\b\b\b\b\b\b\b\b\b\b\b\b\b\b\b\b\b\b\b\b\b\b\b\b\b\b\b\b\b\b\b\b\b\b\b\b\b\b\b\b\b\b\b\b\b\b\b\b\b\r25/25 [==============================] - 0s 4ms/step - loss: 0.0341 - lr: 0.0010\n",
            "Epoch 98/500\n",
            "18/25 [====================>.........] - ETA: 0s - loss: 0.0435"
          ]
        },
        {
          "output_type": "stream",
          "name": "stderr",
          "text": [
            "WARNING:tensorflow:Learning rate reduction is conditioned on metric `val_loss` which is not available. Available metrics are: loss,lr\n",
            "WARNING:tensorflow:Early stopping conditioned on metric `val_loss` which is not available. Available metrics are: loss,lr\n"
          ]
        },
        {
          "output_type": "stream",
          "name": "stdout",
          "text": [
            "\b\b\b\b\b\b\b\b\b\b\b\b\b\b\b\b\b\b\b\b\b\b\b\b\b\b\b\b\b\b\b\b\b\b\b\b\b\b\b\b\b\b\b\b\b\b\b\b\b\b\b\b\b\b\b\b\b\b\b\b\b\b\b\r25/25 [==============================] - 0s 5ms/step - loss: 0.0386 - lr: 0.0010\n",
            "Epoch 99/500\n",
            "22/25 [=========================>....] - ETA: 0s - loss: 0.0320"
          ]
        },
        {
          "output_type": "stream",
          "name": "stderr",
          "text": [
            "WARNING:tensorflow:Learning rate reduction is conditioned on metric `val_loss` which is not available. Available metrics are: loss,lr\n",
            "WARNING:tensorflow:Early stopping conditioned on metric `val_loss` which is not available. Available metrics are: loss,lr\n"
          ]
        },
        {
          "output_type": "stream",
          "name": "stdout",
          "text": [
            "\b\b\b\b\b\b\b\b\b\b\b\b\b\b\b\b\b\b\b\b\b\b\b\b\b\b\b\b\b\b\b\b\b\b\b\b\b\b\b\b\b\b\b\b\b\b\b\b\b\b\b\b\b\b\b\b\b\b\b\b\b\b\b\r25/25 [==============================] - 0s 5ms/step - loss: 0.0341 - lr: 0.0010\n",
            "Epoch 100/500\n",
            "16/25 [==================>...........] - ETA: 0s - loss: 0.0232"
          ]
        },
        {
          "output_type": "stream",
          "name": "stderr",
          "text": [
            "WARNING:tensorflow:Learning rate reduction is conditioned on metric `val_loss` which is not available. Available metrics are: loss,lr\n",
            "WARNING:tensorflow:Early stopping conditioned on metric `val_loss` which is not available. Available metrics are: loss,lr\n"
          ]
        },
        {
          "output_type": "stream",
          "name": "stdout",
          "text": [
            "\b\b\b\b\b\b\b\b\b\b\b\b\b\b\b\b\b\b\b\b\b\b\b\b\b\b\b\b\b\b\b\b\b\b\b\b\b\b\b\b\b\b\b\b\b\b\b\b\b\b\b\b\b\b\b\b\b\b\b\b\b\b\b\r25/25 [==============================] - 0s 5ms/step - loss: 0.0324 - lr: 0.0010\n",
            "Epoch 101/500\n",
            "16/25 [==================>...........] - ETA: 0s - loss: 0.0302"
          ]
        },
        {
          "output_type": "stream",
          "name": "stderr",
          "text": [
            "WARNING:tensorflow:Learning rate reduction is conditioned on metric `val_loss` which is not available. Available metrics are: loss,lr\n",
            "WARNING:tensorflow:Early stopping conditioned on metric `val_loss` which is not available. Available metrics are: loss,lr\n"
          ]
        },
        {
          "output_type": "stream",
          "name": "stdout",
          "text": [
            "\b\b\b\b\b\b\b\b\b\b\b\b\b\b\b\b\b\b\b\b\b\b\b\b\b\b\b\b\b\b\b\b\b\b\b\b\b\b\b\b\b\b\b\b\b\b\b\b\b\b\b\b\b\b\b\b\b\b\b\b\b\b\b\r25/25 [==============================] - 0s 5ms/step - loss: 0.0303 - lr: 0.0010\n",
            "Epoch 102/500\n",
            "19/25 [=====================>........] - ETA: 0s - loss: 0.0300"
          ]
        },
        {
          "output_type": "stream",
          "name": "stderr",
          "text": [
            "WARNING:tensorflow:Learning rate reduction is conditioned on metric `val_loss` which is not available. Available metrics are: loss,lr\n",
            "WARNING:tensorflow:Early stopping conditioned on metric `val_loss` which is not available. Available metrics are: loss,lr\n"
          ]
        },
        {
          "output_type": "stream",
          "name": "stdout",
          "text": [
            "\b\b\b\b\b\b\b\b\b\b\b\b\b\b\b\b\b\b\b\b\b\b\b\b\b\b\b\b\b\b\b\b\b\b\b\b\b\b\b\b\b\b\b\b\b\b\b\b\b\b\b\b\b\b\b\b\b\b\b\b\b\b\b\r25/25 [==============================] - 0s 5ms/step - loss: 0.0271 - lr: 0.0010\n",
            "Epoch 103/500\n",
            "18/25 [====================>.........] - ETA: 0s - loss: 0.0282"
          ]
        },
        {
          "output_type": "stream",
          "name": "stderr",
          "text": [
            "WARNING:tensorflow:Learning rate reduction is conditioned on metric `val_loss` which is not available. Available metrics are: loss,lr\n",
            "WARNING:tensorflow:Early stopping conditioned on metric `val_loss` which is not available. Available metrics are: loss,lr\n"
          ]
        },
        {
          "output_type": "stream",
          "name": "stdout",
          "text": [
            "\b\b\b\b\b\b\b\b\b\b\b\b\b\b\b\b\b\b\b\b\b\b\b\b\b\b\b\b\b\b\b\b\b\b\b\b\b\b\b\b\b\b\b\b\b\b\b\b\b\b\b\b\b\b\b\b\b\b\b\b\b\b\b\r25/25 [==============================] - 0s 5ms/step - loss: 0.0310 - lr: 0.0010\n",
            "Epoch 104/500\n",
            "19/25 [=====================>........] - ETA: 0s - loss: 0.0241"
          ]
        },
        {
          "output_type": "stream",
          "name": "stderr",
          "text": [
            "WARNING:tensorflow:Learning rate reduction is conditioned on metric `val_loss` which is not available. Available metrics are: loss,lr\n",
            "WARNING:tensorflow:Early stopping conditioned on metric `val_loss` which is not available. Available metrics are: loss,lr\n"
          ]
        },
        {
          "output_type": "stream",
          "name": "stdout",
          "text": [
            "\b\b\b\b\b\b\b\b\b\b\b\b\b\b\b\b\b\b\b\b\b\b\b\b\b\b\b\b\b\b\b\b\b\b\b\b\b\b\b\b\b\b\b\b\b\b\b\b\b\b\b\b\b\b\b\b\b\b\b\b\b\b\b\r25/25 [==============================] - 0s 5ms/step - loss: 0.0262 - lr: 0.0010\n",
            "Epoch 105/500\n",
            "20/25 [=======================>......] - ETA: 0s - loss: 0.0252"
          ]
        },
        {
          "output_type": "stream",
          "name": "stderr",
          "text": [
            "WARNING:tensorflow:Learning rate reduction is conditioned on metric `val_loss` which is not available. Available metrics are: loss,lr\n",
            "WARNING:tensorflow:Early stopping conditioned on metric `val_loss` which is not available. Available metrics are: loss,lr\n"
          ]
        },
        {
          "output_type": "stream",
          "name": "stdout",
          "text": [
            "\b\b\b\b\b\b\b\b\b\b\b\b\b\b\b\b\b\b\b\b\b\b\b\b\b\b\b\b\b\b\b\b\b\b\b\b\b\b\b\b\b\b\b\b\b\b\b\b\b\b\b\b\b\b\b\b\b\b\b\b\b\b\b\r25/25 [==============================] - 0s 5ms/step - loss: 0.0278 - lr: 0.0010\n",
            "Epoch 106/500\n",
            "21/25 [========================>.....] - ETA: 0s - loss: 0.0234"
          ]
        },
        {
          "output_type": "stream",
          "name": "stderr",
          "text": [
            "WARNING:tensorflow:Learning rate reduction is conditioned on metric `val_loss` which is not available. Available metrics are: loss,lr\n",
            "WARNING:tensorflow:Early stopping conditioned on metric `val_loss` which is not available. Available metrics are: loss,lr\n"
          ]
        },
        {
          "output_type": "stream",
          "name": "stdout",
          "text": [
            "\b\b\b\b\b\b\b\b\b\b\b\b\b\b\b\b\b\b\b\b\b\b\b\b\b\b\b\b\b\b\b\b\b\b\b\b\b\b\b\b\b\b\b\b\b\b\b\b\b\b\b\b\b\b\b\b\b\b\b\b\b\b\b\r25/25 [==============================] - 0s 5ms/step - loss: 0.0276 - lr: 0.0010\n",
            "Epoch 107/500\n",
            "18/25 [====================>.........] - ETA: 0s - loss: 0.0237"
          ]
        },
        {
          "output_type": "stream",
          "name": "stderr",
          "text": [
            "WARNING:tensorflow:Learning rate reduction is conditioned on metric `val_loss` which is not available. Available metrics are: loss,lr\n",
            "WARNING:tensorflow:Early stopping conditioned on metric `val_loss` which is not available. Available metrics are: loss,lr\n"
          ]
        },
        {
          "output_type": "stream",
          "name": "stdout",
          "text": [
            "\b\b\b\b\b\b\b\b\b\b\b\b\b\b\b\b\b\b\b\b\b\b\b\b\b\b\b\b\b\b\b\b\b\b\b\b\b\b\b\b\b\b\b\b\b\b\b\b\b\b\b\b\b\b\b\b\b\b\b\b\b\b\b\r25/25 [==============================] - 0s 5ms/step - loss: 0.0253 - lr: 0.0010\n",
            "Epoch 108/500\n",
            "17/25 [===================>..........] - ETA: 0s - loss: 0.0278"
          ]
        },
        {
          "output_type": "stream",
          "name": "stderr",
          "text": [
            "WARNING:tensorflow:Learning rate reduction is conditioned on metric `val_loss` which is not available. Available metrics are: loss,lr\n",
            "WARNING:tensorflow:Early stopping conditioned on metric `val_loss` which is not available. Available metrics are: loss,lr\n"
          ]
        },
        {
          "output_type": "stream",
          "name": "stdout",
          "text": [
            "\b\b\b\b\b\b\b\b\b\b\b\b\b\b\b\b\b\b\b\b\b\b\b\b\b\b\b\b\b\b\b\b\b\b\b\b\b\b\b\b\b\b\b\b\b\b\b\b\b\b\b\b\b\b\b\b\b\b\b\b\b\b\b\r25/25 [==============================] - 0s 5ms/step - loss: 0.0278 - lr: 0.0010\n",
            "Epoch 109/500\n",
            "18/25 [====================>.........] - ETA: 0s - loss: 0.0536"
          ]
        },
        {
          "output_type": "stream",
          "name": "stderr",
          "text": [
            "WARNING:tensorflow:Learning rate reduction is conditioned on metric `val_loss` which is not available. Available metrics are: loss,lr\n",
            "WARNING:tensorflow:Early stopping conditioned on metric `val_loss` which is not available. Available metrics are: loss,lr\n"
          ]
        },
        {
          "output_type": "stream",
          "name": "stdout",
          "text": [
            "\b\b\b\b\b\b\b\b\b\b\b\b\b\b\b\b\b\b\b\b\b\b\b\b\b\b\b\b\b\b\b\b\b\b\b\b\b\b\b\b\b\b\b\b\b\b\b\b\b\b\b\b\b\b\b\b\b\b\b\b\b\b\b\r25/25 [==============================] - 0s 5ms/step - loss: 0.0500 - lr: 0.0010\n",
            "Epoch 110/500\n",
            "21/25 [========================>.....] - ETA: 0s - loss: 0.0414"
          ]
        },
        {
          "output_type": "stream",
          "name": "stderr",
          "text": [
            "WARNING:tensorflow:Learning rate reduction is conditioned on metric `val_loss` which is not available. Available metrics are: loss,lr\n",
            "WARNING:tensorflow:Early stopping conditioned on metric `val_loss` which is not available. Available metrics are: loss,lr\n"
          ]
        },
        {
          "output_type": "stream",
          "name": "stdout",
          "text": [
            "\b\b\b\b\b\b\b\b\b\b\b\b\b\b\b\b\b\b\b\b\b\b\b\b\b\b\b\b\b\b\b\b\b\b\b\b\b\b\b\b\b\b\b\b\b\b\b\b\b\b\b\b\b\b\b\b\b\b\b\b\b\b\b\r25/25 [==============================] - 0s 5ms/step - loss: 0.0416 - lr: 0.0010\n",
            "Epoch 111/500\n",
            "21/25 [========================>.....] - ETA: 0s - loss: 0.0397"
          ]
        },
        {
          "output_type": "stream",
          "name": "stderr",
          "text": [
            "WARNING:tensorflow:Learning rate reduction is conditioned on metric `val_loss` which is not available. Available metrics are: loss,lr\n",
            "WARNING:tensorflow:Early stopping conditioned on metric `val_loss` which is not available. Available metrics are: loss,lr\n"
          ]
        },
        {
          "output_type": "stream",
          "name": "stdout",
          "text": [
            "\b\b\b\b\b\b\b\b\b\b\b\b\b\b\b\b\b\b\b\b\b\b\b\b\b\b\b\b\b\b\b\b\b\b\b\b\b\b\b\b\b\b\b\b\b\b\b\b\b\b\b\b\b\b\b\b\b\b\b\b\b\b\b\r25/25 [==============================] - 0s 5ms/step - loss: 0.0347 - lr: 0.0010\n",
            "Epoch 112/500\n",
            "22/25 [=========================>....] - ETA: 0s - loss: 0.0330"
          ]
        },
        {
          "output_type": "stream",
          "name": "stderr",
          "text": [
            "WARNING:tensorflow:Learning rate reduction is conditioned on metric `val_loss` which is not available. Available metrics are: loss,lr\n",
            "WARNING:tensorflow:Early stopping conditioned on metric `val_loss` which is not available. Available metrics are: loss,lr\n"
          ]
        },
        {
          "output_type": "stream",
          "name": "stdout",
          "text": [
            "\b\b\b\b\b\b\b\b\b\b\b\b\b\b\b\b\b\b\b\b\b\b\b\b\b\b\b\b\b\b\b\b\b\b\b\b\b\b\b\b\b\b\b\b\b\b\b\b\b\b\b\b\b\b\b\b\b\b\b\b\b\b\b\r25/25 [==============================] - 0s 5ms/step - loss: 0.0331 - lr: 0.0010\n",
            "Epoch 113/500\n",
            "15/25 [=================>............] - ETA: 0s - loss: 0.0317"
          ]
        },
        {
          "output_type": "stream",
          "name": "stderr",
          "text": [
            "WARNING:tensorflow:Learning rate reduction is conditioned on metric `val_loss` which is not available. Available metrics are: loss,lr\n",
            "WARNING:tensorflow:Early stopping conditioned on metric `val_loss` which is not available. Available metrics are: loss,lr\n"
          ]
        },
        {
          "output_type": "stream",
          "name": "stdout",
          "text": [
            "\b\b\b\b\b\b\b\b\b\b\b\b\b\b\b\b\b\b\b\b\b\b\b\b\b\b\b\b\b\b\b\b\b\b\b\b\b\b\b\b\b\b\b\b\b\b\b\b\b\b\b\b\b\b\b\b\b\b\b\b\b\b\b\r25/25 [==============================] - 0s 5ms/step - loss: 0.0321 - lr: 0.0010\n",
            "Epoch 114/500\n",
            "21/25 [========================>.....] - ETA: 0s - loss: 0.0316"
          ]
        },
        {
          "output_type": "stream",
          "name": "stderr",
          "text": [
            "WARNING:tensorflow:Learning rate reduction is conditioned on metric `val_loss` which is not available. Available metrics are: loss,lr\n",
            "WARNING:tensorflow:Early stopping conditioned on metric `val_loss` which is not available. Available metrics are: loss,lr\n"
          ]
        },
        {
          "output_type": "stream",
          "name": "stdout",
          "text": [
            "\b\b\b\b\b\b\b\b\b\b\b\b\b\b\b\b\b\b\b\b\b\b\b\b\b\b\b\b\b\b\b\b\b\b\b\b\b\b\b\b\b\b\b\b\b\b\b\b\b\b\b\b\b\b\b\b\b\b\b\b\b\b\b\r25/25 [==============================] - 0s 5ms/step - loss: 0.0302 - lr: 0.0010\n",
            "Epoch 115/500\n",
            "16/25 [==================>...........] - ETA: 0s - loss: 0.0153"
          ]
        },
        {
          "output_type": "stream",
          "name": "stderr",
          "text": [
            "WARNING:tensorflow:Learning rate reduction is conditioned on metric `val_loss` which is not available. Available metrics are: loss,lr\n",
            "WARNING:tensorflow:Early stopping conditioned on metric `val_loss` which is not available. Available metrics are: loss,lr\n"
          ]
        },
        {
          "output_type": "stream",
          "name": "stdout",
          "text": [
            "\b\b\b\b\b\b\b\b\b\b\b\b\b\b\b\b\b\b\b\b\b\b\b\b\b\b\b\b\b\b\b\b\b\b\b\b\b\b\b\b\b\b\b\b\b\b\b\b\b\b\b\b\b\b\b\b\b\b\b\b\b\b\b\r25/25 [==============================] - 0s 5ms/step - loss: 0.0273 - lr: 0.0010\n",
            "Epoch 116/500\n",
            "14/25 [===============>..............] - ETA: 0s - loss: 0.0326"
          ]
        },
        {
          "output_type": "stream",
          "name": "stderr",
          "text": [
            "WARNING:tensorflow:Learning rate reduction is conditioned on metric `val_loss` which is not available. Available metrics are: loss,lr\n",
            "WARNING:tensorflow:Early stopping conditioned on metric `val_loss` which is not available. Available metrics are: loss,lr\n"
          ]
        },
        {
          "output_type": "stream",
          "name": "stdout",
          "text": [
            "\b\b\b\b\b\b\b\b\b\b\b\b\b\b\b\b\b\b\b\b\b\b\b\b\b\b\b\b\b\b\b\b\b\b\b\b\b\b\b\b\b\b\b\b\b\b\b\b\b\b\b\b\b\b\b\b\b\b\b\b\b\b\b\r25/25 [==============================] - 0s 6ms/step - loss: 0.0284 - lr: 0.0010\n",
            "Epoch 117/500\n",
            "20/25 [=======================>......] - ETA: 0s - loss: 0.0310"
          ]
        },
        {
          "output_type": "stream",
          "name": "stderr",
          "text": [
            "WARNING:tensorflow:Learning rate reduction is conditioned on metric `val_loss` which is not available. Available metrics are: loss,lr\n",
            "WARNING:tensorflow:Early stopping conditioned on metric `val_loss` which is not available. Available metrics are: loss,lr\n"
          ]
        },
        {
          "output_type": "stream",
          "name": "stdout",
          "text": [
            "\b\b\b\b\b\b\b\b\b\b\b\b\b\b\b\b\b\b\b\b\b\b\b\b\b\b\b\b\b\b\b\b\b\b\b\b\b\b\b\b\b\b\b\b\b\b\b\b\b\b\b\b\b\b\b\b\b\b\b\b\b\b\b\r25/25 [==============================] - 0s 5ms/step - loss: 0.0291 - lr: 0.0010\n",
            "Epoch 118/500\n",
            "18/25 [====================>.........] - ETA: 0s - loss: 0.0377"
          ]
        },
        {
          "output_type": "stream",
          "name": "stderr",
          "text": [
            "WARNING:tensorflow:Learning rate reduction is conditioned on metric `val_loss` which is not available. Available metrics are: loss,lr\n",
            "WARNING:tensorflow:Early stopping conditioned on metric `val_loss` which is not available. Available metrics are: loss,lr\n"
          ]
        },
        {
          "output_type": "stream",
          "name": "stdout",
          "text": [
            "\b\b\b\b\b\b\b\b\b\b\b\b\b\b\b\b\b\b\b\b\b\b\b\b\b\b\b\b\b\b\b\b\b\b\b\b\b\b\b\b\b\b\b\b\b\b\b\b\b\b\b\b\b\b\b\b\b\b\b\b\b\b\b\r25/25 [==============================] - 0s 5ms/step - loss: 0.0308 - lr: 0.0010\n",
            "Epoch 119/500\n",
            "19/25 [=====================>........] - ETA: 0s - loss: 0.0291"
          ]
        },
        {
          "output_type": "stream",
          "name": "stderr",
          "text": [
            "WARNING:tensorflow:Learning rate reduction is conditioned on metric `val_loss` which is not available. Available metrics are: loss,lr\n",
            "WARNING:tensorflow:Early stopping conditioned on metric `val_loss` which is not available. Available metrics are: loss,lr\n"
          ]
        },
        {
          "output_type": "stream",
          "name": "stdout",
          "text": [
            "\b\b\b\b\b\b\b\b\b\b\b\b\b\b\b\b\b\b\b\b\b\b\b\b\b\b\b\b\b\b\b\b\b\b\b\b\b\b\b\b\b\b\b\b\b\b\b\b\b\b\b\b\b\b\b\b\b\b\b\b\b\b\b\r25/25 [==============================] - 0s 5ms/step - loss: 0.0296 - lr: 0.0010\n",
            "Epoch 120/500\n",
            "17/25 [===================>..........] - ETA: 0s - loss: 0.0310"
          ]
        },
        {
          "output_type": "stream",
          "name": "stderr",
          "text": [
            "WARNING:tensorflow:Learning rate reduction is conditioned on metric `val_loss` which is not available. Available metrics are: loss,lr\n",
            "WARNING:tensorflow:Early stopping conditioned on metric `val_loss` which is not available. Available metrics are: loss,lr\n"
          ]
        },
        {
          "output_type": "stream",
          "name": "stdout",
          "text": [
            "\b\b\b\b\b\b\b\b\b\b\b\b\b\b\b\b\b\b\b\b\b\b\b\b\b\b\b\b\b\b\b\b\b\b\b\b\b\b\b\b\b\b\b\b\b\b\b\b\b\b\b\b\b\b\b\b\b\b\b\b\b\b\b\r25/25 [==============================] - 0s 5ms/step - loss: 0.0281 - lr: 0.0010\n",
            "Epoch 121/500\n",
            "20/25 [=======================>......] - ETA: 0s - loss: 0.0293"
          ]
        },
        {
          "output_type": "stream",
          "name": "stderr",
          "text": [
            "WARNING:tensorflow:Learning rate reduction is conditioned on metric `val_loss` which is not available. Available metrics are: loss,lr\n",
            "WARNING:tensorflow:Early stopping conditioned on metric `val_loss` which is not available. Available metrics are: loss,lr\n"
          ]
        },
        {
          "output_type": "stream",
          "name": "stdout",
          "text": [
            "\b\b\b\b\b\b\b\b\b\b\b\b\b\b\b\b\b\b\b\b\b\b\b\b\b\b\b\b\b\b\b\b\b\b\b\b\b\b\b\b\b\b\b\b\b\b\b\b\b\b\b\b\b\b\b\b\b\b\b\b\b\b\b\r25/25 [==============================] - 0s 5ms/step - loss: 0.0364 - lr: 0.0010\n",
            "Epoch 122/500\n",
            "20/25 [=======================>......] - ETA: 0s - loss: 0.0270"
          ]
        },
        {
          "output_type": "stream",
          "name": "stderr",
          "text": [
            "WARNING:tensorflow:Learning rate reduction is conditioned on metric `val_loss` which is not available. Available metrics are: loss,lr\n",
            "WARNING:tensorflow:Early stopping conditioned on metric `val_loss` which is not available. Available metrics are: loss,lr\n"
          ]
        },
        {
          "output_type": "stream",
          "name": "stdout",
          "text": [
            "\b\b\b\b\b\b\b\b\b\b\b\b\b\b\b\b\b\b\b\b\b\b\b\b\b\b\b\b\b\b\b\b\b\b\b\b\b\b\b\b\b\b\b\b\b\b\b\b\b\b\b\b\b\b\b\b\b\b\b\b\b\b\b\r25/25 [==============================] - 0s 5ms/step - loss: 0.0360 - lr: 0.0010\n",
            "Epoch 123/500\n",
            "19/25 [=====================>........] - ETA: 0s - loss: 0.0271"
          ]
        },
        {
          "output_type": "stream",
          "name": "stderr",
          "text": [
            "WARNING:tensorflow:Learning rate reduction is conditioned on metric `val_loss` which is not available. Available metrics are: loss,lr\n",
            "WARNING:tensorflow:Early stopping conditioned on metric `val_loss` which is not available. Available metrics are: loss,lr\n"
          ]
        },
        {
          "output_type": "stream",
          "name": "stdout",
          "text": [
            "\b\b\b\b\b\b\b\b\b\b\b\b\b\b\b\b\b\b\b\b\b\b\b\b\b\b\b\b\b\b\b\b\b\b\b\b\b\b\b\b\b\b\b\b\b\b\b\b\b\b\b\b\b\b\b\b\b\b\b\b\b\b\b\r25/25 [==============================] - 0s 5ms/step - loss: 0.0285 - lr: 0.0010\n",
            "Epoch 124/500\n",
            "19/25 [=====================>........] - ETA: 0s - loss: 0.0388"
          ]
        },
        {
          "output_type": "stream",
          "name": "stderr",
          "text": [
            "WARNING:tensorflow:Learning rate reduction is conditioned on metric `val_loss` which is not available. Available metrics are: loss,lr\n",
            "WARNING:tensorflow:Early stopping conditioned on metric `val_loss` which is not available. Available metrics are: loss,lr\n"
          ]
        },
        {
          "output_type": "stream",
          "name": "stdout",
          "text": [
            "\b\b\b\b\b\b\b\b\b\b\b\b\b\b\b\b\b\b\b\b\b\b\b\b\b\b\b\b\b\b\b\b\b\b\b\b\b\b\b\b\b\b\b\b\b\b\b\b\b\b\b\b\b\b\b\b\b\b\b\b\b\b\b\r25/25 [==============================] - 0s 5ms/step - loss: 0.0340 - lr: 0.0010\n",
            "Epoch 125/500\n",
            "19/25 [=====================>........] - ETA: 0s - loss: 0.0293"
          ]
        },
        {
          "output_type": "stream",
          "name": "stderr",
          "text": [
            "WARNING:tensorflow:Learning rate reduction is conditioned on metric `val_loss` which is not available. Available metrics are: loss,lr\n",
            "WARNING:tensorflow:Early stopping conditioned on metric `val_loss` which is not available. Available metrics are: loss,lr\n"
          ]
        },
        {
          "output_type": "stream",
          "name": "stdout",
          "text": [
            "\b\b\b\b\b\b\b\b\b\b\b\b\b\b\b\b\b\b\b\b\b\b\b\b\b\b\b\b\b\b\b\b\b\b\b\b\b\b\b\b\b\b\b\b\b\b\b\b\b\b\b\b\b\b\b\b\b\b\b\b\b\b\b\r25/25 [==============================] - 0s 5ms/step - loss: 0.0321 - lr: 0.0010\n",
            "Epoch 126/500\n",
            "22/25 [=========================>....] - ETA: 0s - loss: 0.0332"
          ]
        },
        {
          "output_type": "stream",
          "name": "stderr",
          "text": [
            "WARNING:tensorflow:Learning rate reduction is conditioned on metric `val_loss` which is not available. Available metrics are: loss,lr\n",
            "WARNING:tensorflow:Early stopping conditioned on metric `val_loss` which is not available. Available metrics are: loss,lr\n"
          ]
        },
        {
          "output_type": "stream",
          "name": "stdout",
          "text": [
            "\b\b\b\b\b\b\b\b\b\b\b\b\b\b\b\b\b\b\b\b\b\b\b\b\b\b\b\b\b\b\b\b\b\b\b\b\b\b\b\b\b\b\b\b\b\b\b\b\b\b\b\b\b\b\b\b\b\b\b\b\b\b\b\r25/25 [==============================] - 0s 5ms/step - loss: 0.0316 - lr: 0.0010\n",
            "Epoch 127/500\n",
            "19/25 [=====================>........] - ETA: 0s - loss: 0.0287"
          ]
        },
        {
          "output_type": "stream",
          "name": "stderr",
          "text": [
            "WARNING:tensorflow:Learning rate reduction is conditioned on metric `val_loss` which is not available. Available metrics are: loss,lr\n",
            "WARNING:tensorflow:Early stopping conditioned on metric `val_loss` which is not available. Available metrics are: loss,lr\n"
          ]
        },
        {
          "output_type": "stream",
          "name": "stdout",
          "text": [
            "\b\b\b\b\b\b\b\b\b\b\b\b\b\b\b\b\b\b\b\b\b\b\b\b\b\b\b\b\b\b\b\b\b\b\b\b\b\b\b\b\b\b\b\b\b\b\b\b\b\b\b\b\b\b\b\b\b\b\b\b\b\b\b\r25/25 [==============================] - 0s 5ms/step - loss: 0.0315 - lr: 0.0010\n",
            "Epoch 128/500\n",
            "21/25 [========================>.....] - ETA: 0s - loss: 0.0267"
          ]
        },
        {
          "output_type": "stream",
          "name": "stderr",
          "text": [
            "WARNING:tensorflow:Learning rate reduction is conditioned on metric `val_loss` which is not available. Available metrics are: loss,lr\n",
            "WARNING:tensorflow:Early stopping conditioned on metric `val_loss` which is not available. Available metrics are: loss,lr\n"
          ]
        },
        {
          "output_type": "stream",
          "name": "stdout",
          "text": [
            "\b\b\b\b\b\b\b\b\b\b\b\b\b\b\b\b\b\b\b\b\b\b\b\b\b\b\b\b\b\b\b\b\b\b\b\b\b\b\b\b\b\b\b\b\b\b\b\b\b\b\b\b\b\b\b\b\b\b\b\b\b\b\b\r25/25 [==============================] - 0s 4ms/step - loss: 0.0282 - lr: 0.0010\n",
            "Epoch 129/500\n",
            "21/25 [========================>.....] - ETA: 0s - loss: 0.0326"
          ]
        },
        {
          "output_type": "stream",
          "name": "stderr",
          "text": [
            "WARNING:tensorflow:Learning rate reduction is conditioned on metric `val_loss` which is not available. Available metrics are: loss,lr\n",
            "WARNING:tensorflow:Early stopping conditioned on metric `val_loss` which is not available. Available metrics are: loss,lr\n"
          ]
        },
        {
          "output_type": "stream",
          "name": "stdout",
          "text": [
            "\b\b\b\b\b\b\b\b\b\b\b\b\b\b\b\b\b\b\b\b\b\b\b\b\b\b\b\b\b\b\b\b\b\b\b\b\b\b\b\b\b\b\b\b\b\b\b\b\b\b\b\b\b\b\b\b\b\b\b\b\b\b\b\r25/25 [==============================] - 0s 5ms/step - loss: 0.0301 - lr: 0.0010\n",
            "Epoch 130/500\n",
            "15/25 [=================>............] - ETA: 0s - loss: 0.0268"
          ]
        },
        {
          "output_type": "stream",
          "name": "stderr",
          "text": [
            "WARNING:tensorflow:Learning rate reduction is conditioned on metric `val_loss` which is not available. Available metrics are: loss,lr\n",
            "WARNING:tensorflow:Early stopping conditioned on metric `val_loss` which is not available. Available metrics are: loss,lr\n"
          ]
        },
        {
          "output_type": "stream",
          "name": "stdout",
          "text": [
            "\b\b\b\b\b\b\b\b\b\b\b\b\b\b\b\b\b\b\b\b\b\b\b\b\b\b\b\b\b\b\b\b\b\b\b\b\b\b\b\b\b\b\b\b\b\b\b\b\b\b\b\b\b\b\b\b\b\b\b\b\b\b\b\r25/25 [==============================] - 0s 5ms/step - loss: 0.0246 - lr: 0.0010\n",
            "Epoch 131/500\n",
            "16/25 [==================>...........] - ETA: 0s - loss: 0.0227"
          ]
        },
        {
          "output_type": "stream",
          "name": "stderr",
          "text": [
            "WARNING:tensorflow:Learning rate reduction is conditioned on metric `val_loss` which is not available. Available metrics are: loss,lr\n",
            "WARNING:tensorflow:Early stopping conditioned on metric `val_loss` which is not available. Available metrics are: loss,lr\n"
          ]
        },
        {
          "output_type": "stream",
          "name": "stdout",
          "text": [
            "\b\b\b\b\b\b\b\b\b\b\b\b\b\b\b\b\b\b\b\b\b\b\b\b\b\b\b\b\b\b\b\b\b\b\b\b\b\b\b\b\b\b\b\b\b\b\b\b\b\b\b\b\b\b\b\b\b\b\b\b\b\b\b\r25/25 [==============================] - 0s 6ms/step - loss: 0.0255 - lr: 0.0010\n",
            "Epoch 132/500\n",
            "16/25 [==================>...........] - ETA: 0s - loss: 0.0334"
          ]
        },
        {
          "output_type": "stream",
          "name": "stderr",
          "text": [
            "WARNING:tensorflow:Learning rate reduction is conditioned on metric `val_loss` which is not available. Available metrics are: loss,lr\n",
            "WARNING:tensorflow:Early stopping conditioned on metric `val_loss` which is not available. Available metrics are: loss,lr\n"
          ]
        },
        {
          "output_type": "stream",
          "name": "stdout",
          "text": [
            "\b\b\b\b\b\b\b\b\b\b\b\b\b\b\b\b\b\b\b\b\b\b\b\b\b\b\b\b\b\b\b\b\b\b\b\b\b\b\b\b\b\b\b\b\b\b\b\b\b\b\b\b\b\b\b\b\b\b\b\b\b\b\b\r25/25 [==============================] - 0s 5ms/step - loss: 0.0308 - lr: 0.0010\n",
            "Epoch 133/500\n",
            "18/25 [====================>.........] - ETA: 0s - loss: 0.0243    "
          ]
        },
        {
          "output_type": "stream",
          "name": "stderr",
          "text": [
            "WARNING:tensorflow:Learning rate reduction is conditioned on metric `val_loss` which is not available. Available metrics are: loss,lr\n",
            "WARNING:tensorflow:Early stopping conditioned on metric `val_loss` which is not available. Available metrics are: loss,lr\n"
          ]
        },
        {
          "output_type": "stream",
          "name": "stdout",
          "text": [
            "\b\b\b\b\b\b\b\b\b\b\b\b\b\b\b\b\b\b\b\b\b\b\b\b\b\b\b\b\b\b\b\b\b\b\b\b\b\b\b\b\b\b\b\b\b\b\b\b\b\b\b\b\b\b\b\b\b\b\b\b\b\b\b\r25/25 [==============================] - 0s 5ms/step - loss: 0.0237 - lr: 0.0010\n",
            "Epoch 134/500\n",
            "17/25 [===================>..........] - ETA: 0s - loss: 0.0236"
          ]
        },
        {
          "output_type": "stream",
          "name": "stderr",
          "text": [
            "WARNING:tensorflow:Learning rate reduction is conditioned on metric `val_loss` which is not available. Available metrics are: loss,lr\n",
            "WARNING:tensorflow:Early stopping conditioned on metric `val_loss` which is not available. Available metrics are: loss,lr\n"
          ]
        },
        {
          "output_type": "stream",
          "name": "stdout",
          "text": [
            "\b\b\b\b\b\b\b\b\b\b\b\b\b\b\b\b\b\b\b\b\b\b\b\b\b\b\b\b\b\b\b\b\b\b\b\b\b\b\b\b\b\b\b\b\b\b\b\b\b\b\b\b\b\b\b\b\b\b\b\b\b\b\b\r25/25 [==============================] - 0s 5ms/step - loss: 0.0272 - lr: 0.0010\n",
            "Epoch 135/500\n",
            "21/25 [========================>.....] - ETA: 0s - loss: 0.0299"
          ]
        },
        {
          "output_type": "stream",
          "name": "stderr",
          "text": [
            "WARNING:tensorflow:Learning rate reduction is conditioned on metric `val_loss` which is not available. Available metrics are: loss,lr\n",
            "WARNING:tensorflow:Early stopping conditioned on metric `val_loss` which is not available. Available metrics are: loss,lr\n"
          ]
        },
        {
          "output_type": "stream",
          "name": "stdout",
          "text": [
            "\b\b\b\b\b\b\b\b\b\b\b\b\b\b\b\b\b\b\b\b\b\b\b\b\b\b\b\b\b\b\b\b\b\b\b\b\b\b\b\b\b\b\b\b\b\b\b\b\b\b\b\b\b\b\b\b\b\b\b\b\b\b\b\r25/25 [==============================] - 0s 5ms/step - loss: 0.0281 - lr: 0.0010\n",
            "Epoch 136/500\n",
            "22/25 [=========================>....] - ETA: 0s - loss: 0.0326"
          ]
        },
        {
          "output_type": "stream",
          "name": "stderr",
          "text": [
            "WARNING:tensorflow:Learning rate reduction is conditioned on metric `val_loss` which is not available. Available metrics are: loss,lr\n",
            "WARNING:tensorflow:Early stopping conditioned on metric `val_loss` which is not available. Available metrics are: loss,lr\n"
          ]
        },
        {
          "output_type": "stream",
          "name": "stdout",
          "text": [
            "\b\b\b\b\b\b\b\b\b\b\b\b\b\b\b\b\b\b\b\b\b\b\b\b\b\b\b\b\b\b\b\b\b\b\b\b\b\b\b\b\b\b\b\b\b\b\b\b\b\b\b\b\b\b\b\b\b\b\b\b\b\b\b\r25/25 [==============================] - 0s 5ms/step - loss: 0.0317 - lr: 0.0010\n",
            "Epoch 137/500\n",
            "18/25 [====================>.........] - ETA: 0s - loss: 0.0280"
          ]
        },
        {
          "output_type": "stream",
          "name": "stderr",
          "text": [
            "WARNING:tensorflow:Learning rate reduction is conditioned on metric `val_loss` which is not available. Available metrics are: loss,lr\n",
            "WARNING:tensorflow:Early stopping conditioned on metric `val_loss` which is not available. Available metrics are: loss,lr\n"
          ]
        },
        {
          "output_type": "stream",
          "name": "stdout",
          "text": [
            "\b\b\b\b\b\b\b\b\b\b\b\b\b\b\b\b\b\b\b\b\b\b\b\b\b\b\b\b\b\b\b\b\b\b\b\b\b\b\b\b\b\b\b\b\b\b\b\b\b\b\b\b\b\b\b\b\b\b\b\b\b\b\b\r25/25 [==============================] - 0s 5ms/step - loss: 0.0275 - lr: 0.0010\n",
            "Epoch 138/500\n",
            "18/25 [====================>.........] - ETA: 0s - loss: 0.0280"
          ]
        },
        {
          "output_type": "stream",
          "name": "stderr",
          "text": [
            "WARNING:tensorflow:Learning rate reduction is conditioned on metric `val_loss` which is not available. Available metrics are: loss,lr\n",
            "WARNING:tensorflow:Early stopping conditioned on metric `val_loss` which is not available. Available metrics are: loss,lr\n"
          ]
        },
        {
          "output_type": "stream",
          "name": "stdout",
          "text": [
            "\b\b\b\b\b\b\b\b\b\b\b\b\b\b\b\b\b\b\b\b\b\b\b\b\b\b\b\b\b\b\b\b\b\b\b\b\b\b\b\b\b\b\b\b\b\b\b\b\b\b\b\b\b\b\b\b\b\b\b\b\b\b\b\r25/25 [==============================] - 0s 6ms/step - loss: 0.0271 - lr: 0.0010\n",
            "Epoch 139/500\n",
            "17/25 [===================>..........] - ETA: 0s - loss: 0.0239"
          ]
        },
        {
          "output_type": "stream",
          "name": "stderr",
          "text": [
            "WARNING:tensorflow:Learning rate reduction is conditioned on metric `val_loss` which is not available. Available metrics are: loss,lr\n",
            "WARNING:tensorflow:Early stopping conditioned on metric `val_loss` which is not available. Available metrics are: loss,lr\n"
          ]
        },
        {
          "output_type": "stream",
          "name": "stdout",
          "text": [
            "\b\b\b\b\b\b\b\b\b\b\b\b\b\b\b\b\b\b\b\b\b\b\b\b\b\b\b\b\b\b\b\b\b\b\b\b\b\b\b\b\b\b\b\b\b\b\b\b\b\b\b\b\b\b\b\b\b\b\b\b\b\b\b\r25/25 [==============================] - 0s 5ms/step - loss: 0.0240 - lr: 0.0010\n",
            "Epoch 140/500\n",
            "18/25 [====================>.........] - ETA: 0s - loss: 0.0271"
          ]
        },
        {
          "output_type": "stream",
          "name": "stderr",
          "text": [
            "WARNING:tensorflow:Learning rate reduction is conditioned on metric `val_loss` which is not available. Available metrics are: loss,lr\n",
            "WARNING:tensorflow:Early stopping conditioned on metric `val_loss` which is not available. Available metrics are: loss,lr\n"
          ]
        },
        {
          "output_type": "stream",
          "name": "stdout",
          "text": [
            "\b\b\b\b\b\b\b\b\b\b\b\b\b\b\b\b\b\b\b\b\b\b\b\b\b\b\b\b\b\b\b\b\b\b\b\b\b\b\b\b\b\b\b\b\b\b\b\b\b\b\b\b\b\b\b\b\b\b\b\b\b\b\b\r25/25 [==============================] - 0s 5ms/step - loss: 0.0284 - lr: 0.0010\n",
            "Epoch 141/500\n",
            "21/25 [========================>.....] - ETA: 0s - loss: 0.0265"
          ]
        },
        {
          "output_type": "stream",
          "name": "stderr",
          "text": [
            "WARNING:tensorflow:Learning rate reduction is conditioned on metric `val_loss` which is not available. Available metrics are: loss,lr\n",
            "WARNING:tensorflow:Early stopping conditioned on metric `val_loss` which is not available. Available metrics are: loss,lr\n"
          ]
        },
        {
          "output_type": "stream",
          "name": "stdout",
          "text": [
            "\b\b\b\b\b\b\b\b\b\b\b\b\b\b\b\b\b\b\b\b\b\b\b\b\b\b\b\b\b\b\b\b\b\b\b\b\b\b\b\b\b\b\b\b\b\b\b\b\b\b\b\b\b\b\b\b\b\b\b\b\b\b\b\r25/25 [==============================] - 0s 5ms/step - loss: 0.0254 - lr: 0.0010\n",
            "Epoch 142/500\n",
            "13/25 [==============>...............] - ETA: 0s - loss: 0.0344"
          ]
        },
        {
          "output_type": "stream",
          "name": "stderr",
          "text": [
            "WARNING:tensorflow:Learning rate reduction is conditioned on metric `val_loss` which is not available. Available metrics are: loss,lr\n",
            "WARNING:tensorflow:Early stopping conditioned on metric `val_loss` which is not available. Available metrics are: loss,lr\n"
          ]
        },
        {
          "output_type": "stream",
          "name": "stdout",
          "text": [
            "\b\b\b\b\b\b\b\b\b\b\b\b\b\b\b\b\b\b\b\b\b\b\b\b\b\b\b\b\b\b\b\b\b\b\b\b\b\b\b\b\b\b\b\b\b\b\b\b\b\b\b\b\b\b\b\b\b\b\b\b\b\b\b\r25/25 [==============================] - 0s 6ms/step - loss: 0.0315 - lr: 0.0010\n",
            "Epoch 143/500\n",
            "18/25 [====================>.........] - ETA: 0s - loss: 0.0226"
          ]
        },
        {
          "output_type": "stream",
          "name": "stderr",
          "text": [
            "WARNING:tensorflow:Learning rate reduction is conditioned on metric `val_loss` which is not available. Available metrics are: loss,lr\n",
            "WARNING:tensorflow:Early stopping conditioned on metric `val_loss` which is not available. Available metrics are: loss,lr\n"
          ]
        },
        {
          "output_type": "stream",
          "name": "stdout",
          "text": [
            "\b\b\b\b\b\b\b\b\b\b\b\b\b\b\b\b\b\b\b\b\b\b\b\b\b\b\b\b\b\b\b\b\b\b\b\b\b\b\b\b\b\b\b\b\b\b\b\b\b\b\b\b\b\b\b\b\b\b\b\b\b\b\b\r25/25 [==============================] - 0s 5ms/step - loss: 0.0245 - lr: 0.0010\n",
            "Epoch 144/500\n",
            "16/25 [==================>...........] - ETA: 0s - loss: 0.0213"
          ]
        },
        {
          "output_type": "stream",
          "name": "stderr",
          "text": [
            "WARNING:tensorflow:Learning rate reduction is conditioned on metric `val_loss` which is not available. Available metrics are: loss,lr\n",
            "WARNING:tensorflow:Early stopping conditioned on metric `val_loss` which is not available. Available metrics are: loss,lr\n"
          ]
        },
        {
          "output_type": "stream",
          "name": "stdout",
          "text": [
            "\b\b\b\b\b\b\b\b\b\b\b\b\b\b\b\b\b\b\b\b\b\b\b\b\b\b\b\b\b\b\b\b\b\b\b\b\b\b\b\b\b\b\b\b\b\b\b\b\b\b\b\b\b\b\b\b\b\b\b\b\b\b\b\r25/25 [==============================] - 0s 5ms/step - loss: 0.0189 - lr: 0.0010\n",
            "Epoch 145/500\n",
            "19/25 [=====================>........] - ETA: 0s - loss: 0.0258"
          ]
        },
        {
          "output_type": "stream",
          "name": "stderr",
          "text": [
            "WARNING:tensorflow:Learning rate reduction is conditioned on metric `val_loss` which is not available. Available metrics are: loss,lr\n",
            "WARNING:tensorflow:Early stopping conditioned on metric `val_loss` which is not available. Available metrics are: loss,lr\n"
          ]
        },
        {
          "output_type": "stream",
          "name": "stdout",
          "text": [
            "\b\b\b\b\b\b\b\b\b\b\b\b\b\b\b\b\b\b\b\b\b\b\b\b\b\b\b\b\b\b\b\b\b\b\b\b\b\b\b\b\b\b\b\b\b\b\b\b\b\b\b\b\b\b\b\b\b\b\b\b\b\b\b\r25/25 [==============================] - 0s 5ms/step - loss: 0.0253 - lr: 0.0010\n",
            "Epoch 146/500\n",
            "15/25 [=================>............] - ETA: 0s - loss: 0.0256"
          ]
        },
        {
          "output_type": "stream",
          "name": "stderr",
          "text": [
            "WARNING:tensorflow:Learning rate reduction is conditioned on metric `val_loss` which is not available. Available metrics are: loss,lr\n",
            "WARNING:tensorflow:Early stopping conditioned on metric `val_loss` which is not available. Available metrics are: loss,lr\n"
          ]
        },
        {
          "output_type": "stream",
          "name": "stdout",
          "text": [
            "\b\b\b\b\b\b\b\b\b\b\b\b\b\b\b\b\b\b\b\b\b\b\b\b\b\b\b\b\b\b\b\b\b\b\b\b\b\b\b\b\b\b\b\b\b\b\b\b\b\b\b\b\b\b\b\b\b\b\b\b\b\b\b\r25/25 [==============================] - 0s 5ms/step - loss: 0.0241 - lr: 0.0010\n",
            "Epoch 147/500\n",
            "17/25 [===================>..........] - ETA: 0s - loss: 0.0204"
          ]
        },
        {
          "output_type": "stream",
          "name": "stderr",
          "text": [
            "WARNING:tensorflow:Learning rate reduction is conditioned on metric `val_loss` which is not available. Available metrics are: loss,lr\n",
            "WARNING:tensorflow:Early stopping conditioned on metric `val_loss` which is not available. Available metrics are: loss,lr\n"
          ]
        },
        {
          "output_type": "stream",
          "name": "stdout",
          "text": [
            "\b\b\b\b\b\b\b\b\b\b\b\b\b\b\b\b\b\b\b\b\b\b\b\b\b\b\b\b\b\b\b\b\b\b\b\b\b\b\b\b\b\b\b\b\b\b\b\b\b\b\b\b\b\b\b\b\b\b\b\b\b\b\b\r25/25 [==============================] - 0s 5ms/step - loss: 0.0210 - lr: 0.0010\n",
            "Epoch 148/500\n",
            "16/25 [==================>...........] - ETA: 0s - loss: 0.0160"
          ]
        },
        {
          "output_type": "stream",
          "name": "stderr",
          "text": [
            "WARNING:tensorflow:Learning rate reduction is conditioned on metric `val_loss` which is not available. Available metrics are: loss,lr\n",
            "WARNING:tensorflow:Early stopping conditioned on metric `val_loss` which is not available. Available metrics are: loss,lr\n"
          ]
        },
        {
          "output_type": "stream",
          "name": "stdout",
          "text": [
            "\b\b\b\b\b\b\b\b\b\b\b\b\b\b\b\b\b\b\b\b\b\b\b\b\b\b\b\b\b\b\b\b\b\b\b\b\b\b\b\b\b\b\b\b\b\b\b\b\b\b\b\b\b\b\b\b\b\b\b\b\b\b\b\r25/25 [==============================] - 0s 5ms/step - loss: 0.0212 - lr: 0.0010\n",
            "Epoch 149/500\n",
            "19/25 [=====================>........] - ETA: 0s - loss: 0.0232"
          ]
        },
        {
          "output_type": "stream",
          "name": "stderr",
          "text": [
            "WARNING:tensorflow:Learning rate reduction is conditioned on metric `val_loss` which is not available. Available metrics are: loss,lr\n",
            "WARNING:tensorflow:Early stopping conditioned on metric `val_loss` which is not available. Available metrics are: loss,lr\n"
          ]
        },
        {
          "output_type": "stream",
          "name": "stdout",
          "text": [
            "\b\b\b\b\b\b\b\b\b\b\b\b\b\b\b\b\b\b\b\b\b\b\b\b\b\b\b\b\b\b\b\b\b\b\b\b\b\b\b\b\b\b\b\b\b\b\b\b\b\b\b\b\b\b\b\b\b\b\b\b\b\b\b\r25/25 [==============================] - 0s 5ms/step - loss: 0.0232 - lr: 0.0010\n",
            "Epoch 150/500\n",
            "17/25 [===================>..........] - ETA: 0s - loss: 0.0237"
          ]
        },
        {
          "output_type": "stream",
          "name": "stderr",
          "text": [
            "WARNING:tensorflow:Learning rate reduction is conditioned on metric `val_loss` which is not available. Available metrics are: loss,lr\n",
            "WARNING:tensorflow:Early stopping conditioned on metric `val_loss` which is not available. Available metrics are: loss,lr\n"
          ]
        },
        {
          "output_type": "stream",
          "name": "stdout",
          "text": [
            "\b\b\b\b\b\b\b\b\b\b\b\b\b\b\b\b\b\b\b\b\b\b\b\b\b\b\b\b\b\b\b\b\b\b\b\b\b\b\b\b\b\b\b\b\b\b\b\b\b\b\b\b\b\b\b\b\b\b\b\b\b\b\b\r25/25 [==============================] - 0s 5ms/step - loss: 0.0229 - lr: 0.0010\n",
            "Epoch 151/500\n",
            "17/25 [===================>..........] - ETA: 0s - loss: 0.0228"
          ]
        },
        {
          "output_type": "stream",
          "name": "stderr",
          "text": [
            "WARNING:tensorflow:Learning rate reduction is conditioned on metric `val_loss` which is not available. Available metrics are: loss,lr\n",
            "WARNING:tensorflow:Early stopping conditioned on metric `val_loss` which is not available. Available metrics are: loss,lr\n"
          ]
        },
        {
          "output_type": "stream",
          "name": "stdout",
          "text": [
            "\b\b\b\b\b\b\b\b\b\b\b\b\b\b\b\b\b\b\b\b\b\b\b\b\b\b\b\b\b\b\b\b\b\b\b\b\b\b\b\b\b\b\b\b\b\b\b\b\b\b\b\b\b\b\b\b\b\b\b\b\b\b\b\r25/25 [==============================] - 0s 5ms/step - loss: 0.0256 - lr: 0.0010\n",
            "Epoch 152/500\n",
            "15/25 [=================>............] - ETA: 0s - loss: 0.0204"
          ]
        },
        {
          "output_type": "stream",
          "name": "stderr",
          "text": [
            "WARNING:tensorflow:Learning rate reduction is conditioned on metric `val_loss` which is not available. Available metrics are: loss,lr\n",
            "WARNING:tensorflow:Early stopping conditioned on metric `val_loss` which is not available. Available metrics are: loss,lr\n"
          ]
        },
        {
          "output_type": "stream",
          "name": "stdout",
          "text": [
            "\b\b\b\b\b\b\b\b\b\b\b\b\b\b\b\b\b\b\b\b\b\b\b\b\b\b\b\b\b\b\b\b\b\b\b\b\b\b\b\b\b\b\b\b\b\b\b\b\b\b\b\b\b\b\b\b\b\b\b\b\b\b\b\r25/25 [==============================] - 0s 6ms/step - loss: 0.0184 - lr: 0.0010\n",
            "Epoch 153/500\n",
            "20/25 [=======================>......] - ETA: 0s - loss: 0.0241"
          ]
        },
        {
          "output_type": "stream",
          "name": "stderr",
          "text": [
            "WARNING:tensorflow:Learning rate reduction is conditioned on metric `val_loss` which is not available. Available metrics are: loss,lr\n",
            "WARNING:tensorflow:Early stopping conditioned on metric `val_loss` which is not available. Available metrics are: loss,lr\n"
          ]
        },
        {
          "output_type": "stream",
          "name": "stdout",
          "text": [
            "\b\b\b\b\b\b\b\b\b\b\b\b\b\b\b\b\b\b\b\b\b\b\b\b\b\b\b\b\b\b\b\b\b\b\b\b\b\b\b\b\b\b\b\b\b\b\b\b\b\b\b\b\b\b\b\b\b\b\b\b\b\b\b\r25/25 [==============================] - 0s 5ms/step - loss: 0.0260 - lr: 0.0010\n",
            "Epoch 154/500\n",
            "16/25 [==================>...........] - ETA: 0s - loss: 0.0243"
          ]
        },
        {
          "output_type": "stream",
          "name": "stderr",
          "text": [
            "WARNING:tensorflow:Learning rate reduction is conditioned on metric `val_loss` which is not available. Available metrics are: loss,lr\n",
            "WARNING:tensorflow:Early stopping conditioned on metric `val_loss` which is not available. Available metrics are: loss,lr\n"
          ]
        },
        {
          "output_type": "stream",
          "name": "stdout",
          "text": [
            "\b\b\b\b\b\b\b\b\b\b\b\b\b\b\b\b\b\b\b\b\b\b\b\b\b\b\b\b\b\b\b\b\b\b\b\b\b\b\b\b\b\b\b\b\b\b\b\b\b\b\b\b\b\b\b\b\b\b\b\b\b\b\b\r25/25 [==============================] - 0s 6ms/step - loss: 0.0277 - lr: 0.0010\n",
            "Epoch 155/500\n",
            "15/25 [=================>............] - ETA: 0s - loss: 0.0311"
          ]
        },
        {
          "output_type": "stream",
          "name": "stderr",
          "text": [
            "WARNING:tensorflow:Learning rate reduction is conditioned on metric `val_loss` which is not available. Available metrics are: loss,lr\n",
            "WARNING:tensorflow:Early stopping conditioned on metric `val_loss` which is not available. Available metrics are: loss,lr\n"
          ]
        },
        {
          "output_type": "stream",
          "name": "stdout",
          "text": [
            "\b\b\b\b\b\b\b\b\b\b\b\b\b\b\b\b\b\b\b\b\b\b\b\b\b\b\b\b\b\b\b\b\b\b\b\b\b\b\b\b\b\b\b\b\b\b\b\b\b\b\b\b\b\b\b\b\b\b\b\b\b\b\b\r25/25 [==============================] - 0s 5ms/step - loss: 0.0260 - lr: 0.0010\n",
            "Epoch 156/500\n",
            "17/25 [===================>..........] - ETA: 0s - loss: 0.0281"
          ]
        },
        {
          "output_type": "stream",
          "name": "stderr",
          "text": [
            "WARNING:tensorflow:Learning rate reduction is conditioned on metric `val_loss` which is not available. Available metrics are: loss,lr\n",
            "WARNING:tensorflow:Early stopping conditioned on metric `val_loss` which is not available. Available metrics are: loss,lr\n"
          ]
        },
        {
          "output_type": "stream",
          "name": "stdout",
          "text": [
            "\b\b\b\b\b\b\b\b\b\b\b\b\b\b\b\b\b\b\b\b\b\b\b\b\b\b\b\b\b\b\b\b\b\b\b\b\b\b\b\b\b\b\b\b\b\b\b\b\b\b\b\b\b\b\b\b\b\b\b\b\b\b\b\r25/25 [==============================] - 0s 5ms/step - loss: 0.0212 - lr: 0.0010\n",
            "Epoch 157/500\n",
            "18/25 [====================>.........] - ETA: 0s - loss: 0.0259"
          ]
        },
        {
          "output_type": "stream",
          "name": "stderr",
          "text": [
            "WARNING:tensorflow:Learning rate reduction is conditioned on metric `val_loss` which is not available. Available metrics are: loss,lr\n",
            "WARNING:tensorflow:Early stopping conditioned on metric `val_loss` which is not available. Available metrics are: loss,lr\n"
          ]
        },
        {
          "output_type": "stream",
          "name": "stdout",
          "text": [
            "\b\b\b\b\b\b\b\b\b\b\b\b\b\b\b\b\b\b\b\b\b\b\b\b\b\b\b\b\b\b\b\b\b\b\b\b\b\b\b\b\b\b\b\b\b\b\b\b\b\b\b\b\b\b\b\b\b\b\b\b\b\b\b\r25/25 [==============================] - 0s 5ms/step - loss: 0.0227 - lr: 0.0010\n",
            "Epoch 158/500\n",
            "18/25 [====================>.........] - ETA: 0s - loss: 0.0193"
          ]
        },
        {
          "output_type": "stream",
          "name": "stderr",
          "text": [
            "WARNING:tensorflow:Learning rate reduction is conditioned on metric `val_loss` which is not available. Available metrics are: loss,lr\n",
            "WARNING:tensorflow:Early stopping conditioned on metric `val_loss` which is not available. Available metrics are: loss,lr\n"
          ]
        },
        {
          "output_type": "stream",
          "name": "stdout",
          "text": [
            "\b\b\b\b\b\b\b\b\b\b\b\b\b\b\b\b\b\b\b\b\b\b\b\b\b\b\b\b\b\b\b\b\b\b\b\b\b\b\b\b\b\b\b\b\b\b\b\b\b\b\b\b\b\b\b\b\b\b\b\b\b\b\b\r25/25 [==============================] - 0s 5ms/step - loss: 0.0202 - lr: 0.0010\n",
            "Epoch 159/500\n",
            "11/25 [============>.................] - ETA: 0s - loss: 0.0226"
          ]
        },
        {
          "output_type": "stream",
          "name": "stderr",
          "text": [
            "WARNING:tensorflow:Learning rate reduction is conditioned on metric `val_loss` which is not available. Available metrics are: loss,lr\n",
            "WARNING:tensorflow:Early stopping conditioned on metric `val_loss` which is not available. Available metrics are: loss,lr\n"
          ]
        },
        {
          "output_type": "stream",
          "name": "stdout",
          "text": [
            "\b\b\b\b\b\b\b\b\b\b\b\b\b\b\b\b\b\b\b\b\b\b\b\b\b\b\b\b\b\b\b\b\b\b\b\b\b\b\b\b\b\b\b\b\b\b\b\b\b\b\b\b\b\b\b\b\b\b\b\b\b\b\b\r25/25 [==============================] - 0s 6ms/step - loss: 0.0201 - lr: 0.0010\n",
            "Epoch 160/500\n",
            "17/25 [===================>..........] - ETA: 0s - loss: 0.0218"
          ]
        },
        {
          "output_type": "stream",
          "name": "stderr",
          "text": [
            "WARNING:tensorflow:Learning rate reduction is conditioned on metric `val_loss` which is not available. Available metrics are: loss,lr\n",
            "WARNING:tensorflow:Early stopping conditioned on metric `val_loss` which is not available. Available metrics are: loss,lr\n"
          ]
        },
        {
          "output_type": "stream",
          "name": "stdout",
          "text": [
            "\b\b\b\b\b\b\b\b\b\b\b\b\b\b\b\b\b\b\b\b\b\b\b\b\b\b\b\b\b\b\b\b\b\b\b\b\b\b\b\b\b\b\b\b\b\b\b\b\b\b\b\b\b\b\b\b\b\b\b\b\b\b\b\r25/25 [==============================] - 0s 5ms/step - loss: 0.0232 - lr: 0.0010\n",
            "Epoch 161/500\n",
            "16/25 [==================>...........] - ETA: 0s - loss: 0.0244"
          ]
        },
        {
          "output_type": "stream",
          "name": "stderr",
          "text": [
            "WARNING:tensorflow:Learning rate reduction is conditioned on metric `val_loss` which is not available. Available metrics are: loss,lr\n",
            "WARNING:tensorflow:Early stopping conditioned on metric `val_loss` which is not available. Available metrics are: loss,lr\n"
          ]
        },
        {
          "output_type": "stream",
          "name": "stdout",
          "text": [
            "\b\b\b\b\b\b\b\b\b\b\b\b\b\b\b\b\b\b\b\b\b\b\b\b\b\b\b\b\b\b\b\b\b\b\b\b\b\b\b\b\b\b\b\b\b\b\b\b\b\b\b\b\b\b\b\b\b\b\b\b\b\b\b\r25/25 [==============================] - 0s 5ms/step - loss: 0.0246 - lr: 0.0010\n",
            "Epoch 162/500\n",
            "13/25 [==============>...............] - ETA: 0s - loss: 0.0198"
          ]
        },
        {
          "output_type": "stream",
          "name": "stderr",
          "text": [
            "WARNING:tensorflow:Learning rate reduction is conditioned on metric `val_loss` which is not available. Available metrics are: loss,lr\n",
            "WARNING:tensorflow:Early stopping conditioned on metric `val_loss` which is not available. Available metrics are: loss,lr\n"
          ]
        },
        {
          "output_type": "stream",
          "name": "stdout",
          "text": [
            "\b\b\b\b\b\b\b\b\b\b\b\b\b\b\b\b\b\b\b\b\b\b\b\b\b\b\b\b\b\b\b\b\b\b\b\b\b\b\b\b\b\b\b\b\b\b\b\b\b\b\b\b\b\b\b\b\b\b\b\b\b\b\b\r25/25 [==============================] - 0s 5ms/step - loss: 0.0280 - lr: 0.0010\n",
            "Epoch 163/500\n",
            "18/25 [====================>.........] - ETA: 0s - loss: 0.0274"
          ]
        },
        {
          "output_type": "stream",
          "name": "stderr",
          "text": [
            "WARNING:tensorflow:Learning rate reduction is conditioned on metric `val_loss` which is not available. Available metrics are: loss,lr\n",
            "WARNING:tensorflow:Early stopping conditioned on metric `val_loss` which is not available. Available metrics are: loss,lr\n"
          ]
        },
        {
          "output_type": "stream",
          "name": "stdout",
          "text": [
            "\b\b\b\b\b\b\b\b\b\b\b\b\b\b\b\b\b\b\b\b\b\b\b\b\b\b\b\b\b\b\b\b\b\b\b\b\b\b\b\b\b\b\b\b\b\b\b\b\b\b\b\b\b\b\b\b\b\b\b\b\b\b\b\r25/25 [==============================] - 0s 5ms/step - loss: 0.0264 - lr: 0.0010\n",
            "Epoch 164/500\n",
            "16/25 [==================>...........] - ETA: 0s - loss: 0.0305"
          ]
        },
        {
          "output_type": "stream",
          "name": "stderr",
          "text": [
            "WARNING:tensorflow:Learning rate reduction is conditioned on metric `val_loss` which is not available. Available metrics are: loss,lr\n",
            "WARNING:tensorflow:Early stopping conditioned on metric `val_loss` which is not available. Available metrics are: loss,lr\n"
          ]
        },
        {
          "output_type": "stream",
          "name": "stdout",
          "text": [
            "\b\b\b\b\b\b\b\b\b\b\b\b\b\b\b\b\b\b\b\b\b\b\b\b\b\b\b\b\b\b\b\b\b\b\b\b\b\b\b\b\b\b\b\b\b\b\b\b\b\b\b\b\b\b\b\b\b\b\b\b\b\b\b\r25/25 [==============================] - 0s 6ms/step - loss: 0.0250 - lr: 0.0010\n",
            "Epoch 165/500\n",
            "16/25 [==================>...........] - ETA: 0s - loss: 0.0273"
          ]
        },
        {
          "output_type": "stream",
          "name": "stderr",
          "text": [
            "WARNING:tensorflow:Learning rate reduction is conditioned on metric `val_loss` which is not available. Available metrics are: loss,lr\n",
            "WARNING:tensorflow:Early stopping conditioned on metric `val_loss` which is not available. Available metrics are: loss,lr\n"
          ]
        },
        {
          "output_type": "stream",
          "name": "stdout",
          "text": [
            "\b\b\b\b\b\b\b\b\b\b\b\b\b\b\b\b\b\b\b\b\b\b\b\b\b\b\b\b\b\b\b\b\b\b\b\b\b\b\b\b\b\b\b\b\b\b\b\b\b\b\b\b\b\b\b\b\b\b\b\b\b\b\b\r25/25 [==============================] - 0s 5ms/step - loss: 0.0227 - lr: 0.0010\n",
            "Epoch 166/500\n",
            "17/25 [===================>..........] - ETA: 0s - loss: 0.0226"
          ]
        },
        {
          "output_type": "stream",
          "name": "stderr",
          "text": [
            "WARNING:tensorflow:Learning rate reduction is conditioned on metric `val_loss` which is not available. Available metrics are: loss,lr\n",
            "WARNING:tensorflow:Early stopping conditioned on metric `val_loss` which is not available. Available metrics are: loss,lr\n"
          ]
        },
        {
          "output_type": "stream",
          "name": "stdout",
          "text": [
            "\b\b\b\b\b\b\b\b\b\b\b\b\b\b\b\b\b\b\b\b\b\b\b\b\b\b\b\b\b\b\b\b\b\b\b\b\b\b\b\b\b\b\b\b\b\b\b\b\b\b\b\b\b\b\b\b\b\b\b\b\b\b\b\r25/25 [==============================] - 0s 5ms/step - loss: 0.0228 - lr: 0.0010\n",
            "Epoch 167/500\n",
            "16/25 [==================>...........] - ETA: 0s - loss: 0.0250"
          ]
        },
        {
          "output_type": "stream",
          "name": "stderr",
          "text": [
            "WARNING:tensorflow:Learning rate reduction is conditioned on metric `val_loss` which is not available. Available metrics are: loss,lr\n",
            "WARNING:tensorflow:Early stopping conditioned on metric `val_loss` which is not available. Available metrics are: loss,lr\n"
          ]
        },
        {
          "output_type": "stream",
          "name": "stdout",
          "text": [
            "\b\b\b\b\b\b\b\b\b\b\b\b\b\b\b\b\b\b\b\b\b\b\b\b\b\b\b\b\b\b\b\b\b\b\b\b\b\b\b\b\b\b\b\b\b\b\b\b\b\b\b\b\b\b\b\b\b\b\b\b\b\b\b\r25/25 [==============================] - 0s 5ms/step - loss: 0.0261 - lr: 0.0010\n",
            "Epoch 168/500\n",
            "13/25 [==============>...............] - ETA: 0s - loss: 0.0198"
          ]
        },
        {
          "output_type": "stream",
          "name": "stderr",
          "text": [
            "WARNING:tensorflow:Learning rate reduction is conditioned on metric `val_loss` which is not available. Available metrics are: loss,lr\n",
            "WARNING:tensorflow:Early stopping conditioned on metric `val_loss` which is not available. Available metrics are: loss,lr\n"
          ]
        },
        {
          "output_type": "stream",
          "name": "stdout",
          "text": [
            "\b\b\b\b\b\b\b\b\b\b\b\b\b\b\b\b\b\b\b\b\b\b\b\b\b\b\b\b\b\b\b\b\b\b\b\b\b\b\b\b\b\b\b\b\b\b\b\b\b\b\b\b\b\b\b\b\b\b\b\b\b\b\b\r25/25 [==============================] - 0s 6ms/step - loss: 0.0211 - lr: 0.0010\n",
            "Epoch 169/500\n",
            "16/25 [==================>...........] - ETA: 0s - loss: 0.0210"
          ]
        },
        {
          "output_type": "stream",
          "name": "stderr",
          "text": [
            "WARNING:tensorflow:Learning rate reduction is conditioned on metric `val_loss` which is not available. Available metrics are: loss,lr\n",
            "WARNING:tensorflow:Early stopping conditioned on metric `val_loss` which is not available. Available metrics are: loss,lr\n"
          ]
        },
        {
          "output_type": "stream",
          "name": "stdout",
          "text": [
            "\b\b\b\b\b\b\b\b\b\b\b\b\b\b\b\b\b\b\b\b\b\b\b\b\b\b\b\b\b\b\b\b\b\b\b\b\b\b\b\b\b\b\b\b\b\b\b\b\b\b\b\b\b\b\b\b\b\b\b\b\b\b\b\r25/25 [==============================] - 0s 5ms/step - loss: 0.0163 - lr: 0.0010\n",
            "Epoch 170/500\n",
            "20/25 [=======================>......] - ETA: 0s - loss: 0.0218"
          ]
        },
        {
          "output_type": "stream",
          "name": "stderr",
          "text": [
            "WARNING:tensorflow:Learning rate reduction is conditioned on metric `val_loss` which is not available. Available metrics are: loss,lr\n",
            "WARNING:tensorflow:Early stopping conditioned on metric `val_loss` which is not available. Available metrics are: loss,lr\n"
          ]
        },
        {
          "output_type": "stream",
          "name": "stdout",
          "text": [
            "\b\b\b\b\b\b\b\b\b\b\b\b\b\b\b\b\b\b\b\b\b\b\b\b\b\b\b\b\b\b\b\b\b\b\b\b\b\b\b\b\b\b\b\b\b\b\b\b\b\b\b\b\b\b\b\b\b\b\b\b\b\b\b\r25/25 [==============================] - 0s 5ms/step - loss: 0.0191 - lr: 0.0010\n",
            "Epoch 171/500\n",
            "19/25 [=====================>........] - ETA: 0s - loss: 0.0180"
          ]
        },
        {
          "output_type": "stream",
          "name": "stderr",
          "text": [
            "WARNING:tensorflow:Learning rate reduction is conditioned on metric `val_loss` which is not available. Available metrics are: loss,lr\n",
            "WARNING:tensorflow:Early stopping conditioned on metric `val_loss` which is not available. Available metrics are: loss,lr\n"
          ]
        },
        {
          "output_type": "stream",
          "name": "stdout",
          "text": [
            "\b\b\b\b\b\b\b\b\b\b\b\b\b\b\b\b\b\b\b\b\b\b\b\b\b\b\b\b\b\b\b\b\b\b\b\b\b\b\b\b\b\b\b\b\b\b\b\b\b\b\b\b\b\b\b\b\b\b\b\b\b\b\b\r25/25 [==============================] - 0s 5ms/step - loss: 0.0185 - lr: 0.0010\n",
            "Epoch 172/500\n",
            "20/25 [=======================>......] - ETA: 0s - loss: 0.0216"
          ]
        },
        {
          "output_type": "stream",
          "name": "stderr",
          "text": [
            "WARNING:tensorflow:Learning rate reduction is conditioned on metric `val_loss` which is not available. Available metrics are: loss,lr\n",
            "WARNING:tensorflow:Early stopping conditioned on metric `val_loss` which is not available. Available metrics are: loss,lr\n"
          ]
        },
        {
          "output_type": "stream",
          "name": "stdout",
          "text": [
            "\b\b\b\b\b\b\b\b\b\b\b\b\b\b\b\b\b\b\b\b\b\b\b\b\b\b\b\b\b\b\b\b\b\b\b\b\b\b\b\b\b\b\b\b\b\b\b\b\b\b\b\b\b\b\b\b\b\b\b\b\b\b\b\r25/25 [==============================] - 0s 5ms/step - loss: 0.0236 - lr: 0.0010\n",
            "Epoch 173/500\n",
            "20/25 [=======================>......] - ETA: 0s - loss: 0.0230"
          ]
        },
        {
          "output_type": "stream",
          "name": "stderr",
          "text": [
            "WARNING:tensorflow:Learning rate reduction is conditioned on metric `val_loss` which is not available. Available metrics are: loss,lr\n",
            "WARNING:tensorflow:Early stopping conditioned on metric `val_loss` which is not available. Available metrics are: loss,lr\n"
          ]
        },
        {
          "output_type": "stream",
          "name": "stdout",
          "text": [
            "\b\b\b\b\b\b\b\b\b\b\b\b\b\b\b\b\b\b\b\b\b\b\b\b\b\b\b\b\b\b\b\b\b\b\b\b\b\b\b\b\b\b\b\b\b\b\b\b\b\b\b\b\b\b\b\b\b\b\b\b\b\b\b\r25/25 [==============================] - 0s 5ms/step - loss: 0.0237 - lr: 0.0010\n",
            "Epoch 174/500\n",
            "17/25 [===================>..........] - ETA: 0s - loss: 0.0222"
          ]
        },
        {
          "output_type": "stream",
          "name": "stderr",
          "text": [
            "WARNING:tensorflow:Learning rate reduction is conditioned on metric `val_loss` which is not available. Available metrics are: loss,lr\n",
            "WARNING:tensorflow:Early stopping conditioned on metric `val_loss` which is not available. Available metrics are: loss,lr\n"
          ]
        },
        {
          "output_type": "stream",
          "name": "stdout",
          "text": [
            "\b\b\b\b\b\b\b\b\b\b\b\b\b\b\b\b\b\b\b\b\b\b\b\b\b\b\b\b\b\b\b\b\b\b\b\b\b\b\b\b\b\b\b\b\b\b\b\b\b\b\b\b\b\b\b\b\b\b\b\b\b\b\b\r25/25 [==============================] - 0s 6ms/step - loss: 0.0225 - lr: 0.0010\n",
            "Epoch 175/500\n",
            "16/25 [==================>...........] - ETA: 0s - loss: 0.0258"
          ]
        },
        {
          "output_type": "stream",
          "name": "stderr",
          "text": [
            "WARNING:tensorflow:Learning rate reduction is conditioned on metric `val_loss` which is not available. Available metrics are: loss,lr\n",
            "WARNING:tensorflow:Early stopping conditioned on metric `val_loss` which is not available. Available metrics are: loss,lr\n"
          ]
        },
        {
          "output_type": "stream",
          "name": "stdout",
          "text": [
            "\b\b\b\b\b\b\b\b\b\b\b\b\b\b\b\b\b\b\b\b\b\b\b\b\b\b\b\b\b\b\b\b\b\b\b\b\b\b\b\b\b\b\b\b\b\b\b\b\b\b\b\b\b\b\b\b\b\b\b\b\b\b\b\r25/25 [==============================] - 0s 6ms/step - loss: 0.0269 - lr: 0.0010\n",
            "Epoch 176/500\n",
            "16/25 [==================>...........] - ETA: 0s - loss: 0.0259"
          ]
        },
        {
          "output_type": "stream",
          "name": "stderr",
          "text": [
            "WARNING:tensorflow:Learning rate reduction is conditioned on metric `val_loss` which is not available. Available metrics are: loss,lr\n",
            "WARNING:tensorflow:Early stopping conditioned on metric `val_loss` which is not available. Available metrics are: loss,lr\n"
          ]
        },
        {
          "output_type": "stream",
          "name": "stdout",
          "text": [
            "\b\b\b\b\b\b\b\b\b\b\b\b\b\b\b\b\b\b\b\b\b\b\b\b\b\b\b\b\b\b\b\b\b\b\b\b\b\b\b\b\b\b\b\b\b\b\b\b\b\b\b\b\b\b\b\b\b\b\b\b\b\b\b\r25/25 [==============================] - 0s 5ms/step - loss: 0.0299 - lr: 0.0010\n",
            "Epoch 177/500\n",
            "19/25 [=====================>........] - ETA: 0s - loss: 0.0221"
          ]
        },
        {
          "output_type": "stream",
          "name": "stderr",
          "text": [
            "WARNING:tensorflow:Learning rate reduction is conditioned on metric `val_loss` which is not available. Available metrics are: loss,lr\n",
            "WARNING:tensorflow:Early stopping conditioned on metric `val_loss` which is not available. Available metrics are: loss,lr\n"
          ]
        },
        {
          "output_type": "stream",
          "name": "stdout",
          "text": [
            "\b\b\b\b\b\b\b\b\b\b\b\b\b\b\b\b\b\b\b\b\b\b\b\b\b\b\b\b\b\b\b\b\b\b\b\b\b\b\b\b\b\b\b\b\b\b\b\b\b\b\b\b\b\b\b\b\b\b\b\b\b\b\b\r25/25 [==============================] - 0s 5ms/step - loss: 0.0218 - lr: 0.0010\n",
            "Epoch 178/500\n",
            "16/25 [==================>...........] - ETA: 0s - loss: 0.0227"
          ]
        },
        {
          "output_type": "stream",
          "name": "stderr",
          "text": [
            "WARNING:tensorflow:Learning rate reduction is conditioned on metric `val_loss` which is not available. Available metrics are: loss,lr\n",
            "WARNING:tensorflow:Early stopping conditioned on metric `val_loss` which is not available. Available metrics are: loss,lr\n"
          ]
        },
        {
          "output_type": "stream",
          "name": "stdout",
          "text": [
            "\b\b\b\b\b\b\b\b\b\b\b\b\b\b\b\b\b\b\b\b\b\b\b\b\b\b\b\b\b\b\b\b\b\b\b\b\b\b\b\b\b\b\b\b\b\b\b\b\b\b\b\b\b\b\b\b\b\b\b\b\b\b\b\r25/25 [==============================] - 0s 5ms/step - loss: 0.0190 - lr: 0.0010\n",
            "Epoch 179/500\n",
            "17/25 [===================>..........] - ETA: 0s - loss: 0.0259"
          ]
        },
        {
          "output_type": "stream",
          "name": "stderr",
          "text": [
            "WARNING:tensorflow:Learning rate reduction is conditioned on metric `val_loss` which is not available. Available metrics are: loss,lr\n",
            "WARNING:tensorflow:Early stopping conditioned on metric `val_loss` which is not available. Available metrics are: loss,lr\n"
          ]
        },
        {
          "output_type": "stream",
          "name": "stdout",
          "text": [
            "\b\b\b\b\b\b\b\b\b\b\b\b\b\b\b\b\b\b\b\b\b\b\b\b\b\b\b\b\b\b\b\b\b\b\b\b\b\b\b\b\b\b\b\b\b\b\b\b\b\b\b\b\b\b\b\b\b\b\b\b\b\b\b\r25/25 [==============================] - 0s 5ms/step - loss: 0.0221 - lr: 0.0010\n",
            "Epoch 180/500\n",
            "17/25 [===================>..........] - ETA: 0s - loss: 0.0214"
          ]
        },
        {
          "output_type": "stream",
          "name": "stderr",
          "text": [
            "WARNING:tensorflow:Learning rate reduction is conditioned on metric `val_loss` which is not available. Available metrics are: loss,lr\n",
            "WARNING:tensorflow:Early stopping conditioned on metric `val_loss` which is not available. Available metrics are: loss,lr\n"
          ]
        },
        {
          "output_type": "stream",
          "name": "stdout",
          "text": [
            "\b\b\b\b\b\b\b\b\b\b\b\b\b\b\b\b\b\b\b\b\b\b\b\b\b\b\b\b\b\b\b\b\b\b\b\b\b\b\b\b\b\b\b\b\b\b\b\b\b\b\b\b\b\b\b\b\b\b\b\b\b\b\b\r25/25 [==============================] - 0s 5ms/step - loss: 0.0241 - lr: 0.0010\n",
            "Epoch 181/500\n",
            "16/25 [==================>...........] - ETA: 0s - loss: 0.0314"
          ]
        },
        {
          "output_type": "stream",
          "name": "stderr",
          "text": [
            "WARNING:tensorflow:Learning rate reduction is conditioned on metric `val_loss` which is not available. Available metrics are: loss,lr\n",
            "WARNING:tensorflow:Early stopping conditioned on metric `val_loss` which is not available. Available metrics are: loss,lr\n"
          ]
        },
        {
          "output_type": "stream",
          "name": "stdout",
          "text": [
            "\b\b\b\b\b\b\b\b\b\b\b\b\b\b\b\b\b\b\b\b\b\b\b\b\b\b\b\b\b\b\b\b\b\b\b\b\b\b\b\b\b\b\b\b\b\b\b\b\b\b\b\b\b\b\b\b\b\b\b\b\b\b\b\r25/25 [==============================] - 0s 5ms/step - loss: 0.0305 - lr: 0.0010\n",
            "Epoch 182/500\n",
            "24/25 [===========================>..] - ETA: 0s - loss: 0.0250"
          ]
        },
        {
          "output_type": "stream",
          "name": "stderr",
          "text": [
            "WARNING:tensorflow:Learning rate reduction is conditioned on metric `val_loss` which is not available. Available metrics are: loss,lr\n",
            "WARNING:tensorflow:Early stopping conditioned on metric `val_loss` which is not available. Available metrics are: loss,lr\n"
          ]
        },
        {
          "output_type": "stream",
          "name": "stdout",
          "text": [
            "\b\b\b\b\b\b\b\b\b\b\b\b\b\b\b\b\b\b\b\b\b\b\b\b\b\b\b\b\b\b\b\b\b\b\b\b\b\b\b\b\b\b\b\b\b\b\b\b\b\b\b\b\b\b\b\b\b\b\b\b\b\b\b\r25/25 [==============================] - 0s 7ms/step - loss: 0.0244 - lr: 0.0010\n",
            "Epoch 183/500\n",
            "15/25 [=================>............] - ETA: 0s - loss: 0.0250"
          ]
        },
        {
          "output_type": "stream",
          "name": "stderr",
          "text": [
            "WARNING:tensorflow:Learning rate reduction is conditioned on metric `val_loss` which is not available. Available metrics are: loss,lr\n",
            "WARNING:tensorflow:Early stopping conditioned on metric `val_loss` which is not available. Available metrics are: loss,lr\n"
          ]
        },
        {
          "output_type": "stream",
          "name": "stdout",
          "text": [
            "\b\b\b\b\b\b\b\b\b\b\b\b\b\b\b\b\b\b\b\b\b\b\b\b\b\b\b\b\b\b\b\b\b\b\b\b\b\b\b\b\b\b\b\b\b\b\b\b\b\b\b\b\b\b\b\b\b\b\b\b\b\b\b\r25/25 [==============================] - 0s 6ms/step - loss: 0.0207 - lr: 0.0010\n",
            "Epoch 184/500\n",
            "18/25 [====================>.........] - ETA: 0s - loss: 0.0193"
          ]
        },
        {
          "output_type": "stream",
          "name": "stderr",
          "text": [
            "WARNING:tensorflow:Learning rate reduction is conditioned on metric `val_loss` which is not available. Available metrics are: loss,lr\n",
            "WARNING:tensorflow:Early stopping conditioned on metric `val_loss` which is not available. Available metrics are: loss,lr\n"
          ]
        },
        {
          "output_type": "stream",
          "name": "stdout",
          "text": [
            "\b\b\b\b\b\b\b\b\b\b\b\b\b\b\b\b\b\b\b\b\b\b\b\b\b\b\b\b\b\b\b\b\b\b\b\b\b\b\b\b\b\b\b\b\b\b\b\b\b\b\b\b\b\b\b\b\b\b\b\b\b\b\b\r25/25 [==============================] - 0s 5ms/step - loss: 0.0222 - lr: 0.0010\n",
            "Epoch 185/500\n",
            "19/25 [=====================>........] - ETA: 0s - loss: 0.0182"
          ]
        },
        {
          "output_type": "stream",
          "name": "stderr",
          "text": [
            "WARNING:tensorflow:Learning rate reduction is conditioned on metric `val_loss` which is not available. Available metrics are: loss,lr\n",
            "WARNING:tensorflow:Early stopping conditioned on metric `val_loss` which is not available. Available metrics are: loss,lr\n"
          ]
        },
        {
          "output_type": "stream",
          "name": "stdout",
          "text": [
            "\b\b\b\b\b\b\b\b\b\b\b\b\b\b\b\b\b\b\b\b\b\b\b\b\b\b\b\b\b\b\b\b\b\b\b\b\b\b\b\b\b\b\b\b\b\b\b\b\b\b\b\b\b\b\b\b\b\b\b\b\b\b\b\r25/25 [==============================] - 0s 5ms/step - loss: 0.0187 - lr: 0.0010\n",
            "Epoch 186/500\n",
            "16/25 [==================>...........] - ETA: 0s - loss: 0.0209"
          ]
        },
        {
          "output_type": "stream",
          "name": "stderr",
          "text": [
            "WARNING:tensorflow:Learning rate reduction is conditioned on metric `val_loss` which is not available. Available metrics are: loss,lr\n",
            "WARNING:tensorflow:Early stopping conditioned on metric `val_loss` which is not available. Available metrics are: loss,lr\n"
          ]
        },
        {
          "output_type": "stream",
          "name": "stdout",
          "text": [
            "\b\b\b\b\b\b\b\b\b\b\b\b\b\b\b\b\b\b\b\b\b\b\b\b\b\b\b\b\b\b\b\b\b\b\b\b\b\b\b\b\b\b\b\b\b\b\b\b\b\b\b\b\b\b\b\b\b\b\b\b\b\b\b\r25/25 [==============================] - 0s 5ms/step - loss: 0.0213 - lr: 0.0010\n",
            "Epoch 187/500\n",
            "14/25 [===============>..............] - ETA: 0s - loss: 0.0326"
          ]
        },
        {
          "output_type": "stream",
          "name": "stderr",
          "text": [
            "WARNING:tensorflow:Learning rate reduction is conditioned on metric `val_loss` which is not available. Available metrics are: loss,lr\n",
            "WARNING:tensorflow:Early stopping conditioned on metric `val_loss` which is not available. Available metrics are: loss,lr\n"
          ]
        },
        {
          "output_type": "stream",
          "name": "stdout",
          "text": [
            "\b\b\b\b\b\b\b\b\b\b\b\b\b\b\b\b\b\b\b\b\b\b\b\b\b\b\b\b\b\b\b\b\b\b\b\b\b\b\b\b\b\b\b\b\b\b\b\b\b\b\b\b\b\b\b\b\b\b\b\b\b\b\b\r25/25 [==============================] - 0s 5ms/step - loss: 0.0243 - lr: 0.0010\n",
            "Epoch 188/500\n",
            "13/25 [==============>...............] - ETA: 0s - loss: 0.0223"
          ]
        },
        {
          "output_type": "stream",
          "name": "stderr",
          "text": [
            "WARNING:tensorflow:Learning rate reduction is conditioned on metric `val_loss` which is not available. Available metrics are: loss,lr\n",
            "WARNING:tensorflow:Early stopping conditioned on metric `val_loss` which is not available. Available metrics are: loss,lr\n"
          ]
        },
        {
          "output_type": "stream",
          "name": "stdout",
          "text": [
            "\b\b\b\b\b\b\b\b\b\b\b\b\b\b\b\b\b\b\b\b\b\b\b\b\b\b\b\b\b\b\b\b\b\b\b\b\b\b\b\b\b\b\b\b\b\b\b\b\b\b\b\b\b\b\b\b\b\b\b\b\b\b\b\r25/25 [==============================] - 0s 6ms/step - loss: 0.0199 - lr: 0.0010\n",
            "Epoch 189/500\n",
            "16/25 [==================>...........] - ETA: 0s - loss: 0.0220"
          ]
        },
        {
          "output_type": "stream",
          "name": "stderr",
          "text": [
            "WARNING:tensorflow:Learning rate reduction is conditioned on metric `val_loss` which is not available. Available metrics are: loss,lr\n",
            "WARNING:tensorflow:Early stopping conditioned on metric `val_loss` which is not available. Available metrics are: loss,lr\n"
          ]
        },
        {
          "output_type": "stream",
          "name": "stdout",
          "text": [
            "\b\b\b\b\b\b\b\b\b\b\b\b\b\b\b\b\b\b\b\b\b\b\b\b\b\b\b\b\b\b\b\b\b\b\b\b\b\b\b\b\b\b\b\b\b\b\b\b\b\b\b\b\b\b\b\b\b\b\b\b\b\b\b\r25/25 [==============================] - 0s 6ms/step - loss: 0.0221 - lr: 0.0010\n",
            "Epoch 190/500\n",
            "13/25 [==============>...............] - ETA: 0s - loss: 0.0230"
          ]
        },
        {
          "output_type": "stream",
          "name": "stderr",
          "text": [
            "WARNING:tensorflow:Learning rate reduction is conditioned on metric `val_loss` which is not available. Available metrics are: loss,lr\n",
            "WARNING:tensorflow:Early stopping conditioned on metric `val_loss` which is not available. Available metrics are: loss,lr\n"
          ]
        },
        {
          "output_type": "stream",
          "name": "stdout",
          "text": [
            "\b\b\b\b\b\b\b\b\b\b\b\b\b\b\b\b\b\b\b\b\b\b\b\b\b\b\b\b\b\b\b\b\b\b\b\b\b\b\b\b\b\b\b\b\b\b\b\b\b\b\b\b\b\b\b\b\b\b\b\b\b\b\b\r25/25 [==============================] - 0s 6ms/step - loss: 0.0206 - lr: 0.0010\n",
            "Epoch 191/500\n",
            "18/25 [====================>.........] - ETA: 0s - loss: 0.0192    "
          ]
        },
        {
          "output_type": "stream",
          "name": "stderr",
          "text": [
            "WARNING:tensorflow:Learning rate reduction is conditioned on metric `val_loss` which is not available. Available metrics are: loss,lr\n",
            "WARNING:tensorflow:Early stopping conditioned on metric `val_loss` which is not available. Available metrics are: loss,lr\n"
          ]
        },
        {
          "output_type": "stream",
          "name": "stdout",
          "text": [
            "\b\b\b\b\b\b\b\b\b\b\b\b\b\b\b\b\b\b\b\b\b\b\b\b\b\b\b\b\b\b\b\b\b\b\b\b\b\b\b\b\b\b\b\b\b\b\b\b\b\b\b\b\b\b\b\b\b\b\b\b\b\b\b\r25/25 [==============================] - 0s 5ms/step - loss: 0.0186 - lr: 0.0010\n",
            "Epoch 192/500\n",
            "17/25 [===================>..........] - ETA: 0s - loss: 0.0167"
          ]
        },
        {
          "output_type": "stream",
          "name": "stderr",
          "text": [
            "WARNING:tensorflow:Learning rate reduction is conditioned on metric `val_loss` which is not available. Available metrics are: loss,lr\n",
            "WARNING:tensorflow:Early stopping conditioned on metric `val_loss` which is not available. Available metrics are: loss,lr\n"
          ]
        },
        {
          "output_type": "stream",
          "name": "stdout",
          "text": [
            "\b\b\b\b\b\b\b\b\b\b\b\b\b\b\b\b\b\b\b\b\b\b\b\b\b\b\b\b\b\b\b\b\b\b\b\b\b\b\b\b\b\b\b\b\b\b\b\b\b\b\b\b\b\b\b\b\b\b\b\b\b\b\b\r25/25 [==============================] - 0s 5ms/step - loss: 0.0230 - lr: 0.0010\n",
            "Epoch 193/500\n",
            "16/25 [==================>...........] - ETA: 0s - loss: 0.0227"
          ]
        },
        {
          "output_type": "stream",
          "name": "stderr",
          "text": [
            "WARNING:tensorflow:Learning rate reduction is conditioned on metric `val_loss` which is not available. Available metrics are: loss,lr\n",
            "WARNING:tensorflow:Early stopping conditioned on metric `val_loss` which is not available. Available metrics are: loss,lr\n"
          ]
        },
        {
          "output_type": "stream",
          "name": "stdout",
          "text": [
            "\b\b\b\b\b\b\b\b\b\b\b\b\b\b\b\b\b\b\b\b\b\b\b\b\b\b\b\b\b\b\b\b\b\b\b\b\b\b\b\b\b\b\b\b\b\b\b\b\b\b\b\b\b\b\b\b\b\b\b\b\b\b\b\r25/25 [==============================] - 0s 5ms/step - loss: 0.0225 - lr: 0.0010\n",
            "Epoch 194/500\n",
            "18/25 [====================>.........] - ETA: 0s - loss: 0.0242"
          ]
        },
        {
          "output_type": "stream",
          "name": "stderr",
          "text": [
            "WARNING:tensorflow:Learning rate reduction is conditioned on metric `val_loss` which is not available. Available metrics are: loss,lr\n",
            "WARNING:tensorflow:Early stopping conditioned on metric `val_loss` which is not available. Available metrics are: loss,lr\n"
          ]
        },
        {
          "output_type": "stream",
          "name": "stdout",
          "text": [
            "\b\b\b\b\b\b\b\b\b\b\b\b\b\b\b\b\b\b\b\b\b\b\b\b\b\b\b\b\b\b\b\b\b\b\b\b\b\b\b\b\b\b\b\b\b\b\b\b\b\b\b\b\b\b\b\b\b\b\b\b\b\b\b\r25/25 [==============================] - 0s 6ms/step - loss: 0.0209 - lr: 0.0010\n",
            "Epoch 195/500\n",
            "20/25 [=======================>......] - ETA: 0s - loss: 0.0338"
          ]
        },
        {
          "output_type": "stream",
          "name": "stderr",
          "text": [
            "WARNING:tensorflow:Learning rate reduction is conditioned on metric `val_loss` which is not available. Available metrics are: loss,lr\n",
            "WARNING:tensorflow:Early stopping conditioned on metric `val_loss` which is not available. Available metrics are: loss,lr\n"
          ]
        },
        {
          "output_type": "stream",
          "name": "stdout",
          "text": [
            "\b\b\b\b\b\b\b\b\b\b\b\b\b\b\b\b\b\b\b\b\b\b\b\b\b\b\b\b\b\b\b\b\b\b\b\b\b\b\b\b\b\b\b\b\b\b\b\b\b\b\b\b\b\b\b\b\b\b\b\b\b\b\b\r25/25 [==============================] - 0s 5ms/step - loss: 0.0343 - lr: 0.0010\n",
            "Epoch 196/500\n",
            "15/25 [=================>............] - ETA: 0s - loss: 0.0204    "
          ]
        },
        {
          "output_type": "stream",
          "name": "stderr",
          "text": [
            "WARNING:tensorflow:Learning rate reduction is conditioned on metric `val_loss` which is not available. Available metrics are: loss,lr\n",
            "WARNING:tensorflow:Early stopping conditioned on metric `val_loss` which is not available. Available metrics are: loss,lr\n"
          ]
        },
        {
          "output_type": "stream",
          "name": "stdout",
          "text": [
            "\b\b\b\b\b\b\b\b\b\b\b\b\b\b\b\b\b\b\b\b\b\b\b\b\b\b\b\b\b\b\b\b\b\b\b\b\b\b\b\b\b\b\b\b\b\b\b\b\b\b\b\b\b\b\b\b\b\b\b\b\b\b\b\r25/25 [==============================] - 0s 6ms/step - loss: 0.0224 - lr: 0.0010\n",
            "Epoch 197/500\n",
            "18/25 [====================>.........] - ETA: 0s - loss: 0.0269"
          ]
        },
        {
          "output_type": "stream",
          "name": "stderr",
          "text": [
            "WARNING:tensorflow:Learning rate reduction is conditioned on metric `val_loss` which is not available. Available metrics are: loss,lr\n",
            "WARNING:tensorflow:Early stopping conditioned on metric `val_loss` which is not available. Available metrics are: loss,lr\n"
          ]
        },
        {
          "output_type": "stream",
          "name": "stdout",
          "text": [
            "\b\b\b\b\b\b\b\b\b\b\b\b\b\b\b\b\b\b\b\b\b\b\b\b\b\b\b\b\b\b\b\b\b\b\b\b\b\b\b\b\b\b\b\b\b\b\b\b\b\b\b\b\b\b\b\b\b\b\b\b\b\b\b\r25/25 [==============================] - 0s 5ms/step - loss: 0.0243 - lr: 0.0010\n",
            "Epoch 198/500\n",
            "15/25 [=================>............] - ETA: 0s - loss: 0.0328"
          ]
        },
        {
          "output_type": "stream",
          "name": "stderr",
          "text": [
            "WARNING:tensorflow:Learning rate reduction is conditioned on metric `val_loss` which is not available. Available metrics are: loss,lr\n",
            "WARNING:tensorflow:Early stopping conditioned on metric `val_loss` which is not available. Available metrics are: loss,lr\n"
          ]
        },
        {
          "output_type": "stream",
          "name": "stdout",
          "text": [
            "\b\b\b\b\b\b\b\b\b\b\b\b\b\b\b\b\b\b\b\b\b\b\b\b\b\b\b\b\b\b\b\b\b\b\b\b\b\b\b\b\b\b\b\b\b\b\b\b\b\b\b\b\b\b\b\b\b\b\b\b\b\b\b\r25/25 [==============================] - 0s 6ms/step - loss: 0.0263 - lr: 0.0010\n",
            "Epoch 199/500\n",
            "16/25 [==================>...........] - ETA: 0s - loss: 0.0178    "
          ]
        },
        {
          "output_type": "stream",
          "name": "stderr",
          "text": [
            "WARNING:tensorflow:Learning rate reduction is conditioned on metric `val_loss` which is not available. Available metrics are: loss,lr\n",
            "WARNING:tensorflow:Early stopping conditioned on metric `val_loss` which is not available. Available metrics are: loss,lr\n"
          ]
        },
        {
          "output_type": "stream",
          "name": "stdout",
          "text": [
            "\b\b\b\b\b\b\b\b\b\b\b\b\b\b\b\b\b\b\b\b\b\b\b\b\b\b\b\b\b\b\b\b\b\b\b\b\b\b\b\b\b\b\b\b\b\b\b\b\b\b\b\b\b\b\b\b\b\b\b\b\b\b\b\r25/25 [==============================] - 0s 5ms/step - loss: 0.0190 - lr: 0.0010\n",
            "Epoch 200/500\n",
            "20/25 [=======================>......] - ETA: 0s - loss: 0.0215"
          ]
        },
        {
          "output_type": "stream",
          "name": "stderr",
          "text": [
            "WARNING:tensorflow:Learning rate reduction is conditioned on metric `val_loss` which is not available. Available metrics are: loss,lr\n",
            "WARNING:tensorflow:Early stopping conditioned on metric `val_loss` which is not available. Available metrics are: loss,lr\n"
          ]
        },
        {
          "output_type": "stream",
          "name": "stdout",
          "text": [
            "\b\b\b\b\b\b\b\b\b\b\b\b\b\b\b\b\b\b\b\b\b\b\b\b\b\b\b\b\b\b\b\b\b\b\b\b\b\b\b\b\b\b\b\b\b\b\b\b\b\b\b\b\b\b\b\b\b\b\b\b\b\b\b\r25/25 [==============================] - 0s 5ms/step - loss: 0.0205 - lr: 0.0010\n",
            "Epoch 201/500\n",
            "14/25 [===============>..............] - ETA: 0s - loss: 0.0240"
          ]
        },
        {
          "output_type": "stream",
          "name": "stderr",
          "text": [
            "WARNING:tensorflow:Learning rate reduction is conditioned on metric `val_loss` which is not available. Available metrics are: loss,lr\n",
            "WARNING:tensorflow:Early stopping conditioned on metric `val_loss` which is not available. Available metrics are: loss,lr\n"
          ]
        },
        {
          "output_type": "stream",
          "name": "stdout",
          "text": [
            "\b\b\b\b\b\b\b\b\b\b\b\b\b\b\b\b\b\b\b\b\b\b\b\b\b\b\b\b\b\b\b\b\b\b\b\b\b\b\b\b\b\b\b\b\b\b\b\b\b\b\b\b\b\b\b\b\b\b\b\b\b\b\b\r25/25 [==============================] - 0s 5ms/step - loss: 0.0229 - lr: 0.0010\n",
            "Epoch 202/500\n",
            "19/25 [=====================>........] - ETA: 0s - loss: 0.0204"
          ]
        },
        {
          "output_type": "stream",
          "name": "stderr",
          "text": [
            "WARNING:tensorflow:Learning rate reduction is conditioned on metric `val_loss` which is not available. Available metrics are: loss,lr\n",
            "WARNING:tensorflow:Early stopping conditioned on metric `val_loss` which is not available. Available metrics are: loss,lr\n"
          ]
        },
        {
          "output_type": "stream",
          "name": "stdout",
          "text": [
            "\b\b\b\b\b\b\b\b\b\b\b\b\b\b\b\b\b\b\b\b\b\b\b\b\b\b\b\b\b\b\b\b\b\b\b\b\b\b\b\b\b\b\b\b\b\b\b\b\b\b\b\b\b\b\b\b\b\b\b\b\b\b\b\r25/25 [==============================] - 0s 5ms/step - loss: 0.0169 - lr: 0.0010\n",
            "Epoch 203/500\n",
            "14/25 [===============>..............] - ETA: 0s - loss: 0.0163"
          ]
        },
        {
          "output_type": "stream",
          "name": "stderr",
          "text": [
            "WARNING:tensorflow:Learning rate reduction is conditioned on metric `val_loss` which is not available. Available metrics are: loss,lr\n",
            "WARNING:tensorflow:Early stopping conditioned on metric `val_loss` which is not available. Available metrics are: loss,lr\n"
          ]
        },
        {
          "output_type": "stream",
          "name": "stdout",
          "text": [
            "\b\b\b\b\b\b\b\b\b\b\b\b\b\b\b\b\b\b\b\b\b\b\b\b\b\b\b\b\b\b\b\b\b\b\b\b\b\b\b\b\b\b\b\b\b\b\b\b\b\b\b\b\b\b\b\b\b\b\b\b\b\b\b\r25/25 [==============================] - 0s 5ms/step - loss: 0.0185 - lr: 0.0010\n",
            "Epoch 204/500\n",
            "11/25 [============>.................] - ETA: 0s - loss: 0.0227"
          ]
        },
        {
          "output_type": "stream",
          "name": "stderr",
          "text": [
            "WARNING:tensorflow:Learning rate reduction is conditioned on metric `val_loss` which is not available. Available metrics are: loss,lr\n",
            "WARNING:tensorflow:Early stopping conditioned on metric `val_loss` which is not available. Available metrics are: loss,lr\n"
          ]
        },
        {
          "output_type": "stream",
          "name": "stdout",
          "text": [
            "\b\b\b\b\b\b\b\b\b\b\b\b\b\b\b\b\b\b\b\b\b\b\b\b\b\b\b\b\b\b\b\b\b\b\b\b\b\b\b\b\b\b\b\b\b\b\b\b\b\b\b\b\b\b\b\b\b\b\b\b\b\b\b\r25/25 [==============================] - 0s 6ms/step - loss: 0.0193 - lr: 0.0010\n",
            "Epoch 205/500\n",
            "20/25 [=======================>......] - ETA: 0s - loss: 0.0216"
          ]
        },
        {
          "output_type": "stream",
          "name": "stderr",
          "text": [
            "WARNING:tensorflow:Learning rate reduction is conditioned on metric `val_loss` which is not available. Available metrics are: loss,lr\n",
            "WARNING:tensorflow:Early stopping conditioned on metric `val_loss` which is not available. Available metrics are: loss,lr\n"
          ]
        },
        {
          "output_type": "stream",
          "name": "stdout",
          "text": [
            "\b\b\b\b\b\b\b\b\b\b\b\b\b\b\b\b\b\b\b\b\b\b\b\b\b\b\b\b\b\b\b\b\b\b\b\b\b\b\b\b\b\b\b\b\b\b\b\b\b\b\b\b\b\b\b\b\b\b\b\b\b\b\b\r25/25 [==============================] - 0s 5ms/step - loss: 0.0243 - lr: 0.0010\n",
            "Epoch 206/500\n",
            "14/25 [===============>..............] - ETA: 0s - loss: 0.0206"
          ]
        },
        {
          "output_type": "stream",
          "name": "stderr",
          "text": [
            "WARNING:tensorflow:Learning rate reduction is conditioned on metric `val_loss` which is not available. Available metrics are: loss,lr\n",
            "WARNING:tensorflow:Early stopping conditioned on metric `val_loss` which is not available. Available metrics are: loss,lr\n"
          ]
        },
        {
          "output_type": "stream",
          "name": "stdout",
          "text": [
            "\b\b\b\b\b\b\b\b\b\b\b\b\b\b\b\b\b\b\b\b\b\b\b\b\b\b\b\b\b\b\b\b\b\b\b\b\b\b\b\b\b\b\b\b\b\b\b\b\b\b\b\b\b\b\b\b\b\b\b\b\b\b\b\r25/25 [==============================] - 0s 6ms/step - loss: 0.0209 - lr: 0.0010\n",
            "Epoch 207/500\n",
            "15/25 [=================>............] - ETA: 0s - loss: 0.0109"
          ]
        },
        {
          "output_type": "stream",
          "name": "stderr",
          "text": [
            "WARNING:tensorflow:Learning rate reduction is conditioned on metric `val_loss` which is not available. Available metrics are: loss,lr\n",
            "WARNING:tensorflow:Early stopping conditioned on metric `val_loss` which is not available. Available metrics are: loss,lr\n"
          ]
        },
        {
          "output_type": "stream",
          "name": "stdout",
          "text": [
            "\b\b\b\b\b\b\b\b\b\b\b\b\b\b\b\b\b\b\b\b\b\b\b\b\b\b\b\b\b\b\b\b\b\b\b\b\b\b\b\b\b\b\b\b\b\b\b\b\b\b\b\b\b\b\b\b\b\b\b\b\b\b\b\r25/25 [==============================] - 0s 6ms/step - loss: 0.0198 - lr: 0.0010\n",
            "Epoch 208/500\n",
            "19/25 [=====================>........] - ETA: 0s - loss: 0.0163"
          ]
        },
        {
          "output_type": "stream",
          "name": "stderr",
          "text": [
            "WARNING:tensorflow:Learning rate reduction is conditioned on metric `val_loss` which is not available. Available metrics are: loss,lr\n",
            "WARNING:tensorflow:Early stopping conditioned on metric `val_loss` which is not available. Available metrics are: loss,lr\n"
          ]
        },
        {
          "output_type": "stream",
          "name": "stdout",
          "text": [
            "\b\b\b\b\b\b\b\b\b\b\b\b\b\b\b\b\b\b\b\b\b\b\b\b\b\b\b\b\b\b\b\b\b\b\b\b\b\b\b\b\b\b\b\b\b\b\b\b\b\b\b\b\b\b\b\b\b\b\b\b\b\b\b\r25/25 [==============================] - 0s 5ms/step - loss: 0.0175 - lr: 0.0010\n",
            "Epoch 209/500\n",
            "18/25 [====================>.........] - ETA: 0s - loss: 0.0353"
          ]
        },
        {
          "output_type": "stream",
          "name": "stderr",
          "text": [
            "WARNING:tensorflow:Learning rate reduction is conditioned on metric `val_loss` which is not available. Available metrics are: loss,lr\n",
            "WARNING:tensorflow:Early stopping conditioned on metric `val_loss` which is not available. Available metrics are: loss,lr\n"
          ]
        },
        {
          "output_type": "stream",
          "name": "stdout",
          "text": [
            "\b\b\b\b\b\b\b\b\b\b\b\b\b\b\b\b\b\b\b\b\b\b\b\b\b\b\b\b\b\b\b\b\b\b\b\b\b\b\b\b\b\b\b\b\b\b\b\b\b\b\b\b\b\b\b\b\b\b\b\b\b\b\b\r25/25 [==============================] - 0s 5ms/step - loss: 0.0273 - lr: 0.0010\n",
            "Epoch 210/500\n",
            "16/25 [==================>...........] - ETA: 0s - loss: 0.0194"
          ]
        },
        {
          "output_type": "stream",
          "name": "stderr",
          "text": [
            "WARNING:tensorflow:Learning rate reduction is conditioned on metric `val_loss` which is not available. Available metrics are: loss,lr\n",
            "WARNING:tensorflow:Early stopping conditioned on metric `val_loss` which is not available. Available metrics are: loss,lr\n"
          ]
        },
        {
          "output_type": "stream",
          "name": "stdout",
          "text": [
            "\b\b\b\b\b\b\b\b\b\b\b\b\b\b\b\b\b\b\b\b\b\b\b\b\b\b\b\b\b\b\b\b\b\b\b\b\b\b\b\b\b\b\b\b\b\b\b\b\b\b\b\b\b\b\b\b\b\b\b\b\b\b\b\r25/25 [==============================] - 0s 5ms/step - loss: 0.0195 - lr: 0.0010\n",
            "Epoch 211/500\n",
            "16/25 [==================>...........] - ETA: 0s - loss: 0.0213"
          ]
        },
        {
          "output_type": "stream",
          "name": "stderr",
          "text": [
            "WARNING:tensorflow:Learning rate reduction is conditioned on metric `val_loss` which is not available. Available metrics are: loss,lr\n",
            "WARNING:tensorflow:Early stopping conditioned on metric `val_loss` which is not available. Available metrics are: loss,lr\n"
          ]
        },
        {
          "output_type": "stream",
          "name": "stdout",
          "text": [
            "\b\b\b\b\b\b\b\b\b\b\b\b\b\b\b\b\b\b\b\b\b\b\b\b\b\b\b\b\b\b\b\b\b\b\b\b\b\b\b\b\b\b\b\b\b\b\b\b\b\b\b\b\b\b\b\b\b\b\b\b\b\b\b\r25/25 [==============================] - 0s 6ms/step - loss: 0.0210 - lr: 0.0010\n",
            "Epoch 212/500\n",
            "18/25 [====================>.........] - ETA: 0s - loss: 0.0263"
          ]
        },
        {
          "output_type": "stream",
          "name": "stderr",
          "text": [
            "WARNING:tensorflow:Learning rate reduction is conditioned on metric `val_loss` which is not available. Available metrics are: loss,lr\n",
            "WARNING:tensorflow:Early stopping conditioned on metric `val_loss` which is not available. Available metrics are: loss,lr\n"
          ]
        },
        {
          "output_type": "stream",
          "name": "stdout",
          "text": [
            "\b\b\b\b\b\b\b\b\b\b\b\b\b\b\b\b\b\b\b\b\b\b\b\b\b\b\b\b\b\b\b\b\b\b\b\b\b\b\b\b\b\b\b\b\b\b\b\b\b\b\b\b\b\b\b\b\b\b\b\b\b\b\b\r25/25 [==============================] - 0s 5ms/step - loss: 0.0264 - lr: 0.0010\n",
            "Epoch 213/500\n",
            "17/25 [===================>..........] - ETA: 0s - loss: 0.0173"
          ]
        },
        {
          "output_type": "stream",
          "name": "stderr",
          "text": [
            "WARNING:tensorflow:Learning rate reduction is conditioned on metric `val_loss` which is not available. Available metrics are: loss,lr\n",
            "WARNING:tensorflow:Early stopping conditioned on metric `val_loss` which is not available. Available metrics are: loss,lr\n"
          ]
        },
        {
          "output_type": "stream",
          "name": "stdout",
          "text": [
            "\b\b\b\b\b\b\b\b\b\b\b\b\b\b\b\b\b\b\b\b\b\b\b\b\b\b\b\b\b\b\b\b\b\b\b\b\b\b\b\b\b\b\b\b\b\b\b\b\b\b\b\b\b\b\b\b\b\b\b\b\b\b\b\r25/25 [==============================] - 0s 5ms/step - loss: 0.0174 - lr: 0.0010\n",
            "Epoch 214/500\n",
            "19/25 [=====================>........] - ETA: 0s - loss: 0.0143"
          ]
        },
        {
          "output_type": "stream",
          "name": "stderr",
          "text": [
            "WARNING:tensorflow:Learning rate reduction is conditioned on metric `val_loss` which is not available. Available metrics are: loss,lr\n",
            "WARNING:tensorflow:Early stopping conditioned on metric `val_loss` which is not available. Available metrics are: loss,lr\n"
          ]
        },
        {
          "output_type": "stream",
          "name": "stdout",
          "text": [
            "\b\b\b\b\b\b\b\b\b\b\b\b\b\b\b\b\b\b\b\b\b\b\b\b\b\b\b\b\b\b\b\b\b\b\b\b\b\b\b\b\b\b\b\b\b\b\b\b\b\b\b\b\b\b\b\b\b\b\b\b\b\b\b\r25/25 [==============================] - 0s 5ms/step - loss: 0.0186 - lr: 0.0010\n",
            "Epoch 215/500\n",
            "16/25 [==================>...........] - ETA: 0s - loss: 0.0307"
          ]
        },
        {
          "output_type": "stream",
          "name": "stderr",
          "text": [
            "WARNING:tensorflow:Learning rate reduction is conditioned on metric `val_loss` which is not available. Available metrics are: loss,lr\n",
            "WARNING:tensorflow:Early stopping conditioned on metric `val_loss` which is not available. Available metrics are: loss,lr\n"
          ]
        },
        {
          "output_type": "stream",
          "name": "stdout",
          "text": [
            "\b\b\b\b\b\b\b\b\b\b\b\b\b\b\b\b\b\b\b\b\b\b\b\b\b\b\b\b\b\b\b\b\b\b\b\b\b\b\b\b\b\b\b\b\b\b\b\b\b\b\b\b\b\b\b\b\b\b\b\b\b\b\b\r25/25 [==============================] - 0s 6ms/step - loss: 0.0306 - lr: 0.0010\n",
            "Epoch 216/500\n",
            "21/25 [========================>.....] - ETA: 0s - loss: 0.0273    "
          ]
        },
        {
          "output_type": "stream",
          "name": "stderr",
          "text": [
            "WARNING:tensorflow:Learning rate reduction is conditioned on metric `val_loss` which is not available. Available metrics are: loss,lr\n",
            "WARNING:tensorflow:Early stopping conditioned on metric `val_loss` which is not available. Available metrics are: loss,lr\n"
          ]
        },
        {
          "output_type": "stream",
          "name": "stdout",
          "text": [
            "\b\b\b\b\b\b\b\b\b\b\b\b\b\b\b\b\b\b\b\b\b\b\b\b\b\b\b\b\b\b\b\b\b\b\b\b\b\b\b\b\b\b\b\b\b\b\b\b\b\b\b\b\b\b\b\b\b\b\b\b\b\b\b\r25/25 [==============================] - 0s 5ms/step - loss: 0.0274 - lr: 0.0010\n",
            "Epoch 217/500\n",
            "15/25 [=================>............] - ETA: 0s - loss: 0.0259"
          ]
        },
        {
          "output_type": "stream",
          "name": "stderr",
          "text": [
            "WARNING:tensorflow:Learning rate reduction is conditioned on metric `val_loss` which is not available. Available metrics are: loss,lr\n",
            "WARNING:tensorflow:Early stopping conditioned on metric `val_loss` which is not available. Available metrics are: loss,lr\n"
          ]
        },
        {
          "output_type": "stream",
          "name": "stdout",
          "text": [
            "\b\b\b\b\b\b\b\b\b\b\b\b\b\b\b\b\b\b\b\b\b\b\b\b\b\b\b\b\b\b\b\b\b\b\b\b\b\b\b\b\b\b\b\b\b\b\b\b\b\b\b\b\b\b\b\b\b\b\b\b\b\b\b\r25/25 [==============================] - 0s 6ms/step - loss: 0.0234 - lr: 0.0010\n",
            "Epoch 218/500\n",
            "17/25 [===================>..........] - ETA: 0s - loss: 0.0228"
          ]
        },
        {
          "output_type": "stream",
          "name": "stderr",
          "text": [
            "WARNING:tensorflow:Learning rate reduction is conditioned on metric `val_loss` which is not available. Available metrics are: loss,lr\n",
            "WARNING:tensorflow:Early stopping conditioned on metric `val_loss` which is not available. Available metrics are: loss,lr\n"
          ]
        },
        {
          "output_type": "stream",
          "name": "stdout",
          "text": [
            "\b\b\b\b\b\b\b\b\b\b\b\b\b\b\b\b\b\b\b\b\b\b\b\b\b\b\b\b\b\b\b\b\b\b\b\b\b\b\b\b\b\b\b\b\b\b\b\b\b\b\b\b\b\b\b\b\b\b\b\b\b\b\b\r25/25 [==============================] - 0s 5ms/step - loss: 0.0282 - lr: 0.0010\n",
            "Epoch 219/500\n",
            "19/25 [=====================>........] - ETA: 0s - loss: 0.0317"
          ]
        },
        {
          "output_type": "stream",
          "name": "stderr",
          "text": [
            "WARNING:tensorflow:Learning rate reduction is conditioned on metric `val_loss` which is not available. Available metrics are: loss,lr\n",
            "WARNING:tensorflow:Early stopping conditioned on metric `val_loss` which is not available. Available metrics are: loss,lr\n"
          ]
        },
        {
          "output_type": "stream",
          "name": "stdout",
          "text": [
            "\b\b\b\b\b\b\b\b\b\b\b\b\b\b\b\b\b\b\b\b\b\b\b\b\b\b\b\b\b\b\b\b\b\b\b\b\b\b\b\b\b\b\b\b\b\b\b\b\b\b\b\b\b\b\b\b\b\b\b\b\b\b\b\r25/25 [==============================] - 0s 5ms/step - loss: 0.0322 - lr: 0.0010\n",
            "Epoch 220/500\n",
            "17/25 [===================>..........] - ETA: 0s - loss: 0.0270"
          ]
        },
        {
          "output_type": "stream",
          "name": "stderr",
          "text": [
            "WARNING:tensorflow:Learning rate reduction is conditioned on metric `val_loss` which is not available. Available metrics are: loss,lr\n",
            "WARNING:tensorflow:Early stopping conditioned on metric `val_loss` which is not available. Available metrics are: loss,lr\n"
          ]
        },
        {
          "output_type": "stream",
          "name": "stdout",
          "text": [
            "\b\b\b\b\b\b\b\b\b\b\b\b\b\b\b\b\b\b\b\b\b\b\b\b\b\b\b\b\b\b\b\b\b\b\b\b\b\b\b\b\b\b\b\b\b\b\b\b\b\b\b\b\b\b\b\b\b\b\b\b\b\b\b\r25/25 [==============================] - 0s 5ms/step - loss: 0.0217 - lr: 0.0010\n",
            "Epoch 221/500\n",
            "20/25 [=======================>......] - ETA: 0s - loss: 0.0278"
          ]
        },
        {
          "output_type": "stream",
          "name": "stderr",
          "text": [
            "WARNING:tensorflow:Learning rate reduction is conditioned on metric `val_loss` which is not available. Available metrics are: loss,lr\n",
            "WARNING:tensorflow:Early stopping conditioned on metric `val_loss` which is not available. Available metrics are: loss,lr\n"
          ]
        },
        {
          "output_type": "stream",
          "name": "stdout",
          "text": [
            "\b\b\b\b\b\b\b\b\b\b\b\b\b\b\b\b\b\b\b\b\b\b\b\b\b\b\b\b\b\b\b\b\b\b\b\b\b\b\b\b\b\b\b\b\b\b\b\b\b\b\b\b\b\b\b\b\b\b\b\b\b\b\b\r25/25 [==============================] - 0s 5ms/step - loss: 0.0281 - lr: 0.0010\n",
            "Epoch 222/500\n",
            "18/25 [====================>.........] - ETA: 0s - loss: 0.0185    "
          ]
        },
        {
          "output_type": "stream",
          "name": "stderr",
          "text": [
            "WARNING:tensorflow:Learning rate reduction is conditioned on metric `val_loss` which is not available. Available metrics are: loss,lr\n",
            "WARNING:tensorflow:Early stopping conditioned on metric `val_loss` which is not available. Available metrics are: loss,lr\n"
          ]
        },
        {
          "output_type": "stream",
          "name": "stdout",
          "text": [
            "\b\b\b\b\b\b\b\b\b\b\b\b\b\b\b\b\b\b\b\b\b\b\b\b\b\b\b\b\b\b\b\b\b\b\b\b\b\b\b\b\b\b\b\b\b\b\b\b\b\b\b\b\b\b\b\b\b\b\b\b\b\b\b\r25/25 [==============================] - 0s 5ms/step - loss: 0.0190 - lr: 0.0010\n",
            "Epoch 223/500\n",
            "17/25 [===================>..........] - ETA: 0s - loss: 0.0287"
          ]
        },
        {
          "output_type": "stream",
          "name": "stderr",
          "text": [
            "WARNING:tensorflow:Learning rate reduction is conditioned on metric `val_loss` which is not available. Available metrics are: loss,lr\n",
            "WARNING:tensorflow:Early stopping conditioned on metric `val_loss` which is not available. Available metrics are: loss,lr\n"
          ]
        },
        {
          "output_type": "stream",
          "name": "stdout",
          "text": [
            "\b\b\b\b\b\b\b\b\b\b\b\b\b\b\b\b\b\b\b\b\b\b\b\b\b\b\b\b\b\b\b\b\b\b\b\b\b\b\b\b\b\b\b\b\b\b\b\b\b\b\b\b\b\b\b\b\b\b\b\b\b\b\b\r25/25 [==============================] - 0s 5ms/step - loss: 0.0265 - lr: 0.0010\n",
            "Epoch 224/500\n",
            "12/25 [=============>................] - ETA: 0s - loss: 0.0287    "
          ]
        },
        {
          "output_type": "stream",
          "name": "stderr",
          "text": [
            "WARNING:tensorflow:Learning rate reduction is conditioned on metric `val_loss` which is not available. Available metrics are: loss,lr\n",
            "WARNING:tensorflow:Early stopping conditioned on metric `val_loss` which is not available. Available metrics are: loss,lr\n"
          ]
        },
        {
          "output_type": "stream",
          "name": "stdout",
          "text": [
            "\b\b\b\b\b\b\b\b\b\b\b\b\b\b\b\b\b\b\b\b\b\b\b\b\b\b\b\b\b\b\b\b\b\b\b\b\b\b\b\b\b\b\b\b\b\b\b\b\b\b\b\b\b\b\b\b\b\b\b\b\b\b\b\r25/25 [==============================] - 0s 5ms/step - loss: 0.0263 - lr: 0.0010\n",
            "Epoch 225/500\n",
            "20/25 [=======================>......] - ETA: 0s - loss: 0.0277"
          ]
        },
        {
          "output_type": "stream",
          "name": "stderr",
          "text": [
            "WARNING:tensorflow:Learning rate reduction is conditioned on metric `val_loss` which is not available. Available metrics are: loss,lr\n",
            "WARNING:tensorflow:Early stopping conditioned on metric `val_loss` which is not available. Available metrics are: loss,lr\n"
          ]
        },
        {
          "output_type": "stream",
          "name": "stdout",
          "text": [
            "\b\b\b\b\b\b\b\b\b\b\b\b\b\b\b\b\b\b\b\b\b\b\b\b\b\b\b\b\b\b\b\b\b\b\b\b\b\b\b\b\b\b\b\b\b\b\b\b\b\b\b\b\b\b\b\b\b\b\b\b\b\b\b\r25/25 [==============================] - 0s 5ms/step - loss: 0.0240 - lr: 0.0010\n",
            "Epoch 226/500\n",
            "18/25 [====================>.........] - ETA: 0s - loss: 0.0185"
          ]
        },
        {
          "output_type": "stream",
          "name": "stderr",
          "text": [
            "WARNING:tensorflow:Learning rate reduction is conditioned on metric `val_loss` which is not available. Available metrics are: loss,lr\n",
            "WARNING:tensorflow:Early stopping conditioned on metric `val_loss` which is not available. Available metrics are: loss,lr\n"
          ]
        },
        {
          "output_type": "stream",
          "name": "stdout",
          "text": [
            "\b\b\b\b\b\b\b\b\b\b\b\b\b\b\b\b\b\b\b\b\b\b\b\b\b\b\b\b\b\b\b\b\b\b\b\b\b\b\b\b\b\b\b\b\b\b\b\b\b\b\b\b\b\b\b\b\b\b\b\b\b\b\b\r25/25 [==============================] - 0s 5ms/step - loss: 0.0194 - lr: 0.0010\n",
            "Epoch 227/500\n",
            "18/25 [====================>.........] - ETA: 0s - loss: 0.0179"
          ]
        },
        {
          "output_type": "stream",
          "name": "stderr",
          "text": [
            "WARNING:tensorflow:Learning rate reduction is conditioned on metric `val_loss` which is not available. Available metrics are: loss,lr\n",
            "WARNING:tensorflow:Early stopping conditioned on metric `val_loss` which is not available. Available metrics are: loss,lr\n"
          ]
        },
        {
          "output_type": "stream",
          "name": "stdout",
          "text": [
            "\b\b\b\b\b\b\b\b\b\b\b\b\b\b\b\b\b\b\b\b\b\b\b\b\b\b\b\b\b\b\b\b\b\b\b\b\b\b\b\b\b\b\b\b\b\b\b\b\b\b\b\b\b\b\b\b\b\b\b\b\b\b\b\r25/25 [==============================] - 0s 5ms/step - loss: 0.0211 - lr: 0.0010\n",
            "Epoch 228/500\n",
            "18/25 [====================>.........] - ETA: 0s - loss: 0.0107"
          ]
        },
        {
          "output_type": "stream",
          "name": "stderr",
          "text": [
            "WARNING:tensorflow:Learning rate reduction is conditioned on metric `val_loss` which is not available. Available metrics are: loss,lr\n",
            "WARNING:tensorflow:Early stopping conditioned on metric `val_loss` which is not available. Available metrics are: loss,lr\n"
          ]
        },
        {
          "output_type": "stream",
          "name": "stdout",
          "text": [
            "\b\b\b\b\b\b\b\b\b\b\b\b\b\b\b\b\b\b\b\b\b\b\b\b\b\b\b\b\b\b\b\b\b\b\b\b\b\b\b\b\b\b\b\b\b\b\b\b\b\b\b\b\b\b\b\b\b\b\b\b\b\b\b\r25/25 [==============================] - 0s 5ms/step - loss: 0.0159 - lr: 0.0010\n",
            "Epoch 229/500\n",
            "15/25 [=================>............] - ETA: 0s - loss: 0.0200"
          ]
        },
        {
          "output_type": "stream",
          "name": "stderr",
          "text": [
            "WARNING:tensorflow:Learning rate reduction is conditioned on metric `val_loss` which is not available. Available metrics are: loss,lr\n",
            "WARNING:tensorflow:Early stopping conditioned on metric `val_loss` which is not available. Available metrics are: loss,lr\n"
          ]
        },
        {
          "output_type": "stream",
          "name": "stdout",
          "text": [
            "\b\b\b\b\b\b\b\b\b\b\b\b\b\b\b\b\b\b\b\b\b\b\b\b\b\b\b\b\b\b\b\b\b\b\b\b\b\b\b\b\b\b\b\b\b\b\b\b\b\b\b\b\b\b\b\b\b\b\b\b\b\b\b\r25/25 [==============================] - 0s 5ms/step - loss: 0.0213 - lr: 0.0010\n",
            "Epoch 230/500\n",
            "14/25 [===============>..............] - ETA: 0s - loss: 0.0205    "
          ]
        },
        {
          "output_type": "stream",
          "name": "stderr",
          "text": [
            "WARNING:tensorflow:Learning rate reduction is conditioned on metric `val_loss` which is not available. Available metrics are: loss,lr\n",
            "WARNING:tensorflow:Early stopping conditioned on metric `val_loss` which is not available. Available metrics are: loss,lr\n"
          ]
        },
        {
          "output_type": "stream",
          "name": "stdout",
          "text": [
            "\b\b\b\b\b\b\b\b\b\b\b\b\b\b\b\b\b\b\b\b\b\b\b\b\b\b\b\b\b\b\b\b\b\b\b\b\b\b\b\b\b\b\b\b\b\b\b\b\b\b\b\b\b\b\b\b\b\b\b\b\b\b\b\r25/25 [==============================] - 0s 6ms/step - loss: 0.0203 - lr: 0.0010\n",
            "Epoch 231/500\n",
            "12/25 [=============>................] - ETA: 0s - loss: 0.0229"
          ]
        },
        {
          "output_type": "stream",
          "name": "stderr",
          "text": [
            "WARNING:tensorflow:Learning rate reduction is conditioned on metric `val_loss` which is not available. Available metrics are: loss,lr\n",
            "WARNING:tensorflow:Early stopping conditioned on metric `val_loss` which is not available. Available metrics are: loss,lr\n"
          ]
        },
        {
          "output_type": "stream",
          "name": "stdout",
          "text": [
            "\b\b\b\b\b\b\b\b\b\b\b\b\b\b\b\b\b\b\b\b\b\b\b\b\b\b\b\b\b\b\b\b\b\b\b\b\b\b\b\b\b\b\b\b\b\b\b\b\b\b\b\b\b\b\b\b\b\b\b\b\b\b\b\r25/25 [==============================] - 0s 6ms/step - loss: 0.0207 - lr: 0.0010\n",
            "Epoch 232/500\n",
            "14/25 [===============>..............] - ETA: 0s - loss: 0.0153"
          ]
        },
        {
          "output_type": "stream",
          "name": "stderr",
          "text": [
            "WARNING:tensorflow:Learning rate reduction is conditioned on metric `val_loss` which is not available. Available metrics are: loss,lr\n",
            "WARNING:tensorflow:Early stopping conditioned on metric `val_loss` which is not available. Available metrics are: loss,lr\n"
          ]
        },
        {
          "output_type": "stream",
          "name": "stdout",
          "text": [
            "\b\b\b\b\b\b\b\b\b\b\b\b\b\b\b\b\b\b\b\b\b\b\b\b\b\b\b\b\b\b\b\b\b\b\b\b\b\b\b\b\b\b\b\b\b\b\b\b\b\b\b\b\b\b\b\b\b\b\b\b\b\b\b\r25/25 [==============================] - 0s 6ms/step - loss: 0.0207 - lr: 0.0010\n",
            "Epoch 233/500\n",
            "18/25 [====================>.........] - ETA: 0s - loss: 0.0185"
          ]
        },
        {
          "output_type": "stream",
          "name": "stderr",
          "text": [
            "WARNING:tensorflow:Learning rate reduction is conditioned on metric `val_loss` which is not available. Available metrics are: loss,lr\n",
            "WARNING:tensorflow:Early stopping conditioned on metric `val_loss` which is not available. Available metrics are: loss,lr\n"
          ]
        },
        {
          "output_type": "stream",
          "name": "stdout",
          "text": [
            "\b\b\b\b\b\b\b\b\b\b\b\b\b\b\b\b\b\b\b\b\b\b\b\b\b\b\b\b\b\b\b\b\b\b\b\b\b\b\b\b\b\b\b\b\b\b\b\b\b\b\b\b\b\b\b\b\b\b\b\b\b\b\b\r25/25 [==============================] - 0s 5ms/step - loss: 0.0191 - lr: 0.0010\n",
            "Epoch 234/500\n",
            "18/25 [====================>.........] - ETA: 0s - loss: 0.0248"
          ]
        },
        {
          "output_type": "stream",
          "name": "stderr",
          "text": [
            "WARNING:tensorflow:Learning rate reduction is conditioned on metric `val_loss` which is not available. Available metrics are: loss,lr\n",
            "WARNING:tensorflow:Early stopping conditioned on metric `val_loss` which is not available. Available metrics are: loss,lr\n"
          ]
        },
        {
          "output_type": "stream",
          "name": "stdout",
          "text": [
            "\b\b\b\b\b\b\b\b\b\b\b\b\b\b\b\b\b\b\b\b\b\b\b\b\b\b\b\b\b\b\b\b\b\b\b\b\b\b\b\b\b\b\b\b\b\b\b\b\b\b\b\b\b\b\b\b\b\b\b\b\b\b\b\r25/25 [==============================] - 0s 5ms/step - loss: 0.0215 - lr: 0.0010\n",
            "Epoch 235/500\n",
            "15/25 [=================>............] - ETA: 0s - loss: 0.0128"
          ]
        },
        {
          "output_type": "stream",
          "name": "stderr",
          "text": [
            "WARNING:tensorflow:Learning rate reduction is conditioned on metric `val_loss` which is not available. Available metrics are: loss,lr\n",
            "WARNING:tensorflow:Early stopping conditioned on metric `val_loss` which is not available. Available metrics are: loss,lr\n"
          ]
        },
        {
          "output_type": "stream",
          "name": "stdout",
          "text": [
            "\b\b\b\b\b\b\b\b\b\b\b\b\b\b\b\b\b\b\b\b\b\b\b\b\b\b\b\b\b\b\b\b\b\b\b\b\b\b\b\b\b\b\b\b\b\b\b\b\b\b\b\b\b\b\b\b\b\b\b\b\b\b\b\r25/25 [==============================] - 0s 5ms/step - loss: 0.0174 - lr: 0.0010\n",
            "Epoch 236/500\n",
            "17/25 [===================>..........] - ETA: 0s - loss: 0.0133"
          ]
        },
        {
          "output_type": "stream",
          "name": "stderr",
          "text": [
            "WARNING:tensorflow:Learning rate reduction is conditioned on metric `val_loss` which is not available. Available metrics are: loss,lr\n",
            "WARNING:tensorflow:Early stopping conditioned on metric `val_loss` which is not available. Available metrics are: loss,lr\n"
          ]
        },
        {
          "output_type": "stream",
          "name": "stdout",
          "text": [
            "\b\b\b\b\b\b\b\b\b\b\b\b\b\b\b\b\b\b\b\b\b\b\b\b\b\b\b\b\b\b\b\b\b\b\b\b\b\b\b\b\b\b\b\b\b\b\b\b\b\b\b\b\b\b\b\b\b\b\b\b\b\b\b\r25/25 [==============================] - 0s 5ms/step - loss: 0.0172 - lr: 0.0010\n",
            "Epoch 237/500\n",
            "16/25 [==================>...........] - ETA: 0s - loss: 0.0179"
          ]
        },
        {
          "output_type": "stream",
          "name": "stderr",
          "text": [
            "WARNING:tensorflow:Learning rate reduction is conditioned on metric `val_loss` which is not available. Available metrics are: loss,lr\n",
            "WARNING:tensorflow:Early stopping conditioned on metric `val_loss` which is not available. Available metrics are: loss,lr\n"
          ]
        },
        {
          "output_type": "stream",
          "name": "stdout",
          "text": [
            "\b\b\b\b\b\b\b\b\b\b\b\b\b\b\b\b\b\b\b\b\b\b\b\b\b\b\b\b\b\b\b\b\b\b\b\b\b\b\b\b\b\b\b\b\b\b\b\b\b\b\b\b\b\b\b\b\b\b\b\b\b\b\b\r25/25 [==============================] - 0s 5ms/step - loss: 0.0215 - lr: 0.0010\n",
            "Epoch 238/500\n",
            "17/25 [===================>..........] - ETA: 0s - loss: 0.0152"
          ]
        },
        {
          "output_type": "stream",
          "name": "stderr",
          "text": [
            "WARNING:tensorflow:Learning rate reduction is conditioned on metric `val_loss` which is not available. Available metrics are: loss,lr\n",
            "WARNING:tensorflow:Early stopping conditioned on metric `val_loss` which is not available. Available metrics are: loss,lr\n"
          ]
        },
        {
          "output_type": "stream",
          "name": "stdout",
          "text": [
            "\b\b\b\b\b\b\b\b\b\b\b\b\b\b\b\b\b\b\b\b\b\b\b\b\b\b\b\b\b\b\b\b\b\b\b\b\b\b\b\b\b\b\b\b\b\b\b\b\b\b\b\b\b\b\b\b\b\b\b\b\b\b\b\r25/25 [==============================] - 0s 5ms/step - loss: 0.0151 - lr: 0.0010\n",
            "Epoch 239/500\n",
            "17/25 [===================>..........] - ETA: 0s - loss: 0.0137"
          ]
        },
        {
          "output_type": "stream",
          "name": "stderr",
          "text": [
            "WARNING:tensorflow:Learning rate reduction is conditioned on metric `val_loss` which is not available. Available metrics are: loss,lr\n",
            "WARNING:tensorflow:Early stopping conditioned on metric `val_loss` which is not available. Available metrics are: loss,lr\n"
          ]
        },
        {
          "output_type": "stream",
          "name": "stdout",
          "text": [
            "\b\b\b\b\b\b\b\b\b\b\b\b\b\b\b\b\b\b\b\b\b\b\b\b\b\b\b\b\b\b\b\b\b\b\b\b\b\b\b\b\b\b\b\b\b\b\b\b\b\b\b\b\b\b\b\b\b\b\b\b\b\b\b\r25/25 [==============================] - 0s 6ms/step - loss: 0.0150 - lr: 0.0010\n",
            "Epoch 240/500\n",
            "17/25 [===================>..........] - ETA: 0s - loss: 0.0191"
          ]
        },
        {
          "output_type": "stream",
          "name": "stderr",
          "text": [
            "WARNING:tensorflow:Learning rate reduction is conditioned on metric `val_loss` which is not available. Available metrics are: loss,lr\n",
            "WARNING:tensorflow:Early stopping conditioned on metric `val_loss` which is not available. Available metrics are: loss,lr\n"
          ]
        },
        {
          "output_type": "stream",
          "name": "stdout",
          "text": [
            "\b\b\b\b\b\b\b\b\b\b\b\b\b\b\b\b\b\b\b\b\b\b\b\b\b\b\b\b\b\b\b\b\b\b\b\b\b\b\b\b\b\b\b\b\b\b\b\b\b\b\b\b\b\b\b\b\b\b\b\b\b\b\b\r25/25 [==============================] - 0s 5ms/step - loss: 0.0140 - lr: 0.0010\n",
            "Epoch 241/500\n",
            "14/25 [===============>..............] - ETA: 0s - loss: 0.0136"
          ]
        },
        {
          "output_type": "stream",
          "name": "stderr",
          "text": [
            "WARNING:tensorflow:Learning rate reduction is conditioned on metric `val_loss` which is not available. Available metrics are: loss,lr\n",
            "WARNING:tensorflow:Early stopping conditioned on metric `val_loss` which is not available. Available metrics are: loss,lr\n"
          ]
        },
        {
          "output_type": "stream",
          "name": "stdout",
          "text": [
            "\b\b\b\b\b\b\b\b\b\b\b\b\b\b\b\b\b\b\b\b\b\b\b\b\b\b\b\b\b\b\b\b\b\b\b\b\b\b\b\b\b\b\b\b\b\b\b\b\b\b\b\b\b\b\b\b\b\b\b\b\b\b\b\r25/25 [==============================] - 0s 5ms/step - loss: 0.0175 - lr: 0.0010\n",
            "Epoch 242/500\n",
            "20/25 [=======================>......] - ETA: 0s - loss: 0.0140"
          ]
        },
        {
          "output_type": "stream",
          "name": "stderr",
          "text": [
            "WARNING:tensorflow:Learning rate reduction is conditioned on metric `val_loss` which is not available. Available metrics are: loss,lr\n",
            "WARNING:tensorflow:Early stopping conditioned on metric `val_loss` which is not available. Available metrics are: loss,lr\n"
          ]
        },
        {
          "output_type": "stream",
          "name": "stdout",
          "text": [
            "\b\b\b\b\b\b\b\b\b\b\b\b\b\b\b\b\b\b\b\b\b\b\b\b\b\b\b\b\b\b\b\b\b\b\b\b\b\b\b\b\b\b\b\b\b\b\b\b\b\b\b\b\b\b\b\b\b\b\b\b\b\b\b\r25/25 [==============================] - 0s 5ms/step - loss: 0.0189 - lr: 0.0010\n",
            "Epoch 243/500\n",
            "19/25 [=====================>........] - ETA: 0s - loss: 0.0258"
          ]
        },
        {
          "output_type": "stream",
          "name": "stderr",
          "text": [
            "WARNING:tensorflow:Learning rate reduction is conditioned on metric `val_loss` which is not available. Available metrics are: loss,lr\n",
            "WARNING:tensorflow:Early stopping conditioned on metric `val_loss` which is not available. Available metrics are: loss,lr\n"
          ]
        },
        {
          "output_type": "stream",
          "name": "stdout",
          "text": [
            "\b\b\b\b\b\b\b\b\b\b\b\b\b\b\b\b\b\b\b\b\b\b\b\b\b\b\b\b\b\b\b\b\b\b\b\b\b\b\b\b\b\b\b\b\b\b\b\b\b\b\b\b\b\b\b\b\b\b\b\b\b\b\b\r25/25 [==============================] - 0s 5ms/step - loss: 0.0231 - lr: 0.0010\n",
            "Epoch 244/500\n",
            "19/25 [=====================>........] - ETA: 0s - loss: 0.0201"
          ]
        },
        {
          "output_type": "stream",
          "name": "stderr",
          "text": [
            "WARNING:tensorflow:Learning rate reduction is conditioned on metric `val_loss` which is not available. Available metrics are: loss,lr\n",
            "WARNING:tensorflow:Early stopping conditioned on metric `val_loss` which is not available. Available metrics are: loss,lr\n"
          ]
        },
        {
          "output_type": "stream",
          "name": "stdout",
          "text": [
            "\b\b\b\b\b\b\b\b\b\b\b\b\b\b\b\b\b\b\b\b\b\b\b\b\b\b\b\b\b\b\b\b\b\b\b\b\b\b\b\b\b\b\b\b\b\b\b\b\b\b\b\b\b\b\b\b\b\b\b\b\b\b\b\r25/25 [==============================] - 0s 5ms/step - loss: 0.0192 - lr: 0.0010\n",
            "Epoch 245/500\n",
            "16/25 [==================>...........] - ETA: 0s - loss: 0.0180"
          ]
        },
        {
          "output_type": "stream",
          "name": "stderr",
          "text": [
            "WARNING:tensorflow:Learning rate reduction is conditioned on metric `val_loss` which is not available. Available metrics are: loss,lr\n",
            "WARNING:tensorflow:Early stopping conditioned on metric `val_loss` which is not available. Available metrics are: loss,lr\n"
          ]
        },
        {
          "output_type": "stream",
          "name": "stdout",
          "text": [
            "\b\b\b\b\b\b\b\b\b\b\b\b\b\b\b\b\b\b\b\b\b\b\b\b\b\b\b\b\b\b\b\b\b\b\b\b\b\b\b\b\b\b\b\b\b\b\b\b\b\b\b\b\b\b\b\b\b\b\b\b\b\b\b\r25/25 [==============================] - 0s 6ms/step - loss: 0.0183 - lr: 0.0010\n",
            "Epoch 246/500\n",
            "16/25 [==================>...........] - ETA: 0s - loss: 0.0134"
          ]
        },
        {
          "output_type": "stream",
          "name": "stderr",
          "text": [
            "WARNING:tensorflow:Learning rate reduction is conditioned on metric `val_loss` which is not available. Available metrics are: loss,lr\n",
            "WARNING:tensorflow:Early stopping conditioned on metric `val_loss` which is not available. Available metrics are: loss,lr\n"
          ]
        },
        {
          "output_type": "stream",
          "name": "stdout",
          "text": [
            "\b\b\b\b\b\b\b\b\b\b\b\b\b\b\b\b\b\b\b\b\b\b\b\b\b\b\b\b\b\b\b\b\b\b\b\b\b\b\b\b\b\b\b\b\b\b\b\b\b\b\b\b\b\b\b\b\b\b\b\b\b\b\b\r25/25 [==============================] - 0s 5ms/step - loss: 0.0157 - lr: 0.0010\n",
            "Epoch 247/500\n",
            "14/25 [===============>..............] - ETA: 0s - loss: 0.0160"
          ]
        },
        {
          "output_type": "stream",
          "name": "stderr",
          "text": [
            "WARNING:tensorflow:Learning rate reduction is conditioned on metric `val_loss` which is not available. Available metrics are: loss,lr\n",
            "WARNING:tensorflow:Early stopping conditioned on metric `val_loss` which is not available. Available metrics are: loss,lr\n"
          ]
        },
        {
          "output_type": "stream",
          "name": "stdout",
          "text": [
            "\b\b\b\b\b\b\b\b\b\b\b\b\b\b\b\b\b\b\b\b\b\b\b\b\b\b\b\b\b\b\b\b\b\b\b\b\b\b\b\b\b\b\b\b\b\b\b\b\b\b\b\b\b\b\b\b\b\b\b\b\b\b\b\r25/25 [==============================] - 0s 5ms/step - loss: 0.0170 - lr: 0.0010\n",
            "Epoch 248/500\n",
            "16/25 [==================>...........] - ETA: 0s - loss: 0.0172"
          ]
        },
        {
          "output_type": "stream",
          "name": "stderr",
          "text": [
            "WARNING:tensorflow:Learning rate reduction is conditioned on metric `val_loss` which is not available. Available metrics are: loss,lr\n",
            "WARNING:tensorflow:Early stopping conditioned on metric `val_loss` which is not available. Available metrics are: loss,lr\n"
          ]
        },
        {
          "output_type": "stream",
          "name": "stdout",
          "text": [
            "\b\b\b\b\b\b\b\b\b\b\b\b\b\b\b\b\b\b\b\b\b\b\b\b\b\b\b\b\b\b\b\b\b\b\b\b\b\b\b\b\b\b\b\b\b\b\b\b\b\b\b\b\b\b\b\b\b\b\b\b\b\b\b\r25/25 [==============================] - 0s 5ms/step - loss: 0.0182 - lr: 0.0010\n",
            "Epoch 249/500\n",
            "15/25 [=================>............] - ETA: 0s - loss: 0.0228"
          ]
        },
        {
          "output_type": "stream",
          "name": "stderr",
          "text": [
            "WARNING:tensorflow:Learning rate reduction is conditioned on metric `val_loss` which is not available. Available metrics are: loss,lr\n",
            "WARNING:tensorflow:Early stopping conditioned on metric `val_loss` which is not available. Available metrics are: loss,lr\n"
          ]
        },
        {
          "output_type": "stream",
          "name": "stdout",
          "text": [
            "\b\b\b\b\b\b\b\b\b\b\b\b\b\b\b\b\b\b\b\b\b\b\b\b\b\b\b\b\b\b\b\b\b\b\b\b\b\b\b\b\b\b\b\b\b\b\b\b\b\b\b\b\b\b\b\b\b\b\b\b\b\b\b\r25/25 [==============================] - 0s 6ms/step - loss: 0.0180 - lr: 0.0010\n",
            "Epoch 250/500\n",
            "14/25 [===============>..............] - ETA: 0s - loss: 0.0120"
          ]
        },
        {
          "output_type": "stream",
          "name": "stderr",
          "text": [
            "WARNING:tensorflow:Learning rate reduction is conditioned on metric `val_loss` which is not available. Available metrics are: loss,lr\n",
            "WARNING:tensorflow:Early stopping conditioned on metric `val_loss` which is not available. Available metrics are: loss,lr\n"
          ]
        },
        {
          "output_type": "stream",
          "name": "stdout",
          "text": [
            "\b\b\b\b\b\b\b\b\b\b\b\b\b\b\b\b\b\b\b\b\b\b\b\b\b\b\b\b\b\b\b\b\b\b\b\b\b\b\b\b\b\b\b\b\b\b\b\b\b\b\b\b\b\b\b\b\b\b\b\b\b\b\b\r25/25 [==============================] - 0s 5ms/step - loss: 0.0154 - lr: 0.0010\n",
            "Epoch 251/500\n",
            "17/25 [===================>..........] - ETA: 0s - loss: 0.0150"
          ]
        },
        {
          "output_type": "stream",
          "name": "stderr",
          "text": [
            "WARNING:tensorflow:Learning rate reduction is conditioned on metric `val_loss` which is not available. Available metrics are: loss,lr\n",
            "WARNING:tensorflow:Early stopping conditioned on metric `val_loss` which is not available. Available metrics are: loss,lr\n"
          ]
        },
        {
          "output_type": "stream",
          "name": "stdout",
          "text": [
            "\b\b\b\b\b\b\b\b\b\b\b\b\b\b\b\b\b\b\b\b\b\b\b\b\b\b\b\b\b\b\b\b\b\b\b\b\b\b\b\b\b\b\b\b\b\b\b\b\b\b\b\b\b\b\b\b\b\b\b\b\b\b\b\r25/25 [==============================] - 0s 5ms/step - loss: 0.0150 - lr: 0.0010\n",
            "Epoch 252/500\n",
            "17/25 [===================>..........] - ETA: 0s - loss: 0.0175"
          ]
        },
        {
          "output_type": "stream",
          "name": "stderr",
          "text": [
            "WARNING:tensorflow:Learning rate reduction is conditioned on metric `val_loss` which is not available. Available metrics are: loss,lr\n",
            "WARNING:tensorflow:Early stopping conditioned on metric `val_loss` which is not available. Available metrics are: loss,lr\n"
          ]
        },
        {
          "output_type": "stream",
          "name": "stdout",
          "text": [
            "\b\b\b\b\b\b\b\b\b\b\b\b\b\b\b\b\b\b\b\b\b\b\b\b\b\b\b\b\b\b\b\b\b\b\b\b\b\b\b\b\b\b\b\b\b\b\b\b\b\b\b\b\b\b\b\b\b\b\b\b\b\b\b\r25/25 [==============================] - 0s 5ms/step - loss: 0.0175 - lr: 0.0010\n",
            "Epoch 253/500\n",
            "13/25 [==============>...............] - ETA: 0s - loss: 0.0190"
          ]
        },
        {
          "output_type": "stream",
          "name": "stderr",
          "text": [
            "WARNING:tensorflow:Learning rate reduction is conditioned on metric `val_loss` which is not available. Available metrics are: loss,lr\n",
            "WARNING:tensorflow:Early stopping conditioned on metric `val_loss` which is not available. Available metrics are: loss,lr\n"
          ]
        },
        {
          "output_type": "stream",
          "name": "stdout",
          "text": [
            "\b\b\b\b\b\b\b\b\b\b\b\b\b\b\b\b\b\b\b\b\b\b\b\b\b\b\b\b\b\b\b\b\b\b\b\b\b\b\b\b\b\b\b\b\b\b\b\b\b\b\b\b\b\b\b\b\b\b\b\b\b\b\b\r25/25 [==============================] - 0s 6ms/step - loss: 0.0150 - lr: 0.0010\n",
            "Epoch 254/500\n",
            "15/25 [=================>............] - ETA: 0s - loss: 0.0237"
          ]
        },
        {
          "output_type": "stream",
          "name": "stderr",
          "text": [
            "WARNING:tensorflow:Learning rate reduction is conditioned on metric `val_loss` which is not available. Available metrics are: loss,lr\n",
            "WARNING:tensorflow:Early stopping conditioned on metric `val_loss` which is not available. Available metrics are: loss,lr\n"
          ]
        },
        {
          "output_type": "stream",
          "name": "stdout",
          "text": [
            "\b\b\b\b\b\b\b\b\b\b\b\b\b\b\b\b\b\b\b\b\b\b\b\b\b\b\b\b\b\b\b\b\b\b\b\b\b\b\b\b\b\b\b\b\b\b\b\b\b\b\b\b\b\b\b\b\b\b\b\b\b\b\b\r25/25 [==============================] - 0s 6ms/step - loss: 0.0158 - lr: 0.0010\n",
            "Epoch 255/500\n",
            "18/25 [====================>.........] - ETA: 0s - loss: 0.0202    "
          ]
        },
        {
          "output_type": "stream",
          "name": "stderr",
          "text": [
            "WARNING:tensorflow:Learning rate reduction is conditioned on metric `val_loss` which is not available. Available metrics are: loss,lr\n",
            "WARNING:tensorflow:Early stopping conditioned on metric `val_loss` which is not available. Available metrics are: loss,lr\n"
          ]
        },
        {
          "output_type": "stream",
          "name": "stdout",
          "text": [
            "\b\b\b\b\b\b\b\b\b\b\b\b\b\b\b\b\b\b\b\b\b\b\b\b\b\b\b\b\b\b\b\b\b\b\b\b\b\b\b\b\b\b\b\b\b\b\b\b\b\b\b\b\b\b\b\b\b\b\b\b\b\b\b\r25/25 [==============================] - 0s 5ms/step - loss: 0.0160 - lr: 0.0010\n",
            "Epoch 256/500\n",
            "14/25 [===============>..............] - ETA: 0s - loss: 0.0168"
          ]
        },
        {
          "output_type": "stream",
          "name": "stderr",
          "text": [
            "WARNING:tensorflow:Learning rate reduction is conditioned on metric `val_loss` which is not available. Available metrics are: loss,lr\n",
            "WARNING:tensorflow:Early stopping conditioned on metric `val_loss` which is not available. Available metrics are: loss,lr\n"
          ]
        },
        {
          "output_type": "stream",
          "name": "stdout",
          "text": [
            "\b\b\b\b\b\b\b\b\b\b\b\b\b\b\b\b\b\b\b\b\b\b\b\b\b\b\b\b\b\b\b\b\b\b\b\b\b\b\b\b\b\b\b\b\b\b\b\b\b\b\b\b\b\b\b\b\b\b\b\b\b\b\b\r25/25 [==============================] - 0s 5ms/step - loss: 0.0142 - lr: 0.0010\n",
            "Epoch 257/500\n",
            "17/25 [===================>..........] - ETA: 0s - loss: 0.0133"
          ]
        },
        {
          "output_type": "stream",
          "name": "stderr",
          "text": [
            "WARNING:tensorflow:Learning rate reduction is conditioned on metric `val_loss` which is not available. Available metrics are: loss,lr\n",
            "WARNING:tensorflow:Early stopping conditioned on metric `val_loss` which is not available. Available metrics are: loss,lr\n"
          ]
        },
        {
          "output_type": "stream",
          "name": "stdout",
          "text": [
            "\b\b\b\b\b\b\b\b\b\b\b\b\b\b\b\b\b\b\b\b\b\b\b\b\b\b\b\b\b\b\b\b\b\b\b\b\b\b\b\b\b\b\b\b\b\b\b\b\b\b\b\b\b\b\b\b\b\b\b\b\b\b\b\r25/25 [==============================] - 0s 5ms/step - loss: 0.0143 - lr: 0.0010\n",
            "Epoch 258/500\n",
            "15/25 [=================>............] - ETA: 0s - loss: 0.0288"
          ]
        },
        {
          "output_type": "stream",
          "name": "stderr",
          "text": [
            "WARNING:tensorflow:Learning rate reduction is conditioned on metric `val_loss` which is not available. Available metrics are: loss,lr\n",
            "WARNING:tensorflow:Early stopping conditioned on metric `val_loss` which is not available. Available metrics are: loss,lr\n"
          ]
        },
        {
          "output_type": "stream",
          "name": "stdout",
          "text": [
            "\b\b\b\b\b\b\b\b\b\b\b\b\b\b\b\b\b\b\b\b\b\b\b\b\b\b\b\b\b\b\b\b\b\b\b\b\b\b\b\b\b\b\b\b\b\b\b\b\b\b\b\b\b\b\b\b\b\b\b\b\b\b\b\r25/25 [==============================] - 0s 5ms/step - loss: 0.0229 - lr: 0.0010\n",
            "Epoch 259/500\n",
            "14/25 [===============>..............] - ETA: 0s - loss: 0.0202"
          ]
        },
        {
          "output_type": "stream",
          "name": "stderr",
          "text": [
            "WARNING:tensorflow:Learning rate reduction is conditioned on metric `val_loss` which is not available. Available metrics are: loss,lr\n",
            "WARNING:tensorflow:Early stopping conditioned on metric `val_loss` which is not available. Available metrics are: loss,lr\n"
          ]
        },
        {
          "output_type": "stream",
          "name": "stdout",
          "text": [
            "\b\b\b\b\b\b\b\b\b\b\b\b\b\b\b\b\b\b\b\b\b\b\b\b\b\b\b\b\b\b\b\b\b\b\b\b\b\b\b\b\b\b\b\b\b\b\b\b\b\b\b\b\b\b\b\b\b\b\b\b\b\b\b\r25/25 [==============================] - 0s 6ms/step - loss: 0.0164 - lr: 0.0010\n",
            "Epoch 260/500\n",
            "14/25 [===============>..............] - ETA: 0s - loss: 0.0135"
          ]
        },
        {
          "output_type": "stream",
          "name": "stderr",
          "text": [
            "WARNING:tensorflow:Learning rate reduction is conditioned on metric `val_loss` which is not available. Available metrics are: loss,lr\n",
            "WARNING:tensorflow:Early stopping conditioned on metric `val_loss` which is not available. Available metrics are: loss,lr\n"
          ]
        },
        {
          "output_type": "stream",
          "name": "stdout",
          "text": [
            "\b\b\b\b\b\b\b\b\b\b\b\b\b\b\b\b\b\b\b\b\b\b\b\b\b\b\b\b\b\b\b\b\b\b\b\b\b\b\b\b\b\b\b\b\b\b\b\b\b\b\b\b\b\b\b\b\b\b\b\b\b\b\b\r25/25 [==============================] - 0s 5ms/step - loss: 0.0156 - lr: 0.0010\n",
            "Epoch 261/500\n",
            "16/25 [==================>...........] - ETA: 0s - loss: 0.0152"
          ]
        },
        {
          "output_type": "stream",
          "name": "stderr",
          "text": [
            "WARNING:tensorflow:Learning rate reduction is conditioned on metric `val_loss` which is not available. Available metrics are: loss,lr\n",
            "WARNING:tensorflow:Early stopping conditioned on metric `val_loss` which is not available. Available metrics are: loss,lr\n"
          ]
        },
        {
          "output_type": "stream",
          "name": "stdout",
          "text": [
            "\b\b\b\b\b\b\b\b\b\b\b\b\b\b\b\b\b\b\b\b\b\b\b\b\b\b\b\b\b\b\b\b\b\b\b\b\b\b\b\b\b\b\b\b\b\b\b\b\b\b\b\b\b\b\b\b\b\b\b\b\b\b\b\r25/25 [==============================] - 0s 6ms/step - loss: 0.0181 - lr: 0.0010\n",
            "Epoch 262/500\n",
            "18/25 [====================>.........] - ETA: 0s - loss: 0.0114"
          ]
        },
        {
          "output_type": "stream",
          "name": "stderr",
          "text": [
            "WARNING:tensorflow:Learning rate reduction is conditioned on metric `val_loss` which is not available. Available metrics are: loss,lr\n",
            "WARNING:tensorflow:Early stopping conditioned on metric `val_loss` which is not available. Available metrics are: loss,lr\n"
          ]
        },
        {
          "output_type": "stream",
          "name": "stdout",
          "text": [
            "\b\b\b\b\b\b\b\b\b\b\b\b\b\b\b\b\b\b\b\b\b\b\b\b\b\b\b\b\b\b\b\b\b\b\b\b\b\b\b\b\b\b\b\b\b\b\b\b\b\b\b\b\b\b\b\b\b\b\b\b\b\b\b\r25/25 [==============================] - 0s 5ms/step - loss: 0.0170 - lr: 0.0010\n",
            "Epoch 263/500\n",
            "12/25 [=============>................] - ETA: 0s - loss: 0.0077    "
          ]
        },
        {
          "output_type": "stream",
          "name": "stderr",
          "text": [
            "WARNING:tensorflow:Learning rate reduction is conditioned on metric `val_loss` which is not available. Available metrics are: loss,lr\n",
            "WARNING:tensorflow:Early stopping conditioned on metric `val_loss` which is not available. Available metrics are: loss,lr\n"
          ]
        },
        {
          "output_type": "stream",
          "name": "stdout",
          "text": [
            "\b\b\b\b\b\b\b\b\b\b\b\b\b\b\b\b\b\b\b\b\b\b\b\b\b\b\b\b\b\b\b\b\b\b\b\b\b\b\b\b\b\b\b\b\b\b\b\b\b\b\b\b\b\b\b\b\b\b\b\b\b\b\b\r25/25 [==============================] - 0s 6ms/step - loss: 0.0153 - lr: 0.0010\n",
            "Epoch 264/500\n",
            "25/25 [==============================] - ETA: 0s - loss: 0.0216"
          ]
        },
        {
          "output_type": "stream",
          "name": "stderr",
          "text": [
            "WARNING:tensorflow:Learning rate reduction is conditioned on metric `val_loss` which is not available. Available metrics are: loss,lr\n",
            "WARNING:tensorflow:Early stopping conditioned on metric `val_loss` which is not available. Available metrics are: loss,lr\n"
          ]
        },
        {
          "output_type": "stream",
          "name": "stdout",
          "text": [
            "\b\b\b\b\b\b\b\b\b\b\b\b\b\b\b\b\b\b\b\b\b\b\b\b\b\b\b\b\b\b\b\b\b\b\b\b\b\b\b\b\b\b\b\b\b\b\b\b\b\b\b\b\b\b\b\b\b\b\b\b\b\b\b\r25/25 [==============================] - 0s 7ms/step - loss: 0.0216 - lr: 0.0010\n",
            "Epoch 265/500\n",
            "14/25 [===============>..............] - ETA: 0s - loss: 0.0172"
          ]
        },
        {
          "output_type": "stream",
          "name": "stderr",
          "text": [
            "WARNING:tensorflow:Learning rate reduction is conditioned on metric `val_loss` which is not available. Available metrics are: loss,lr\n",
            "WARNING:tensorflow:Early stopping conditioned on metric `val_loss` which is not available. Available metrics are: loss,lr\n"
          ]
        },
        {
          "output_type": "stream",
          "name": "stdout",
          "text": [
            "\b\b\b\b\b\b\b\b\b\b\b\b\b\b\b\b\b\b\b\b\b\b\b\b\b\b\b\b\b\b\b\b\b\b\b\b\b\b\b\b\b\b\b\b\b\b\b\b\b\b\b\b\b\b\b\b\b\b\b\b\b\b\b\r25/25 [==============================] - 0s 6ms/step - loss: 0.0161 - lr: 0.0010\n",
            "Epoch 266/500\n",
            "16/25 [==================>...........] - ETA: 0s - loss: 0.0148"
          ]
        },
        {
          "output_type": "stream",
          "name": "stderr",
          "text": [
            "WARNING:tensorflow:Learning rate reduction is conditioned on metric `val_loss` which is not available. Available metrics are: loss,lr\n",
            "WARNING:tensorflow:Early stopping conditioned on metric `val_loss` which is not available. Available metrics are: loss,lr\n"
          ]
        },
        {
          "output_type": "stream",
          "name": "stdout",
          "text": [
            "\b\b\b\b\b\b\b\b\b\b\b\b\b\b\b\b\b\b\b\b\b\b\b\b\b\b\b\b\b\b\b\b\b\b\b\b\b\b\b\b\b\b\b\b\b\b\b\b\b\b\b\b\b\b\b\b\b\b\b\b\b\b\b\r25/25 [==============================] - 0s 6ms/step - loss: 0.0156 - lr: 0.0010\n",
            "Epoch 267/500\n",
            "17/25 [===================>..........] - ETA: 0s - loss: 0.0146"
          ]
        },
        {
          "output_type": "stream",
          "name": "stderr",
          "text": [
            "WARNING:tensorflow:Learning rate reduction is conditioned on metric `val_loss` which is not available. Available metrics are: loss,lr\n",
            "WARNING:tensorflow:Early stopping conditioned on metric `val_loss` which is not available. Available metrics are: loss,lr\n"
          ]
        },
        {
          "output_type": "stream",
          "name": "stdout",
          "text": [
            "\b\b\b\b\b\b\b\b\b\b\b\b\b\b\b\b\b\b\b\b\b\b\b\b\b\b\b\b\b\b\b\b\b\b\b\b\b\b\b\b\b\b\b\b\b\b\b\b\b\b\b\b\b\b\b\b\b\b\b\b\b\b\b\r25/25 [==============================] - 0s 5ms/step - loss: 0.0136 - lr: 0.0010\n",
            "Epoch 268/500\n",
            "14/25 [===============>..............] - ETA: 0s - loss: 0.0150"
          ]
        },
        {
          "output_type": "stream",
          "name": "stderr",
          "text": [
            "WARNING:tensorflow:Learning rate reduction is conditioned on metric `val_loss` which is not available. Available metrics are: loss,lr\n",
            "WARNING:tensorflow:Early stopping conditioned on metric `val_loss` which is not available. Available metrics are: loss,lr\n"
          ]
        },
        {
          "output_type": "stream",
          "name": "stdout",
          "text": [
            "\b\b\b\b\b\b\b\b\b\b\b\b\b\b\b\b\b\b\b\b\b\b\b\b\b\b\b\b\b\b\b\b\b\b\b\b\b\b\b\b\b\b\b\b\b\b\b\b\b\b\b\b\b\b\b\b\b\b\b\b\b\b\b\r25/25 [==============================] - 0s 5ms/step - loss: 0.0186 - lr: 0.0010\n",
            "Epoch 269/500\n",
            "16/25 [==================>...........] - ETA: 0s - loss: 0.0173"
          ]
        },
        {
          "output_type": "stream",
          "name": "stderr",
          "text": [
            "WARNING:tensorflow:Learning rate reduction is conditioned on metric `val_loss` which is not available. Available metrics are: loss,lr\n",
            "WARNING:tensorflow:Early stopping conditioned on metric `val_loss` which is not available. Available metrics are: loss,lr\n"
          ]
        },
        {
          "output_type": "stream",
          "name": "stdout",
          "text": [
            "\b\b\b\b\b\b\b\b\b\b\b\b\b\b\b\b\b\b\b\b\b\b\b\b\b\b\b\b\b\b\b\b\b\b\b\b\b\b\b\b\b\b\b\b\b\b\b\b\b\b\b\b\b\b\b\b\b\b\b\b\b\b\b\r25/25 [==============================] - 0s 5ms/step - loss: 0.0254 - lr: 0.0010\n",
            "Epoch 270/500\n",
            "15/25 [=================>............] - ETA: 0s - loss: 0.0109"
          ]
        },
        {
          "output_type": "stream",
          "name": "stderr",
          "text": [
            "WARNING:tensorflow:Learning rate reduction is conditioned on metric `val_loss` which is not available. Available metrics are: loss,lr\n",
            "WARNING:tensorflow:Early stopping conditioned on metric `val_loss` which is not available. Available metrics are: loss,lr\n"
          ]
        },
        {
          "output_type": "stream",
          "name": "stdout",
          "text": [
            "\b\b\b\b\b\b\b\b\b\b\b\b\b\b\b\b\b\b\b\b\b\b\b\b\b\b\b\b\b\b\b\b\b\b\b\b\b\b\b\b\b\b\b\b\b\b\b\b\b\b\b\b\b\b\b\b\b\b\b\b\b\b\b\r25/25 [==============================] - 0s 5ms/step - loss: 0.0227 - lr: 0.0010\n",
            "Epoch 271/500\n",
            "16/25 [==================>...........] - ETA: 0s - loss: 0.0218"
          ]
        },
        {
          "output_type": "stream",
          "name": "stderr",
          "text": [
            "WARNING:tensorflow:Learning rate reduction is conditioned on metric `val_loss` which is not available. Available metrics are: loss,lr\n",
            "WARNING:tensorflow:Early stopping conditioned on metric `val_loss` which is not available. Available metrics are: loss,lr\n"
          ]
        },
        {
          "output_type": "stream",
          "name": "stdout",
          "text": [
            "\b\b\b\b\b\b\b\b\b\b\b\b\b\b\b\b\b\b\b\b\b\b\b\b\b\b\b\b\b\b\b\b\b\b\b\b\b\b\b\b\b\b\b\b\b\b\b\b\b\b\b\b\b\b\b\b\b\b\b\b\b\b\b\r25/25 [==============================] - 0s 5ms/step - loss: 0.0207 - lr: 0.0010\n",
            "Epoch 272/500\n",
            "16/25 [==================>...........] - ETA: 0s - loss: 0.0219"
          ]
        },
        {
          "output_type": "stream",
          "name": "stderr",
          "text": [
            "WARNING:tensorflow:Learning rate reduction is conditioned on metric `val_loss` which is not available. Available metrics are: loss,lr\n",
            "WARNING:tensorflow:Early stopping conditioned on metric `val_loss` which is not available. Available metrics are: loss,lr\n"
          ]
        },
        {
          "output_type": "stream",
          "name": "stdout",
          "text": [
            "\b\b\b\b\b\b\b\b\b\b\b\b\b\b\b\b\b\b\b\b\b\b\b\b\b\b\b\b\b\b\b\b\b\b\b\b\b\b\b\b\b\b\b\b\b\b\b\b\b\b\b\b\b\b\b\b\b\b\b\b\b\b\b\r25/25 [==============================] - 0s 5ms/step - loss: 0.0195 - lr: 0.0010\n",
            "Epoch 273/500\n",
            "20/25 [=======================>......] - ETA: 0s - loss: 0.0204"
          ]
        },
        {
          "output_type": "stream",
          "name": "stderr",
          "text": [
            "WARNING:tensorflow:Learning rate reduction is conditioned on metric `val_loss` which is not available. Available metrics are: loss,lr\n",
            "WARNING:tensorflow:Early stopping conditioned on metric `val_loss` which is not available. Available metrics are: loss,lr\n"
          ]
        },
        {
          "output_type": "stream",
          "name": "stdout",
          "text": [
            "\b\b\b\b\b\b\b\b\b\b\b\b\b\b\b\b\b\b\b\b\b\b\b\b\b\b\b\b\b\b\b\b\b\b\b\b\b\b\b\b\b\b\b\b\b\b\b\b\b\b\b\b\b\b\b\b\b\b\b\b\b\b\b\r25/25 [==============================] - 0s 5ms/step - loss: 0.0177 - lr: 0.0010\n",
            "Epoch 274/500\n",
            "17/25 [===================>..........] - ETA: 0s - loss: 0.0170    "
          ]
        },
        {
          "output_type": "stream",
          "name": "stderr",
          "text": [
            "WARNING:tensorflow:Learning rate reduction is conditioned on metric `val_loss` which is not available. Available metrics are: loss,lr\n",
            "WARNING:tensorflow:Early stopping conditioned on metric `val_loss` which is not available. Available metrics are: loss,lr\n"
          ]
        },
        {
          "output_type": "stream",
          "name": "stdout",
          "text": [
            "\b\b\b\b\b\b\b\b\b\b\b\b\b\b\b\b\b\b\b\b\b\b\b\b\b\b\b\b\b\b\b\b\b\b\b\b\b\b\b\b\b\b\b\b\b\b\b\b\b\b\b\b\b\b\b\b\b\b\b\b\b\b\b\r25/25 [==============================] - 0s 5ms/step - loss: 0.0152 - lr: 0.0010\n",
            "Epoch 275/500\n",
            "14/25 [===============>..............] - ETA: 0s - loss: 0.0202"
          ]
        },
        {
          "output_type": "stream",
          "name": "stderr",
          "text": [
            "WARNING:tensorflow:Learning rate reduction is conditioned on metric `val_loss` which is not available. Available metrics are: loss,lr\n",
            "WARNING:tensorflow:Early stopping conditioned on metric `val_loss` which is not available. Available metrics are: loss,lr\n"
          ]
        },
        {
          "output_type": "stream",
          "name": "stdout",
          "text": [
            "\b\b\b\b\b\b\b\b\b\b\b\b\b\b\b\b\b\b\b\b\b\b\b\b\b\b\b\b\b\b\b\b\b\b\b\b\b\b\b\b\b\b\b\b\b\b\b\b\b\b\b\b\b\b\b\b\b\b\b\b\b\b\b\r25/25 [==============================] - 0s 6ms/step - loss: 0.0178 - lr: 0.0010\n",
            "Epoch 276/500\n",
            "18/25 [====================>.........] - ETA: 0s - loss: 0.0268"
          ]
        },
        {
          "output_type": "stream",
          "name": "stderr",
          "text": [
            "WARNING:tensorflow:Learning rate reduction is conditioned on metric `val_loss` which is not available. Available metrics are: loss,lr\n",
            "WARNING:tensorflow:Early stopping conditioned on metric `val_loss` which is not available. Available metrics are: loss,lr\n"
          ]
        },
        {
          "output_type": "stream",
          "name": "stdout",
          "text": [
            "\b\b\b\b\b\b\b\b\b\b\b\b\b\b\b\b\b\b\b\b\b\b\b\b\b\b\b\b\b\b\b\b\b\b\b\b\b\b\b\b\b\b\b\b\b\b\b\b\b\b\b\b\b\b\b\b\b\b\b\b\b\b\b\r25/25 [==============================] - 0s 5ms/step - loss: 0.0256 - lr: 0.0010\n",
            "Epoch 277/500\n",
            "18/25 [====================>.........] - ETA: 0s - loss: 0.0176"
          ]
        },
        {
          "output_type": "stream",
          "name": "stderr",
          "text": [
            "WARNING:tensorflow:Learning rate reduction is conditioned on metric `val_loss` which is not available. Available metrics are: loss,lr\n",
            "WARNING:tensorflow:Early stopping conditioned on metric `val_loss` which is not available. Available metrics are: loss,lr\n"
          ]
        },
        {
          "output_type": "stream",
          "name": "stdout",
          "text": [
            "\b\b\b\b\b\b\b\b\b\b\b\b\b\b\b\b\b\b\b\b\b\b\b\b\b\b\b\b\b\b\b\b\b\b\b\b\b\b\b\b\b\b\b\b\b\b\b\b\b\b\b\b\b\b\b\b\b\b\b\b\b\b\b\r25/25 [==============================] - 0s 5ms/step - loss: 0.0181 - lr: 0.0010\n",
            "Epoch 278/500\n",
            "16/25 [==================>...........] - ETA: 0s - loss: 0.0149"
          ]
        },
        {
          "output_type": "stream",
          "name": "stderr",
          "text": [
            "WARNING:tensorflow:Learning rate reduction is conditioned on metric `val_loss` which is not available. Available metrics are: loss,lr\n",
            "WARNING:tensorflow:Early stopping conditioned on metric `val_loss` which is not available. Available metrics are: loss,lr\n"
          ]
        },
        {
          "output_type": "stream",
          "name": "stdout",
          "text": [
            "\b\b\b\b\b\b\b\b\b\b\b\b\b\b\b\b\b\b\b\b\b\b\b\b\b\b\b\b\b\b\b\b\b\b\b\b\b\b\b\b\b\b\b\b\b\b\b\b\b\b\b\b\b\b\b\b\b\b\b\b\b\b\b\r25/25 [==============================] - 0s 5ms/step - loss: 0.0179 - lr: 0.0010\n",
            "Epoch 279/500\n",
            "16/25 [==================>...........] - ETA: 0s - loss: 0.0194"
          ]
        },
        {
          "output_type": "stream",
          "name": "stderr",
          "text": [
            "WARNING:tensorflow:Learning rate reduction is conditioned on metric `val_loss` which is not available. Available metrics are: loss,lr\n",
            "WARNING:tensorflow:Early stopping conditioned on metric `val_loss` which is not available. Available metrics are: loss,lr\n"
          ]
        },
        {
          "output_type": "stream",
          "name": "stdout",
          "text": [
            "\b\b\b\b\b\b\b\b\b\b\b\b\b\b\b\b\b\b\b\b\b\b\b\b\b\b\b\b\b\b\b\b\b\b\b\b\b\b\b\b\b\b\b\b\b\b\b\b\b\b\b\b\b\b\b\b\b\b\b\b\b\b\b\r25/25 [==============================] - 0s 5ms/step - loss: 0.0166 - lr: 0.0010\n",
            "Epoch 280/500\n",
            "18/25 [====================>.........] - ETA: 0s - loss: 0.0152"
          ]
        },
        {
          "output_type": "stream",
          "name": "stderr",
          "text": [
            "WARNING:tensorflow:Learning rate reduction is conditioned on metric `val_loss` which is not available. Available metrics are: loss,lr\n",
            "WARNING:tensorflow:Early stopping conditioned on metric `val_loss` which is not available. Available metrics are: loss,lr\n"
          ]
        },
        {
          "output_type": "stream",
          "name": "stdout",
          "text": [
            "\b\b\b\b\b\b\b\b\b\b\b\b\b\b\b\b\b\b\b\b\b\b\b\b\b\b\b\b\b\b\b\b\b\b\b\b\b\b\b\b\b\b\b\b\b\b\b\b\b\b\b\b\b\b\b\b\b\b\b\b\b\b\b\r25/25 [==============================] - 0s 5ms/step - loss: 0.0168 - lr: 0.0010\n",
            "Epoch 281/500\n",
            "15/25 [=================>............] - ETA: 0s - loss: 0.0332"
          ]
        },
        {
          "output_type": "stream",
          "name": "stderr",
          "text": [
            "WARNING:tensorflow:Learning rate reduction is conditioned on metric `val_loss` which is not available. Available metrics are: loss,lr\n",
            "WARNING:tensorflow:Early stopping conditioned on metric `val_loss` which is not available. Available metrics are: loss,lr\n"
          ]
        },
        {
          "output_type": "stream",
          "name": "stdout",
          "text": [
            "\b\b\b\b\b\b\b\b\b\b\b\b\b\b\b\b\b\b\b\b\b\b\b\b\b\b\b\b\b\b\b\b\b\b\b\b\b\b\b\b\b\b\b\b\b\b\b\b\b\b\b\b\b\b\b\b\b\b\b\b\b\b\b\r25/25 [==============================] - 0s 5ms/step - loss: 0.0238 - lr: 0.0010\n",
            "Epoch 282/500\n",
            "17/25 [===================>..........] - ETA: 0s - loss: 0.0158"
          ]
        },
        {
          "output_type": "stream",
          "name": "stderr",
          "text": [
            "WARNING:tensorflow:Learning rate reduction is conditioned on metric `val_loss` which is not available. Available metrics are: loss,lr\n",
            "WARNING:tensorflow:Early stopping conditioned on metric `val_loss` which is not available. Available metrics are: loss,lr\n"
          ]
        },
        {
          "output_type": "stream",
          "name": "stdout",
          "text": [
            "\b\b\b\b\b\b\b\b\b\b\b\b\b\b\b\b\b\b\b\b\b\b\b\b\b\b\b\b\b\b\b\b\b\b\b\b\b\b\b\b\b\b\b\b\b\b\b\b\b\b\b\b\b\b\b\b\b\b\b\b\b\b\b\r25/25 [==============================] - 0s 5ms/step - loss: 0.0176 - lr: 0.0010\n",
            "Epoch 283/500\n",
            "18/25 [====================>.........] - ETA: 0s - loss: 0.0183"
          ]
        },
        {
          "output_type": "stream",
          "name": "stderr",
          "text": [
            "WARNING:tensorflow:Learning rate reduction is conditioned on metric `val_loss` which is not available. Available metrics are: loss,lr\n",
            "WARNING:tensorflow:Early stopping conditioned on metric `val_loss` which is not available. Available metrics are: loss,lr\n"
          ]
        },
        {
          "output_type": "stream",
          "name": "stdout",
          "text": [
            "\b\b\b\b\b\b\b\b\b\b\b\b\b\b\b\b\b\b\b\b\b\b\b\b\b\b\b\b\b\b\b\b\b\b\b\b\b\b\b\b\b\b\b\b\b\b\b\b\b\b\b\b\b\b\b\b\b\b\b\b\b\b\b\r25/25 [==============================] - 0s 5ms/step - loss: 0.0197 - lr: 0.0010\n",
            "Epoch 284/500\n",
            "15/25 [=================>............] - ETA: 0s - loss: 0.0137"
          ]
        },
        {
          "output_type": "stream",
          "name": "stderr",
          "text": [
            "WARNING:tensorflow:Learning rate reduction is conditioned on metric `val_loss` which is not available. Available metrics are: loss,lr\n",
            "WARNING:tensorflow:Early stopping conditioned on metric `val_loss` which is not available. Available metrics are: loss,lr\n"
          ]
        },
        {
          "output_type": "stream",
          "name": "stdout",
          "text": [
            "\b\b\b\b\b\b\b\b\b\b\b\b\b\b\b\b\b\b\b\b\b\b\b\b\b\b\b\b\b\b\b\b\b\b\b\b\b\b\b\b\b\b\b\b\b\b\b\b\b\b\b\b\b\b\b\b\b\b\b\b\b\b\b\r25/25 [==============================] - 0s 5ms/step - loss: 0.0185 - lr: 0.0010\n",
            "Epoch 285/500\n",
            "15/25 [=================>............] - ETA: 0s - loss: 0.0253"
          ]
        },
        {
          "output_type": "stream",
          "name": "stderr",
          "text": [
            "WARNING:tensorflow:Learning rate reduction is conditioned on metric `val_loss` which is not available. Available metrics are: loss,lr\n",
            "WARNING:tensorflow:Early stopping conditioned on metric `val_loss` which is not available. Available metrics are: loss,lr\n"
          ]
        },
        {
          "output_type": "stream",
          "name": "stdout",
          "text": [
            "\b\b\b\b\b\b\b\b\b\b\b\b\b\b\b\b\b\b\b\b\b\b\b\b\b\b\b\b\b\b\b\b\b\b\b\b\b\b\b\b\b\b\b\b\b\b\b\b\b\b\b\b\b\b\b\b\b\b\b\b\b\b\b\r25/25 [==============================] - 0s 6ms/step - loss: 0.0239 - lr: 0.0010\n",
            "Epoch 286/500\n",
            "16/25 [==================>...........] - ETA: 0s - loss: 0.0273"
          ]
        },
        {
          "output_type": "stream",
          "name": "stderr",
          "text": [
            "WARNING:tensorflow:Learning rate reduction is conditioned on metric `val_loss` which is not available. Available metrics are: loss,lr\n",
            "WARNING:tensorflow:Early stopping conditioned on metric `val_loss` which is not available. Available metrics are: loss,lr\n"
          ]
        },
        {
          "output_type": "stream",
          "name": "stdout",
          "text": [
            "\b\b\b\b\b\b\b\b\b\b\b\b\b\b\b\b\b\b\b\b\b\b\b\b\b\b\b\b\b\b\b\b\b\b\b\b\b\b\b\b\b\b\b\b\b\b\b\b\b\b\b\b\b\b\b\b\b\b\b\b\b\b\b\r25/25 [==============================] - 0s 6ms/step - loss: 0.0261 - lr: 0.0010\n",
            "Epoch 287/500\n",
            "16/25 [==================>...........] - ETA: 0s - loss: 0.0121"
          ]
        },
        {
          "output_type": "stream",
          "name": "stderr",
          "text": [
            "WARNING:tensorflow:Learning rate reduction is conditioned on metric `val_loss` which is not available. Available metrics are: loss,lr\n",
            "WARNING:tensorflow:Early stopping conditioned on metric `val_loss` which is not available. Available metrics are: loss,lr\n"
          ]
        },
        {
          "output_type": "stream",
          "name": "stdout",
          "text": [
            "\b\b\b\b\b\b\b\b\b\b\b\b\b\b\b\b\b\b\b\b\b\b\b\b\b\b\b\b\b\b\b\b\b\b\b\b\b\b\b\b\b\b\b\b\b\b\b\b\b\b\b\b\b\b\b\b\b\b\b\b\b\b\b\r25/25 [==============================] - 0s 6ms/step - loss: 0.0150 - lr: 0.0010\n",
            "Epoch 288/500\n",
            "17/25 [===================>..........] - ETA: 0s - loss: 0.0206"
          ]
        },
        {
          "output_type": "stream",
          "name": "stderr",
          "text": [
            "WARNING:tensorflow:Learning rate reduction is conditioned on metric `val_loss` which is not available. Available metrics are: loss,lr\n",
            "WARNING:tensorflow:Early stopping conditioned on metric `val_loss` which is not available. Available metrics are: loss,lr\n"
          ]
        },
        {
          "output_type": "stream",
          "name": "stdout",
          "text": [
            "\b\b\b\b\b\b\b\b\b\b\b\b\b\b\b\b\b\b\b\b\b\b\b\b\b\b\b\b\b\b\b\b\b\b\b\b\b\b\b\b\b\b\b\b\b\b\b\b\b\b\b\b\b\b\b\b\b\b\b\b\b\b\b\r25/25 [==============================] - 0s 5ms/step - loss: 0.0199 - lr: 0.0010\n",
            "Epoch 289/500\n",
            "16/25 [==================>...........] - ETA: 0s - loss: 0.0198"
          ]
        },
        {
          "output_type": "stream",
          "name": "stderr",
          "text": [
            "WARNING:tensorflow:Learning rate reduction is conditioned on metric `val_loss` which is not available. Available metrics are: loss,lr\n",
            "WARNING:tensorflow:Early stopping conditioned on metric `val_loss` which is not available. Available metrics are: loss,lr\n"
          ]
        },
        {
          "output_type": "stream",
          "name": "stdout",
          "text": [
            "\b\b\b\b\b\b\b\b\b\b\b\b\b\b\b\b\b\b\b\b\b\b\b\b\b\b\b\b\b\b\b\b\b\b\b\b\b\b\b\b\b\b\b\b\b\b\b\b\b\b\b\b\b\b\b\b\b\b\b\b\b\b\b\r25/25 [==============================] - 0s 6ms/step - loss: 0.0178 - lr: 0.0010\n",
            "Epoch 290/500\n",
            "18/25 [====================>.........] - ETA: 0s - loss: 0.0170"
          ]
        },
        {
          "output_type": "stream",
          "name": "stderr",
          "text": [
            "WARNING:tensorflow:Learning rate reduction is conditioned on metric `val_loss` which is not available. Available metrics are: loss,lr\n",
            "WARNING:tensorflow:Early stopping conditioned on metric `val_loss` which is not available. Available metrics are: loss,lr\n"
          ]
        },
        {
          "output_type": "stream",
          "name": "stdout",
          "text": [
            "\b\b\b\b\b\b\b\b\b\b\b\b\b\b\b\b\b\b\b\b\b\b\b\b\b\b\b\b\b\b\b\b\b\b\b\b\b\b\b\b\b\b\b\b\b\b\b\b\b\b\b\b\b\b\b\b\b\b\b\b\b\b\b\r25/25 [==============================] - 0s 5ms/step - loss: 0.0166 - lr: 0.0010\n",
            "Epoch 291/500\n",
            "14/25 [===============>..............] - ETA: 0s - loss: 0.0200"
          ]
        },
        {
          "output_type": "stream",
          "name": "stderr",
          "text": [
            "WARNING:tensorflow:Learning rate reduction is conditioned on metric `val_loss` which is not available. Available metrics are: loss,lr\n",
            "WARNING:tensorflow:Early stopping conditioned on metric `val_loss` which is not available. Available metrics are: loss,lr\n"
          ]
        },
        {
          "output_type": "stream",
          "name": "stdout",
          "text": [
            "\b\b\b\b\b\b\b\b\b\b\b\b\b\b\b\b\b\b\b\b\b\b\b\b\b\b\b\b\b\b\b\b\b\b\b\b\b\b\b\b\b\b\b\b\b\b\b\b\b\b\b\b\b\b\b\b\b\b\b\b\b\b\b\r25/25 [==============================] - 0s 6ms/step - loss: 0.0188 - lr: 0.0010\n",
            "Epoch 292/500\n",
            "14/25 [===============>..............] - ETA: 0s - loss: 0.0203"
          ]
        },
        {
          "output_type": "stream",
          "name": "stderr",
          "text": [
            "WARNING:tensorflow:Learning rate reduction is conditioned on metric `val_loss` which is not available. Available metrics are: loss,lr\n",
            "WARNING:tensorflow:Early stopping conditioned on metric `val_loss` which is not available. Available metrics are: loss,lr\n"
          ]
        },
        {
          "output_type": "stream",
          "name": "stdout",
          "text": [
            "\b\b\b\b\b\b\b\b\b\b\b\b\b\b\b\b\b\b\b\b\b\b\b\b\b\b\b\b\b\b\b\b\b\b\b\b\b\b\b\b\b\b\b\b\b\b\b\b\b\b\b\b\b\b\b\b\b\b\b\b\b\b\b\r25/25 [==============================] - 0s 5ms/step - loss: 0.0167 - lr: 0.0010\n",
            "Epoch 293/500\n",
            "17/25 [===================>..........] - ETA: 0s - loss: 0.0147"
          ]
        },
        {
          "output_type": "stream",
          "name": "stderr",
          "text": [
            "WARNING:tensorflow:Learning rate reduction is conditioned on metric `val_loss` which is not available. Available metrics are: loss,lr\n",
            "WARNING:tensorflow:Early stopping conditioned on metric `val_loss` which is not available. Available metrics are: loss,lr\n"
          ]
        },
        {
          "output_type": "stream",
          "name": "stdout",
          "text": [
            "\b\b\b\b\b\b\b\b\b\b\b\b\b\b\b\b\b\b\b\b\b\b\b\b\b\b\b\b\b\b\b\b\b\b\b\b\b\b\b\b\b\b\b\b\b\b\b\b\b\b\b\b\b\b\b\b\b\b\b\b\b\b\b\r25/25 [==============================] - 0s 5ms/step - loss: 0.0152 - lr: 0.0010\n",
            "Epoch 294/500\n",
            "18/25 [====================>.........] - ETA: 0s - loss: 0.0173"
          ]
        },
        {
          "output_type": "stream",
          "name": "stderr",
          "text": [
            "WARNING:tensorflow:Learning rate reduction is conditioned on metric `val_loss` which is not available. Available metrics are: loss,lr\n",
            "WARNING:tensorflow:Early stopping conditioned on metric `val_loss` which is not available. Available metrics are: loss,lr\n"
          ]
        },
        {
          "output_type": "stream",
          "name": "stdout",
          "text": [
            "\b\b\b\b\b\b\b\b\b\b\b\b\b\b\b\b\b\b\b\b\b\b\b\b\b\b\b\b\b\b\b\b\b\b\b\b\b\b\b\b\b\b\b\b\b\b\b\b\b\b\b\b\b\b\b\b\b\b\b\b\b\b\b\r25/25 [==============================] - 0s 5ms/step - loss: 0.0145 - lr: 0.0010\n",
            "Epoch 295/500\n",
            "16/25 [==================>...........] - ETA: 0s - loss: 0.0171"
          ]
        },
        {
          "output_type": "stream",
          "name": "stderr",
          "text": [
            "WARNING:tensorflow:Learning rate reduction is conditioned on metric `val_loss` which is not available. Available metrics are: loss,lr\n",
            "WARNING:tensorflow:Early stopping conditioned on metric `val_loss` which is not available. Available metrics are: loss,lr\n"
          ]
        },
        {
          "output_type": "stream",
          "name": "stdout",
          "text": [
            "\b\b\b\b\b\b\b\b\b\b\b\b\b\b\b\b\b\b\b\b\b\b\b\b\b\b\b\b\b\b\b\b\b\b\b\b\b\b\b\b\b\b\b\b\b\b\b\b\b\b\b\b\b\b\b\b\b\b\b\b\b\b\b\r25/25 [==============================] - 0s 6ms/step - loss: 0.0190 - lr: 0.0010\n",
            "Epoch 296/500\n",
            "15/25 [=================>............] - ETA: 0s - loss: 0.0127"
          ]
        },
        {
          "output_type": "stream",
          "name": "stderr",
          "text": [
            "WARNING:tensorflow:Learning rate reduction is conditioned on metric `val_loss` which is not available. Available metrics are: loss,lr\n",
            "WARNING:tensorflow:Early stopping conditioned on metric `val_loss` which is not available. Available metrics are: loss,lr\n"
          ]
        },
        {
          "output_type": "stream",
          "name": "stdout",
          "text": [
            "\b\b\b\b\b\b\b\b\b\b\b\b\b\b\b\b\b\b\b\b\b\b\b\b\b\b\b\b\b\b\b\b\b\b\b\b\b\b\b\b\b\b\b\b\b\b\b\b\b\b\b\b\b\b\b\b\b\b\b\b\b\b\b\r25/25 [==============================] - 0s 6ms/step - loss: 0.0208 - lr: 0.0010\n",
            "Epoch 297/500\n",
            "12/25 [=============>................] - ETA: 0s - loss: 0.0148"
          ]
        },
        {
          "output_type": "stream",
          "name": "stderr",
          "text": [
            "WARNING:tensorflow:Learning rate reduction is conditioned on metric `val_loss` which is not available. Available metrics are: loss,lr\n",
            "WARNING:tensorflow:Early stopping conditioned on metric `val_loss` which is not available. Available metrics are: loss,lr\n"
          ]
        },
        {
          "output_type": "stream",
          "name": "stdout",
          "text": [
            "\b\b\b\b\b\b\b\b\b\b\b\b\b\b\b\b\b\b\b\b\b\b\b\b\b\b\b\b\b\b\b\b\b\b\b\b\b\b\b\b\b\b\b\b\b\b\b\b\b\b\b\b\b\b\b\b\b\b\b\b\b\b\b\r25/25 [==============================] - 0s 6ms/step - loss: 0.0187 - lr: 0.0010\n",
            "Epoch 298/500\n",
            "14/25 [===============>..............] - ETA: 0s - loss: 0.0267"
          ]
        },
        {
          "output_type": "stream",
          "name": "stderr",
          "text": [
            "WARNING:tensorflow:Learning rate reduction is conditioned on metric `val_loss` which is not available. Available metrics are: loss,lr\n",
            "WARNING:tensorflow:Early stopping conditioned on metric `val_loss` which is not available. Available metrics are: loss,lr\n"
          ]
        },
        {
          "output_type": "stream",
          "name": "stdout",
          "text": [
            "\b\b\b\b\b\b\b\b\b\b\b\b\b\b\b\b\b\b\b\b\b\b\b\b\b\b\b\b\b\b\b\b\b\b\b\b\b\b\b\b\b\b\b\b\b\b\b\b\b\b\b\b\b\b\b\b\b\b\b\b\b\b\b\r25/25 [==============================] - 0s 5ms/step - loss: 0.0214 - lr: 0.0010\n",
            "Epoch 299/500\n",
            "16/25 [==================>...........] - ETA: 0s - loss: 0.0134"
          ]
        },
        {
          "output_type": "stream",
          "name": "stderr",
          "text": [
            "WARNING:tensorflow:Learning rate reduction is conditioned on metric `val_loss` which is not available. Available metrics are: loss,lr\n",
            "WARNING:tensorflow:Early stopping conditioned on metric `val_loss` which is not available. Available metrics are: loss,lr\n"
          ]
        },
        {
          "output_type": "stream",
          "name": "stdout",
          "text": [
            "\b\b\b\b\b\b\b\b\b\b\b\b\b\b\b\b\b\b\b\b\b\b\b\b\b\b\b\b\b\b\b\b\b\b\b\b\b\b\b\b\b\b\b\b\b\b\b\b\b\b\b\b\b\b\b\b\b\b\b\b\b\b\b\r25/25 [==============================] - 0s 6ms/step - loss: 0.0170 - lr: 0.0010\n",
            "Epoch 300/500\n",
            "15/25 [=================>............] - ETA: 0s - loss: 0.0208"
          ]
        },
        {
          "output_type": "stream",
          "name": "stderr",
          "text": [
            "WARNING:tensorflow:Learning rate reduction is conditioned on metric `val_loss` which is not available. Available metrics are: loss,lr\n",
            "WARNING:tensorflow:Early stopping conditioned on metric `val_loss` which is not available. Available metrics are: loss,lr\n"
          ]
        },
        {
          "output_type": "stream",
          "name": "stdout",
          "text": [
            "\b\b\b\b\b\b\b\b\b\b\b\b\b\b\b\b\b\b\b\b\b\b\b\b\b\b\b\b\b\b\b\b\b\b\b\b\b\b\b\b\b\b\b\b\b\b\b\b\b\b\b\b\b\b\b\b\b\b\b\b\b\b\b\r25/25 [==============================] - 0s 5ms/step - loss: 0.0201 - lr: 0.0010\n",
            "Epoch 301/500\n",
            "14/25 [===============>..............] - ETA: 0s - loss: 0.0114"
          ]
        },
        {
          "output_type": "stream",
          "name": "stderr",
          "text": [
            "WARNING:tensorflow:Learning rate reduction is conditioned on metric `val_loss` which is not available. Available metrics are: loss,lr\n",
            "WARNING:tensorflow:Early stopping conditioned on metric `val_loss` which is not available. Available metrics are: loss,lr\n"
          ]
        },
        {
          "output_type": "stream",
          "name": "stdout",
          "text": [
            "\b\b\b\b\b\b\b\b\b\b\b\b\b\b\b\b\b\b\b\b\b\b\b\b\b\b\b\b\b\b\b\b\b\b\b\b\b\b\b\b\b\b\b\b\b\b\b\b\b\b\b\b\b\b\b\b\b\b\b\b\b\b\b\r25/25 [==============================] - 0s 6ms/step - loss: 0.0122 - lr: 0.0010\n",
            "Epoch 302/500\n",
            "12/25 [=============>................] - ETA: 0s - loss: 0.0084"
          ]
        },
        {
          "output_type": "stream",
          "name": "stderr",
          "text": [
            "WARNING:tensorflow:Learning rate reduction is conditioned on metric `val_loss` which is not available. Available metrics are: loss,lr\n",
            "WARNING:tensorflow:Early stopping conditioned on metric `val_loss` which is not available. Available metrics are: loss,lr\n"
          ]
        },
        {
          "output_type": "stream",
          "name": "stdout",
          "text": [
            "\b\b\b\b\b\b\b\b\b\b\b\b\b\b\b\b\b\b\b\b\b\b\b\b\b\b\b\b\b\b\b\b\b\b\b\b\b\b\b\b\b\b\b\b\b\b\b\b\b\b\b\b\b\b\b\b\b\b\b\b\b\b\b\r25/25 [==============================] - 0s 6ms/step - loss: 0.0140 - lr: 0.0010\n",
            "Epoch 303/500\n",
            "25/25 [==============================] - ETA: 0s - loss: 0.0148"
          ]
        },
        {
          "output_type": "stream",
          "name": "stderr",
          "text": [
            "WARNING:tensorflow:Learning rate reduction is conditioned on metric `val_loss` which is not available. Available metrics are: loss,lr\n",
            "WARNING:tensorflow:Early stopping conditioned on metric `val_loss` which is not available. Available metrics are: loss,lr\n"
          ]
        },
        {
          "output_type": "stream",
          "name": "stdout",
          "text": [
            "\b\b\b\b\b\b\b\b\b\b\b\b\b\b\b\b\b\b\b\b\b\b\b\b\b\b\b\b\b\b\b\b\b\b\b\b\b\b\b\b\b\b\b\b\b\b\b\b\b\b\b\b\b\b\b\b\b\b\b\b\b\b\b\r25/25 [==============================] - 0s 7ms/step - loss: 0.0148 - lr: 0.0010\n",
            "Epoch 304/500\n",
            "15/25 [=================>............] - ETA: 0s - loss: 0.0048"
          ]
        },
        {
          "output_type": "stream",
          "name": "stderr",
          "text": [
            "WARNING:tensorflow:Learning rate reduction is conditioned on metric `val_loss` which is not available. Available metrics are: loss,lr\n",
            "WARNING:tensorflow:Early stopping conditioned on metric `val_loss` which is not available. Available metrics are: loss,lr\n"
          ]
        },
        {
          "output_type": "stream",
          "name": "stdout",
          "text": [
            "\b\b\b\b\b\b\b\b\b\b\b\b\b\b\b\b\b\b\b\b\b\b\b\b\b\b\b\b\b\b\b\b\b\b\b\b\b\b\b\b\b\b\b\b\b\b\b\b\b\b\b\b\b\b\b\b\b\b\b\b\b\b\b\r25/25 [==============================] - 0s 5ms/step - loss: 0.0162 - lr: 0.0010\n",
            "Epoch 305/500\n",
            "14/25 [===============>..............] - ETA: 0s - loss: 0.0157"
          ]
        },
        {
          "output_type": "stream",
          "name": "stderr",
          "text": [
            "WARNING:tensorflow:Learning rate reduction is conditioned on metric `val_loss` which is not available. Available metrics are: loss,lr\n",
            "WARNING:tensorflow:Early stopping conditioned on metric `val_loss` which is not available. Available metrics are: loss,lr\n"
          ]
        },
        {
          "output_type": "stream",
          "name": "stdout",
          "text": [
            "\b\b\b\b\b\b\b\b\b\b\b\b\b\b\b\b\b\b\b\b\b\b\b\b\b\b\b\b\b\b\b\b\b\b\b\b\b\b\b\b\b\b\b\b\b\b\b\b\b\b\b\b\b\b\b\b\b\b\b\b\b\b\b\r25/25 [==============================] - 0s 6ms/step - loss: 0.0162 - lr: 0.0010\n",
            "Epoch 306/500\n",
            "16/25 [==================>...........] - ETA: 0s - loss: 0.0144"
          ]
        },
        {
          "output_type": "stream",
          "name": "stderr",
          "text": [
            "WARNING:tensorflow:Learning rate reduction is conditioned on metric `val_loss` which is not available. Available metrics are: loss,lr\n",
            "WARNING:tensorflow:Early stopping conditioned on metric `val_loss` which is not available. Available metrics are: loss,lr\n"
          ]
        },
        {
          "output_type": "stream",
          "name": "stdout",
          "text": [
            "\b\b\b\b\b\b\b\b\b\b\b\b\b\b\b\b\b\b\b\b\b\b\b\b\b\b\b\b\b\b\b\b\b\b\b\b\b\b\b\b\b\b\b\b\b\b\b\b\b\b\b\b\b\b\b\b\b\b\b\b\b\b\b\r25/25 [==============================] - 0s 5ms/step - loss: 0.0164 - lr: 0.0010\n",
            "Epoch 307/500\n",
            "13/25 [==============>...............] - ETA: 0s - loss: 0.0118"
          ]
        },
        {
          "output_type": "stream",
          "name": "stderr",
          "text": [
            "WARNING:tensorflow:Learning rate reduction is conditioned on metric `val_loss` which is not available. Available metrics are: loss,lr\n",
            "WARNING:tensorflow:Early stopping conditioned on metric `val_loss` which is not available. Available metrics are: loss,lr\n"
          ]
        },
        {
          "output_type": "stream",
          "name": "stdout",
          "text": [
            "\b\b\b\b\b\b\b\b\b\b\b\b\b\b\b\b\b\b\b\b\b\b\b\b\b\b\b\b\b\b\b\b\b\b\b\b\b\b\b\b\b\b\b\b\b\b\b\b\b\b\b\b\b\b\b\b\b\b\b\b\b\b\b\r25/25 [==============================] - 0s 6ms/step - loss: 0.0137 - lr: 0.0010\n",
            "Epoch 308/500\n",
            "13/25 [==============>...............] - ETA: 0s - loss: 0.0172"
          ]
        },
        {
          "output_type": "stream",
          "name": "stderr",
          "text": [
            "WARNING:tensorflow:Learning rate reduction is conditioned on metric `val_loss` which is not available. Available metrics are: loss,lr\n",
            "WARNING:tensorflow:Early stopping conditioned on metric `val_loss` which is not available. Available metrics are: loss,lr\n"
          ]
        },
        {
          "output_type": "stream",
          "name": "stdout",
          "text": [
            "\b\b\b\b\b\b\b\b\b\b\b\b\b\b\b\b\b\b\b\b\b\b\b\b\b\b\b\b\b\b\b\b\b\b\b\b\b\b\b\b\b\b\b\b\b\b\b\b\b\b\b\b\b\b\b\b\b\b\b\b\b\b\b\r25/25 [==============================] - 0s 6ms/step - loss: 0.0141 - lr: 0.0010\n",
            "Epoch 309/500\n",
            "16/25 [==================>...........] - ETA: 0s - loss: 0.0139"
          ]
        },
        {
          "output_type": "stream",
          "name": "stderr",
          "text": [
            "WARNING:tensorflow:Learning rate reduction is conditioned on metric `val_loss` which is not available. Available metrics are: loss,lr\n",
            "WARNING:tensorflow:Early stopping conditioned on metric `val_loss` which is not available. Available metrics are: loss,lr\n"
          ]
        },
        {
          "output_type": "stream",
          "name": "stdout",
          "text": [
            "\b\b\b\b\b\b\b\b\b\b\b\b\b\b\b\b\b\b\b\b\b\b\b\b\b\b\b\b\b\b\b\b\b\b\b\b\b\b\b\b\b\b\b\b\b\b\b\b\b\b\b\b\b\b\b\b\b\b\b\b\b\b\b\r25/25 [==============================] - 0s 5ms/step - loss: 0.0140 - lr: 0.0010\n",
            "Epoch 310/500\n",
            "16/25 [==================>...........] - ETA: 0s - loss: 0.0147"
          ]
        },
        {
          "output_type": "stream",
          "name": "stderr",
          "text": [
            "WARNING:tensorflow:Learning rate reduction is conditioned on metric `val_loss` which is not available. Available metrics are: loss,lr\n",
            "WARNING:tensorflow:Early stopping conditioned on metric `val_loss` which is not available. Available metrics are: loss,lr\n"
          ]
        },
        {
          "output_type": "stream",
          "name": "stdout",
          "text": [
            "\b\b\b\b\b\b\b\b\b\b\b\b\b\b\b\b\b\b\b\b\b\b\b\b\b\b\b\b\b\b\b\b\b\b\b\b\b\b\b\b\b\b\b\b\b\b\b\b\b\b\b\b\b\b\b\b\b\b\b\b\b\b\b\r25/25 [==============================] - 0s 5ms/step - loss: 0.0199 - lr: 0.0010\n",
            "Epoch 311/500\n",
            "13/25 [==============>...............] - ETA: 0s - loss: 0.0199"
          ]
        },
        {
          "output_type": "stream",
          "name": "stderr",
          "text": [
            "WARNING:tensorflow:Learning rate reduction is conditioned on metric `val_loss` which is not available. Available metrics are: loss,lr\n",
            "WARNING:tensorflow:Early stopping conditioned on metric `val_loss` which is not available. Available metrics are: loss,lr\n"
          ]
        },
        {
          "output_type": "stream",
          "name": "stdout",
          "text": [
            "\b\b\b\b\b\b\b\b\b\b\b\b\b\b\b\b\b\b\b\b\b\b\b\b\b\b\b\b\b\b\b\b\b\b\b\b\b\b\b\b\b\b\b\b\b\b\b\b\b\b\b\b\b\b\b\b\b\b\b\b\b\b\b\r25/25 [==============================] - 0s 6ms/step - loss: 0.0143 - lr: 0.0010\n",
            "Epoch 312/500\n",
            "16/25 [==================>...........] - ETA: 0s - loss: 0.0093"
          ]
        },
        {
          "output_type": "stream",
          "name": "stderr",
          "text": [
            "WARNING:tensorflow:Learning rate reduction is conditioned on metric `val_loss` which is not available. Available metrics are: loss,lr\n",
            "WARNING:tensorflow:Early stopping conditioned on metric `val_loss` which is not available. Available metrics are: loss,lr\n"
          ]
        },
        {
          "output_type": "stream",
          "name": "stdout",
          "text": [
            "\b\b\b\b\b\b\b\b\b\b\b\b\b\b\b\b\b\b\b\b\b\b\b\b\b\b\b\b\b\b\b\b\b\b\b\b\b\b\b\b\b\b\b\b\b\b\b\b\b\b\b\b\b\b\b\b\b\b\b\b\b\b\b\r25/25 [==============================] - 0s 5ms/step - loss: 0.0095 - lr: 0.0010\n",
            "Epoch 313/500\n",
            "15/25 [=================>............] - ETA: 0s - loss: 0.0164"
          ]
        },
        {
          "output_type": "stream",
          "name": "stderr",
          "text": [
            "WARNING:tensorflow:Learning rate reduction is conditioned on metric `val_loss` which is not available. Available metrics are: loss,lr\n",
            "WARNING:tensorflow:Early stopping conditioned on metric `val_loss` which is not available. Available metrics are: loss,lr\n"
          ]
        },
        {
          "output_type": "stream",
          "name": "stdout",
          "text": [
            "\b\b\b\b\b\b\b\b\b\b\b\b\b\b\b\b\b\b\b\b\b\b\b\b\b\b\b\b\b\b\b\b\b\b\b\b\b\b\b\b\b\b\b\b\b\b\b\b\b\b\b\b\b\b\b\b\b\b\b\b\b\b\b\r25/25 [==============================] - 0s 5ms/step - loss: 0.0189 - lr: 0.0010\n",
            "Epoch 314/500\n",
            "14/25 [===============>..............] - ETA: 0s - loss: 0.0241"
          ]
        },
        {
          "output_type": "stream",
          "name": "stderr",
          "text": [
            "WARNING:tensorflow:Learning rate reduction is conditioned on metric `val_loss` which is not available. Available metrics are: loss,lr\n",
            "WARNING:tensorflow:Early stopping conditioned on metric `val_loss` which is not available. Available metrics are: loss,lr\n"
          ]
        },
        {
          "output_type": "stream",
          "name": "stdout",
          "text": [
            "\b\b\b\b\b\b\b\b\b\b\b\b\b\b\b\b\b\b\b\b\b\b\b\b\b\b\b\b\b\b\b\b\b\b\b\b\b\b\b\b\b\b\b\b\b\b\b\b\b\b\b\b\b\b\b\b\b\b\b\b\b\b\b\r25/25 [==============================] - 0s 5ms/step - loss: 0.0168 - lr: 0.0010\n",
            "Epoch 315/500\n",
            "15/25 [=================>............] - ETA: 0s - loss: 0.0109"
          ]
        },
        {
          "output_type": "stream",
          "name": "stderr",
          "text": [
            "WARNING:tensorflow:Learning rate reduction is conditioned on metric `val_loss` which is not available. Available metrics are: loss,lr\n",
            "WARNING:tensorflow:Early stopping conditioned on metric `val_loss` which is not available. Available metrics are: loss,lr\n"
          ]
        },
        {
          "output_type": "stream",
          "name": "stdout",
          "text": [
            "\b\b\b\b\b\b\b\b\b\b\b\b\b\b\b\b\b\b\b\b\b\b\b\b\b\b\b\b\b\b\b\b\b\b\b\b\b\b\b\b\b\b\b\b\b\b\b\b\b\b\b\b\b\b\b\b\b\b\b\b\b\b\b\r25/25 [==============================] - 0s 5ms/step - loss: 0.0160 - lr: 0.0010\n",
            "Epoch 316/500\n",
            "12/25 [=============>................] - ETA: 0s - loss: 0.0278"
          ]
        },
        {
          "output_type": "stream",
          "name": "stderr",
          "text": [
            "WARNING:tensorflow:Learning rate reduction is conditioned on metric `val_loss` which is not available. Available metrics are: loss,lr\n",
            "WARNING:tensorflow:Early stopping conditioned on metric `val_loss` which is not available. Available metrics are: loss,lr\n"
          ]
        },
        {
          "output_type": "stream",
          "name": "stdout",
          "text": [
            "\b\b\b\b\b\b\b\b\b\b\b\b\b\b\b\b\b\b\b\b\b\b\b\b\b\b\b\b\b\b\b\b\b\b\b\b\b\b\b\b\b\b\b\b\b\b\b\b\b\b\b\b\b\b\b\b\b\b\b\b\b\b\b\r25/25 [==============================] - 0s 6ms/step - loss: 0.0195 - lr: 0.0010\n",
            "Epoch 317/500\n",
            "13/25 [==============>...............] - ETA: 0s - loss: 0.0161"
          ]
        },
        {
          "output_type": "stream",
          "name": "stderr",
          "text": [
            "WARNING:tensorflow:Learning rate reduction is conditioned on metric `val_loss` which is not available. Available metrics are: loss,lr\n",
            "WARNING:tensorflow:Early stopping conditioned on metric `val_loss` which is not available. Available metrics are: loss,lr\n"
          ]
        },
        {
          "output_type": "stream",
          "name": "stdout",
          "text": [
            "\b\b\b\b\b\b\b\b\b\b\b\b\b\b\b\b\b\b\b\b\b\b\b\b\b\b\b\b\b\b\b\b\b\b\b\b\b\b\b\b\b\b\b\b\b\b\b\b\b\b\b\b\b\b\b\b\b\b\b\b\b\b\b\r25/25 [==============================] - 0s 6ms/step - loss: 0.0144 - lr: 0.0010\n",
            "Epoch 318/500\n",
            "14/25 [===============>..............] - ETA: 0s - loss: 0.0155"
          ]
        },
        {
          "output_type": "stream",
          "name": "stderr",
          "text": [
            "WARNING:tensorflow:Learning rate reduction is conditioned on metric `val_loss` which is not available. Available metrics are: loss,lr\n",
            "WARNING:tensorflow:Early stopping conditioned on metric `val_loss` which is not available. Available metrics are: loss,lr\n"
          ]
        },
        {
          "output_type": "stream",
          "name": "stdout",
          "text": [
            "\b\b\b\b\b\b\b\b\b\b\b\b\b\b\b\b\b\b\b\b\b\b\b\b\b\b\b\b\b\b\b\b\b\b\b\b\b\b\b\b\b\b\b\b\b\b\b\b\b\b\b\b\b\b\b\b\b\b\b\b\b\b\b\r25/25 [==============================] - 0s 6ms/step - loss: 0.0153 - lr: 0.0010\n",
            "Epoch 319/500\n",
            "14/25 [===============>..............] - ETA: 0s - loss: 0.0151"
          ]
        },
        {
          "output_type": "stream",
          "name": "stderr",
          "text": [
            "WARNING:tensorflow:Learning rate reduction is conditioned on metric `val_loss` which is not available. Available metrics are: loss,lr\n",
            "WARNING:tensorflow:Early stopping conditioned on metric `val_loss` which is not available. Available metrics are: loss,lr\n"
          ]
        },
        {
          "output_type": "stream",
          "name": "stdout",
          "text": [
            "\b\b\b\b\b\b\b\b\b\b\b\b\b\b\b\b\b\b\b\b\b\b\b\b\b\b\b\b\b\b\b\b\b\b\b\b\b\b\b\b\b\b\b\b\b\b\b\b\b\b\b\b\b\b\b\b\b\b\b\b\b\b\b\r25/25 [==============================] - 0s 6ms/step - loss: 0.0135 - lr: 0.0010\n",
            "Epoch 320/500\n",
            "14/25 [===============>..............] - ETA: 0s - loss: 0.0123"
          ]
        },
        {
          "output_type": "stream",
          "name": "stderr",
          "text": [
            "WARNING:tensorflow:Learning rate reduction is conditioned on metric `val_loss` which is not available. Available metrics are: loss,lr\n",
            "WARNING:tensorflow:Early stopping conditioned on metric `val_loss` which is not available. Available metrics are: loss,lr\n"
          ]
        },
        {
          "output_type": "stream",
          "name": "stdout",
          "text": [
            "\b\b\b\b\b\b\b\b\b\b\b\b\b\b\b\b\b\b\b\b\b\b\b\b\b\b\b\b\b\b\b\b\b\b\b\b\b\b\b\b\b\b\b\b\b\b\b\b\b\b\b\b\b\b\b\b\b\b\b\b\b\b\b\r25/25 [==============================] - 0s 5ms/step - loss: 0.0141 - lr: 0.0010\n",
            "Epoch 321/500\n",
            "12/25 [=============>................] - ETA: 0s - loss: 0.0169"
          ]
        },
        {
          "output_type": "stream",
          "name": "stderr",
          "text": [
            "WARNING:tensorflow:Learning rate reduction is conditioned on metric `val_loss` which is not available. Available metrics are: loss,lr\n",
            "WARNING:tensorflow:Early stopping conditioned on metric `val_loss` which is not available. Available metrics are: loss,lr\n"
          ]
        },
        {
          "output_type": "stream",
          "name": "stdout",
          "text": [
            "\b\b\b\b\b\b\b\b\b\b\b\b\b\b\b\b\b\b\b\b\b\b\b\b\b\b\b\b\b\b\b\b\b\b\b\b\b\b\b\b\b\b\b\b\b\b\b\b\b\b\b\b\b\b\b\b\b\b\b\b\b\b\b\r25/25 [==============================] - 0s 6ms/step - loss: 0.0172 - lr: 0.0010\n",
            "Epoch 322/500\n",
            "12/25 [=============>................] - ETA: 0s - loss: 0.0164"
          ]
        },
        {
          "output_type": "stream",
          "name": "stderr",
          "text": [
            "WARNING:tensorflow:Learning rate reduction is conditioned on metric `val_loss` which is not available. Available metrics are: loss,lr\n",
            "WARNING:tensorflow:Early stopping conditioned on metric `val_loss` which is not available. Available metrics are: loss,lr\n"
          ]
        },
        {
          "output_type": "stream",
          "name": "stdout",
          "text": [
            "\b\b\b\b\b\b\b\b\b\b\b\b\b\b\b\b\b\b\b\b\b\b\b\b\b\b\b\b\b\b\b\b\b\b\b\b\b\b\b\b\b\b\b\b\b\b\b\b\b\b\b\b\b\b\b\b\b\b\b\b\b\b\b\r25/25 [==============================] - 0s 6ms/step - loss: 0.0174 - lr: 0.0010\n",
            "Epoch 323/500\n",
            "18/25 [====================>.........] - ETA: 0s - loss: 0.0144"
          ]
        },
        {
          "output_type": "stream",
          "name": "stderr",
          "text": [
            "WARNING:tensorflow:Learning rate reduction is conditioned on metric `val_loss` which is not available. Available metrics are: loss,lr\n",
            "WARNING:tensorflow:Early stopping conditioned on metric `val_loss` which is not available. Available metrics are: loss,lr\n"
          ]
        },
        {
          "output_type": "stream",
          "name": "stdout",
          "text": [
            "\b\b\b\b\b\b\b\b\b\b\b\b\b\b\b\b\b\b\b\b\b\b\b\b\b\b\b\b\b\b\b\b\b\b\b\b\b\b\b\b\b\b\b\b\b\b\b\b\b\b\b\b\b\b\b\b\b\b\b\b\b\b\b\r25/25 [==============================] - 0s 5ms/step - loss: 0.0146 - lr: 0.0010\n",
            "Epoch 324/500\n",
            "14/25 [===============>..............] - ETA: 0s - loss: 0.0130"
          ]
        },
        {
          "output_type": "stream",
          "name": "stderr",
          "text": [
            "WARNING:tensorflow:Learning rate reduction is conditioned on metric `val_loss` which is not available. Available metrics are: loss,lr\n",
            "WARNING:tensorflow:Early stopping conditioned on metric `val_loss` which is not available. Available metrics are: loss,lr\n"
          ]
        },
        {
          "output_type": "stream",
          "name": "stdout",
          "text": [
            "\b\b\b\b\b\b\b\b\b\b\b\b\b\b\b\b\b\b\b\b\b\b\b\b\b\b\b\b\b\b\b\b\b\b\b\b\b\b\b\b\b\b\b\b\b\b\b\b\b\b\b\b\b\b\b\b\b\b\b\b\b\b\b\r25/25 [==============================] - 0s 6ms/step - loss: 0.0143 - lr: 0.0010\n",
            "Epoch 325/500\n",
            "15/25 [=================>............] - ETA: 0s - loss: 0.0103"
          ]
        },
        {
          "output_type": "stream",
          "name": "stderr",
          "text": [
            "WARNING:tensorflow:Learning rate reduction is conditioned on metric `val_loss` which is not available. Available metrics are: loss,lr\n",
            "WARNING:tensorflow:Early stopping conditioned on metric `val_loss` which is not available. Available metrics are: loss,lr\n"
          ]
        },
        {
          "output_type": "stream",
          "name": "stdout",
          "text": [
            "\b\b\b\b\b\b\b\b\b\b\b\b\b\b\b\b\b\b\b\b\b\b\b\b\b\b\b\b\b\b\b\b\b\b\b\b\b\b\b\b\b\b\b\b\b\b\b\b\b\b\b\b\b\b\b\b\b\b\b\b\b\b\b\r25/25 [==============================] - 0s 5ms/step - loss: 0.0171 - lr: 0.0010\n",
            "Epoch 326/500\n",
            "16/25 [==================>...........] - ETA: 0s - loss: 0.0172"
          ]
        },
        {
          "output_type": "stream",
          "name": "stderr",
          "text": [
            "WARNING:tensorflow:Learning rate reduction is conditioned on metric `val_loss` which is not available. Available metrics are: loss,lr\n",
            "WARNING:tensorflow:Early stopping conditioned on metric `val_loss` which is not available. Available metrics are: loss,lr\n"
          ]
        },
        {
          "output_type": "stream",
          "name": "stdout",
          "text": [
            "\b\b\b\b\b\b\b\b\b\b\b\b\b\b\b\b\b\b\b\b\b\b\b\b\b\b\b\b\b\b\b\b\b\b\b\b\b\b\b\b\b\b\b\b\b\b\b\b\b\b\b\b\b\b\b\b\b\b\b\b\b\b\b\r25/25 [==============================] - 0s 6ms/step - loss: 0.0197 - lr: 0.0010\n",
            "Epoch 327/500\n",
            "15/25 [=================>............] - ETA: 0s - loss: 0.0111"
          ]
        },
        {
          "output_type": "stream",
          "name": "stderr",
          "text": [
            "WARNING:tensorflow:Learning rate reduction is conditioned on metric `val_loss` which is not available. Available metrics are: loss,lr\n",
            "WARNING:tensorflow:Early stopping conditioned on metric `val_loss` which is not available. Available metrics are: loss,lr\n"
          ]
        },
        {
          "output_type": "stream",
          "name": "stdout",
          "text": [
            "\b\b\b\b\b\b\b\b\b\b\b\b\b\b\b\b\b\b\b\b\b\b\b\b\b\b\b\b\b\b\b\b\b\b\b\b\b\b\b\b\b\b\b\b\b\b\b\b\b\b\b\b\b\b\b\b\b\b\b\b\b\b\b\r25/25 [==============================] - 0s 6ms/step - loss: 0.0181 - lr: 0.0010\n",
            "Epoch 328/500\n",
            "15/25 [=================>............] - ETA: 0s - loss: 0.0090"
          ]
        },
        {
          "output_type": "stream",
          "name": "stderr",
          "text": [
            "WARNING:tensorflow:Learning rate reduction is conditioned on metric `val_loss` which is not available. Available metrics are: loss,lr\n",
            "WARNING:tensorflow:Early stopping conditioned on metric `val_loss` which is not available. Available metrics are: loss,lr\n"
          ]
        },
        {
          "output_type": "stream",
          "name": "stdout",
          "text": [
            "\b\b\b\b\b\b\b\b\b\b\b\b\b\b\b\b\b\b\b\b\b\b\b\b\b\b\b\b\b\b\b\b\b\b\b\b\b\b\b\b\b\b\b\b\b\b\b\b\b\b\b\b\b\b\b\b\b\b\b\b\b\b\b\r25/25 [==============================] - 0s 5ms/step - loss: 0.0175 - lr: 0.0010\n",
            "Epoch 329/500\n",
            "16/25 [==================>...........] - ETA: 0s - loss: 0.0143"
          ]
        },
        {
          "output_type": "stream",
          "name": "stderr",
          "text": [
            "WARNING:tensorflow:Learning rate reduction is conditioned on metric `val_loss` which is not available. Available metrics are: loss,lr\n",
            "WARNING:tensorflow:Early stopping conditioned on metric `val_loss` which is not available. Available metrics are: loss,lr\n"
          ]
        },
        {
          "output_type": "stream",
          "name": "stdout",
          "text": [
            "\b\b\b\b\b\b\b\b\b\b\b\b\b\b\b\b\b\b\b\b\b\b\b\b\b\b\b\b\b\b\b\b\b\b\b\b\b\b\b\b\b\b\b\b\b\b\b\b\b\b\b\b\b\b\b\b\b\b\b\b\b\b\b\r25/25 [==============================] - 0s 5ms/step - loss: 0.0206 - lr: 0.0010\n",
            "Epoch 330/500\n",
            "15/25 [=================>............] - ETA: 0s - loss: 0.0152"
          ]
        },
        {
          "output_type": "stream",
          "name": "stderr",
          "text": [
            "WARNING:tensorflow:Learning rate reduction is conditioned on metric `val_loss` which is not available. Available metrics are: loss,lr\n",
            "WARNING:tensorflow:Early stopping conditioned on metric `val_loss` which is not available. Available metrics are: loss,lr\n"
          ]
        },
        {
          "output_type": "stream",
          "name": "stdout",
          "text": [
            "\b\b\b\b\b\b\b\b\b\b\b\b\b\b\b\b\b\b\b\b\b\b\b\b\b\b\b\b\b\b\b\b\b\b\b\b\b\b\b\b\b\b\b\b\b\b\b\b\b\b\b\b\b\b\b\b\b\b\b\b\b\b\b\r25/25 [==============================] - 0s 5ms/step - loss: 0.0213 - lr: 0.0010\n",
            "Epoch 331/500\n",
            "13/25 [==============>...............] - ETA: 0s - loss: 0.0191"
          ]
        },
        {
          "output_type": "stream",
          "name": "stderr",
          "text": [
            "WARNING:tensorflow:Learning rate reduction is conditioned on metric `val_loss` which is not available. Available metrics are: loss,lr\n",
            "WARNING:tensorflow:Early stopping conditioned on metric `val_loss` which is not available. Available metrics are: loss,lr\n"
          ]
        },
        {
          "output_type": "stream",
          "name": "stdout",
          "text": [
            "\b\b\b\b\b\b\b\b\b\b\b\b\b\b\b\b\b\b\b\b\b\b\b\b\b\b\b\b\b\b\b\b\b\b\b\b\b\b\b\b\b\b\b\b\b\b\b\b\b\b\b\b\b\b\b\b\b\b\b\b\b\b\b\r25/25 [==============================] - 0s 6ms/step - loss: 0.0181 - lr: 0.0010\n",
            "Epoch 332/500\n",
            "12/25 [=============>................] - ETA: 0s - loss: 0.0141"
          ]
        },
        {
          "output_type": "stream",
          "name": "stderr",
          "text": [
            "WARNING:tensorflow:Learning rate reduction is conditioned on metric `val_loss` which is not available. Available metrics are: loss,lr\n",
            "WARNING:tensorflow:Early stopping conditioned on metric `val_loss` which is not available. Available metrics are: loss,lr\n"
          ]
        },
        {
          "output_type": "stream",
          "name": "stdout",
          "text": [
            "\b\b\b\b\b\b\b\b\b\b\b\b\b\b\b\b\b\b\b\b\b\b\b\b\b\b\b\b\b\b\b\b\b\b\b\b\b\b\b\b\b\b\b\b\b\b\b\b\b\b\b\b\b\b\b\b\b\b\b\b\b\b\b\r25/25 [==============================] - 0s 6ms/step - loss: 0.0140 - lr: 0.0010\n",
            "Epoch 333/500\n",
            "17/25 [===================>..........] - ETA: 0s - loss: 0.0189"
          ]
        },
        {
          "output_type": "stream",
          "name": "stderr",
          "text": [
            "WARNING:tensorflow:Learning rate reduction is conditioned on metric `val_loss` which is not available. Available metrics are: loss,lr\n",
            "WARNING:tensorflow:Early stopping conditioned on metric `val_loss` which is not available. Available metrics are: loss,lr\n"
          ]
        },
        {
          "output_type": "stream",
          "name": "stdout",
          "text": [
            "\b\b\b\b\b\b\b\b\b\b\b\b\b\b\b\b\b\b\b\b\b\b\b\b\b\b\b\b\b\b\b\b\b\b\b\b\b\b\b\b\b\b\b\b\b\b\b\b\b\b\b\b\b\b\b\b\b\b\b\b\b\b\b\r25/25 [==============================] - 0s 5ms/step - loss: 0.0182 - lr: 0.0010\n",
            "Epoch 334/500\n",
            "18/25 [====================>.........] - ETA: 0s - loss: 0.0088"
          ]
        },
        {
          "output_type": "stream",
          "name": "stderr",
          "text": [
            "WARNING:tensorflow:Learning rate reduction is conditioned on metric `val_loss` which is not available. Available metrics are: loss,lr\n",
            "WARNING:tensorflow:Early stopping conditioned on metric `val_loss` which is not available. Available metrics are: loss,lr\n"
          ]
        },
        {
          "output_type": "stream",
          "name": "stdout",
          "text": [
            "\b\b\b\b\b\b\b\b\b\b\b\b\b\b\b\b\b\b\b\b\b\b\b\b\b\b\b\b\b\b\b\b\b\b\b\b\b\b\b\b\b\b\b\b\b\b\b\b\b\b\b\b\b\b\b\b\b\b\b\b\b\b\b\r25/25 [==============================] - 0s 5ms/step - loss: 0.0141 - lr: 0.0010\n",
            "Epoch 335/500\n",
            "16/25 [==================>...........] - ETA: 0s - loss: 0.0174"
          ]
        },
        {
          "output_type": "stream",
          "name": "stderr",
          "text": [
            "WARNING:tensorflow:Learning rate reduction is conditioned on metric `val_loss` which is not available. Available metrics are: loss,lr\n",
            "WARNING:tensorflow:Early stopping conditioned on metric `val_loss` which is not available. Available metrics are: loss,lr\n"
          ]
        },
        {
          "output_type": "stream",
          "name": "stdout",
          "text": [
            "\b\b\b\b\b\b\b\b\b\b\b\b\b\b\b\b\b\b\b\b\b\b\b\b\b\b\b\b\b\b\b\b\b\b\b\b\b\b\b\b\b\b\b\b\b\b\b\b\b\b\b\b\b\b\b\b\b\b\b\b\b\b\b\r25/25 [==============================] - 0s 5ms/step - loss: 0.0146 - lr: 0.0010\n",
            "Epoch 336/500\n",
            "15/25 [=================>............] - ETA: 0s - loss: 0.0119"
          ]
        },
        {
          "output_type": "stream",
          "name": "stderr",
          "text": [
            "WARNING:tensorflow:Learning rate reduction is conditioned on metric `val_loss` which is not available. Available metrics are: loss,lr\n",
            "WARNING:tensorflow:Early stopping conditioned on metric `val_loss` which is not available. Available metrics are: loss,lr\n"
          ]
        },
        {
          "output_type": "stream",
          "name": "stdout",
          "text": [
            "\b\b\b\b\b\b\b\b\b\b\b\b\b\b\b\b\b\b\b\b\b\b\b\b\b\b\b\b\b\b\b\b\b\b\b\b\b\b\b\b\b\b\b\b\b\b\b\b\b\b\b\b\b\b\b\b\b\b\b\b\b\b\b\r25/25 [==============================] - 0s 5ms/step - loss: 0.0135 - lr: 0.0010\n",
            "Epoch 337/500\n",
            "16/25 [==================>...........] - ETA: 0s - loss: 0.0148"
          ]
        },
        {
          "output_type": "stream",
          "name": "stderr",
          "text": [
            "WARNING:tensorflow:Learning rate reduction is conditioned on metric `val_loss` which is not available. Available metrics are: loss,lr\n",
            "WARNING:tensorflow:Early stopping conditioned on metric `val_loss` which is not available. Available metrics are: loss,lr\n"
          ]
        },
        {
          "output_type": "stream",
          "name": "stdout",
          "text": [
            "\b\b\b\b\b\b\b\b\b\b\b\b\b\b\b\b\b\b\b\b\b\b\b\b\b\b\b\b\b\b\b\b\b\b\b\b\b\b\b\b\b\b\b\b\b\b\b\b\b\b\b\b\b\b\b\b\b\b\b\b\b\b\b\r25/25 [==============================] - 0s 5ms/step - loss: 0.0136 - lr: 0.0010\n",
            "Epoch 338/500\n",
            "12/25 [=============>................] - ETA: 0s - loss: 0.0093    "
          ]
        },
        {
          "output_type": "stream",
          "name": "stderr",
          "text": [
            "WARNING:tensorflow:Learning rate reduction is conditioned on metric `val_loss` which is not available. Available metrics are: loss,lr\n",
            "WARNING:tensorflow:Early stopping conditioned on metric `val_loss` which is not available. Available metrics are: loss,lr\n"
          ]
        },
        {
          "output_type": "stream",
          "name": "stdout",
          "text": [
            "\b\b\b\b\b\b\b\b\b\b\b\b\b\b\b\b\b\b\b\b\b\b\b\b\b\b\b\b\b\b\b\b\b\b\b\b\b\b\b\b\b\b\b\b\b\b\b\b\b\b\b\b\b\b\b\b\b\b\b\b\b\b\b\r25/25 [==============================] - 0s 6ms/step - loss: 0.0120 - lr: 0.0010\n",
            "Epoch 339/500\n",
            "12/25 [=============>................] - ETA: 0s - loss: 0.0171"
          ]
        },
        {
          "output_type": "stream",
          "name": "stderr",
          "text": [
            "WARNING:tensorflow:Learning rate reduction is conditioned on metric `val_loss` which is not available. Available metrics are: loss,lr\n",
            "WARNING:tensorflow:Early stopping conditioned on metric `val_loss` which is not available. Available metrics are: loss,lr\n"
          ]
        },
        {
          "output_type": "stream",
          "name": "stdout",
          "text": [
            "\b\b\b\b\b\b\b\b\b\b\b\b\b\b\b\b\b\b\b\b\b\b\b\b\b\b\b\b\b\b\b\b\b\b\b\b\b\b\b\b\b\b\b\b\b\b\b\b\b\b\b\b\b\b\b\b\b\b\b\b\b\b\b\r25/25 [==============================] - 0s 6ms/step - loss: 0.0122 - lr: 0.0010\n",
            "Epoch 340/500\n",
            "13/25 [==============>...............] - ETA: 0s - loss: 0.0162"
          ]
        },
        {
          "output_type": "stream",
          "name": "stderr",
          "text": [
            "WARNING:tensorflow:Learning rate reduction is conditioned on metric `val_loss` which is not available. Available metrics are: loss,lr\n",
            "WARNING:tensorflow:Early stopping conditioned on metric `val_loss` which is not available. Available metrics are: loss,lr\n"
          ]
        },
        {
          "output_type": "stream",
          "name": "stdout",
          "text": [
            "\b\b\b\b\b\b\b\b\b\b\b\b\b\b\b\b\b\b\b\b\b\b\b\b\b\b\b\b\b\b\b\b\b\b\b\b\b\b\b\b\b\b\b\b\b\b\b\b\b\b\b\b\b\b\b\b\b\b\b\b\b\b\b\r25/25 [==============================] - 0s 6ms/step - loss: 0.0156 - lr: 0.0010\n",
            "Epoch 341/500\n",
            "16/25 [==================>...........] - ETA: 0s - loss: 0.0147"
          ]
        },
        {
          "output_type": "stream",
          "name": "stderr",
          "text": [
            "WARNING:tensorflow:Learning rate reduction is conditioned on metric `val_loss` which is not available. Available metrics are: loss,lr\n",
            "WARNING:tensorflow:Early stopping conditioned on metric `val_loss` which is not available. Available metrics are: loss,lr\n"
          ]
        },
        {
          "output_type": "stream",
          "name": "stdout",
          "text": [
            "\b\b\b\b\b\b\b\b\b\b\b\b\b\b\b\b\b\b\b\b\b\b\b\b\b\b\b\b\b\b\b\b\b\b\b\b\b\b\b\b\b\b\b\b\b\b\b\b\b\b\b\b\b\b\b\b\b\b\b\b\b\b\b\r25/25 [==============================] - 0s 5ms/step - loss: 0.0128 - lr: 0.0010\n",
            "Epoch 342/500\n",
            "25/25 [==============================] - ETA: 0s - loss: 0.0227"
          ]
        },
        {
          "output_type": "stream",
          "name": "stderr",
          "text": [
            "WARNING:tensorflow:Learning rate reduction is conditioned on metric `val_loss` which is not available. Available metrics are: loss,lr\n",
            "WARNING:tensorflow:Early stopping conditioned on metric `val_loss` which is not available. Available metrics are: loss,lr\n"
          ]
        },
        {
          "output_type": "stream",
          "name": "stdout",
          "text": [
            "\b\b\b\b\b\b\b\b\b\b\b\b\b\b\b\b\b\b\b\b\b\b\b\b\b\b\b\b\b\b\b\b\b\b\b\b\b\b\b\b\b\b\b\b\b\b\b\b\b\b\b\b\b\b\b\b\b\b\b\b\b\b\b\r25/25 [==============================] - 0s 6ms/step - loss: 0.0227 - lr: 0.0010\n",
            "Epoch 343/500\n",
            "10/25 [===========>..................] - ETA: 0s - loss: 0.0142    "
          ]
        },
        {
          "output_type": "stream",
          "name": "stderr",
          "text": [
            "WARNING:tensorflow:Learning rate reduction is conditioned on metric `val_loss` which is not available. Available metrics are: loss,lr\n",
            "WARNING:tensorflow:Early stopping conditioned on metric `val_loss` which is not available. Available metrics are: loss,lr\n"
          ]
        },
        {
          "output_type": "stream",
          "name": "stdout",
          "text": [
            "\b\b\b\b\b\b\b\b\b\b\b\b\b\b\b\b\b\b\b\b\b\b\b\b\b\b\b\b\b\b\b\b\b\b\b\b\b\b\b\b\b\b\b\b\b\b\b\b\b\b\b\b\b\b\b\b\b\b\b\b\b\b\b\r25/25 [==============================] - 0s 6ms/step - loss: 0.0138 - lr: 0.0010\n",
            "Epoch 344/500\n",
            "17/25 [===================>..........] - ETA: 0s - loss: 0.0217"
          ]
        },
        {
          "output_type": "stream",
          "name": "stderr",
          "text": [
            "WARNING:tensorflow:Learning rate reduction is conditioned on metric `val_loss` which is not available. Available metrics are: loss,lr\n",
            "WARNING:tensorflow:Early stopping conditioned on metric `val_loss` which is not available. Available metrics are: loss,lr\n"
          ]
        },
        {
          "output_type": "stream",
          "name": "stdout",
          "text": [
            "\b\b\b\b\b\b\b\b\b\b\b\b\b\b\b\b\b\b\b\b\b\b\b\b\b\b\b\b\b\b\b\b\b\b\b\b\b\b\b\b\b\b\b\b\b\b\b\b\b\b\b\b\b\b\b\b\b\b\b\b\b\b\b\r25/25 [==============================] - 0s 6ms/step - loss: 0.0164 - lr: 0.0010\n",
            "Epoch 345/500\n",
            "16/25 [==================>...........] - ETA: 0s - loss: 0.0127"
          ]
        },
        {
          "output_type": "stream",
          "name": "stderr",
          "text": [
            "WARNING:tensorflow:Learning rate reduction is conditioned on metric `val_loss` which is not available. Available metrics are: loss,lr\n",
            "WARNING:tensorflow:Early stopping conditioned on metric `val_loss` which is not available. Available metrics are: loss,lr\n"
          ]
        },
        {
          "output_type": "stream",
          "name": "stdout",
          "text": [
            "\b\b\b\b\b\b\b\b\b\b\b\b\b\b\b\b\b\b\b\b\b\b\b\b\b\b\b\b\b\b\b\b\b\b\b\b\b\b\b\b\b\b\b\b\b\b\b\b\b\b\b\b\b\b\b\b\b\b\b\b\b\b\b\r25/25 [==============================] - 0s 5ms/step - loss: 0.0116 - lr: 0.0010\n",
            "Epoch 346/500\n",
            "15/25 [=================>............] - ETA: 0s - loss: 0.0150"
          ]
        },
        {
          "output_type": "stream",
          "name": "stderr",
          "text": [
            "WARNING:tensorflow:Learning rate reduction is conditioned on metric `val_loss` which is not available. Available metrics are: loss,lr\n",
            "WARNING:tensorflow:Early stopping conditioned on metric `val_loss` which is not available. Available metrics are: loss,lr\n"
          ]
        },
        {
          "output_type": "stream",
          "name": "stdout",
          "text": [
            "\b\b\b\b\b\b\b\b\b\b\b\b\b\b\b\b\b\b\b\b\b\b\b\b\b\b\b\b\b\b\b\b\b\b\b\b\b\b\b\b\b\b\b\b\b\b\b\b\b\b\b\b\b\b\b\b\b\b\b\b\b\b\b\r25/25 [==============================] - 0s 6ms/step - loss: 0.0136 - lr: 0.0010\n",
            "Epoch 347/500\n",
            "15/25 [=================>............] - ETA: 0s - loss: 0.0131"
          ]
        },
        {
          "output_type": "stream",
          "name": "stderr",
          "text": [
            "WARNING:tensorflow:Learning rate reduction is conditioned on metric `val_loss` which is not available. Available metrics are: loss,lr\n",
            "WARNING:tensorflow:Early stopping conditioned on metric `val_loss` which is not available. Available metrics are: loss,lr\n"
          ]
        },
        {
          "output_type": "stream",
          "name": "stdout",
          "text": [
            "\b\b\b\b\b\b\b\b\b\b\b\b\b\b\b\b\b\b\b\b\b\b\b\b\b\b\b\b\b\b\b\b\b\b\b\b\b\b\b\b\b\b\b\b\b\b\b\b\b\b\b\b\b\b\b\b\b\b\b\b\b\b\b\r25/25 [==============================] - 0s 6ms/step - loss: 0.0158 - lr: 0.0010\n",
            "Epoch 348/500\n",
            "15/25 [=================>............] - ETA: 0s - loss: 0.0141"
          ]
        },
        {
          "output_type": "stream",
          "name": "stderr",
          "text": [
            "WARNING:tensorflow:Learning rate reduction is conditioned on metric `val_loss` which is not available. Available metrics are: loss,lr\n",
            "WARNING:tensorflow:Early stopping conditioned on metric `val_loss` which is not available. Available metrics are: loss,lr\n"
          ]
        },
        {
          "output_type": "stream",
          "name": "stdout",
          "text": [
            "\b\b\b\b\b\b\b\b\b\b\b\b\b\b\b\b\b\b\b\b\b\b\b\b\b\b\b\b\b\b\b\b\b\b\b\b\b\b\b\b\b\b\b\b\b\b\b\b\b\b\b\b\b\b\b\b\b\b\b\b\b\b\b\r25/25 [==============================] - 0s 6ms/step - loss: 0.0122 - lr: 0.0010\n",
            "Epoch 349/500\n",
            "13/25 [==============>...............] - ETA: 0s - loss: 0.0083"
          ]
        },
        {
          "output_type": "stream",
          "name": "stderr",
          "text": [
            "WARNING:tensorflow:Learning rate reduction is conditioned on metric `val_loss` which is not available. Available metrics are: loss,lr\n",
            "WARNING:tensorflow:Early stopping conditioned on metric `val_loss` which is not available. Available metrics are: loss,lr\n"
          ]
        },
        {
          "output_type": "stream",
          "name": "stdout",
          "text": [
            "\b\b\b\b\b\b\b\b\b\b\b\b\b\b\b\b\b\b\b\b\b\b\b\b\b\b\b\b\b\b\b\b\b\b\b\b\b\b\b\b\b\b\b\b\b\b\b\b\b\b\b\b\b\b\b\b\b\b\b\b\b\b\b\r25/25 [==============================] - 0s 6ms/step - loss: 0.0095 - lr: 0.0010\n",
            "Epoch 350/500\n",
            "15/25 [=================>............] - ETA: 0s - loss: 0.0123"
          ]
        },
        {
          "output_type": "stream",
          "name": "stderr",
          "text": [
            "WARNING:tensorflow:Learning rate reduction is conditioned on metric `val_loss` which is not available. Available metrics are: loss,lr\n",
            "WARNING:tensorflow:Early stopping conditioned on metric `val_loss` which is not available. Available metrics are: loss,lr\n"
          ]
        },
        {
          "output_type": "stream",
          "name": "stdout",
          "text": [
            "\b\b\b\b\b\b\b\b\b\b\b\b\b\b\b\b\b\b\b\b\b\b\b\b\b\b\b\b\b\b\b\b\b\b\b\b\b\b\b\b\b\b\b\b\b\b\b\b\b\b\b\b\b\b\b\b\b\b\b\b\b\b\b\r25/25 [==============================] - 0s 6ms/step - loss: 0.0099 - lr: 0.0010\n",
            "Epoch 351/500\n",
            "15/25 [=================>............] - ETA: 0s - loss: 0.0138"
          ]
        },
        {
          "output_type": "stream",
          "name": "stderr",
          "text": [
            "WARNING:tensorflow:Learning rate reduction is conditioned on metric `val_loss` which is not available. Available metrics are: loss,lr\n",
            "WARNING:tensorflow:Early stopping conditioned on metric `val_loss` which is not available. Available metrics are: loss,lr\n"
          ]
        },
        {
          "output_type": "stream",
          "name": "stdout",
          "text": [
            "\b\b\b\b\b\b\b\b\b\b\b\b\b\b\b\b\b\b\b\b\b\b\b\b\b\b\b\b\b\b\b\b\b\b\b\b\b\b\b\b\b\b\b\b\b\b\b\b\b\b\b\b\b\b\b\b\b\b\b\b\b\b\b\r25/25 [==============================] - 0s 6ms/step - loss: 0.0108 - lr: 0.0010\n",
            "Epoch 352/500\n",
            "13/25 [==============>...............] - ETA: 0s - loss: 0.0209    "
          ]
        },
        {
          "output_type": "stream",
          "name": "stderr",
          "text": [
            "WARNING:tensorflow:Learning rate reduction is conditioned on metric `val_loss` which is not available. Available metrics are: loss,lr\n",
            "WARNING:tensorflow:Early stopping conditioned on metric `val_loss` which is not available. Available metrics are: loss,lr\n"
          ]
        },
        {
          "output_type": "stream",
          "name": "stdout",
          "text": [
            "\b\b\b\b\b\b\b\b\b\b\b\b\b\b\b\b\b\b\b\b\b\b\b\b\b\b\b\b\b\b\b\b\b\b\b\b\b\b\b\b\b\b\b\b\b\b\b\b\b\b\b\b\b\b\b\b\b\b\b\b\b\b\b\r25/25 [==============================] - 0s 6ms/step - loss: 0.0135 - lr: 0.0010\n",
            "Epoch 353/500\n",
            "13/25 [==============>...............] - ETA: 0s - loss: 0.0078"
          ]
        },
        {
          "output_type": "stream",
          "name": "stderr",
          "text": [
            "WARNING:tensorflow:Learning rate reduction is conditioned on metric `val_loss` which is not available. Available metrics are: loss,lr\n",
            "WARNING:tensorflow:Early stopping conditioned on metric `val_loss` which is not available. Available metrics are: loss,lr\n"
          ]
        },
        {
          "output_type": "stream",
          "name": "stdout",
          "text": [
            "\b\b\b\b\b\b\b\b\b\b\b\b\b\b\b\b\b\b\b\b\b\b\b\b\b\b\b\b\b\b\b\b\b\b\b\b\b\b\b\b\b\b\b\b\b\b\b\b\b\b\b\b\b\b\b\b\b\b\b\b\b\b\b\r25/25 [==============================] - 0s 6ms/step - loss: 0.0115 - lr: 0.0010\n",
            "Epoch 354/500\n",
            "13/25 [==============>...............] - ETA: 0s - loss: 0.0097"
          ]
        },
        {
          "output_type": "stream",
          "name": "stderr",
          "text": [
            "WARNING:tensorflow:Learning rate reduction is conditioned on metric `val_loss` which is not available. Available metrics are: loss,lr\n",
            "WARNING:tensorflow:Early stopping conditioned on metric `val_loss` which is not available. Available metrics are: loss,lr\n"
          ]
        },
        {
          "output_type": "stream",
          "name": "stdout",
          "text": [
            "\b\b\b\b\b\b\b\b\b\b\b\b\b\b\b\b\b\b\b\b\b\b\b\b\b\b\b\b\b\b\b\b\b\b\b\b\b\b\b\b\b\b\b\b\b\b\b\b\b\b\b\b\b\b\b\b\b\b\b\b\b\b\b\r25/25 [==============================] - 0s 6ms/step - loss: 0.0123 - lr: 0.0010\n",
            "Epoch 355/500\n",
            "17/25 [===================>..........] - ETA: 0s - loss: 0.0130"
          ]
        },
        {
          "output_type": "stream",
          "name": "stderr",
          "text": [
            "WARNING:tensorflow:Learning rate reduction is conditioned on metric `val_loss` which is not available. Available metrics are: loss,lr\n",
            "WARNING:tensorflow:Early stopping conditioned on metric `val_loss` which is not available. Available metrics are: loss,lr\n"
          ]
        },
        {
          "output_type": "stream",
          "name": "stdout",
          "text": [
            "\b\b\b\b\b\b\b\b\b\b\b\b\b\b\b\b\b\b\b\b\b\b\b\b\b\b\b\b\b\b\b\b\b\b\b\b\b\b\b\b\b\b\b\b\b\b\b\b\b\b\b\b\b\b\b\b\b\b\b\b\b\b\b\r25/25 [==============================] - 0s 6ms/step - loss: 0.0138 - lr: 0.0010\n",
            "Epoch 356/500\n",
            "12/25 [=============>................] - ETA: 0s - loss: 0.0138"
          ]
        },
        {
          "output_type": "stream",
          "name": "stderr",
          "text": [
            "WARNING:tensorflow:Learning rate reduction is conditioned on metric `val_loss` which is not available. Available metrics are: loss,lr\n",
            "WARNING:tensorflow:Early stopping conditioned on metric `val_loss` which is not available. Available metrics are: loss,lr\n"
          ]
        },
        {
          "output_type": "stream",
          "name": "stdout",
          "text": [
            "\b\b\b\b\b\b\b\b\b\b\b\b\b\b\b\b\b\b\b\b\b\b\b\b\b\b\b\b\b\b\b\b\b\b\b\b\b\b\b\b\b\b\b\b\b\b\b\b\b\b\b\b\b\b\b\b\b\b\b\b\b\b\b\r25/25 [==============================] - 0s 6ms/step - loss: 0.0140 - lr: 0.0010\n",
            "Epoch 357/500\n",
            "11/25 [============>.................] - ETA: 0s - loss: 0.0073"
          ]
        },
        {
          "output_type": "stream",
          "name": "stderr",
          "text": [
            "WARNING:tensorflow:Learning rate reduction is conditioned on metric `val_loss` which is not available. Available metrics are: loss,lr\n",
            "WARNING:tensorflow:Early stopping conditioned on metric `val_loss` which is not available. Available metrics are: loss,lr\n"
          ]
        },
        {
          "output_type": "stream",
          "name": "stdout",
          "text": [
            "\b\b\b\b\b\b\b\b\b\b\b\b\b\b\b\b\b\b\b\b\b\b\b\b\b\b\b\b\b\b\b\b\b\b\b\b\b\b\b\b\b\b\b\b\b\b\b\b\b\b\b\b\b\b\b\b\b\b\b\b\b\b\b\r25/25 [==============================] - 0s 6ms/step - loss: 0.0124 - lr: 0.0010\n",
            "Epoch 358/500\n",
            "14/25 [===============>..............] - ETA: 0s - loss: 0.0073"
          ]
        },
        {
          "output_type": "stream",
          "name": "stderr",
          "text": [
            "WARNING:tensorflow:Learning rate reduction is conditioned on metric `val_loss` which is not available. Available metrics are: loss,lr\n",
            "WARNING:tensorflow:Early stopping conditioned on metric `val_loss` which is not available. Available metrics are: loss,lr\n"
          ]
        },
        {
          "output_type": "stream",
          "name": "stdout",
          "text": [
            "\b\b\b\b\b\b\b\b\b\b\b\b\b\b\b\b\b\b\b\b\b\b\b\b\b\b\b\b\b\b\b\b\b\b\b\b\b\b\b\b\b\b\b\b\b\b\b\b\b\b\b\b\b\b\b\b\b\b\b\b\b\b\b\r25/25 [==============================] - 0s 6ms/step - loss: 0.0124 - lr: 0.0010\n",
            "Epoch 359/500\n",
            "13/25 [==============>...............] - ETA: 0s - loss: 0.0073"
          ]
        },
        {
          "output_type": "stream",
          "name": "stderr",
          "text": [
            "WARNING:tensorflow:Learning rate reduction is conditioned on metric `val_loss` which is not available. Available metrics are: loss,lr\n",
            "WARNING:tensorflow:Early stopping conditioned on metric `val_loss` which is not available. Available metrics are: loss,lr\n"
          ]
        },
        {
          "output_type": "stream",
          "name": "stdout",
          "text": [
            "\b\b\b\b\b\b\b\b\b\b\b\b\b\b\b\b\b\b\b\b\b\b\b\b\b\b\b\b\b\b\b\b\b\b\b\b\b\b\b\b\b\b\b\b\b\b\b\b\b\b\b\b\b\b\b\b\b\b\b\b\b\b\b\r25/25 [==============================] - 0s 6ms/step - loss: 0.0081 - lr: 0.0010\n",
            "Epoch 360/500\n",
            "11/25 [============>.................] - ETA: 0s - loss: 0.0100"
          ]
        },
        {
          "output_type": "stream",
          "name": "stderr",
          "text": [
            "WARNING:tensorflow:Learning rate reduction is conditioned on metric `val_loss` which is not available. Available metrics are: loss,lr\n",
            "WARNING:tensorflow:Early stopping conditioned on metric `val_loss` which is not available. Available metrics are: loss,lr\n"
          ]
        },
        {
          "output_type": "stream",
          "name": "stdout",
          "text": [
            "\b\b\b\b\b\b\b\b\b\b\b\b\b\b\b\b\b\b\b\b\b\b\b\b\b\b\b\b\b\b\b\b\b\b\b\b\b\b\b\b\b\b\b\b\b\b\b\b\b\b\b\b\b\b\b\b\b\b\b\b\b\b\b\r25/25 [==============================] - 0s 6ms/step - loss: 0.0111 - lr: 0.0010\n",
            "Epoch 361/500\n",
            "13/25 [==============>...............] - ETA: 0s - loss: 0.0125"
          ]
        },
        {
          "output_type": "stream",
          "name": "stderr",
          "text": [
            "WARNING:tensorflow:Learning rate reduction is conditioned on metric `val_loss` which is not available. Available metrics are: loss,lr\n",
            "WARNING:tensorflow:Early stopping conditioned on metric `val_loss` which is not available. Available metrics are: loss,lr\n"
          ]
        },
        {
          "output_type": "stream",
          "name": "stdout",
          "text": [
            "\b\b\b\b\b\b\b\b\b\b\b\b\b\b\b\b\b\b\b\b\b\b\b\b\b\b\b\b\b\b\b\b\b\b\b\b\b\b\b\b\b\b\b\b\b\b\b\b\b\b\b\b\b\b\b\b\b\b\b\b\b\b\b\r25/25 [==============================] - 0s 6ms/step - loss: 0.0169 - lr: 0.0010\n",
            "Epoch 362/500\n",
            "13/25 [==============>...............] - ETA: 0s - loss: 0.0071"
          ]
        },
        {
          "output_type": "stream",
          "name": "stderr",
          "text": [
            "WARNING:tensorflow:Learning rate reduction is conditioned on metric `val_loss` which is not available. Available metrics are: loss,lr\n",
            "WARNING:tensorflow:Early stopping conditioned on metric `val_loss` which is not available. Available metrics are: loss,lr\n"
          ]
        },
        {
          "output_type": "stream",
          "name": "stdout",
          "text": [
            "\b\b\b\b\b\b\b\b\b\b\b\b\b\b\b\b\b\b\b\b\b\b\b\b\b\b\b\b\b\b\b\b\b\b\b\b\b\b\b\b\b\b\b\b\b\b\b\b\b\b\b\b\b\b\b\b\b\b\b\b\b\b\b\r25/25 [==============================] - 0s 6ms/step - loss: 0.0118 - lr: 0.0010\n",
            "Epoch 363/500\n",
            "15/25 [=================>............] - ETA: 0s - loss: 0.0092"
          ]
        },
        {
          "output_type": "stream",
          "name": "stderr",
          "text": [
            "WARNING:tensorflow:Learning rate reduction is conditioned on metric `val_loss` which is not available. Available metrics are: loss,lr\n",
            "WARNING:tensorflow:Early stopping conditioned on metric `val_loss` which is not available. Available metrics are: loss,lr\n"
          ]
        },
        {
          "output_type": "stream",
          "name": "stdout",
          "text": [
            "\b\b\b\b\b\b\b\b\b\b\b\b\b\b\b\b\b\b\b\b\b\b\b\b\b\b\b\b\b\b\b\b\b\b\b\b\b\b\b\b\b\b\b\b\b\b\b\b\b\b\b\b\b\b\b\b\b\b\b\b\b\b\b\r25/25 [==============================] - 0s 6ms/step - loss: 0.0096 - lr: 0.0010\n",
            "Epoch 364/500\n",
            "13/25 [==============>...............] - ETA: 0s - loss: 0.0083"
          ]
        },
        {
          "output_type": "stream",
          "name": "stderr",
          "text": [
            "WARNING:tensorflow:Learning rate reduction is conditioned on metric `val_loss` which is not available. Available metrics are: loss,lr\n",
            "WARNING:tensorflow:Early stopping conditioned on metric `val_loss` which is not available. Available metrics are: loss,lr\n"
          ]
        },
        {
          "output_type": "stream",
          "name": "stdout",
          "text": [
            "\b\b\b\b\b\b\b\b\b\b\b\b\b\b\b\b\b\b\b\b\b\b\b\b\b\b\b\b\b\b\b\b\b\b\b\b\b\b\b\b\b\b\b\b\b\b\b\b\b\b\b\b\b\b\b\b\b\b\b\b\b\b\b\r25/25 [==============================] - 0s 6ms/step - loss: 0.0099 - lr: 0.0010\n",
            "Epoch 365/500\n",
            "12/25 [=============>................] - ETA: 0s - loss: 0.0121"
          ]
        },
        {
          "output_type": "stream",
          "name": "stderr",
          "text": [
            "WARNING:tensorflow:Learning rate reduction is conditioned on metric `val_loss` which is not available. Available metrics are: loss,lr\n",
            "WARNING:tensorflow:Early stopping conditioned on metric `val_loss` which is not available. Available metrics are: loss,lr\n"
          ]
        },
        {
          "output_type": "stream",
          "name": "stdout",
          "text": [
            "\b\b\b\b\b\b\b\b\b\b\b\b\b\b\b\b\b\b\b\b\b\b\b\b\b\b\b\b\b\b\b\b\b\b\b\b\b\b\b\b\b\b\b\b\b\b\b\b\b\b\b\b\b\b\b\b\b\b\b\b\b\b\b\r25/25 [==============================] - 0s 5ms/step - loss: 0.0097 - lr: 0.0010\n",
            "Epoch 366/500\n",
            "12/25 [=============>................] - ETA: 0s - loss: 0.0058"
          ]
        },
        {
          "output_type": "stream",
          "name": "stderr",
          "text": [
            "WARNING:tensorflow:Learning rate reduction is conditioned on metric `val_loss` which is not available. Available metrics are: loss,lr\n",
            "WARNING:tensorflow:Early stopping conditioned on metric `val_loss` which is not available. Available metrics are: loss,lr\n"
          ]
        },
        {
          "output_type": "stream",
          "name": "stdout",
          "text": [
            "\b\b\b\b\b\b\b\b\b\b\b\b\b\b\b\b\b\b\b\b\b\b\b\b\b\b\b\b\b\b\b\b\b\b\b\b\b\b\b\b\b\b\b\b\b\b\b\b\b\b\b\b\b\b\b\b\b\b\b\b\b\b\b\r25/25 [==============================] - 0s 6ms/step - loss: 0.0142 - lr: 0.0010\n",
            "Epoch 367/500\n",
            "15/25 [=================>............] - ETA: 0s - loss: 0.0144"
          ]
        },
        {
          "output_type": "stream",
          "name": "stderr",
          "text": [
            "WARNING:tensorflow:Learning rate reduction is conditioned on metric `val_loss` which is not available. Available metrics are: loss,lr\n",
            "WARNING:tensorflow:Early stopping conditioned on metric `val_loss` which is not available. Available metrics are: loss,lr\n"
          ]
        },
        {
          "output_type": "stream",
          "name": "stdout",
          "text": [
            "\b\b\b\b\b\b\b\b\b\b\b\b\b\b\b\b\b\b\b\b\b\b\b\b\b\b\b\b\b\b\b\b\b\b\b\b\b\b\b\b\b\b\b\b\b\b\b\b\b\b\b\b\b\b\b\b\b\b\b\b\b\b\b\r25/25 [==============================] - 0s 5ms/step - loss: 0.0154 - lr: 0.0010\n",
            "Epoch 368/500\n",
            "14/25 [===============>..............] - ETA: 0s - loss: 0.0101"
          ]
        },
        {
          "output_type": "stream",
          "name": "stderr",
          "text": [
            "WARNING:tensorflow:Learning rate reduction is conditioned on metric `val_loss` which is not available. Available metrics are: loss,lr\n",
            "WARNING:tensorflow:Early stopping conditioned on metric `val_loss` which is not available. Available metrics are: loss,lr\n"
          ]
        },
        {
          "output_type": "stream",
          "name": "stdout",
          "text": [
            "\b\b\b\b\b\b\b\b\b\b\b\b\b\b\b\b\b\b\b\b\b\b\b\b\b\b\b\b\b\b\b\b\b\b\b\b\b\b\b\b\b\b\b\b\b\b\b\b\b\b\b\b\b\b\b\b\b\b\b\b\b\b\b\r25/25 [==============================] - 0s 5ms/step - loss: 0.0170 - lr: 0.0010\n",
            "Epoch 369/500\n",
            "19/25 [=====================>........] - ETA: 0s - loss: 0.0244"
          ]
        },
        {
          "output_type": "stream",
          "name": "stderr",
          "text": [
            "WARNING:tensorflow:Learning rate reduction is conditioned on metric `val_loss` which is not available. Available metrics are: loss,lr\n",
            "WARNING:tensorflow:Early stopping conditioned on metric `val_loss` which is not available. Available metrics are: loss,lr\n"
          ]
        },
        {
          "output_type": "stream",
          "name": "stdout",
          "text": [
            "\b\b\b\b\b\b\b\b\b\b\b\b\b\b\b\b\b\b\b\b\b\b\b\b\b\b\b\b\b\b\b\b\b\b\b\b\b\b\b\b\b\b\b\b\b\b\b\b\b\b\b\b\b\b\b\b\b\b\b\b\b\b\b\r25/25 [==============================] - 0s 6ms/step - loss: 0.0212 - lr: 0.0010\n",
            "Epoch 370/500\n",
            "15/25 [=================>............] - ETA: 0s - loss: 0.0062"
          ]
        },
        {
          "output_type": "stream",
          "name": "stderr",
          "text": [
            "WARNING:tensorflow:Learning rate reduction is conditioned on metric `val_loss` which is not available. Available metrics are: loss,lr\n",
            "WARNING:tensorflow:Early stopping conditioned on metric `val_loss` which is not available. Available metrics are: loss,lr\n"
          ]
        },
        {
          "output_type": "stream",
          "name": "stdout",
          "text": [
            "\b\b\b\b\b\b\b\b\b\b\b\b\b\b\b\b\b\b\b\b\b\b\b\b\b\b\b\b\b\b\b\b\b\b\b\b\b\b\b\b\b\b\b\b\b\b\b\b\b\b\b\b\b\b\b\b\b\b\b\b\b\b\b\r25/25 [==============================] - 0s 6ms/step - loss: 0.0176 - lr: 0.0010\n",
            "Epoch 371/500\n",
            "15/25 [=================>............] - ETA: 0s - loss: 0.0184"
          ]
        },
        {
          "output_type": "stream",
          "name": "stderr",
          "text": [
            "WARNING:tensorflow:Learning rate reduction is conditioned on metric `val_loss` which is not available. Available metrics are: loss,lr\n",
            "WARNING:tensorflow:Early stopping conditioned on metric `val_loss` which is not available. Available metrics are: loss,lr\n"
          ]
        },
        {
          "output_type": "stream",
          "name": "stdout",
          "text": [
            "\b\b\b\b\b\b\b\b\b\b\b\b\b\b\b\b\b\b\b\b\b\b\b\b\b\b\b\b\b\b\b\b\b\b\b\b\b\b\b\b\b\b\b\b\b\b\b\b\b\b\b\b\b\b\b\b\b\b\b\b\b\b\b\r25/25 [==============================] - 0s 6ms/step - loss: 0.0213 - lr: 0.0010\n",
            "Epoch 372/500\n",
            "13/25 [==============>...............] - ETA: 0s - loss: 0.0224"
          ]
        },
        {
          "output_type": "stream",
          "name": "stderr",
          "text": [
            "WARNING:tensorflow:Learning rate reduction is conditioned on metric `val_loss` which is not available. Available metrics are: loss,lr\n",
            "WARNING:tensorflow:Early stopping conditioned on metric `val_loss` which is not available. Available metrics are: loss,lr\n"
          ]
        },
        {
          "output_type": "stream",
          "name": "stdout",
          "text": [
            "\b\b\b\b\b\b\b\b\b\b\b\b\b\b\b\b\b\b\b\b\b\b\b\b\b\b\b\b\b\b\b\b\b\b\b\b\b\b\b\b\b\b\b\b\b\b\b\b\b\b\b\b\b\b\b\b\b\b\b\b\b\b\b\r25/25 [==============================] - 0s 6ms/step - loss: 0.0186 - lr: 0.0010\n",
            "Epoch 373/500\n",
            "14/25 [===============>..............] - ETA: 0s - loss: 0.0174"
          ]
        },
        {
          "output_type": "stream",
          "name": "stderr",
          "text": [
            "WARNING:tensorflow:Learning rate reduction is conditioned on metric `val_loss` which is not available. Available metrics are: loss,lr\n",
            "WARNING:tensorflow:Early stopping conditioned on metric `val_loss` which is not available. Available metrics are: loss,lr\n"
          ]
        },
        {
          "output_type": "stream",
          "name": "stdout",
          "text": [
            "\b\b\b\b\b\b\b\b\b\b\b\b\b\b\b\b\b\b\b\b\b\b\b\b\b\b\b\b\b\b\b\b\b\b\b\b\b\b\b\b\b\b\b\b\b\b\b\b\b\b\b\b\b\b\b\b\b\b\b\b\b\b\b\r25/25 [==============================] - 0s 6ms/step - loss: 0.0149 - lr: 0.0010\n",
            "Epoch 374/500\n",
            "12/25 [=============>................] - ETA: 0s - loss: 0.0083"
          ]
        },
        {
          "output_type": "stream",
          "name": "stderr",
          "text": [
            "WARNING:tensorflow:Learning rate reduction is conditioned on metric `val_loss` which is not available. Available metrics are: loss,lr\n",
            "WARNING:tensorflow:Early stopping conditioned on metric `val_loss` which is not available. Available metrics are: loss,lr\n"
          ]
        },
        {
          "output_type": "stream",
          "name": "stdout",
          "text": [
            "\b\b\b\b\b\b\b\b\b\b\b\b\b\b\b\b\b\b\b\b\b\b\b\b\b\b\b\b\b\b\b\b\b\b\b\b\b\b\b\b\b\b\b\b\b\b\b\b\b\b\b\b\b\b\b\b\b\b\b\b\b\b\b\r25/25 [==============================] - 0s 6ms/step - loss: 0.0096 - lr: 0.0010\n",
            "Epoch 375/500\n",
            "14/25 [===============>..............] - ETA: 0s - loss: 0.0166"
          ]
        },
        {
          "output_type": "stream",
          "name": "stderr",
          "text": [
            "WARNING:tensorflow:Learning rate reduction is conditioned on metric `val_loss` which is not available. Available metrics are: loss,lr\n",
            "WARNING:tensorflow:Early stopping conditioned on metric `val_loss` which is not available. Available metrics are: loss,lr\n"
          ]
        },
        {
          "output_type": "stream",
          "name": "stdout",
          "text": [
            "\b\b\b\b\b\b\b\b\b\b\b\b\b\b\b\b\b\b\b\b\b\b\b\b\b\b\b\b\b\b\b\b\b\b\b\b\b\b\b\b\b\b\b\b\b\b\b\b\b\b\b\b\b\b\b\b\b\b\b\b\b\b\b\r25/25 [==============================] - 0s 5ms/step - loss: 0.0159 - lr: 0.0010\n",
            "Epoch 376/500\n",
            "12/25 [=============>................] - ETA: 0s - loss: 0.0080    "
          ]
        },
        {
          "output_type": "stream",
          "name": "stderr",
          "text": [
            "WARNING:tensorflow:Learning rate reduction is conditioned on metric `val_loss` which is not available. Available metrics are: loss,lr\n",
            "WARNING:tensorflow:Early stopping conditioned on metric `val_loss` which is not available. Available metrics are: loss,lr\n"
          ]
        },
        {
          "output_type": "stream",
          "name": "stdout",
          "text": [
            "\b\b\b\b\b\b\b\b\b\b\b\b\b\b\b\b\b\b\b\b\b\b\b\b\b\b\b\b\b\b\b\b\b\b\b\b\b\b\b\b\b\b\b\b\b\b\b\b\b\b\b\b\b\b\b\b\b\b\b\b\b\b\b\r25/25 [==============================] - 0s 6ms/step - loss: 0.0144 - lr: 0.0010\n",
            "Epoch 377/500\n",
            "13/25 [==============>...............] - ETA: 0s - loss: 0.0216"
          ]
        },
        {
          "output_type": "stream",
          "name": "stderr",
          "text": [
            "WARNING:tensorflow:Learning rate reduction is conditioned on metric `val_loss` which is not available. Available metrics are: loss,lr\n",
            "WARNING:tensorflow:Early stopping conditioned on metric `val_loss` which is not available. Available metrics are: loss,lr\n"
          ]
        },
        {
          "output_type": "stream",
          "name": "stdout",
          "text": [
            "\b\b\b\b\b\b\b\b\b\b\b\b\b\b\b\b\b\b\b\b\b\b\b\b\b\b\b\b\b\b\b\b\b\b\b\b\b\b\b\b\b\b\b\b\b\b\b\b\b\b\b\b\b\b\b\b\b\b\b\b\b\b\b\r25/25 [==============================] - 0s 6ms/step - loss: 0.0194 - lr: 0.0010\n",
            "Epoch 378/500\n",
            "12/25 [=============>................] - ETA: 0s - loss: 0.0103    "
          ]
        },
        {
          "output_type": "stream",
          "name": "stderr",
          "text": [
            "WARNING:tensorflow:Learning rate reduction is conditioned on metric `val_loss` which is not available. Available metrics are: loss,lr\n",
            "WARNING:tensorflow:Early stopping conditioned on metric `val_loss` which is not available. Available metrics are: loss,lr\n"
          ]
        },
        {
          "output_type": "stream",
          "name": "stdout",
          "text": [
            "\b\b\b\b\b\b\b\b\b\b\b\b\b\b\b\b\b\b\b\b\b\b\b\b\b\b\b\b\b\b\b\b\b\b\b\b\b\b\b\b\b\b\b\b\b\b\b\b\b\b\b\b\b\b\b\b\b\b\b\b\b\b\b\r25/25 [==============================] - 0s 6ms/step - loss: 0.0128 - lr: 0.0010\n",
            "Epoch 379/500\n",
            "13/25 [==============>...............] - ETA: 0s - loss: 0.0131"
          ]
        },
        {
          "output_type": "stream",
          "name": "stderr",
          "text": [
            "WARNING:tensorflow:Learning rate reduction is conditioned on metric `val_loss` which is not available. Available metrics are: loss,lr\n",
            "WARNING:tensorflow:Early stopping conditioned on metric `val_loss` which is not available. Available metrics are: loss,lr\n"
          ]
        },
        {
          "output_type": "stream",
          "name": "stdout",
          "text": [
            "\b\b\b\b\b\b\b\b\b\b\b\b\b\b\b\b\b\b\b\b\b\b\b\b\b\b\b\b\b\b\b\b\b\b\b\b\b\b\b\b\b\b\b\b\b\b\b\b\b\b\b\b\b\b\b\b\b\b\b\b\b\b\b\r25/25 [==============================] - 0s 6ms/step - loss: 0.0109 - lr: 0.0010\n",
            "Epoch 380/500\n",
            "15/25 [=================>............] - ETA: 0s - loss: 0.0099"
          ]
        },
        {
          "output_type": "stream",
          "name": "stderr",
          "text": [
            "WARNING:tensorflow:Learning rate reduction is conditioned on metric `val_loss` which is not available. Available metrics are: loss,lr\n",
            "WARNING:tensorflow:Early stopping conditioned on metric `val_loss` which is not available. Available metrics are: loss,lr\n"
          ]
        },
        {
          "output_type": "stream",
          "name": "stdout",
          "text": [
            "\b\b\b\b\b\b\b\b\b\b\b\b\b\b\b\b\b\b\b\b\b\b\b\b\b\b\b\b\b\b\b\b\b\b\b\b\b\b\b\b\b\b\b\b\b\b\b\b\b\b\b\b\b\b\b\b\b\b\b\b\b\b\b\r25/25 [==============================] - 0s 5ms/step - loss: 0.0095 - lr: 0.0010\n",
            "Epoch 381/500\n",
            "15/25 [=================>............] - ETA: 0s - loss: 0.0113"
          ]
        },
        {
          "output_type": "stream",
          "name": "stderr",
          "text": [
            "WARNING:tensorflow:Learning rate reduction is conditioned on metric `val_loss` which is not available. Available metrics are: loss,lr\n",
            "WARNING:tensorflow:Early stopping conditioned on metric `val_loss` which is not available. Available metrics are: loss,lr\n"
          ]
        },
        {
          "output_type": "stream",
          "name": "stdout",
          "text": [
            "\b\b\b\b\b\b\b\b\b\b\b\b\b\b\b\b\b\b\b\b\b\b\b\b\b\b\b\b\b\b\b\b\b\b\b\b\b\b\b\b\b\b\b\b\b\b\b\b\b\b\b\b\b\b\b\b\b\b\b\b\b\b\b\r25/25 [==============================] - 0s 5ms/step - loss: 0.0097 - lr: 0.0010\n",
            "Epoch 382/500\n",
            "17/25 [===================>..........] - ETA: 0s - loss: 0.0153"
          ]
        },
        {
          "output_type": "stream",
          "name": "stderr",
          "text": [
            "WARNING:tensorflow:Learning rate reduction is conditioned on metric `val_loss` which is not available. Available metrics are: loss,lr\n",
            "WARNING:tensorflow:Early stopping conditioned on metric `val_loss` which is not available. Available metrics are: loss,lr\n"
          ]
        },
        {
          "output_type": "stream",
          "name": "stdout",
          "text": [
            "\b\b\b\b\b\b\b\b\b\b\b\b\b\b\b\b\b\b\b\b\b\b\b\b\b\b\b\b\b\b\b\b\b\b\b\b\b\b\b\b\b\b\b\b\b\b\b\b\b\b\b\b\b\b\b\b\b\b\b\b\b\b\b\r25/25 [==============================] - 0s 5ms/step - loss: 0.0210 - lr: 0.0010\n",
            "Epoch 383/500\n",
            "12/25 [=============>................] - ETA: 0s - loss: 0.0178"
          ]
        },
        {
          "output_type": "stream",
          "name": "stderr",
          "text": [
            "WARNING:tensorflow:Learning rate reduction is conditioned on metric `val_loss` which is not available. Available metrics are: loss,lr\n",
            "WARNING:tensorflow:Early stopping conditioned on metric `val_loss` which is not available. Available metrics are: loss,lr\n"
          ]
        },
        {
          "output_type": "stream",
          "name": "stdout",
          "text": [
            "\b\b\b\b\b\b\b\b\b\b\b\b\b\b\b\b\b\b\b\b\b\b\b\b\b\b\b\b\b\b\b\b\b\b\b\b\b\b\b\b\b\b\b\b\b\b\b\b\b\b\b\b\b\b\b\b\b\b\b\b\b\b\b\r25/25 [==============================] - 0s 6ms/step - loss: 0.0160 - lr: 0.0010\n",
            "Epoch 384/500\n",
            "12/25 [=============>................] - ETA: 0s - loss: 0.0158"
          ]
        },
        {
          "output_type": "stream",
          "name": "stderr",
          "text": [
            "WARNING:tensorflow:Learning rate reduction is conditioned on metric `val_loss` which is not available. Available metrics are: loss,lr\n",
            "WARNING:tensorflow:Early stopping conditioned on metric `val_loss` which is not available. Available metrics are: loss,lr\n"
          ]
        },
        {
          "output_type": "stream",
          "name": "stdout",
          "text": [
            "\b\b\b\b\b\b\b\b\b\b\b\b\b\b\b\b\b\b\b\b\b\b\b\b\b\b\b\b\b\b\b\b\b\b\b\b\b\b\b\b\b\b\b\b\b\b\b\b\b\b\b\b\b\b\b\b\b\b\b\b\b\b\b\r25/25 [==============================] - 0s 6ms/step - loss: 0.0181 - lr: 0.0010\n",
            "Epoch 385/500\n",
            "24/25 [===========================>..] - ETA: 0s - loss: 0.0116"
          ]
        },
        {
          "output_type": "stream",
          "name": "stderr",
          "text": [
            "WARNING:tensorflow:Learning rate reduction is conditioned on metric `val_loss` which is not available. Available metrics are: loss,lr\n",
            "WARNING:tensorflow:Early stopping conditioned on metric `val_loss` which is not available. Available metrics are: loss,lr\n"
          ]
        },
        {
          "output_type": "stream",
          "name": "stdout",
          "text": [
            "\b\b\b\b\b\b\b\b\b\b\b\b\b\b\b\b\b\b\b\b\b\b\b\b\b\b\b\b\b\b\b\b\b\b\b\b\b\b\b\b\b\b\b\b\b\b\b\b\b\b\b\b\b\b\b\b\b\b\b\b\b\b\b\r25/25 [==============================] - 0s 7ms/step - loss: 0.0114 - lr: 0.0010\n",
            "Epoch 386/500\n",
            "15/25 [=================>............] - ETA: 0s - loss: 0.0119"
          ]
        },
        {
          "output_type": "stream",
          "name": "stderr",
          "text": [
            "WARNING:tensorflow:Learning rate reduction is conditioned on metric `val_loss` which is not available. Available metrics are: loss,lr\n",
            "WARNING:tensorflow:Early stopping conditioned on metric `val_loss` which is not available. Available metrics are: loss,lr\n"
          ]
        },
        {
          "output_type": "stream",
          "name": "stdout",
          "text": [
            "\b\b\b\b\b\b\b\b\b\b\b\b\b\b\b\b\b\b\b\b\b\b\b\b\b\b\b\b\b\b\b\b\b\b\b\b\b\b\b\b\b\b\b\b\b\b\b\b\b\b\b\b\b\b\b\b\b\b\b\b\b\b\b\r25/25 [==============================] - 0s 6ms/step - loss: 0.0141 - lr: 0.0010\n",
            "Epoch 387/500\n",
            "15/25 [=================>............] - ETA: 0s - loss: 0.0151"
          ]
        },
        {
          "output_type": "stream",
          "name": "stderr",
          "text": [
            "WARNING:tensorflow:Learning rate reduction is conditioned on metric `val_loss` which is not available. Available metrics are: loss,lr\n",
            "WARNING:tensorflow:Early stopping conditioned on metric `val_loss` which is not available. Available metrics are: loss,lr\n"
          ]
        },
        {
          "output_type": "stream",
          "name": "stdout",
          "text": [
            "\b\b\b\b\b\b\b\b\b\b\b\b\b\b\b\b\b\b\b\b\b\b\b\b\b\b\b\b\b\b\b\b\b\b\b\b\b\b\b\b\b\b\b\b\b\b\b\b\b\b\b\b\b\b\b\b\b\b\b\b\b\b\b\r25/25 [==============================] - 0s 6ms/step - loss: 0.0154 - lr: 0.0010\n",
            "Epoch 388/500\n",
            "13/25 [==============>...............] - ETA: 0s - loss: 0.0099"
          ]
        },
        {
          "output_type": "stream",
          "name": "stderr",
          "text": [
            "WARNING:tensorflow:Learning rate reduction is conditioned on metric `val_loss` which is not available. Available metrics are: loss,lr\n",
            "WARNING:tensorflow:Early stopping conditioned on metric `val_loss` which is not available. Available metrics are: loss,lr\n"
          ]
        },
        {
          "output_type": "stream",
          "name": "stdout",
          "text": [
            "\b\b\b\b\b\b\b\b\b\b\b\b\b\b\b\b\b\b\b\b\b\b\b\b\b\b\b\b\b\b\b\b\b\b\b\b\b\b\b\b\b\b\b\b\b\b\b\b\b\b\b\b\b\b\b\b\b\b\b\b\b\b\b\r25/25 [==============================] - 0s 6ms/step - loss: 0.0121 - lr: 0.0010\n",
            "Epoch 389/500\n",
            "12/25 [=============>................] - ETA: 0s - loss: 0.0066"
          ]
        },
        {
          "output_type": "stream",
          "name": "stderr",
          "text": [
            "WARNING:tensorflow:Learning rate reduction is conditioned on metric `val_loss` which is not available. Available metrics are: loss,lr\n",
            "WARNING:tensorflow:Early stopping conditioned on metric `val_loss` which is not available. Available metrics are: loss,lr\n"
          ]
        },
        {
          "output_type": "stream",
          "name": "stdout",
          "text": [
            "\b\b\b\b\b\b\b\b\b\b\b\b\b\b\b\b\b\b\b\b\b\b\b\b\b\b\b\b\b\b\b\b\b\b\b\b\b\b\b\b\b\b\b\b\b\b\b\b\b\b\b\b\b\b\b\b\b\b\b\b\b\b\b\r25/25 [==============================] - 0s 6ms/step - loss: 0.0117 - lr: 0.0010\n",
            "Epoch 390/500\n",
            "12/25 [=============>................] - ETA: 0s - loss: 0.0118"
          ]
        },
        {
          "output_type": "stream",
          "name": "stderr",
          "text": [
            "WARNING:tensorflow:Learning rate reduction is conditioned on metric `val_loss` which is not available. Available metrics are: loss,lr\n",
            "WARNING:tensorflow:Early stopping conditioned on metric `val_loss` which is not available. Available metrics are: loss,lr\n"
          ]
        },
        {
          "output_type": "stream",
          "name": "stdout",
          "text": [
            "\b\b\b\b\b\b\b\b\b\b\b\b\b\b\b\b\b\b\b\b\b\b\b\b\b\b\b\b\b\b\b\b\b\b\b\b\b\b\b\b\b\b\b\b\b\b\b\b\b\b\b\b\b\b\b\b\b\b\b\b\b\b\b\r25/25 [==============================] - 0s 6ms/step - loss: 0.0159 - lr: 0.0010\n",
            "Epoch 391/500\n",
            "12/25 [=============>................] - ETA: 0s - loss: 0.0090"
          ]
        },
        {
          "output_type": "stream",
          "name": "stderr",
          "text": [
            "WARNING:tensorflow:Learning rate reduction is conditioned on metric `val_loss` which is not available. Available metrics are: loss,lr\n",
            "WARNING:tensorflow:Early stopping conditioned on metric `val_loss` which is not available. Available metrics are: loss,lr\n"
          ]
        },
        {
          "output_type": "stream",
          "name": "stdout",
          "text": [
            "\b\b\b\b\b\b\b\b\b\b\b\b\b\b\b\b\b\b\b\b\b\b\b\b\b\b\b\b\b\b\b\b\b\b\b\b\b\b\b\b\b\b\b\b\b\b\b\b\b\b\b\b\b\b\b\b\b\b\b\b\b\b\b\r25/25 [==============================] - 0s 6ms/step - loss: 0.0125 - lr: 0.0010\n",
            "Epoch 392/500\n",
            "12/25 [=============>................] - ETA: 0s - loss: 0.0237"
          ]
        },
        {
          "output_type": "stream",
          "name": "stderr",
          "text": [
            "WARNING:tensorflow:Learning rate reduction is conditioned on metric `val_loss` which is not available. Available metrics are: loss,lr\n",
            "WARNING:tensorflow:Early stopping conditioned on metric `val_loss` which is not available. Available metrics are: loss,lr\n"
          ]
        },
        {
          "output_type": "stream",
          "name": "stdout",
          "text": [
            "\b\b\b\b\b\b\b\b\b\b\b\b\b\b\b\b\b\b\b\b\b\b\b\b\b\b\b\b\b\b\b\b\b\b\b\b\b\b\b\b\b\b\b\b\b\b\b\b\b\b\b\b\b\b\b\b\b\b\b\b\b\b\b\r25/25 [==============================] - 0s 6ms/step - loss: 0.0205 - lr: 0.0010\n",
            "Epoch 393/500\n",
            "14/25 [===============>..............] - ETA: 0s - loss: 0.0307    "
          ]
        },
        {
          "output_type": "stream",
          "name": "stderr",
          "text": [
            "WARNING:tensorflow:Learning rate reduction is conditioned on metric `val_loss` which is not available. Available metrics are: loss,lr\n",
            "WARNING:tensorflow:Early stopping conditioned on metric `val_loss` which is not available. Available metrics are: loss,lr\n"
          ]
        },
        {
          "output_type": "stream",
          "name": "stdout",
          "text": [
            "\b\b\b\b\b\b\b\b\b\b\b\b\b\b\b\b\b\b\b\b\b\b\b\b\b\b\b\b\b\b\b\b\b\b\b\b\b\b\b\b\b\b\b\b\b\b\b\b\b\b\b\b\b\b\b\b\b\b\b\b\b\b\b\r25/25 [==============================] - 0s 6ms/step - loss: 0.0194 - lr: 0.0010\n",
            "Epoch 394/500\n",
            "12/25 [=============>................] - ETA: 0s - loss: 0.0228"
          ]
        },
        {
          "output_type": "stream",
          "name": "stderr",
          "text": [
            "WARNING:tensorflow:Learning rate reduction is conditioned on metric `val_loss` which is not available. Available metrics are: loss,lr\n",
            "WARNING:tensorflow:Early stopping conditioned on metric `val_loss` which is not available. Available metrics are: loss,lr\n"
          ]
        },
        {
          "output_type": "stream",
          "name": "stdout",
          "text": [
            "\b\b\b\b\b\b\b\b\b\b\b\b\b\b\b\b\b\b\b\b\b\b\b\b\b\b\b\b\b\b\b\b\b\b\b\b\b\b\b\b\b\b\b\b\b\b\b\b\b\b\b\b\b\b\b\b\b\b\b\b\b\b\b\r25/25 [==============================] - 0s 6ms/step - loss: 0.0181 - lr: 0.0010\n",
            "Epoch 395/500\n",
            "12/25 [=============>................] - ETA: 0s - loss: 0.0139"
          ]
        },
        {
          "output_type": "stream",
          "name": "stderr",
          "text": [
            "WARNING:tensorflow:Learning rate reduction is conditioned on metric `val_loss` which is not available. Available metrics are: loss,lr\n",
            "WARNING:tensorflow:Early stopping conditioned on metric `val_loss` which is not available. Available metrics are: loss,lr\n"
          ]
        },
        {
          "output_type": "stream",
          "name": "stdout",
          "text": [
            "\b\b\b\b\b\b\b\b\b\b\b\b\b\b\b\b\b\b\b\b\b\b\b\b\b\b\b\b\b\b\b\b\b\b\b\b\b\b\b\b\b\b\b\b\b\b\b\b\b\b\b\b\b\b\b\b\b\b\b\b\b\b\b\r25/25 [==============================] - 0s 6ms/step - loss: 0.0122 - lr: 0.0010\n",
            "Epoch 396/500\n",
            "12/25 [=============>................] - ETA: 0s - loss: 0.0160"
          ]
        },
        {
          "output_type": "stream",
          "name": "stderr",
          "text": [
            "WARNING:tensorflow:Learning rate reduction is conditioned on metric `val_loss` which is not available. Available metrics are: loss,lr\n",
            "WARNING:tensorflow:Early stopping conditioned on metric `val_loss` which is not available. Available metrics are: loss,lr\n"
          ]
        },
        {
          "output_type": "stream",
          "name": "stdout",
          "text": [
            "\b\b\b\b\b\b\b\b\b\b\b\b\b\b\b\b\b\b\b\b\b\b\b\b\b\b\b\b\b\b\b\b\b\b\b\b\b\b\b\b\b\b\b\b\b\b\b\b\b\b\b\b\b\b\b\b\b\b\b\b\b\b\b\r25/25 [==============================] - 0s 6ms/step - loss: 0.0153 - lr: 0.0010\n",
            "Epoch 397/500\n",
            "13/25 [==============>...............] - ETA: 0s - loss: 0.0100"
          ]
        },
        {
          "output_type": "stream",
          "name": "stderr",
          "text": [
            "WARNING:tensorflow:Learning rate reduction is conditioned on metric `val_loss` which is not available. Available metrics are: loss,lr\n",
            "WARNING:tensorflow:Early stopping conditioned on metric `val_loss` which is not available. Available metrics are: loss,lr\n"
          ]
        },
        {
          "output_type": "stream",
          "name": "stdout",
          "text": [
            "\b\b\b\b\b\b\b\b\b\b\b\b\b\b\b\b\b\b\b\b\b\b\b\b\b\b\b\b\b\b\b\b\b\b\b\b\b\b\b\b\b\b\b\b\b\b\b\b\b\b\b\b\b\b\b\b\b\b\b\b\b\b\b\r25/25 [==============================] - 0s 6ms/step - loss: 0.0147 - lr: 0.0010\n",
            "Epoch 398/500\n",
            "22/25 [=========================>....] - ETA: 0s - loss: 0.0164"
          ]
        },
        {
          "output_type": "stream",
          "name": "stderr",
          "text": [
            "WARNING:tensorflow:Learning rate reduction is conditioned on metric `val_loss` which is not available. Available metrics are: loss,lr\n",
            "WARNING:tensorflow:Early stopping conditioned on metric `val_loss` which is not available. Available metrics are: loss,lr\n"
          ]
        },
        {
          "output_type": "stream",
          "name": "stdout",
          "text": [
            "\b\b\b\b\b\b\b\b\b\b\b\b\b\b\b\b\b\b\b\b\b\b\b\b\b\b\b\b\b\b\b\b\b\b\b\b\b\b\b\b\b\b\b\b\b\b\b\b\b\b\b\b\b\b\b\b\b\b\b\b\b\b\b\r25/25 [==============================] - 0s 7ms/step - loss: 0.0150 - lr: 0.0010\n",
            "Epoch 399/500\n",
            "13/25 [==============>...............] - ETA: 0s - loss: 0.0168"
          ]
        },
        {
          "output_type": "stream",
          "name": "stderr",
          "text": [
            "WARNING:tensorflow:Learning rate reduction is conditioned on metric `val_loss` which is not available. Available metrics are: loss,lr\n",
            "WARNING:tensorflow:Early stopping conditioned on metric `val_loss` which is not available. Available metrics are: loss,lr\n"
          ]
        },
        {
          "output_type": "stream",
          "name": "stdout",
          "text": [
            "\b\b\b\b\b\b\b\b\b\b\b\b\b\b\b\b\b\b\b\b\b\b\b\b\b\b\b\b\b\b\b\b\b\b\b\b\b\b\b\b\b\b\b\b\b\b\b\b\b\b\b\b\b\b\b\b\b\b\b\b\b\b\b\r25/25 [==============================] - 0s 6ms/step - loss: 0.0117 - lr: 0.0010\n",
            "Epoch 400/500\n",
            "11/25 [============>.................] - ETA: 0s - loss: 0.0075"
          ]
        },
        {
          "output_type": "stream",
          "name": "stderr",
          "text": [
            "WARNING:tensorflow:Learning rate reduction is conditioned on metric `val_loss` which is not available. Available metrics are: loss,lr\n",
            "WARNING:tensorflow:Early stopping conditioned on metric `val_loss` which is not available. Available metrics are: loss,lr\n"
          ]
        },
        {
          "output_type": "stream",
          "name": "stdout",
          "text": [
            "\b\b\b\b\b\b\b\b\b\b\b\b\b\b\b\b\b\b\b\b\b\b\b\b\b\b\b\b\b\b\b\b\b\b\b\b\b\b\b\b\b\b\b\b\b\b\b\b\b\b\b\b\b\b\b\b\b\b\b\b\b\b\b\r25/25 [==============================] - 0s 6ms/step - loss: 0.0113 - lr: 0.0010\n",
            "Epoch 401/500\n",
            "15/25 [=================>............] - ETA: 0s - loss: 0.0094"
          ]
        },
        {
          "output_type": "stream",
          "name": "stderr",
          "text": [
            "WARNING:tensorflow:Learning rate reduction is conditioned on metric `val_loss` which is not available. Available metrics are: loss,lr\n",
            "WARNING:tensorflow:Early stopping conditioned on metric `val_loss` which is not available. Available metrics are: loss,lr\n"
          ]
        },
        {
          "output_type": "stream",
          "name": "stdout",
          "text": [
            "\b\b\b\b\b\b\b\b\b\b\b\b\b\b\b\b\b\b\b\b\b\b\b\b\b\b\b\b\b\b\b\b\b\b\b\b\b\b\b\b\b\b\b\b\b\b\b\b\b\b\b\b\b\b\b\b\b\b\b\b\b\b\b\r25/25 [==============================] - 0s 5ms/step - loss: 0.0102 - lr: 0.0010\n",
            "Epoch 402/500\n",
            "13/25 [==============>...............] - ETA: 0s - loss: 0.0085"
          ]
        },
        {
          "output_type": "stream",
          "name": "stderr",
          "text": [
            "WARNING:tensorflow:Learning rate reduction is conditioned on metric `val_loss` which is not available. Available metrics are: loss,lr\n",
            "WARNING:tensorflow:Early stopping conditioned on metric `val_loss` which is not available. Available metrics are: loss,lr\n"
          ]
        },
        {
          "output_type": "stream",
          "name": "stdout",
          "text": [
            "\b\b\b\b\b\b\b\b\b\b\b\b\b\b\b\b\b\b\b\b\b\b\b\b\b\b\b\b\b\b\b\b\b\b\b\b\b\b\b\b\b\b\b\b\b\b\b\b\b\b\b\b\b\b\b\b\b\b\b\b\b\b\b\r25/25 [==============================] - 0s 6ms/step - loss: 0.0150 - lr: 0.0010\n",
            "Epoch 403/500\n",
            "13/25 [==============>...............] - ETA: 0s - loss: 0.0128"
          ]
        },
        {
          "output_type": "stream",
          "name": "stderr",
          "text": [
            "WARNING:tensorflow:Learning rate reduction is conditioned on metric `val_loss` which is not available. Available metrics are: loss,lr\n",
            "WARNING:tensorflow:Early stopping conditioned on metric `val_loss` which is not available. Available metrics are: loss,lr\n"
          ]
        },
        {
          "output_type": "stream",
          "name": "stdout",
          "text": [
            "\b\b\b\b\b\b\b\b\b\b\b\b\b\b\b\b\b\b\b\b\b\b\b\b\b\b\b\b\b\b\b\b\b\b\b\b\b\b\b\b\b\b\b\b\b\b\b\b\b\b\b\b\b\b\b\b\b\b\b\b\b\b\b\r25/25 [==============================] - 0s 6ms/step - loss: 0.0142 - lr: 0.0010\n",
            "Epoch 404/500\n",
            "25/25 [==============================] - ETA: 0s - loss: 0.0141"
          ]
        },
        {
          "output_type": "stream",
          "name": "stderr",
          "text": [
            "WARNING:tensorflow:Learning rate reduction is conditioned on metric `val_loss` which is not available. Available metrics are: loss,lr\n",
            "WARNING:tensorflow:Early stopping conditioned on metric `val_loss` which is not available. Available metrics are: loss,lr\n"
          ]
        },
        {
          "output_type": "stream",
          "name": "stdout",
          "text": [
            "\b\b\b\b\b\b\b\b\b\b\b\b\b\b\b\b\b\b\b\b\b\b\b\b\b\b\b\b\b\b\b\b\b\b\b\b\b\b\b\b\b\b\b\b\b\b\b\b\b\b\b\b\b\b\b\b\b\b\b\b\b\b\b\r25/25 [==============================] - 0s 7ms/step - loss: 0.0141 - lr: 0.0010\n",
            "Epoch 405/500\n",
            "14/25 [===============>..............] - ETA: 0s - loss: 0.0229"
          ]
        },
        {
          "output_type": "stream",
          "name": "stderr",
          "text": [
            "WARNING:tensorflow:Learning rate reduction is conditioned on metric `val_loss` which is not available. Available metrics are: loss,lr\n",
            "WARNING:tensorflow:Early stopping conditioned on metric `val_loss` which is not available. Available metrics are: loss,lr\n"
          ]
        },
        {
          "output_type": "stream",
          "name": "stdout",
          "text": [
            "\b\b\b\b\b\b\b\b\b\b\b\b\b\b\b\b\b\b\b\b\b\b\b\b\b\b\b\b\b\b\b\b\b\b\b\b\b\b\b\b\b\b\b\b\b\b\b\b\b\b\b\b\b\b\b\b\b\b\b\b\b\b\b\r25/25 [==============================] - 0s 6ms/step - loss: 0.0185 - lr: 0.0010\n",
            "Epoch 406/500\n",
            "13/25 [==============>...............] - ETA: 0s - loss: 0.0276"
          ]
        },
        {
          "output_type": "stream",
          "name": "stderr",
          "text": [
            "WARNING:tensorflow:Learning rate reduction is conditioned on metric `val_loss` which is not available. Available metrics are: loss,lr\n",
            "WARNING:tensorflow:Early stopping conditioned on metric `val_loss` which is not available. Available metrics are: loss,lr\n"
          ]
        },
        {
          "output_type": "stream",
          "name": "stdout",
          "text": [
            "\b\b\b\b\b\b\b\b\b\b\b\b\b\b\b\b\b\b\b\b\b\b\b\b\b\b\b\b\b\b\b\b\b\b\b\b\b\b\b\b\b\b\b\b\b\b\b\b\b\b\b\b\b\b\b\b\b\b\b\b\b\b\b\r25/25 [==============================] - 0s 6ms/step - loss: 0.0332 - lr: 0.0010\n",
            "Epoch 407/500\n",
            "14/25 [===============>..............] - ETA: 0s - loss: 0.0164"
          ]
        },
        {
          "output_type": "stream",
          "name": "stderr",
          "text": [
            "WARNING:tensorflow:Learning rate reduction is conditioned on metric `val_loss` which is not available. Available metrics are: loss,lr\n",
            "WARNING:tensorflow:Early stopping conditioned on metric `val_loss` which is not available. Available metrics are: loss,lr\n"
          ]
        },
        {
          "output_type": "stream",
          "name": "stdout",
          "text": [
            "\b\b\b\b\b\b\b\b\b\b\b\b\b\b\b\b\b\b\b\b\b\b\b\b\b\b\b\b\b\b\b\b\b\b\b\b\b\b\b\b\b\b\b\b\b\b\b\b\b\b\b\b\b\b\b\b\b\b\b\b\b\b\b\r25/25 [==============================] - 0s 6ms/step - loss: 0.0165 - lr: 0.0010\n",
            "Epoch 408/500\n",
            "11/25 [============>.................] - ETA: 0s - loss: 0.0116"
          ]
        },
        {
          "output_type": "stream",
          "name": "stderr",
          "text": [
            "WARNING:tensorflow:Learning rate reduction is conditioned on metric `val_loss` which is not available. Available metrics are: loss,lr\n",
            "WARNING:tensorflow:Early stopping conditioned on metric `val_loss` which is not available. Available metrics are: loss,lr\n"
          ]
        },
        {
          "output_type": "stream",
          "name": "stdout",
          "text": [
            "\b\b\b\b\b\b\b\b\b\b\b\b\b\b\b\b\b\b\b\b\b\b\b\b\b\b\b\b\b\b\b\b\b\b\b\b\b\b\b\b\b\b\b\b\b\b\b\b\b\b\b\b\b\b\b\b\b\b\b\b\b\b\b\r25/25 [==============================] - 0s 6ms/step - loss: 0.0122 - lr: 0.0010\n",
            "Epoch 409/500\n",
            "10/25 [===========>..................] - ETA: 0s - loss: 0.0219"
          ]
        },
        {
          "output_type": "stream",
          "name": "stderr",
          "text": [
            "WARNING:tensorflow:Learning rate reduction is conditioned on metric `val_loss` which is not available. Available metrics are: loss,lr\n",
            "WARNING:tensorflow:Early stopping conditioned on metric `val_loss` which is not available. Available metrics are: loss,lr\n"
          ]
        },
        {
          "output_type": "stream",
          "name": "stdout",
          "text": [
            "\b\b\b\b\b\b\b\b\b\b\b\b\b\b\b\b\b\b\b\b\b\b\b\b\b\b\b\b\b\b\b\b\b\b\b\b\b\b\b\b\b\b\b\b\b\b\b\b\b\b\b\b\b\b\b\b\b\b\b\b\b\b\b\r25/25 [==============================] - 0s 6ms/step - loss: 0.0122 - lr: 0.0010\n",
            "Epoch 410/500\n",
            "14/25 [===============>..............] - ETA: 0s - loss: 0.0154"
          ]
        },
        {
          "output_type": "stream",
          "name": "stderr",
          "text": [
            "WARNING:tensorflow:Learning rate reduction is conditioned on metric `val_loss` which is not available. Available metrics are: loss,lr\n",
            "WARNING:tensorflow:Early stopping conditioned on metric `val_loss` which is not available. Available metrics are: loss,lr\n"
          ]
        },
        {
          "output_type": "stream",
          "name": "stdout",
          "text": [
            "\b\b\b\b\b\b\b\b\b\b\b\b\b\b\b\b\b\b\b\b\b\b\b\b\b\b\b\b\b\b\b\b\b\b\b\b\b\b\b\b\b\b\b\b\b\b\b\b\b\b\b\b\b\b\b\b\b\b\b\b\b\b\b\r25/25 [==============================] - 0s 6ms/step - loss: 0.0149 - lr: 0.0010\n",
            "Epoch 411/500\n",
            "11/25 [============>.................] - ETA: 0s - loss: 0.0212"
          ]
        },
        {
          "output_type": "stream",
          "name": "stderr",
          "text": [
            "WARNING:tensorflow:Learning rate reduction is conditioned on metric `val_loss` which is not available. Available metrics are: loss,lr\n",
            "WARNING:tensorflow:Early stopping conditioned on metric `val_loss` which is not available. Available metrics are: loss,lr\n"
          ]
        },
        {
          "output_type": "stream",
          "name": "stdout",
          "text": [
            "\b\b\b\b\b\b\b\b\b\b\b\b\b\b\b\b\b\b\b\b\b\b\b\b\b\b\b\b\b\b\b\b\b\b\b\b\b\b\b\b\b\b\b\b\b\b\b\b\b\b\b\b\b\b\b\b\b\b\b\b\b\b\b\r25/25 [==============================] - 0s 6ms/step - loss: 0.0196 - lr: 0.0010\n",
            "Epoch 412/500\n",
            "12/25 [=============>................] - ETA: 0s - loss: 0.0083"
          ]
        },
        {
          "output_type": "stream",
          "name": "stderr",
          "text": [
            "WARNING:tensorflow:Learning rate reduction is conditioned on metric `val_loss` which is not available. Available metrics are: loss,lr\n",
            "WARNING:tensorflow:Early stopping conditioned on metric `val_loss` which is not available. Available metrics are: loss,lr\n"
          ]
        },
        {
          "output_type": "stream",
          "name": "stdout",
          "text": [
            "\b\b\b\b\b\b\b\b\b\b\b\b\b\b\b\b\b\b\b\b\b\b\b\b\b\b\b\b\b\b\b\b\b\b\b\b\b\b\b\b\b\b\b\b\b\b\b\b\b\b\b\b\b\b\b\b\b\b\b\b\b\b\b\r25/25 [==============================] - 0s 6ms/step - loss: 0.0111 - lr: 0.0010\n",
            "Epoch 413/500\n",
            "12/25 [=============>................] - ETA: 0s - loss: 0.0116"
          ]
        },
        {
          "output_type": "stream",
          "name": "stderr",
          "text": [
            "WARNING:tensorflow:Learning rate reduction is conditioned on metric `val_loss` which is not available. Available metrics are: loss,lr\n",
            "WARNING:tensorflow:Early stopping conditioned on metric `val_loss` which is not available. Available metrics are: loss,lr\n"
          ]
        },
        {
          "output_type": "stream",
          "name": "stdout",
          "text": [
            "\b\b\b\b\b\b\b\b\b\b\b\b\b\b\b\b\b\b\b\b\b\b\b\b\b\b\b\b\b\b\b\b\b\b\b\b\b\b\b\b\b\b\b\b\b\b\b\b\b\b\b\b\b\b\b\b\b\b\b\b\b\b\b\r25/25 [==============================] - 0s 6ms/step - loss: 0.0122 - lr: 0.0010\n",
            "Epoch 414/500\n",
            "12/25 [=============>................] - ETA: 0s - loss: 0.0136"
          ]
        },
        {
          "output_type": "stream",
          "name": "stderr",
          "text": [
            "WARNING:tensorflow:Learning rate reduction is conditioned on metric `val_loss` which is not available. Available metrics are: loss,lr\n",
            "WARNING:tensorflow:Early stopping conditioned on metric `val_loss` which is not available. Available metrics are: loss,lr\n"
          ]
        },
        {
          "output_type": "stream",
          "name": "stdout",
          "text": [
            "\b\b\b\b\b\b\b\b\b\b\b\b\b\b\b\b\b\b\b\b\b\b\b\b\b\b\b\b\b\b\b\b\b\b\b\b\b\b\b\b\b\b\b\b\b\b\b\b\b\b\b\b\b\b\b\b\b\b\b\b\b\b\b\r25/25 [==============================] - 0s 6ms/step - loss: 0.0121 - lr: 0.0010\n",
            "Epoch 415/500\n",
            "11/25 [============>.................] - ETA: 0s - loss: 0.0077    "
          ]
        },
        {
          "output_type": "stream",
          "name": "stderr",
          "text": [
            "WARNING:tensorflow:Learning rate reduction is conditioned on metric `val_loss` which is not available. Available metrics are: loss,lr\n",
            "WARNING:tensorflow:Early stopping conditioned on metric `val_loss` which is not available. Available metrics are: loss,lr\n"
          ]
        },
        {
          "output_type": "stream",
          "name": "stdout",
          "text": [
            "\b\b\b\b\b\b\b\b\b\b\b\b\b\b\b\b\b\b\b\b\b\b\b\b\b\b\b\b\b\b\b\b\b\b\b\b\b\b\b\b\b\b\b\b\b\b\b\b\b\b\b\b\b\b\b\b\b\b\b\b\b\b\b\r25/25 [==============================] - 0s 6ms/step - loss: 0.0130 - lr: 0.0010\n",
            "Epoch 416/500\n",
            "13/25 [==============>...............] - ETA: 0s - loss: 0.0093    "
          ]
        },
        {
          "output_type": "stream",
          "name": "stderr",
          "text": [
            "WARNING:tensorflow:Learning rate reduction is conditioned on metric `val_loss` which is not available. Available metrics are: loss,lr\n",
            "WARNING:tensorflow:Early stopping conditioned on metric `val_loss` which is not available. Available metrics are: loss,lr\n"
          ]
        },
        {
          "output_type": "stream",
          "name": "stdout",
          "text": [
            "\b\b\b\b\b\b\b\b\b\b\b\b\b\b\b\b\b\b\b\b\b\b\b\b\b\b\b\b\b\b\b\b\b\b\b\b\b\b\b\b\b\b\b\b\b\b\b\b\b\b\b\b\b\b\b\b\b\b\b\b\b\b\b\r25/25 [==============================] - 0s 6ms/step - loss: 0.0129 - lr: 0.0010\n",
            "Epoch 417/500\n",
            "12/25 [=============>................] - ETA: 0s - loss: 0.0162"
          ]
        },
        {
          "output_type": "stream",
          "name": "stderr",
          "text": [
            "WARNING:tensorflow:Learning rate reduction is conditioned on metric `val_loss` which is not available. Available metrics are: loss,lr\n",
            "WARNING:tensorflow:Early stopping conditioned on metric `val_loss` which is not available. Available metrics are: loss,lr\n"
          ]
        },
        {
          "output_type": "stream",
          "name": "stdout",
          "text": [
            "\b\b\b\b\b\b\b\b\b\b\b\b\b\b\b\b\b\b\b\b\b\b\b\b\b\b\b\b\b\b\b\b\b\b\b\b\b\b\b\b\b\b\b\b\b\b\b\b\b\b\b\b\b\b\b\b\b\b\b\b\b\b\b\r25/25 [==============================] - 0s 6ms/step - loss: 0.0138 - lr: 0.0010\n",
            "Epoch 418/500\n",
            "12/25 [=============>................] - ETA: 0s - loss: 0.0077"
          ]
        },
        {
          "output_type": "stream",
          "name": "stderr",
          "text": [
            "WARNING:tensorflow:Learning rate reduction is conditioned on metric `val_loss` which is not available. Available metrics are: loss,lr\n",
            "WARNING:tensorflow:Early stopping conditioned on metric `val_loss` which is not available. Available metrics are: loss,lr\n"
          ]
        },
        {
          "output_type": "stream",
          "name": "stdout",
          "text": [
            "\b\b\b\b\b\b\b\b\b\b\b\b\b\b\b\b\b\b\b\b\b\b\b\b\b\b\b\b\b\b\b\b\b\b\b\b\b\b\b\b\b\b\b\b\b\b\b\b\b\b\b\b\b\b\b\b\b\b\b\b\b\b\b\r25/25 [==============================] - 0s 6ms/step - loss: 0.0075 - lr: 0.0010\n",
            "Epoch 419/500\n",
            "13/25 [==============>...............] - ETA: 0s - loss: 0.0073"
          ]
        },
        {
          "output_type": "stream",
          "name": "stderr",
          "text": [
            "WARNING:tensorflow:Learning rate reduction is conditioned on metric `val_loss` which is not available. Available metrics are: loss,lr\n",
            "WARNING:tensorflow:Early stopping conditioned on metric `val_loss` which is not available. Available metrics are: loss,lr\n"
          ]
        },
        {
          "output_type": "stream",
          "name": "stdout",
          "text": [
            "\b\b\b\b\b\b\b\b\b\b\b\b\b\b\b\b\b\b\b\b\b\b\b\b\b\b\b\b\b\b\b\b\b\b\b\b\b\b\b\b\b\b\b\b\b\b\b\b\b\b\b\b\b\b\b\b\b\b\b\b\b\b\b\r25/25 [==============================] - 0s 6ms/step - loss: 0.0081 - lr: 0.0010\n",
            "Epoch 420/500\n",
            "10/25 [===========>..................] - ETA: 0s - loss: 0.0068"
          ]
        },
        {
          "output_type": "stream",
          "name": "stderr",
          "text": [
            "WARNING:tensorflow:Learning rate reduction is conditioned on metric `val_loss` which is not available. Available metrics are: loss,lr\n",
            "WARNING:tensorflow:Early stopping conditioned on metric `val_loss` which is not available. Available metrics are: loss,lr\n"
          ]
        },
        {
          "output_type": "stream",
          "name": "stdout",
          "text": [
            "\b\b\b\b\b\b\b\b\b\b\b\b\b\b\b\b\b\b\b\b\b\b\b\b\b\b\b\b\b\b\b\b\b\b\b\b\b\b\b\b\b\b\b\b\b\b\b\b\b\b\b\b\b\b\b\b\b\b\b\b\b\b\b\r25/25 [==============================] - 0s 6ms/step - loss: 0.0085 - lr: 0.0010\n",
            "Epoch 421/500\n",
            "11/25 [============>.................] - ETA: 0s - loss: 0.0087"
          ]
        },
        {
          "output_type": "stream",
          "name": "stderr",
          "text": [
            "WARNING:tensorflow:Learning rate reduction is conditioned on metric `val_loss` which is not available. Available metrics are: loss,lr\n",
            "WARNING:tensorflow:Early stopping conditioned on metric `val_loss` which is not available. Available metrics are: loss,lr\n"
          ]
        },
        {
          "output_type": "stream",
          "name": "stdout",
          "text": [
            "\b\b\b\b\b\b\b\b\b\b\b\b\b\b\b\b\b\b\b\b\b\b\b\b\b\b\b\b\b\b\b\b\b\b\b\b\b\b\b\b\b\b\b\b\b\b\b\b\b\b\b\b\b\b\b\b\b\b\b\b\b\b\b\r25/25 [==============================] - 0s 6ms/step - loss: 0.0091 - lr: 0.0010\n",
            "Epoch 422/500\n",
            "13/25 [==============>...............] - ETA: 0s - loss: 0.0120"
          ]
        },
        {
          "output_type": "stream",
          "name": "stderr",
          "text": [
            "WARNING:tensorflow:Learning rate reduction is conditioned on metric `val_loss` which is not available. Available metrics are: loss,lr\n",
            "WARNING:tensorflow:Early stopping conditioned on metric `val_loss` which is not available. Available metrics are: loss,lr\n"
          ]
        },
        {
          "output_type": "stream",
          "name": "stdout",
          "text": [
            "\b\b\b\b\b\b\b\b\b\b\b\b\b\b\b\b\b\b\b\b\b\b\b\b\b\b\b\b\b\b\b\b\b\b\b\b\b\b\b\b\b\b\b\b\b\b\b\b\b\b\b\b\b\b\b\b\b\b\b\b\b\b\b\r25/25 [==============================] - 0s 6ms/step - loss: 0.0133 - lr: 0.0010\n",
            "Epoch 423/500\n",
            "15/25 [=================>............] - ETA: 0s - loss: 0.0087"
          ]
        },
        {
          "output_type": "stream",
          "name": "stderr",
          "text": [
            "WARNING:tensorflow:Learning rate reduction is conditioned on metric `val_loss` which is not available. Available metrics are: loss,lr\n",
            "WARNING:tensorflow:Early stopping conditioned on metric `val_loss` which is not available. Available metrics are: loss,lr\n"
          ]
        },
        {
          "output_type": "stream",
          "name": "stdout",
          "text": [
            "\b\b\b\b\b\b\b\b\b\b\b\b\b\b\b\b\b\b\b\b\b\b\b\b\b\b\b\b\b\b\b\b\b\b\b\b\b\b\b\b\b\b\b\b\b\b\b\b\b\b\b\b\b\b\b\b\b\b\b\b\b\b\b\r25/25 [==============================] - 0s 6ms/step - loss: 0.0099 - lr: 0.0010\n",
            "Epoch 424/500\n",
            "13/25 [==============>...............] - ETA: 0s - loss: 0.0054"
          ]
        },
        {
          "output_type": "stream",
          "name": "stderr",
          "text": [
            "WARNING:tensorflow:Learning rate reduction is conditioned on metric `val_loss` which is not available. Available metrics are: loss,lr\n",
            "WARNING:tensorflow:Early stopping conditioned on metric `val_loss` which is not available. Available metrics are: loss,lr\n"
          ]
        },
        {
          "output_type": "stream",
          "name": "stdout",
          "text": [
            "\b\b\b\b\b\b\b\b\b\b\b\b\b\b\b\b\b\b\b\b\b\b\b\b\b\b\b\b\b\b\b\b\b\b\b\b\b\b\b\b\b\b\b\b\b\b\b\b\b\b\b\b\b\b\b\b\b\b\b\b\b\b\b\r25/25 [==============================] - 0s 6ms/step - loss: 0.0063 - lr: 0.0010\n",
            "Epoch 425/500\n",
            "11/25 [============>.................] - ETA: 0s - loss: 0.0166"
          ]
        },
        {
          "output_type": "stream",
          "name": "stderr",
          "text": [
            "WARNING:tensorflow:Learning rate reduction is conditioned on metric `val_loss` which is not available. Available metrics are: loss,lr\n",
            "WARNING:tensorflow:Early stopping conditioned on metric `val_loss` which is not available. Available metrics are: loss,lr\n"
          ]
        },
        {
          "output_type": "stream",
          "name": "stdout",
          "text": [
            "\b\b\b\b\b\b\b\b\b\b\b\b\b\b\b\b\b\b\b\b\b\b\b\b\b\b\b\b\b\b\b\b\b\b\b\b\b\b\b\b\b\b\b\b\b\b\b\b\b\b\b\b\b\b\b\b\b\b\b\b\b\b\b\r25/25 [==============================] - 0s 6ms/step - loss: 0.0203 - lr: 0.0010\n",
            "Epoch 426/500\n",
            "12/25 [=============>................] - ETA: 0s - loss: 0.0062"
          ]
        },
        {
          "output_type": "stream",
          "name": "stderr",
          "text": [
            "WARNING:tensorflow:Learning rate reduction is conditioned on metric `val_loss` which is not available. Available metrics are: loss,lr\n",
            "WARNING:tensorflow:Early stopping conditioned on metric `val_loss` which is not available. Available metrics are: loss,lr\n"
          ]
        },
        {
          "output_type": "stream",
          "name": "stdout",
          "text": [
            "\b\b\b\b\b\b\b\b\b\b\b\b\b\b\b\b\b\b\b\b\b\b\b\b\b\b\b\b\b\b\b\b\b\b\b\b\b\b\b\b\b\b\b\b\b\b\b\b\b\b\b\b\b\b\b\b\b\b\b\b\b\b\b\r25/25 [==============================] - 0s 6ms/step - loss: 0.0125 - lr: 0.0010\n",
            "Epoch 427/500\n",
            "14/25 [===============>..............] - ETA: 0s - loss: 0.0084"
          ]
        },
        {
          "output_type": "stream",
          "name": "stderr",
          "text": [
            "WARNING:tensorflow:Learning rate reduction is conditioned on metric `val_loss` which is not available. Available metrics are: loss,lr\n",
            "WARNING:tensorflow:Early stopping conditioned on metric `val_loss` which is not available. Available metrics are: loss,lr\n"
          ]
        },
        {
          "output_type": "stream",
          "name": "stdout",
          "text": [
            "\b\b\b\b\b\b\b\b\b\b\b\b\b\b\b\b\b\b\b\b\b\b\b\b\b\b\b\b\b\b\b\b\b\b\b\b\b\b\b\b\b\b\b\b\b\b\b\b\b\b\b\b\b\b\b\b\b\b\b\b\b\b\b\r25/25 [==============================] - 0s 6ms/step - loss: 0.0084 - lr: 0.0010\n",
            "Epoch 428/500\n",
            "11/25 [============>.................] - ETA: 0s - loss: 0.0118    "
          ]
        },
        {
          "output_type": "stream",
          "name": "stderr",
          "text": [
            "WARNING:tensorflow:Learning rate reduction is conditioned on metric `val_loss` which is not available. Available metrics are: loss,lr\n",
            "WARNING:tensorflow:Early stopping conditioned on metric `val_loss` which is not available. Available metrics are: loss,lr\n"
          ]
        },
        {
          "output_type": "stream",
          "name": "stdout",
          "text": [
            "\b\b\b\b\b\b\b\b\b\b\b\b\b\b\b\b\b\b\b\b\b\b\b\b\b\b\b\b\b\b\b\b\b\b\b\b\b\b\b\b\b\b\b\b\b\b\b\b\b\b\b\b\b\b\b\b\b\b\b\b\b\b\b\r25/25 [==============================] - 0s 6ms/step - loss: 0.0098 - lr: 0.0010\n",
            "Epoch 429/500\n",
            "24/25 [===========================>..] - ETA: 0s - loss: 0.0096"
          ]
        },
        {
          "output_type": "stream",
          "name": "stderr",
          "text": [
            "WARNING:tensorflow:Learning rate reduction is conditioned on metric `val_loss` which is not available. Available metrics are: loss,lr\n",
            "WARNING:tensorflow:Early stopping conditioned on metric `val_loss` which is not available. Available metrics are: loss,lr\n"
          ]
        },
        {
          "output_type": "stream",
          "name": "stdout",
          "text": [
            "\b\b\b\b\b\b\b\b\b\b\b\b\b\b\b\b\b\b\b\b\b\b\b\b\b\b\b\b\b\b\b\b\b\b\b\b\b\b\b\b\b\b\b\b\b\b\b\b\b\b\b\b\b\b\b\b\b\b\b\b\b\b\b\r25/25 [==============================] - 0s 7ms/step - loss: 0.0100 - lr: 0.0010\n",
            "Epoch 430/500\n",
            "14/25 [===============>..............] - ETA: 0s - loss: 0.0074"
          ]
        },
        {
          "output_type": "stream",
          "name": "stderr",
          "text": [
            "WARNING:tensorflow:Learning rate reduction is conditioned on metric `val_loss` which is not available. Available metrics are: loss,lr\n",
            "WARNING:tensorflow:Early stopping conditioned on metric `val_loss` which is not available. Available metrics are: loss,lr\n"
          ]
        },
        {
          "output_type": "stream",
          "name": "stdout",
          "text": [
            "\b\b\b\b\b\b\b\b\b\b\b\b\b\b\b\b\b\b\b\b\b\b\b\b\b\b\b\b\b\b\b\b\b\b\b\b\b\b\b\b\b\b\b\b\b\b\b\b\b\b\b\b\b\b\b\b\b\b\b\b\b\b\b\r25/25 [==============================] - 0s 6ms/step - loss: 0.0091 - lr: 0.0010\n",
            "Epoch 431/500\n",
            "12/25 [=============>................] - ETA: 0s - loss: 0.0109"
          ]
        },
        {
          "output_type": "stream",
          "name": "stderr",
          "text": [
            "WARNING:tensorflow:Learning rate reduction is conditioned on metric `val_loss` which is not available. Available metrics are: loss,lr\n",
            "WARNING:tensorflow:Early stopping conditioned on metric `val_loss` which is not available. Available metrics are: loss,lr\n"
          ]
        },
        {
          "output_type": "stream",
          "name": "stdout",
          "text": [
            "\b\b\b\b\b\b\b\b\b\b\b\b\b\b\b\b\b\b\b\b\b\b\b\b\b\b\b\b\b\b\b\b\b\b\b\b\b\b\b\b\b\b\b\b\b\b\b\b\b\b\b\b\b\b\b\b\b\b\b\b\b\b\b\r25/25 [==============================] - 0s 6ms/step - loss: 0.0102 - lr: 0.0010\n",
            "Epoch 432/500\n",
            "11/25 [============>.................] - ETA: 0s - loss: 0.0121"
          ]
        },
        {
          "output_type": "stream",
          "name": "stderr",
          "text": [
            "WARNING:tensorflow:Learning rate reduction is conditioned on metric `val_loss` which is not available. Available metrics are: loss,lr\n",
            "WARNING:tensorflow:Early stopping conditioned on metric `val_loss` which is not available. Available metrics are: loss,lr\n"
          ]
        },
        {
          "output_type": "stream",
          "name": "stdout",
          "text": [
            "\b\b\b\b\b\b\b\b\b\b\b\b\b\b\b\b\b\b\b\b\b\b\b\b\b\b\b\b\b\b\b\b\b\b\b\b\b\b\b\b\b\b\b\b\b\b\b\b\b\b\b\b\b\b\b\b\b\b\b\b\b\b\b\r25/25 [==============================] - 0s 6ms/step - loss: 0.0114 - lr: 0.0010\n",
            "Epoch 433/500\n",
            "12/25 [=============>................] - ETA: 0s - loss: 0.0064    "
          ]
        },
        {
          "output_type": "stream",
          "name": "stderr",
          "text": [
            "WARNING:tensorflow:Learning rate reduction is conditioned on metric `val_loss` which is not available. Available metrics are: loss,lr\n",
            "WARNING:tensorflow:Early stopping conditioned on metric `val_loss` which is not available. Available metrics are: loss,lr\n"
          ]
        },
        {
          "output_type": "stream",
          "name": "stdout",
          "text": [
            "\b\b\b\b\b\b\b\b\b\b\b\b\b\b\b\b\b\b\b\b\b\b\b\b\b\b\b\b\b\b\b\b\b\b\b\b\b\b\b\b\b\b\b\b\b\b\b\b\b\b\b\b\b\b\b\b\b\b\b\b\b\b\b\r25/25 [==============================] - 0s 6ms/step - loss: 0.0131 - lr: 0.0010\n",
            "Epoch 434/500\n",
            "12/25 [=============>................] - ETA: 0s - loss: 0.0209"
          ]
        },
        {
          "output_type": "stream",
          "name": "stderr",
          "text": [
            "WARNING:tensorflow:Learning rate reduction is conditioned on metric `val_loss` which is not available. Available metrics are: loss,lr\n",
            "WARNING:tensorflow:Early stopping conditioned on metric `val_loss` which is not available. Available metrics are: loss,lr\n"
          ]
        },
        {
          "output_type": "stream",
          "name": "stdout",
          "text": [
            "\b\b\b\b\b\b\b\b\b\b\b\b\b\b\b\b\b\b\b\b\b\b\b\b\b\b\b\b\b\b\b\b\b\b\b\b\b\b\b\b\b\b\b\b\b\b\b\b\b\b\b\b\b\b\b\b\b\b\b\b\b\b\b\r25/25 [==============================] - 0s 6ms/step - loss: 0.0138 - lr: 0.0010\n",
            "Epoch 435/500\n",
            "13/25 [==============>...............] - ETA: 0s - loss: 0.0218"
          ]
        },
        {
          "output_type": "stream",
          "name": "stderr",
          "text": [
            "WARNING:tensorflow:Learning rate reduction is conditioned on metric `val_loss` which is not available. Available metrics are: loss,lr\n",
            "WARNING:tensorflow:Early stopping conditioned on metric `val_loss` which is not available. Available metrics are: loss,lr\n"
          ]
        },
        {
          "output_type": "stream",
          "name": "stdout",
          "text": [
            "\b\b\b\b\b\b\b\b\b\b\b\b\b\b\b\b\b\b\b\b\b\b\b\b\b\b\b\b\b\b\b\b\b\b\b\b\b\b\b\b\b\b\b\b\b\b\b\b\b\b\b\b\b\b\b\b\b\b\b\b\b\b\b\r25/25 [==============================] - 0s 5ms/step - loss: 0.0209 - lr: 0.0010\n",
            "Epoch 436/500\n",
            "10/25 [===========>..................] - ETA: 0s - loss: 0.0097"
          ]
        },
        {
          "output_type": "stream",
          "name": "stderr",
          "text": [
            "WARNING:tensorflow:Learning rate reduction is conditioned on metric `val_loss` which is not available. Available metrics are: loss,lr\n",
            "WARNING:tensorflow:Early stopping conditioned on metric `val_loss` which is not available. Available metrics are: loss,lr\n"
          ]
        },
        {
          "output_type": "stream",
          "name": "stdout",
          "text": [
            "\b\b\b\b\b\b\b\b\b\b\b\b\b\b\b\b\b\b\b\b\b\b\b\b\b\b\b\b\b\b\b\b\b\b\b\b\b\b\b\b\b\b\b\b\b\b\b\b\b\b\b\b\b\b\b\b\b\b\b\b\b\b\b\r25/25 [==============================] - 0s 6ms/step - loss: 0.0117 - lr: 0.0010\n",
            "Epoch 437/500\n",
            "12/25 [=============>................] - ETA: 0s - loss: 0.0116"
          ]
        },
        {
          "output_type": "stream",
          "name": "stderr",
          "text": [
            "WARNING:tensorflow:Learning rate reduction is conditioned on metric `val_loss` which is not available. Available metrics are: loss,lr\n",
            "WARNING:tensorflow:Early stopping conditioned on metric `val_loss` which is not available. Available metrics are: loss,lr\n"
          ]
        },
        {
          "output_type": "stream",
          "name": "stdout",
          "text": [
            "\b\b\b\b\b\b\b\b\b\b\b\b\b\b\b\b\b\b\b\b\b\b\b\b\b\b\b\b\b\b\b\b\b\b\b\b\b\b\b\b\b\b\b\b\b\b\b\b\b\b\b\b\b\b\b\b\b\b\b\b\b\b\b\r25/25 [==============================] - 0s 6ms/step - loss: 0.0238 - lr: 0.0010\n",
            "Epoch 438/500\n",
            "13/25 [==============>...............] - ETA: 0s - loss: 0.0120    "
          ]
        },
        {
          "output_type": "stream",
          "name": "stderr",
          "text": [
            "WARNING:tensorflow:Learning rate reduction is conditioned on metric `val_loss` which is not available. Available metrics are: loss,lr\n",
            "WARNING:tensorflow:Early stopping conditioned on metric `val_loss` which is not available. Available metrics are: loss,lr\n"
          ]
        },
        {
          "output_type": "stream",
          "name": "stdout",
          "text": [
            "\b\b\b\b\b\b\b\b\b\b\b\b\b\b\b\b\b\b\b\b\b\b\b\b\b\b\b\b\b\b\b\b\b\b\b\b\b\b\b\b\b\b\b\b\b\b\b\b\b\b\b\b\b\b\b\b\b\b\b\b\b\b\b\r25/25 [==============================] - 0s 6ms/step - loss: 0.0140 - lr: 0.0010\n",
            "Epoch 439/500\n",
            "13/25 [==============>...............] - ETA: 0s - loss: 0.0221"
          ]
        },
        {
          "output_type": "stream",
          "name": "stderr",
          "text": [
            "WARNING:tensorflow:Learning rate reduction is conditioned on metric `val_loss` which is not available. Available metrics are: loss,lr\n",
            "WARNING:tensorflow:Early stopping conditioned on metric `val_loss` which is not available. Available metrics are: loss,lr\n"
          ]
        },
        {
          "output_type": "stream",
          "name": "stdout",
          "text": [
            "\b\b\b\b\b\b\b\b\b\b\b\b\b\b\b\b\b\b\b\b\b\b\b\b\b\b\b\b\b\b\b\b\b\b\b\b\b\b\b\b\b\b\b\b\b\b\b\b\b\b\b\b\b\b\b\b\b\b\b\b\b\b\b\r25/25 [==============================] - 0s 6ms/step - loss: 0.0148 - lr: 0.0010\n",
            "Epoch 440/500\n",
            "15/25 [=================>............] - ETA: 0s - loss: 0.0105"
          ]
        },
        {
          "output_type": "stream",
          "name": "stderr",
          "text": [
            "WARNING:tensorflow:Learning rate reduction is conditioned on metric `val_loss` which is not available. Available metrics are: loss,lr\n",
            "WARNING:tensorflow:Early stopping conditioned on metric `val_loss` which is not available. Available metrics are: loss,lr\n"
          ]
        },
        {
          "output_type": "stream",
          "name": "stdout",
          "text": [
            "\b\b\b\b\b\b\b\b\b\b\b\b\b\b\b\b\b\b\b\b\b\b\b\b\b\b\b\b\b\b\b\b\b\b\b\b\b\b\b\b\b\b\b\b\b\b\b\b\b\b\b\b\b\b\b\b\b\b\b\b\b\b\b\r25/25 [==============================] - 0s 6ms/step - loss: 0.0105 - lr: 0.0010\n",
            "Epoch 441/500\n",
            "12/25 [=============>................] - ETA: 0s - loss: 0.0092"
          ]
        },
        {
          "output_type": "stream",
          "name": "stderr",
          "text": [
            "WARNING:tensorflow:Learning rate reduction is conditioned on metric `val_loss` which is not available. Available metrics are: loss,lr\n",
            "WARNING:tensorflow:Early stopping conditioned on metric `val_loss` which is not available. Available metrics are: loss,lr\n"
          ]
        },
        {
          "output_type": "stream",
          "name": "stdout",
          "text": [
            "\b\b\b\b\b\b\b\b\b\b\b\b\b\b\b\b\b\b\b\b\b\b\b\b\b\b\b\b\b\b\b\b\b\b\b\b\b\b\b\b\b\b\b\b\b\b\b\b\b\b\b\b\b\b\b\b\b\b\b\b\b\b\b\r25/25 [==============================] - 0s 6ms/step - loss: 0.0108 - lr: 0.0010\n",
            "Epoch 442/500\n",
            "13/25 [==============>...............] - ETA: 0s - loss: 0.0135"
          ]
        },
        {
          "output_type": "stream",
          "name": "stderr",
          "text": [
            "WARNING:tensorflow:Learning rate reduction is conditioned on metric `val_loss` which is not available. Available metrics are: loss,lr\n",
            "WARNING:tensorflow:Early stopping conditioned on metric `val_loss` which is not available. Available metrics are: loss,lr\n"
          ]
        },
        {
          "output_type": "stream",
          "name": "stdout",
          "text": [
            "\b\b\b\b\b\b\b\b\b\b\b\b\b\b\b\b\b\b\b\b\b\b\b\b\b\b\b\b\b\b\b\b\b\b\b\b\b\b\b\b\b\b\b\b\b\b\b\b\b\b\b\b\b\b\b\b\b\b\b\b\b\b\b\r25/25 [==============================] - 0s 6ms/step - loss: 0.0167 - lr: 0.0010\n",
            "Epoch 443/500\n",
            "22/25 [=========================>....] - ETA: 0s - loss: 0.0187"
          ]
        },
        {
          "output_type": "stream",
          "name": "stderr",
          "text": [
            "WARNING:tensorflow:Learning rate reduction is conditioned on metric `val_loss` which is not available. Available metrics are: loss,lr\n",
            "WARNING:tensorflow:Early stopping conditioned on metric `val_loss` which is not available. Available metrics are: loss,lr\n"
          ]
        },
        {
          "output_type": "stream",
          "name": "stdout",
          "text": [
            "\b\b\b\b\b\b\b\b\b\b\b\b\b\b\b\b\b\b\b\b\b\b\b\b\b\b\b\b\b\b\b\b\b\b\b\b\b\b\b\b\b\b\b\b\b\b\b\b\b\b\b\b\b\b\b\b\b\b\b\b\b\b\b\r25/25 [==============================] - 0s 8ms/step - loss: 0.0197 - lr: 0.0010\n",
            "Epoch 444/500\n",
            "24/25 [===========================>..] - ETA: 0s - loss: 0.0171"
          ]
        },
        {
          "output_type": "stream",
          "name": "stderr",
          "text": [
            "WARNING:tensorflow:Learning rate reduction is conditioned on metric `val_loss` which is not available. Available metrics are: loss,lr\n",
            "WARNING:tensorflow:Early stopping conditioned on metric `val_loss` which is not available. Available metrics are: loss,lr\n"
          ]
        },
        {
          "output_type": "stream",
          "name": "stdout",
          "text": [
            "\b\b\b\b\b\b\b\b\b\b\b\b\b\b\b\b\b\b\b\b\b\b\b\b\b\b\b\b\b\b\b\b\b\b\b\b\b\b\b\b\b\b\b\b\b\b\b\b\b\b\b\b\b\b\b\b\b\b\b\b\b\b\b\r25/25 [==============================] - 0s 7ms/step - loss: 0.0166 - lr: 0.0010\n",
            "Epoch 445/500\n",
            "13/25 [==============>...............] - ETA: 0s - loss: 0.0170"
          ]
        },
        {
          "output_type": "stream",
          "name": "stderr",
          "text": [
            "WARNING:tensorflow:Learning rate reduction is conditioned on metric `val_loss` which is not available. Available metrics are: loss,lr\n",
            "WARNING:tensorflow:Early stopping conditioned on metric `val_loss` which is not available. Available metrics are: loss,lr\n"
          ]
        },
        {
          "output_type": "stream",
          "name": "stdout",
          "text": [
            "\b\b\b\b\b\b\b\b\b\b\b\b\b\b\b\b\b\b\b\b\b\b\b\b\b\b\b\b\b\b\b\b\b\b\b\b\b\b\b\b\b\b\b\b\b\b\b\b\b\b\b\b\b\b\b\b\b\b\b\b\b\b\b\r25/25 [==============================] - 0s 6ms/step - loss: 0.0179 - lr: 0.0010\n",
            "Epoch 446/500\n",
            "12/25 [=============>................] - ETA: 0s - loss: 0.0143"
          ]
        },
        {
          "output_type": "stream",
          "name": "stderr",
          "text": [
            "WARNING:tensorflow:Learning rate reduction is conditioned on metric `val_loss` which is not available. Available metrics are: loss,lr\n",
            "WARNING:tensorflow:Early stopping conditioned on metric `val_loss` which is not available. Available metrics are: loss,lr\n"
          ]
        },
        {
          "output_type": "stream",
          "name": "stdout",
          "text": [
            "\b\b\b\b\b\b\b\b\b\b\b\b\b\b\b\b\b\b\b\b\b\b\b\b\b\b\b\b\b\b\b\b\b\b\b\b\b\b\b\b\b\b\b\b\b\b\b\b\b\b\b\b\b\b\b\b\b\b\b\b\b\b\b\r25/25 [==============================] - 0s 6ms/step - loss: 0.0122 - lr: 0.0010\n",
            "Epoch 447/500\n",
            "10/25 [===========>..................] - ETA: 0s - loss: 0.0126"
          ]
        },
        {
          "output_type": "stream",
          "name": "stderr",
          "text": [
            "WARNING:tensorflow:Learning rate reduction is conditioned on metric `val_loss` which is not available. Available metrics are: loss,lr\n",
            "WARNING:tensorflow:Early stopping conditioned on metric `val_loss` which is not available. Available metrics are: loss,lr\n"
          ]
        },
        {
          "output_type": "stream",
          "name": "stdout",
          "text": [
            "\b\b\b\b\b\b\b\b\b\b\b\b\b\b\b\b\b\b\b\b\b\b\b\b\b\b\b\b\b\b\b\b\b\b\b\b\b\b\b\b\b\b\b\b\b\b\b\b\b\b\b\b\b\b\b\b\b\b\b\b\b\b\b\r25/25 [==============================] - 0s 6ms/step - loss: 0.0133 - lr: 0.0010\n",
            "Epoch 448/500\n",
            "12/25 [=============>................] - ETA: 0s - loss: 0.0064    "
          ]
        },
        {
          "output_type": "stream",
          "name": "stderr",
          "text": [
            "WARNING:tensorflow:Learning rate reduction is conditioned on metric `val_loss` which is not available. Available metrics are: loss,lr\n",
            "WARNING:tensorflow:Early stopping conditioned on metric `val_loss` which is not available. Available metrics are: loss,lr\n"
          ]
        },
        {
          "output_type": "stream",
          "name": "stdout",
          "text": [
            "\b\b\b\b\b\b\b\b\b\b\b\b\b\b\b\b\b\b\b\b\b\b\b\b\b\b\b\b\b\b\b\b\b\b\b\b\b\b\b\b\b\b\b\b\b\b\b\b\b\b\b\b\b\b\b\b\b\b\b\b\b\b\b\r25/25 [==============================] - 0s 6ms/step - loss: 0.0104 - lr: 0.0010\n",
            "Epoch 449/500\n",
            "15/25 [=================>............] - ETA: 0s - loss: 0.0083    "
          ]
        },
        {
          "output_type": "stream",
          "name": "stderr",
          "text": [
            "WARNING:tensorflow:Learning rate reduction is conditioned on metric `val_loss` which is not available. Available metrics are: loss,lr\n",
            "WARNING:tensorflow:Early stopping conditioned on metric `val_loss` which is not available. Available metrics are: loss,lr\n"
          ]
        },
        {
          "output_type": "stream",
          "name": "stdout",
          "text": [
            "\b\b\b\b\b\b\b\b\b\b\b\b\b\b\b\b\b\b\b\b\b\b\b\b\b\b\b\b\b\b\b\b\b\b\b\b\b\b\b\b\b\b\b\b\b\b\b\b\b\b\b\b\b\b\b\b\b\b\b\b\b\b\b\r25/25 [==============================] - 0s 7ms/step - loss: 0.0098 - lr: 0.0010\n",
            "Epoch 450/500\n",
            "11/25 [============>.................] - ETA: 0s - loss: 0.0028"
          ]
        },
        {
          "output_type": "stream",
          "name": "stderr",
          "text": [
            "WARNING:tensorflow:Learning rate reduction is conditioned on metric `val_loss` which is not available. Available metrics are: loss,lr\n",
            "WARNING:tensorflow:Early stopping conditioned on metric `val_loss` which is not available. Available metrics are: loss,lr\n"
          ]
        },
        {
          "output_type": "stream",
          "name": "stdout",
          "text": [
            "\b\b\b\b\b\b\b\b\b\b\b\b\b\b\b\b\b\b\b\b\b\b\b\b\b\b\b\b\b\b\b\b\b\b\b\b\b\b\b\b\b\b\b\b\b\b\b\b\b\b\b\b\b\b\b\b\b\b\b\b\b\b\b\r25/25 [==============================] - 0s 6ms/step - loss: 0.0158 - lr: 0.0010\n",
            "Epoch 451/500\n",
            "13/25 [==============>...............] - ETA: 0s - loss: 0.0085"
          ]
        },
        {
          "output_type": "stream",
          "name": "stderr",
          "text": [
            "WARNING:tensorflow:Learning rate reduction is conditioned on metric `val_loss` which is not available. Available metrics are: loss,lr\n",
            "WARNING:tensorflow:Early stopping conditioned on metric `val_loss` which is not available. Available metrics are: loss,lr\n"
          ]
        },
        {
          "output_type": "stream",
          "name": "stdout",
          "text": [
            "\b\b\b\b\b\b\b\b\b\b\b\b\b\b\b\b\b\b\b\b\b\b\b\b\b\b\b\b\b\b\b\b\b\b\b\b\b\b\b\b\b\b\b\b\b\b\b\b\b\b\b\b\b\b\b\b\b\b\b\b\b\b\b\r25/25 [==============================] - 0s 6ms/step - loss: 0.0088 - lr: 0.0010\n",
            "Epoch 452/500\n",
            "13/25 [==============>...............] - ETA: 0s - loss: 0.0096"
          ]
        },
        {
          "output_type": "stream",
          "name": "stderr",
          "text": [
            "WARNING:tensorflow:Learning rate reduction is conditioned on metric `val_loss` which is not available. Available metrics are: loss,lr\n",
            "WARNING:tensorflow:Early stopping conditioned on metric `val_loss` which is not available. Available metrics are: loss,lr\n"
          ]
        },
        {
          "output_type": "stream",
          "name": "stdout",
          "text": [
            "\b\b\b\b\b\b\b\b\b\b\b\b\b\b\b\b\b\b\b\b\b\b\b\b\b\b\b\b\b\b\b\b\b\b\b\b\b\b\b\b\b\b\b\b\b\b\b\b\b\b\b\b\b\b\b\b\b\b\b\b\b\b\b\r25/25 [==============================] - 0s 6ms/step - loss: 0.0098 - lr: 0.0010\n",
            "Epoch 453/500\n",
            "25/25 [==============================] - ETA: 0s - loss: 0.0072"
          ]
        },
        {
          "output_type": "stream",
          "name": "stderr",
          "text": [
            "WARNING:tensorflow:Learning rate reduction is conditioned on metric `val_loss` which is not available. Available metrics are: loss,lr\n",
            "WARNING:tensorflow:Early stopping conditioned on metric `val_loss` which is not available. Available metrics are: loss,lr\n"
          ]
        },
        {
          "output_type": "stream",
          "name": "stdout",
          "text": [
            "\b\b\b\b\b\b\b\b\b\b\b\b\b\b\b\b\b\b\b\b\b\b\b\b\b\b\b\b\b\b\b\b\b\b\b\b\b\b\b\b\b\b\b\b\b\b\b\b\b\b\b\b\b\b\b\b\b\b\b\b\b\b\b\r25/25 [==============================] - 0s 7ms/step - loss: 0.0072 - lr: 0.0010\n",
            "Epoch 454/500\n",
            "13/25 [==============>...............] - ETA: 0s - loss: 0.0070"
          ]
        },
        {
          "output_type": "stream",
          "name": "stderr",
          "text": [
            "WARNING:tensorflow:Learning rate reduction is conditioned on metric `val_loss` which is not available. Available metrics are: loss,lr\n",
            "WARNING:tensorflow:Early stopping conditioned on metric `val_loss` which is not available. Available metrics are: loss,lr\n"
          ]
        },
        {
          "output_type": "stream",
          "name": "stdout",
          "text": [
            "\b\b\b\b\b\b\b\b\b\b\b\b\b\b\b\b\b\b\b\b\b\b\b\b\b\b\b\b\b\b\b\b\b\b\b\b\b\b\b\b\b\b\b\b\b\b\b\b\b\b\b\b\b\b\b\b\b\b\b\b\b\b\b\r25/25 [==============================] - 0s 6ms/step - loss: 0.0088 - lr: 0.0010\n",
            "Epoch 455/500\n",
            "25/25 [==============================] - ETA: 0s - loss: 0.0105"
          ]
        },
        {
          "output_type": "stream",
          "name": "stderr",
          "text": [
            "WARNING:tensorflow:Learning rate reduction is conditioned on metric `val_loss` which is not available. Available metrics are: loss,lr\n",
            "WARNING:tensorflow:Early stopping conditioned on metric `val_loss` which is not available. Available metrics are: loss,lr\n"
          ]
        },
        {
          "output_type": "stream",
          "name": "stdout",
          "text": [
            "\b\b\b\b\b\b\b\b\b\b\b\b\b\b\b\b\b\b\b\b\b\b\b\b\b\b\b\b\b\b\b\b\b\b\b\b\b\b\b\b\b\b\b\b\b\b\b\b\b\b\b\b\b\b\b\b\b\b\b\b\b\b\b\r25/25 [==============================] - 0s 6ms/step - loss: 0.0105 - lr: 0.0010\n",
            "Epoch 456/500\n",
            "25/25 [==============================] - ETA: 0s - loss: 0.0086"
          ]
        },
        {
          "output_type": "stream",
          "name": "stderr",
          "text": [
            "WARNING:tensorflow:Learning rate reduction is conditioned on metric `val_loss` which is not available. Available metrics are: loss,lr\n",
            "WARNING:tensorflow:Early stopping conditioned on metric `val_loss` which is not available. Available metrics are: loss,lr\n"
          ]
        },
        {
          "output_type": "stream",
          "name": "stdout",
          "text": [
            "\b\b\b\b\b\b\b\b\b\b\b\b\b\b\b\b\b\b\b\b\b\b\b\b\b\b\b\b\b\b\b\b\b\b\b\b\b\b\b\b\b\b\b\b\b\b\b\b\b\b\b\b\b\b\b\b\b\b\b\b\b\b\b\r25/25 [==============================] - 0s 7ms/step - loss: 0.0086 - lr: 0.0010\n",
            "Epoch 457/500\n",
            "13/25 [==============>...............] - ETA: 0s - loss: 0.0122    "
          ]
        },
        {
          "output_type": "stream",
          "name": "stderr",
          "text": [
            "WARNING:tensorflow:Learning rate reduction is conditioned on metric `val_loss` which is not available. Available metrics are: loss,lr\n",
            "WARNING:tensorflow:Early stopping conditioned on metric `val_loss` which is not available. Available metrics are: loss,lr\n"
          ]
        },
        {
          "output_type": "stream",
          "name": "stdout",
          "text": [
            "\b\b\b\b\b\b\b\b\b\b\b\b\b\b\b\b\b\b\b\b\b\b\b\b\b\b\b\b\b\b\b\b\b\b\b\b\b\b\b\b\b\b\b\b\b\b\b\b\b\b\b\b\b\b\b\b\b\b\b\b\b\b\b\r25/25 [==============================] - 0s 6ms/step - loss: 0.0128 - lr: 0.0010\n",
            "Epoch 458/500\n",
            "25/25 [==============================] - ETA: 0s - loss: 0.0321"
          ]
        },
        {
          "output_type": "stream",
          "name": "stderr",
          "text": [
            "WARNING:tensorflow:Learning rate reduction is conditioned on metric `val_loss` which is not available. Available metrics are: loss,lr\n",
            "WARNING:tensorflow:Early stopping conditioned on metric `val_loss` which is not available. Available metrics are: loss,lr\n"
          ]
        },
        {
          "output_type": "stream",
          "name": "stdout",
          "text": [
            "\b\b\b\b\b\b\b\b\b\b\b\b\b\b\b\b\b\b\b\b\b\b\b\b\b\b\b\b\b\b\b\b\b\b\b\b\b\b\b\b\b\b\b\b\b\b\b\b\b\b\b\b\b\b\b\b\b\b\b\b\b\b\b\r25/25 [==============================] - 0s 7ms/step - loss: 0.0321 - lr: 0.0010\n",
            "Epoch 459/500\n",
            "24/25 [===========================>..] - ETA: 0s - loss: 0.0272"
          ]
        },
        {
          "output_type": "stream",
          "name": "stderr",
          "text": [
            "WARNING:tensorflow:Learning rate reduction is conditioned on metric `val_loss` which is not available. Available metrics are: loss,lr\n",
            "WARNING:tensorflow:Early stopping conditioned on metric `val_loss` which is not available. Available metrics are: loss,lr\n"
          ]
        },
        {
          "output_type": "stream",
          "name": "stdout",
          "text": [
            "\b\b\b\b\b\b\b\b\b\b\b\b\b\b\b\b\b\b\b\b\b\b\b\b\b\b\b\b\b\b\b\b\b\b\b\b\b\b\b\b\b\b\b\b\b\b\b\b\b\b\b\b\b\b\b\b\b\b\b\b\b\b\b\r25/25 [==============================] - 0s 7ms/step - loss: 0.0263 - lr: 0.0010\n",
            "Epoch 460/500\n",
            "14/25 [===============>..............] - ETA: 0s - loss: 0.0239"
          ]
        },
        {
          "output_type": "stream",
          "name": "stderr",
          "text": [
            "WARNING:tensorflow:Learning rate reduction is conditioned on metric `val_loss` which is not available. Available metrics are: loss,lr\n",
            "WARNING:tensorflow:Early stopping conditioned on metric `val_loss` which is not available. Available metrics are: loss,lr\n"
          ]
        },
        {
          "output_type": "stream",
          "name": "stdout",
          "text": [
            "\b\b\b\b\b\b\b\b\b\b\b\b\b\b\b\b\b\b\b\b\b\b\b\b\b\b\b\b\b\b\b\b\b\b\b\b\b\b\b\b\b\b\b\b\b\b\b\b\b\b\b\b\b\b\b\b\b\b\b\b\b\b\b\r25/25 [==============================] - 0s 6ms/step - loss: 0.0252 - lr: 0.0010\n",
            "Epoch 461/500\n",
            "10/25 [===========>..................] - ETA: 0s - loss: 0.0041"
          ]
        },
        {
          "output_type": "stream",
          "name": "stderr",
          "text": [
            "WARNING:tensorflow:Learning rate reduction is conditioned on metric `val_loss` which is not available. Available metrics are: loss,lr\n",
            "WARNING:tensorflow:Early stopping conditioned on metric `val_loss` which is not available. Available metrics are: loss,lr\n"
          ]
        },
        {
          "output_type": "stream",
          "name": "stdout",
          "text": [
            "\b\b\b\b\b\b\b\b\b\b\b\b\b\b\b\b\b\b\b\b\b\b\b\b\b\b\b\b\b\b\b\b\b\b\b\b\b\b\b\b\b\b\b\b\b\b\b\b\b\b\b\b\b\b\b\b\b\b\b\b\b\b\b\r25/25 [==============================] - 0s 6ms/step - loss: 0.0105 - lr: 0.0010\n",
            "Epoch 462/500\n",
            "22/25 [=========================>....] - ETA: 0s - loss: 0.0092"
          ]
        },
        {
          "output_type": "stream",
          "name": "stderr",
          "text": [
            "WARNING:tensorflow:Learning rate reduction is conditioned on metric `val_loss` which is not available. Available metrics are: loss,lr\n",
            "WARNING:tensorflow:Early stopping conditioned on metric `val_loss` which is not available. Available metrics are: loss,lr\n"
          ]
        },
        {
          "output_type": "stream",
          "name": "stdout",
          "text": [
            "\b\b\b\b\b\b\b\b\b\b\b\b\b\b\b\b\b\b\b\b\b\b\b\b\b\b\b\b\b\b\b\b\b\b\b\b\b\b\b\b\b\b\b\b\b\b\b\b\b\b\b\b\b\b\b\b\b\b\b\b\b\b\b\r25/25 [==============================] - 0s 7ms/step - loss: 0.0089 - lr: 0.0010\n",
            "Epoch 463/500\n",
            "11/25 [============>.................] - ETA: 0s - loss: 0.0046"
          ]
        },
        {
          "output_type": "stream",
          "name": "stderr",
          "text": [
            "WARNING:tensorflow:Learning rate reduction is conditioned on metric `val_loss` which is not available. Available metrics are: loss,lr\n",
            "WARNING:tensorflow:Early stopping conditioned on metric `val_loss` which is not available. Available metrics are: loss,lr\n"
          ]
        },
        {
          "output_type": "stream",
          "name": "stdout",
          "text": [
            "\b\b\b\b\b\b\b\b\b\b\b\b\b\b\b\b\b\b\b\b\b\b\b\b\b\b\b\b\b\b\b\b\b\b\b\b\b\b\b\b\b\b\b\b\b\b\b\b\b\b\b\b\b\b\b\b\b\b\b\b\b\b\b\r25/25 [==============================] - 0s 6ms/step - loss: 0.0215 - lr: 0.0010\n",
            "Epoch 464/500\n",
            "14/25 [===============>..............] - ETA: 0s - loss: 0.0126"
          ]
        },
        {
          "output_type": "stream",
          "name": "stderr",
          "text": [
            "WARNING:tensorflow:Learning rate reduction is conditioned on metric `val_loss` which is not available. Available metrics are: loss,lr\n",
            "WARNING:tensorflow:Early stopping conditioned on metric `val_loss` which is not available. Available metrics are: loss,lr\n"
          ]
        },
        {
          "output_type": "stream",
          "name": "stdout",
          "text": [
            "\b\b\b\b\b\b\b\b\b\b\b\b\b\b\b\b\b\b\b\b\b\b\b\b\b\b\b\b\b\b\b\b\b\b\b\b\b\b\b\b\b\b\b\b\b\b\b\b\b\b\b\b\b\b\b\b\b\b\b\b\b\b\b\r25/25 [==============================] - 0s 6ms/step - loss: 0.0135 - lr: 0.0010\n",
            "Epoch 465/500\n",
            "12/25 [=============>................] - ETA: 0s - loss: 0.0131    "
          ]
        },
        {
          "output_type": "stream",
          "name": "stderr",
          "text": [
            "WARNING:tensorflow:Learning rate reduction is conditioned on metric `val_loss` which is not available. Available metrics are: loss,lr\n",
            "WARNING:tensorflow:Early stopping conditioned on metric `val_loss` which is not available. Available metrics are: loss,lr\n"
          ]
        },
        {
          "output_type": "stream",
          "name": "stdout",
          "text": [
            "\b\b\b\b\b\b\b\b\b\b\b\b\b\b\b\b\b\b\b\b\b\b\b\b\b\b\b\b\b\b\b\b\b\b\b\b\b\b\b\b\b\b\b\b\b\b\b\b\b\b\b\b\b\b\b\b\b\b\b\b\b\b\b\r25/25 [==============================] - 0s 6ms/step - loss: 0.0100 - lr: 0.0010\n",
            "Epoch 466/500\n",
            "14/25 [===============>..............] - ETA: 0s - loss: 0.0138    "
          ]
        },
        {
          "output_type": "stream",
          "name": "stderr",
          "text": [
            "WARNING:tensorflow:Learning rate reduction is conditioned on metric `val_loss` which is not available. Available metrics are: loss,lr\n",
            "WARNING:tensorflow:Early stopping conditioned on metric `val_loss` which is not available. Available metrics are: loss,lr\n"
          ]
        },
        {
          "output_type": "stream",
          "name": "stdout",
          "text": [
            "\b\b\b\b\b\b\b\b\b\b\b\b\b\b\b\b\b\b\b\b\b\b\b\b\b\b\b\b\b\b\b\b\b\b\b\b\b\b\b\b\b\b\b\b\b\b\b\b\b\b\b\b\b\b\b\b\b\b\b\b\b\b\b\r25/25 [==============================] - 0s 6ms/step - loss: 0.0112 - lr: 0.0010\n",
            "Epoch 467/500\n",
            "25/25 [==============================] - ETA: 0s - loss: 0.0115"
          ]
        },
        {
          "output_type": "stream",
          "name": "stderr",
          "text": [
            "WARNING:tensorflow:Learning rate reduction is conditioned on metric `val_loss` which is not available. Available metrics are: loss,lr\n",
            "WARNING:tensorflow:Early stopping conditioned on metric `val_loss` which is not available. Available metrics are: loss,lr\n"
          ]
        },
        {
          "output_type": "stream",
          "name": "stdout",
          "text": [
            "\b\b\b\b\b\b\b\b\b\b\b\b\b\b\b\b\b\b\b\b\b\b\b\b\b\b\b\b\b\b\b\b\b\b\b\b\b\b\b\b\b\b\b\b\b\b\b\b\b\b\b\b\b\b\b\b\b\b\b\b\b\b\b\r25/25 [==============================] - 0s 6ms/step - loss: 0.0115 - lr: 0.0010\n",
            "Epoch 468/500\n",
            "13/25 [==============>...............] - ETA: 0s - loss: 0.0099"
          ]
        },
        {
          "output_type": "stream",
          "name": "stderr",
          "text": [
            "WARNING:tensorflow:Learning rate reduction is conditioned on metric `val_loss` which is not available. Available metrics are: loss,lr\n",
            "WARNING:tensorflow:Early stopping conditioned on metric `val_loss` which is not available. Available metrics are: loss,lr\n"
          ]
        },
        {
          "output_type": "stream",
          "name": "stdout",
          "text": [
            "\b\b\b\b\b\b\b\b\b\b\b\b\b\b\b\b\b\b\b\b\b\b\b\b\b\b\b\b\b\b\b\b\b\b\b\b\b\b\b\b\b\b\b\b\b\b\b\b\b\b\b\b\b\b\b\b\b\b\b\b\b\b\b\r25/25 [==============================] - 0s 6ms/step - loss: 0.0106 - lr: 0.0010\n",
            "Epoch 469/500\n",
            "22/25 [=========================>....] - ETA: 0s - loss: 0.0161"
          ]
        },
        {
          "output_type": "stream",
          "name": "stderr",
          "text": [
            "WARNING:tensorflow:Learning rate reduction is conditioned on metric `val_loss` which is not available. Available metrics are: loss,lr\n",
            "WARNING:tensorflow:Early stopping conditioned on metric `val_loss` which is not available. Available metrics are: loss,lr\n"
          ]
        },
        {
          "output_type": "stream",
          "name": "stdout",
          "text": [
            "\b\b\b\b\b\b\b\b\b\b\b\b\b\b\b\b\b\b\b\b\b\b\b\b\b\b\b\b\b\b\b\b\b\b\b\b\b\b\b\b\b\b\b\b\b\b\b\b\b\b\b\b\b\b\b\b\b\b\b\b\b\b\b\r25/25 [==============================] - 0s 7ms/step - loss: 0.0155 - lr: 0.0010\n",
            "Epoch 470/500\n",
            "13/25 [==============>...............] - ETA: 0s - loss: 0.0153"
          ]
        },
        {
          "output_type": "stream",
          "name": "stderr",
          "text": [
            "WARNING:tensorflow:Learning rate reduction is conditioned on metric `val_loss` which is not available. Available metrics are: loss,lr\n",
            "WARNING:tensorflow:Early stopping conditioned on metric `val_loss` which is not available. Available metrics are: loss,lr\n"
          ]
        },
        {
          "output_type": "stream",
          "name": "stdout",
          "text": [
            "\b\b\b\b\b\b\b\b\b\b\b\b\b\b\b\b\b\b\b\b\b\b\b\b\b\b\b\b\b\b\b\b\b\b\b\b\b\b\b\b\b\b\b\b\b\b\b\b\b\b\b\b\b\b\b\b\b\b\b\b\b\b\b\r25/25 [==============================] - 0s 6ms/step - loss: 0.0149 - lr: 0.0010\n",
            "Epoch 471/500\n",
            "25/25 [==============================] - ETA: 0s - loss: 0.0133"
          ]
        },
        {
          "output_type": "stream",
          "name": "stderr",
          "text": [
            "WARNING:tensorflow:Learning rate reduction is conditioned on metric `val_loss` which is not available. Available metrics are: loss,lr\n",
            "WARNING:tensorflow:Early stopping conditioned on metric `val_loss` which is not available. Available metrics are: loss,lr\n"
          ]
        },
        {
          "output_type": "stream",
          "name": "stdout",
          "text": [
            "\b\b\b\b\b\b\b\b\b\b\b\b\b\b\b\b\b\b\b\b\b\b\b\b\b\b\b\b\b\b\b\b\b\b\b\b\b\b\b\b\b\b\b\b\b\b\b\b\b\b\b\b\b\b\b\b\b\b\b\b\b\b\b\r25/25 [==============================] - 0s 7ms/step - loss: 0.0133 - lr: 0.0010\n",
            "Epoch 472/500\n",
            "12/25 [=============>................] - ETA: 0s - loss: 0.0154"
          ]
        },
        {
          "output_type": "stream",
          "name": "stderr",
          "text": [
            "WARNING:tensorflow:Learning rate reduction is conditioned on metric `val_loss` which is not available. Available metrics are: loss,lr\n",
            "WARNING:tensorflow:Early stopping conditioned on metric `val_loss` which is not available. Available metrics are: loss,lr\n"
          ]
        },
        {
          "output_type": "stream",
          "name": "stdout",
          "text": [
            "\b\b\b\b\b\b\b\b\b\b\b\b\b\b\b\b\b\b\b\b\b\b\b\b\b\b\b\b\b\b\b\b\b\b\b\b\b\b\b\b\b\b\b\b\b\b\b\b\b\b\b\b\b\b\b\b\b\b\b\b\b\b\b\r25/25 [==============================] - 0s 6ms/step - loss: 0.0127 - lr: 0.0010\n",
            "Epoch 473/500\n",
            "12/25 [=============>................] - ETA: 0s - loss: 0.0113"
          ]
        },
        {
          "output_type": "stream",
          "name": "stderr",
          "text": [
            "WARNING:tensorflow:Learning rate reduction is conditioned on metric `val_loss` which is not available. Available metrics are: loss,lr\n",
            "WARNING:tensorflow:Early stopping conditioned on metric `val_loss` which is not available. Available metrics are: loss,lr\n"
          ]
        },
        {
          "output_type": "stream",
          "name": "stdout",
          "text": [
            "\b\b\b\b\b\b\b\b\b\b\b\b\b\b\b\b\b\b\b\b\b\b\b\b\b\b\b\b\b\b\b\b\b\b\b\b\b\b\b\b\b\b\b\b\b\b\b\b\b\b\b\b\b\b\b\b\b\b\b\b\b\b\b\r25/25 [==============================] - 0s 6ms/step - loss: 0.0100 - lr: 0.0010\n",
            "Epoch 474/500\n",
            "25/25 [==============================] - ETA: 0s - loss: 0.0165"
          ]
        },
        {
          "output_type": "stream",
          "name": "stderr",
          "text": [
            "WARNING:tensorflow:Learning rate reduction is conditioned on metric `val_loss` which is not available. Available metrics are: loss,lr\n",
            "WARNING:tensorflow:Early stopping conditioned on metric `val_loss` which is not available. Available metrics are: loss,lr\n"
          ]
        },
        {
          "output_type": "stream",
          "name": "stdout",
          "text": [
            "\b\b\b\b\b\b\b\b\b\b\b\b\b\b\b\b\b\b\b\b\b\b\b\b\b\b\b\b\b\b\b\b\b\b\b\b\b\b\b\b\b\b\b\b\b\b\b\b\b\b\b\b\b\b\b\b\b\b\b\b\b\b\b\r25/25 [==============================] - 0s 7ms/step - loss: 0.0165 - lr: 0.0010\n",
            "Epoch 475/500\n",
            "24/25 [===========================>..] - ETA: 0s - loss: 0.0120"
          ]
        },
        {
          "output_type": "stream",
          "name": "stderr",
          "text": [
            "WARNING:tensorflow:Learning rate reduction is conditioned on metric `val_loss` which is not available. Available metrics are: loss,lr\n",
            "WARNING:tensorflow:Early stopping conditioned on metric `val_loss` which is not available. Available metrics are: loss,lr\n"
          ]
        },
        {
          "output_type": "stream",
          "name": "stdout",
          "text": [
            "\b\b\b\b\b\b\b\b\b\b\b\b\b\b\b\b\b\b\b\b\b\b\b\b\b\b\b\b\b\b\b\b\b\b\b\b\b\b\b\b\b\b\b\b\b\b\b\b\b\b\b\b\b\b\b\b\b\b\b\b\b\b\b\r25/25 [==============================] - 0s 7ms/step - loss: 0.0118 - lr: 0.0010\n",
            "Epoch 476/500\n",
            "12/25 [=============>................] - ETA: 0s - loss: 0.0120"
          ]
        },
        {
          "output_type": "stream",
          "name": "stderr",
          "text": [
            "WARNING:tensorflow:Learning rate reduction is conditioned on metric `val_loss` which is not available. Available metrics are: loss,lr\n",
            "WARNING:tensorflow:Early stopping conditioned on metric `val_loss` which is not available. Available metrics are: loss,lr\n"
          ]
        },
        {
          "output_type": "stream",
          "name": "stdout",
          "text": [
            "\b\b\b\b\b\b\b\b\b\b\b\b\b\b\b\b\b\b\b\b\b\b\b\b\b\b\b\b\b\b\b\b\b\b\b\b\b\b\b\b\b\b\b\b\b\b\b\b\b\b\b\b\b\b\b\b\b\b\b\b\b\b\b\r25/25 [==============================] - 0s 6ms/step - loss: 0.0137 - lr: 0.0010\n",
            "Epoch 477/500\n",
            "17/25 [===================>..........] - ETA: 0s - loss: 0.0141"
          ]
        },
        {
          "output_type": "stream",
          "name": "stderr",
          "text": [
            "WARNING:tensorflow:Learning rate reduction is conditioned on metric `val_loss` which is not available. Available metrics are: loss,lr\n",
            "WARNING:tensorflow:Early stopping conditioned on metric `val_loss` which is not available. Available metrics are: loss,lr\n"
          ]
        },
        {
          "output_type": "stream",
          "name": "stdout",
          "text": [
            "\b\b\b\b\b\b\b\b\b\b\b\b\b\b\b\b\b\b\b\b\b\b\b\b\b\b\b\b\b\b\b\b\b\b\b\b\b\b\b\b\b\b\b\b\b\b\b\b\b\b\b\b\b\b\b\b\b\b\b\b\b\b\b\r25/25 [==============================] - 0s 6ms/step - loss: 0.0162 - lr: 0.0010\n",
            "Epoch 478/500\n",
            "13/25 [==============>...............] - ETA: 0s - loss: 0.0289"
          ]
        },
        {
          "output_type": "stream",
          "name": "stderr",
          "text": [
            "WARNING:tensorflow:Learning rate reduction is conditioned on metric `val_loss` which is not available. Available metrics are: loss,lr\n",
            "WARNING:tensorflow:Early stopping conditioned on metric `val_loss` which is not available. Available metrics are: loss,lr\n"
          ]
        },
        {
          "output_type": "stream",
          "name": "stdout",
          "text": [
            "\b\b\b\b\b\b\b\b\b\b\b\b\b\b\b\b\b\b\b\b\b\b\b\b\b\b\b\b\b\b\b\b\b\b\b\b\b\b\b\b\b\b\b\b\b\b\b\b\b\b\b\b\b\b\b\b\b\b\b\b\b\b\b\r25/25 [==============================] - 0s 6ms/step - loss: 0.0194 - lr: 0.0010\n",
            "Epoch 479/500\n",
            "15/25 [=================>............] - ETA: 0s - loss: 0.0128"
          ]
        },
        {
          "output_type": "stream",
          "name": "stderr",
          "text": [
            "WARNING:tensorflow:Learning rate reduction is conditioned on metric `val_loss` which is not available. Available metrics are: loss,lr\n",
            "WARNING:tensorflow:Early stopping conditioned on metric `val_loss` which is not available. Available metrics are: loss,lr\n"
          ]
        },
        {
          "output_type": "stream",
          "name": "stdout",
          "text": [
            "\b\b\b\b\b\b\b\b\b\b\b\b\b\b\b\b\b\b\b\b\b\b\b\b\b\b\b\b\b\b\b\b\b\b\b\b\b\b\b\b\b\b\b\b\b\b\b\b\b\b\b\b\b\b\b\b\b\b\b\b\b\b\b\r25/25 [==============================] - 0s 6ms/step - loss: 0.0118 - lr: 0.0010\n",
            "Epoch 480/500\n",
            "16/25 [==================>...........] - ETA: 0s - loss: 0.0099"
          ]
        },
        {
          "output_type": "stream",
          "name": "stderr",
          "text": [
            "WARNING:tensorflow:Learning rate reduction is conditioned on metric `val_loss` which is not available. Available metrics are: loss,lr\n",
            "WARNING:tensorflow:Early stopping conditioned on metric `val_loss` which is not available. Available metrics are: loss,lr\n"
          ]
        },
        {
          "output_type": "stream",
          "name": "stdout",
          "text": [
            "\b\b\b\b\b\b\b\b\b\b\b\b\b\b\b\b\b\b\b\b\b\b\b\b\b\b\b\b\b\b\b\b\b\b\b\b\b\b\b\b\b\b\b\b\b\b\b\b\b\b\b\b\b\b\b\b\b\b\b\b\b\b\b\r25/25 [==============================] - 0s 6ms/step - loss: 0.0095 - lr: 0.0010\n",
            "Epoch 481/500\n",
            "11/25 [============>.................] - ETA: 0s - loss: 0.0054    "
          ]
        },
        {
          "output_type": "stream",
          "name": "stderr",
          "text": [
            "WARNING:tensorflow:Learning rate reduction is conditioned on metric `val_loss` which is not available. Available metrics are: loss,lr\n",
            "WARNING:tensorflow:Early stopping conditioned on metric `val_loss` which is not available. Available metrics are: loss,lr\n"
          ]
        },
        {
          "output_type": "stream",
          "name": "stdout",
          "text": [
            "\b\b\b\b\b\b\b\b\b\b\b\b\b\b\b\b\b\b\b\b\b\b\b\b\b\b\b\b\b\b\b\b\b\b\b\b\b\b\b\b\b\b\b\b\b\b\b\b\b\b\b\b\b\b\b\b\b\b\b\b\b\b\b\r25/25 [==============================] - 0s 6ms/step - loss: 0.0099 - lr: 0.0010\n",
            "Epoch 482/500\n",
            "13/25 [==============>...............] - ETA: 0s - loss: 0.0070    "
          ]
        },
        {
          "output_type": "stream",
          "name": "stderr",
          "text": [
            "WARNING:tensorflow:Learning rate reduction is conditioned on metric `val_loss` which is not available. Available metrics are: loss,lr\n",
            "WARNING:tensorflow:Early stopping conditioned on metric `val_loss` which is not available. Available metrics are: loss,lr\n"
          ]
        },
        {
          "output_type": "stream",
          "name": "stdout",
          "text": [
            "\b\b\b\b\b\b\b\b\b\b\b\b\b\b\b\b\b\b\b\b\b\b\b\b\b\b\b\b\b\b\b\b\b\b\b\b\b\b\b\b\b\b\b\b\b\b\b\b\b\b\b\b\b\b\b\b\b\b\b\b\b\b\b\r25/25 [==============================] - 0s 6ms/step - loss: 0.0070 - lr: 0.0010\n",
            "Epoch 483/500\n",
            "13/25 [==============>...............] - ETA: 0s - loss: 0.0064"
          ]
        },
        {
          "output_type": "stream",
          "name": "stderr",
          "text": [
            "WARNING:tensorflow:Learning rate reduction is conditioned on metric `val_loss` which is not available. Available metrics are: loss,lr\n",
            "WARNING:tensorflow:Early stopping conditioned on metric `val_loss` which is not available. Available metrics are: loss,lr\n"
          ]
        },
        {
          "output_type": "stream",
          "name": "stdout",
          "text": [
            "\b\b\b\b\b\b\b\b\b\b\b\b\b\b\b\b\b\b\b\b\b\b\b\b\b\b\b\b\b\b\b\b\b\b\b\b\b\b\b\b\b\b\b\b\b\b\b\b\b\b\b\b\b\b\b\b\b\b\b\b\b\b\b\r25/25 [==============================] - 0s 6ms/step - loss: 0.0066 - lr: 0.0010\n",
            "Epoch 484/500\n",
            "15/25 [=================>............] - ETA: 0s - loss: 0.0103    "
          ]
        },
        {
          "output_type": "stream",
          "name": "stderr",
          "text": [
            "WARNING:tensorflow:Learning rate reduction is conditioned on metric `val_loss` which is not available. Available metrics are: loss,lr\n",
            "WARNING:tensorflow:Early stopping conditioned on metric `val_loss` which is not available. Available metrics are: loss,lr\n"
          ]
        },
        {
          "output_type": "stream",
          "name": "stdout",
          "text": [
            "\b\b\b\b\b\b\b\b\b\b\b\b\b\b\b\b\b\b\b\b\b\b\b\b\b\b\b\b\b\b\b\b\b\b\b\b\b\b\b\b\b\b\b\b\b\b\b\b\b\b\b\b\b\b\b\b\b\b\b\b\b\b\b\r25/25 [==============================] - 0s 6ms/step - loss: 0.0105 - lr: 0.0010\n",
            "Epoch 485/500\n",
            "15/25 [=================>............] - ETA: 0s - loss: 0.0143"
          ]
        },
        {
          "output_type": "stream",
          "name": "stderr",
          "text": [
            "WARNING:tensorflow:Learning rate reduction is conditioned on metric `val_loss` which is not available. Available metrics are: loss,lr\n",
            "WARNING:tensorflow:Early stopping conditioned on metric `val_loss` which is not available. Available metrics are: loss,lr\n"
          ]
        },
        {
          "output_type": "stream",
          "name": "stdout",
          "text": [
            "\b\b\b\b\b\b\b\b\b\b\b\b\b\b\b\b\b\b\b\b\b\b\b\b\b\b\b\b\b\b\b\b\b\b\b\b\b\b\b\b\b\b\b\b\b\b\b\b\b\b\b\b\b\b\b\b\b\b\b\b\b\b\b\r25/25 [==============================] - 0s 6ms/step - loss: 0.0142 - lr: 0.0010\n",
            "Epoch 486/500\n",
            "12/25 [=============>................] - ETA: 0s - loss: 0.0120"
          ]
        },
        {
          "output_type": "stream",
          "name": "stderr",
          "text": [
            "WARNING:tensorflow:Learning rate reduction is conditioned on metric `val_loss` which is not available. Available metrics are: loss,lr\n",
            "WARNING:tensorflow:Early stopping conditioned on metric `val_loss` which is not available. Available metrics are: loss,lr\n"
          ]
        },
        {
          "output_type": "stream",
          "name": "stdout",
          "text": [
            "\b\b\b\b\b\b\b\b\b\b\b\b\b\b\b\b\b\b\b\b\b\b\b\b\b\b\b\b\b\b\b\b\b\b\b\b\b\b\b\b\b\b\b\b\b\b\b\b\b\b\b\b\b\b\b\b\b\b\b\b\b\b\b\r25/25 [==============================] - 0s 6ms/step - loss: 0.0115 - lr: 0.0010\n",
            "Epoch 487/500\n",
            "11/25 [============>.................] - ETA: 0s - loss: 0.0085"
          ]
        },
        {
          "output_type": "stream",
          "name": "stderr",
          "text": [
            "WARNING:tensorflow:Learning rate reduction is conditioned on metric `val_loss` which is not available. Available metrics are: loss,lr\n",
            "WARNING:tensorflow:Early stopping conditioned on metric `val_loss` which is not available. Available metrics are: loss,lr\n"
          ]
        },
        {
          "output_type": "stream",
          "name": "stdout",
          "text": [
            "\b\b\b\b\b\b\b\b\b\b\b\b\b\b\b\b\b\b\b\b\b\b\b\b\b\b\b\b\b\b\b\b\b\b\b\b\b\b\b\b\b\b\b\b\b\b\b\b\b\b\b\b\b\b\b\b\b\b\b\b\b\b\b\r25/25 [==============================] - 0s 6ms/step - loss: 0.0115 - lr: 0.0010\n",
            "Epoch 488/500\n",
            "11/25 [============>.................] - ETA: 0s - loss: 0.0127"
          ]
        },
        {
          "output_type": "stream",
          "name": "stderr",
          "text": [
            "WARNING:tensorflow:Learning rate reduction is conditioned on metric `val_loss` which is not available. Available metrics are: loss,lr\n",
            "WARNING:tensorflow:Early stopping conditioned on metric `val_loss` which is not available. Available metrics are: loss,lr\n"
          ]
        },
        {
          "output_type": "stream",
          "name": "stdout",
          "text": [
            "\b\b\b\b\b\b\b\b\b\b\b\b\b\b\b\b\b\b\b\b\b\b\b\b\b\b\b\b\b\b\b\b\b\b\b\b\b\b\b\b\b\b\b\b\b\b\b\b\b\b\b\b\b\b\b\b\b\b\b\b\b\b\b\r25/25 [==============================] - 0s 6ms/step - loss: 0.0085 - lr: 0.0010\n",
            "Epoch 489/500\n",
            "12/25 [=============>................] - ETA: 0s - loss: 0.0092"
          ]
        },
        {
          "output_type": "stream",
          "name": "stderr",
          "text": [
            "WARNING:tensorflow:Learning rate reduction is conditioned on metric `val_loss` which is not available. Available metrics are: loss,lr\n",
            "WARNING:tensorflow:Early stopping conditioned on metric `val_loss` which is not available. Available metrics are: loss,lr\n"
          ]
        },
        {
          "output_type": "stream",
          "name": "stdout",
          "text": [
            "\b\b\b\b\b\b\b\b\b\b\b\b\b\b\b\b\b\b\b\b\b\b\b\b\b\b\b\b\b\b\b\b\b\b\b\b\b\b\b\b\b\b\b\b\b\b\b\b\b\b\b\b\b\b\b\b\b\b\b\b\b\b\b\r25/25 [==============================] - 0s 6ms/step - loss: 0.0083 - lr: 0.0010\n",
            "Epoch 490/500\n",
            "10/25 [===========>..................] - ETA: 0s - loss: 0.0029    "
          ]
        },
        {
          "output_type": "stream",
          "name": "stderr",
          "text": [
            "WARNING:tensorflow:Learning rate reduction is conditioned on metric `val_loss` which is not available. Available metrics are: loss,lr\n",
            "WARNING:tensorflow:Early stopping conditioned on metric `val_loss` which is not available. Available metrics are: loss,lr\n"
          ]
        },
        {
          "output_type": "stream",
          "name": "stdout",
          "text": [
            "\b\b\b\b\b\b\b\b\b\b\b\b\b\b\b\b\b\b\b\b\b\b\b\b\b\b\b\b\b\b\b\b\b\b\b\b\b\b\b\b\b\b\b\b\b\b\b\b\b\b\b\b\b\b\b\b\b\b\b\b\b\b\b\r25/25 [==============================] - 0s 6ms/step - loss: 0.0083 - lr: 0.0010\n",
            "Epoch 491/500\n",
            "11/25 [============>.................] - ETA: 0s - loss: 0.0115"
          ]
        },
        {
          "output_type": "stream",
          "name": "stderr",
          "text": [
            "WARNING:tensorflow:Learning rate reduction is conditioned on metric `val_loss` which is not available. Available metrics are: loss,lr\n",
            "WARNING:tensorflow:Early stopping conditioned on metric `val_loss` which is not available. Available metrics are: loss,lr\n"
          ]
        },
        {
          "output_type": "stream",
          "name": "stdout",
          "text": [
            "\b\b\b\b\b\b\b\b\b\b\b\b\b\b\b\b\b\b\b\b\b\b\b\b\b\b\b\b\b\b\b\b\b\b\b\b\b\b\b\b\b\b\b\b\b\b\b\b\b\b\b\b\b\b\b\b\b\b\b\b\b\b\b\r25/25 [==============================] - 0s 6ms/step - loss: 0.0082 - lr: 0.0010\n",
            "Epoch 492/500\n",
            "12/25 [=============>................] - ETA: 0s - loss: 0.0087"
          ]
        },
        {
          "output_type": "stream",
          "name": "stderr",
          "text": [
            "WARNING:tensorflow:Learning rate reduction is conditioned on metric `val_loss` which is not available. Available metrics are: loss,lr\n",
            "WARNING:tensorflow:Early stopping conditioned on metric `val_loss` which is not available. Available metrics are: loss,lr\n"
          ]
        },
        {
          "output_type": "stream",
          "name": "stdout",
          "text": [
            "\b\b\b\b\b\b\b\b\b\b\b\b\b\b\b\b\b\b\b\b\b\b\b\b\b\b\b\b\b\b\b\b\b\b\b\b\b\b\b\b\b\b\b\b\b\b\b\b\b\b\b\b\b\b\b\b\b\b\b\b\b\b\b\r25/25 [==============================] - 0s 6ms/step - loss: 0.0077 - lr: 0.0010\n",
            "Epoch 493/500\n",
            "14/25 [===============>..............] - ETA: 0s - loss: 0.0058"
          ]
        },
        {
          "output_type": "stream",
          "name": "stderr",
          "text": [
            "WARNING:tensorflow:Learning rate reduction is conditioned on metric `val_loss` which is not available. Available metrics are: loss,lr\n",
            "WARNING:tensorflow:Early stopping conditioned on metric `val_loss` which is not available. Available metrics are: loss,lr\n"
          ]
        },
        {
          "output_type": "stream",
          "name": "stdout",
          "text": [
            "\b\b\b\b\b\b\b\b\b\b\b\b\b\b\b\b\b\b\b\b\b\b\b\b\b\b\b\b\b\b\b\b\b\b\b\b\b\b\b\b\b\b\b\b\b\b\b\b\b\b\b\b\b\b\b\b\b\b\b\b\b\b\b\r25/25 [==============================] - 0s 6ms/step - loss: 0.0054 - lr: 0.0010\n",
            "Epoch 494/500\n",
            "25/25 [==============================] - ETA: 0s - loss: 0.0052"
          ]
        },
        {
          "output_type": "stream",
          "name": "stderr",
          "text": [
            "WARNING:tensorflow:Learning rate reduction is conditioned on metric `val_loss` which is not available. Available metrics are: loss,lr\n",
            "WARNING:tensorflow:Early stopping conditioned on metric `val_loss` which is not available. Available metrics are: loss,lr\n"
          ]
        },
        {
          "output_type": "stream",
          "name": "stdout",
          "text": [
            "\b\b\b\b\b\b\b\b\b\b\b\b\b\b\b\b\b\b\b\b\b\b\b\b\b\b\b\b\b\b\b\b\b\b\b\b\b\b\b\b\b\b\b\b\b\b\b\b\b\b\b\b\b\b\b\b\b\b\b\b\b\b\b\r25/25 [==============================] - 0s 7ms/step - loss: 0.0052 - lr: 0.0010\n",
            "Epoch 495/500\n",
            "14/25 [===============>..............] - ETA: 0s - loss: 0.0083"
          ]
        },
        {
          "output_type": "stream",
          "name": "stderr",
          "text": [
            "WARNING:tensorflow:Learning rate reduction is conditioned on metric `val_loss` which is not available. Available metrics are: loss,lr\n",
            "WARNING:tensorflow:Early stopping conditioned on metric `val_loss` which is not available. Available metrics are: loss,lr\n"
          ]
        },
        {
          "output_type": "stream",
          "name": "stdout",
          "text": [
            "\b\b\b\b\b\b\b\b\b\b\b\b\b\b\b\b\b\b\b\b\b\b\b\b\b\b\b\b\b\b\b\b\b\b\b\b\b\b\b\b\b\b\b\b\b\b\b\b\b\b\b\b\b\b\b\b\b\b\b\b\b\b\b\r25/25 [==============================] - 0s 6ms/step - loss: 0.0072 - lr: 0.0010\n",
            "Epoch 496/500\n",
            "14/25 [===============>..............] - ETA: 0s - loss: 0.0048"
          ]
        },
        {
          "output_type": "stream",
          "name": "stderr",
          "text": [
            "WARNING:tensorflow:Learning rate reduction is conditioned on metric `val_loss` which is not available. Available metrics are: loss,lr\n",
            "WARNING:tensorflow:Early stopping conditioned on metric `val_loss` which is not available. Available metrics are: loss,lr\n"
          ]
        },
        {
          "output_type": "stream",
          "name": "stdout",
          "text": [
            "\b\b\b\b\b\b\b\b\b\b\b\b\b\b\b\b\b\b\b\b\b\b\b\b\b\b\b\b\b\b\b\b\b\b\b\b\b\b\b\b\b\b\b\b\b\b\b\b\b\b\b\b\b\b\b\b\b\b\b\b\b\b\b\r25/25 [==============================] - 0s 6ms/step - loss: 0.0063 - lr: 0.0010\n",
            "Epoch 497/500\n",
            "12/25 [=============>................] - ETA: 0s - loss: 0.0107"
          ]
        },
        {
          "output_type": "stream",
          "name": "stderr",
          "text": [
            "WARNING:tensorflow:Learning rate reduction is conditioned on metric `val_loss` which is not available. Available metrics are: loss,lr\n",
            "WARNING:tensorflow:Early stopping conditioned on metric `val_loss` which is not available. Available metrics are: loss,lr\n"
          ]
        },
        {
          "output_type": "stream",
          "name": "stdout",
          "text": [
            "\b\b\b\b\b\b\b\b\b\b\b\b\b\b\b\b\b\b\b\b\b\b\b\b\b\b\b\b\b\b\b\b\b\b\b\b\b\b\b\b\b\b\b\b\b\b\b\b\b\b\b\b\b\b\b\b\b\b\b\b\b\b\b\r25/25 [==============================] - 0s 6ms/step - loss: 0.0097 - lr: 0.0010\n",
            "Epoch 498/500\n",
            "13/25 [==============>...............] - ETA: 0s - loss: 0.0056"
          ]
        },
        {
          "output_type": "stream",
          "name": "stderr",
          "text": [
            "WARNING:tensorflow:Learning rate reduction is conditioned on metric `val_loss` which is not available. Available metrics are: loss,lr\n",
            "WARNING:tensorflow:Early stopping conditioned on metric `val_loss` which is not available. Available metrics are: loss,lr\n"
          ]
        },
        {
          "output_type": "stream",
          "name": "stdout",
          "text": [
            "\b\b\b\b\b\b\b\b\b\b\b\b\b\b\b\b\b\b\b\b\b\b\b\b\b\b\b\b\b\b\b\b\b\b\b\b\b\b\b\b\b\b\b\b\b\b\b\b\b\b\b\b\b\b\b\b\b\b\b\b\b\b\b\r25/25 [==============================] - 0s 6ms/step - loss: 0.0117 - lr: 0.0010\n",
            "Epoch 499/500\n",
            "25/25 [==============================] - ETA: 0s - loss: 0.0115"
          ]
        },
        {
          "output_type": "stream",
          "name": "stderr",
          "text": [
            "WARNING:tensorflow:Learning rate reduction is conditioned on metric `val_loss` which is not available. Available metrics are: loss,lr\n",
            "WARNING:tensorflow:Early stopping conditioned on metric `val_loss` which is not available. Available metrics are: loss,lr\n"
          ]
        },
        {
          "output_type": "stream",
          "name": "stdout",
          "text": [
            "\b\b\b\b\b\b\b\b\b\b\b\b\b\b\b\b\b\b\b\b\b\b\b\b\b\b\b\b\b\b\b\b\b\b\b\b\b\b\b\b\b\b\b\b\b\b\b\b\b\b\b\b\b\b\b\b\b\b\b\b\b\b\b\r25/25 [==============================] - 0s 7ms/step - loss: 0.0115 - lr: 0.0010\n",
            "Epoch 500/500\n",
            "25/25 [==============================] - ETA: 0s - loss: 0.0106"
          ]
        },
        {
          "output_type": "stream",
          "name": "stderr",
          "text": [
            "WARNING:tensorflow:Learning rate reduction is conditioned on metric `val_loss` which is not available. Available metrics are: loss,lr\n",
            "WARNING:tensorflow:Early stopping conditioned on metric `val_loss` which is not available. Available metrics are: loss,lr\n"
          ]
        },
        {
          "output_type": "stream",
          "name": "stdout",
          "text": [
            "\b\b\b\b\b\b\b\b\b\b\b\b\b\b\b\b\b\b\b\b\b\b\b\b\b\b\b\b\b\b\b\b\b\b\b\b\b\b\b\b\b\b\b\b\b\b\b\b\b\b\b\b\b\b\b\b\b\b\b\b\b\b\b\r25/25 [==============================] - 0s 7ms/step - loss: 0.0106 - lr: 0.0010\n"
          ]
        }
      ]
    },
    {
      "cell_type": "code",
      "source": [
        "# Get the test score\n",
        "test_error_rate = model.evaluate(testX,testY,verbose=1)"
      ],
      "metadata": {
        "colab": {
          "base_uri": "https://localhost:8080/"
        },
        "id": "RB8X9YOi5P_x",
        "outputId": "9dc1e1e3-3cba-4db0-fa27-7d1c4578ea7d"
      },
      "execution_count": 100,
      "outputs": [
        {
          "output_type": "stream",
          "name": "stdout",
          "text": [
            "1/1 [==============================] - 0s 143ms/step - loss: 0.0162\n"
          ]
        }
      ]
    },
    {
      "cell_type": "code",
      "source": [],
      "metadata": {
        "id": "sduBEHjI5_2L"
      },
      "execution_count": 100,
      "outputs": []
    },
    {
      "cell_type": "code",
      "metadata": {
        "id": "dVZoKdcD1MMi"
      },
      "source": [
        "trainPredict = model.predict(trainX)\n",
        "testPredict = model.predict(testX)"
      ],
      "execution_count": 101,
      "outputs": []
    },
    {
      "cell_type": "code",
      "metadata": {
        "id": "wl0wiUnm1Fjd",
        "colab": {
          "base_uri": "https://localhost:8080/"
        },
        "outputId": "06acf467-d52b-491f-f181-984eca3cf53b"
      },
      "source": [
        "scaler.min_,scaler.scale_,scaler.data_min_,scaler.data_max_"
      ],
      "execution_count": 102,
      "outputs": [
        {
          "output_type": "execute_result",
          "data": {
            "text/plain": [
              "(array([-1.5020182 , -2.2543101 , -0.00770735, -2.5765471 , -6.8235307 ,\n",
              "        -0.4997262 , -0.4997262 , -1.1005746 , -0.01963175, -1.5166162 ,\n",
              "        -5.2967043 ], dtype=float32),\n",
              " array([5.0454088e-02, 4.3103445e-02, 1.1503508e-02, 2.3327913e-04,\n",
              "        2.9411769e-01, 2.5470245e-06, 2.5470246e-07, 2.6123300e-02,\n",
              "        1.0332500e-03, 1.5105739e-02, 5.4945063e-02], dtype=float32),\n",
              " array([2.977000e+01, 5.230000e+01, 6.700000e-01, 1.104491e+04,\n",
              "        2.320000e+01, 1.962000e+05, 1.962000e+06, 4.213000e+01,\n",
              "        1.900000e+01, 1.004000e+02, 9.640000e+01], dtype=float32),\n",
              " array([4.959000e+01, 7.550000e+01, 8.760000e+01, 1.533162e+04,\n",
              "        2.660000e+01, 5.888150e+05, 5.888150e+06, 8.041000e+01,\n",
              "        9.868200e+02, 1.666000e+02, 1.146000e+02], dtype=float32))"
            ]
          },
          "metadata": {},
          "execution_count": 102
        }
      ]
    },
    {
      "cell_type": "code",
      "metadata": {
        "id": "a95zZRWhBeOT"
      },
      "source": [
        "from sklearn.preprocessing import MinMaxScaler\n",
        "scaler1 = MinMaxScaler(feature_range=(0,1))"
      ],
      "execution_count": 103,
      "outputs": []
    },
    {
      "cell_type": "code",
      "metadata": {
        "id": "u37_Ya7uBoNY"
      },
      "source": [
        "scaler1.min_,scaler1.scale_=scaler.min_[0],scaler.scale_[0]"
      ],
      "execution_count": 104,
      "outputs": []
    },
    {
      "cell_type": "markdown",
      "metadata": {
        "id": "lT5LU4PWx112"
      },
      "source": [
        "## Reverse Price Value"
      ]
    },
    {
      "cell_type": "code",
      "metadata": {
        "id": "Q2Za5VdPBuvQ"
      },
      "source": [
        "trainPredict=scaler1.inverse_transform(trainPredict)"
      ],
      "execution_count": 105,
      "outputs": []
    },
    {
      "cell_type": "code",
      "metadata": {
        "id": "9aFnQnecByhp"
      },
      "source": [
        "testPredict = scaler1.inverse_transform(testPredict)"
      ],
      "execution_count": 106,
      "outputs": []
    },
    {
      "cell_type": "code",
      "metadata": {
        "id": "6fgJ-n6hB1Zi"
      },
      "source": [
        "trainY=scaler1.inverse_transform(trainY)"
      ],
      "execution_count": 107,
      "outputs": []
    },
    {
      "cell_type": "code",
      "metadata": {
        "id": "yODDSBclB5UD"
      },
      "source": [
        "testY=scaler1.inverse_transform(testY)"
      ],
      "execution_count": 108,
      "outputs": []
    },
    {
      "cell_type": "code",
      "metadata": {
        "id": "-fz_g2d9CN4A",
        "colab": {
          "base_uri": "https://localhost:8080/"
        },
        "outputId": "a763a139-389b-4611-cf32-0aa81f577bc9"
      },
      "source": [
        "trainPredict[0:5]"
      ],
      "execution_count": 109,
      "outputs": [
        {
          "output_type": "execute_result",
          "data": {
            "text/plain": [
              "array([[39.734272, 39.728664, 39.995296, 39.94805 , 40.59814 ],\n",
              "       [39.76544 , 39.795647, 39.952423, 39.876144, 40.615307],\n",
              "       [39.85392 , 39.973743, 39.91765 , 39.900978, 40.70077 ],\n",
              "       [39.939285, 40.095478, 39.93153 , 39.965908, 40.75501 ],\n",
              "       [40.92728 , 40.363064, 40.469574, 39.41609 , 46.71033 ]],\n",
              "      dtype=float32)"
            ]
          },
          "metadata": {},
          "execution_count": 109
        }
      ]
    },
    {
      "cell_type": "code",
      "metadata": {
        "id": "oZT8iyYTCSDk",
        "colab": {
          "base_uri": "https://localhost:8080/"
        },
        "outputId": "8995544c-787a-45ef-910f-46677659dcc0"
      },
      "source": [
        "trainY[0:5]"
      ],
      "execution_count": 110,
      "outputs": [
        {
          "output_type": "execute_result",
          "data": {
            "text/plain": [
              "array([[39.19    , 39.14    , 39.659996, 40.44    , 40.22    ],\n",
              "       [39.14    , 39.659996, 40.44    , 40.22    , 39.59    ],\n",
              "       [39.659996, 40.44    , 40.22    , 39.59    , 40.730003],\n",
              "       [40.44    , 40.22    , 39.59    , 40.730003, 40.72    ],\n",
              "       [40.22    , 39.59    , 40.730003, 40.72    , 46.639996]],\n",
              "      dtype=float32)"
            ]
          },
          "metadata": {},
          "execution_count": 110
        }
      ]
    },
    {
      "cell_type": "code",
      "metadata": {
        "id": "RIUiesXeCabP",
        "colab": {
          "base_uri": "https://localhost:8080/"
        },
        "outputId": "3c2a4bbf-a838-4416-99e3-7186e51d317e"
      },
      "source": [
        "testY[0]"
      ],
      "execution_count": 111,
      "outputs": [
        {
          "output_type": "execute_result",
          "data": {
            "text/plain": [
              "array([36.74, 43.65, 41.92, 36.45, 40.16], dtype=float32)"
            ]
          },
          "metadata": {},
          "execution_count": 111
        }
      ]
    },
    {
      "cell_type": "code",
      "metadata": {
        "id": "jVI04G8GCc4Q",
        "colab": {
          "base_uri": "https://localhost:8080/"
        },
        "outputId": "61d0b7ef-ecda-432c-8f9f-64566612b371"
      },
      "source": [
        "testPredict[0]"
      ],
      "execution_count": 112,
      "outputs": [
        {
          "output_type": "execute_result",
          "data": {
            "text/plain": [
              "array([41.373135, 43.847412, 42.841732, 33.392548, 39.85999 ],\n",
              "      dtype=float32)"
            ]
          },
          "metadata": {},
          "execution_count": 112
        }
      ]
    },
    {
      "cell_type": "markdown",
      "source": [
        "#RMSE"
      ],
      "metadata": {
        "id": "oPW9ezxIJgJl"
      }
    },
    {
      "cell_type": "code",
      "metadata": {
        "id": "7ss-83v4Cns7",
        "colab": {
          "base_uri": "https://localhost:8080/"
        },
        "outputId": "eb53699b-c038-45ac-e050-84a38557da64"
      },
      "source": [
        "import math\n",
        "from sklearn.metrics import mean_squared_error\n",
        "trainScore = math.sqrt(mean_squared_error(trainY, trainPredict))\n",
        "print('Train Score: %.2f RMSE' % (trainScore))\n",
        "testScore = math.sqrt(mean_squared_error(testY, testPredict))\n",
        "print('Test Score: %.2f RMSE' % (testScore))"
      ],
      "execution_count": 117,
      "outputs": [
        {
          "output_type": "stream",
          "name": "stdout",
          "text": [
            "Train Score: 1.25 RMSE\n",
            "Test Score: 2.52 RMSE\n"
          ]
        }
      ]
    },
    {
      "cell_type": "code",
      "source": [
        "testY"
      ],
      "metadata": {
        "colab": {
          "base_uri": "https://localhost:8080/"
        },
        "id": "T88BqSOhtzDs",
        "outputId": "e94efca4-072d-4226-da42-8d1e449ba6e5"
      },
      "execution_count": 119,
      "outputs": [
        {
          "output_type": "execute_result",
          "data": {
            "text/plain": [
              "array([[36.74, 43.65, 41.92, 36.45, 40.16]], dtype=float32)"
            ]
          },
          "metadata": {},
          "execution_count": 119
        }
      ]
    },
    {
      "cell_type": "code",
      "source": [
        "testPredict"
      ],
      "metadata": {
        "colab": {
          "base_uri": "https://localhost:8080/"
        },
        "id": "oSHCN7iUt3od",
        "outputId": "0dc5fc62-189f-48dd-bca4-14a256792b67"
      },
      "execution_count": 120,
      "outputs": [
        {
          "output_type": "execute_result",
          "data": {
            "text/plain": [
              "array([[41.373135, 43.847412, 42.841732, 33.392548, 39.85999 ]],\n",
              "      dtype=float32)"
            ]
          },
          "metadata": {},
          "execution_count": 120
        }
      ]
    },
    {
      "cell_type": "markdown",
      "metadata": {
        "id": "ovkNA5Ba0DGk"
      },
      "source": [
        "## MAE"
      ]
    },
    {
      "cell_type": "code",
      "metadata": {
        "id": "31a0XeOECJvo"
      },
      "source": [
        "MAE_test=np.mean(np.abs(testPredict-testY))"
      ],
      "execution_count": 121,
      "outputs": []
    },
    {
      "cell_type": "code",
      "metadata": {
        "colab": {
          "base_uri": "https://localhost:8080/"
        },
        "outputId": "9dfddbf6-47fb-49c7-b289-26c9c8f36b69",
        "id": "J-_C8pK_CJvp"
      },
      "source": [
        "MAE_test"
      ],
      "execution_count": 122,
      "outputs": [
        {
          "output_type": "execute_result",
          "data": {
            "text/plain": [
              "1.8219483"
            ]
          },
          "metadata": {},
          "execution_count": 122
        }
      ]
    },
    {
      "cell_type": "code",
      "metadata": {
        "id": "FERI4HhKCJvr"
      },
      "source": [
        "MAE_train=np.mean(np.abs(trainPredict-trainY))"
      ],
      "execution_count": 123,
      "outputs": []
    },
    {
      "cell_type": "code",
      "metadata": {
        "colab": {
          "base_uri": "https://localhost:8080/"
        },
        "outputId": "58ce04d5-0858-4766-a967-d8edc00a6c2a",
        "id": "vxs07LMbCJvr"
      },
      "source": [
        "MAE_train"
      ],
      "execution_count": 124,
      "outputs": [
        {
          "output_type": "execute_result",
          "data": {
            "text/plain": [
              "0.8093348"
            ]
          },
          "metadata": {},
          "execution_count": 124
        }
      ]
    },
    {
      "cell_type": "markdown",
      "metadata": {
        "id": "eiemDaQx0Mw-"
      },
      "source": [
        "## MAPE"
      ]
    },
    {
      "cell_type": "code",
      "metadata": {
        "id": "_JOUpv11CJvu"
      },
      "source": [
        "import numpy as np\n",
        "\n",
        "def mape(actual, pred): \n",
        "    actual, pred = np.array(actual), np.array(pred)\n",
        "    return np.mean(np.abs((actual - pred) / actual)) * 100"
      ],
      "execution_count": 125,
      "outputs": []
    },
    {
      "cell_type": "code",
      "metadata": {
        "colab": {
          "base_uri": "https://localhost:8080/"
        },
        "outputId": "67086f2b-f75f-4590-aa26-a556c01000d5",
        "id": "3Pcp2DzRCJvw"
      },
      "source": [
        "mape(testY,testPredict)"
      ],
      "execution_count": 126,
      "outputs": [
        {
          "output_type": "execute_result",
          "data": {
            "text/plain": [
              "4.879351705312729"
            ]
          },
          "metadata": {},
          "execution_count": 126
        }
      ]
    },
    {
      "cell_type": "code",
      "metadata": {
        "colab": {
          "base_uri": "https://localhost:8080/"
        },
        "outputId": "370d577a-6c31-40b7-8d5a-a80bc01cd762",
        "id": "yW4LaH5QCJv1"
      },
      "source": [
        "mape(trainY,trainPredict)"
      ],
      "execution_count": 133,
      "outputs": [
        {
          "output_type": "execute_result",
          "data": {
            "text/plain": [
              "2.164989523589611"
            ]
          },
          "metadata": {},
          "execution_count": 133
        }
      ]
    }
  ]
}